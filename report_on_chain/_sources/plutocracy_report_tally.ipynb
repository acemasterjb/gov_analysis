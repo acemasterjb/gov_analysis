{
 "cells": [
  {
   "attachments": {},
   "cell_type": "markdown",
   "metadata": {},
   "source": [
    "# Pivotality: The influence of whales in DAO Governance | Part 2"
   ]
  },
  {
   "cell_type": "markdown",
   "metadata": {},
   "source": [
    "## Definition\n",
    "\n",
    "On a given proposal, whales are considered _pivotal voters_ when, taken together, casting their votes altered the result. [[1]](https://www.researchgate.net/publication/249676423_Pivotal_Voting) [[2]](https://publications.ut-capitole.fr/id/eprint/15307/1/PivotProbabilitiesMay2014ShortVersionR.pdf)."
   ]
  },
  {
   "attachments": {},
   "cell_type": "markdown",
   "metadata": {},
   "source": [
    "## Aims of this report\n",
    "\n",
    "This article aims to analyze the top 60 DAOs, ranked by [treasury size](https://deepdao.io/) to determine the impact of large token holders (whales) on their governance.\n",
    "\n",
    "On a previous article, we looked at off-chain governance (via Snapshot) to calculate our **_whale pivotality_ metric**. In this article, we will be conducting this study on on-chain governance.\n",
    "\n",
    "Again, we define whales as the **top 5% voters in terms of voting power** for a given proposal (voters with voting power at or above the 95th percentile of voting power for that proposal). \n"
   ]
  },
  {
   "attachments": {},
   "cell_type": "markdown",
   "metadata": {},
   "source": [
    "## Takeaways\n",
    "\n",
    "- Compared to off-chain governance on Snapshot, on-chain Governance has very low participation per-proposal\n",
    "- only 1 organization had a whale pivotality above 5% (Arbitrum, which only has two nonsense, test-proposals at the time of writing)\n",
    "- 3 other DAOs had a whale pivotality between 2% and 4%, the remaining with 0%"
   ]
  },
  {
   "cell_type": "markdown",
   "metadata": {},
   "source": [
    "## Calculations\n",
    "\n",
    "Below, a brief summary of calculations performed to build the whale pivotality statistics.\n",
    "\n",
    "See the [repository](https://github.com/butterymoney/gov_analysis) for more details."
   ]
  },
  {
   "cell_type": "code",
   "execution_count": 1,
   "metadata": {
    "tags": [
     "remove-input"
    ]
   },
   "outputs": [],
   "source": [
    "# sets up the pynb environment\n",
    "import os\n",
    "import sys\n",
    "\n",
    "from IPython.display import HTML\n",
    "import pandas as pd\n",
    "\n",
    "module_path = os.path.abspath(os.path.join(\"..\"))\n",
    "if module_path not in sys.path:\n",
    "    sys.path.append(module_path)\n",
    "\n",
    "from stages.dataframe_filters.data_processing.statistics import (\n",
    "    get_number_of_whales_to_all_voters_ratio,\n",
    "    get_score_comparisons,\n",
    "    get_number_of_voters_per_proposal,\n",
    ")"
   ]
  },
  {
   "cell_type": "markdown",
   "metadata": {},
   "source": [
    "### Load data\n",
    "\n",
    "Load each voter's choice and voting power for up to the last one hundred proposals in each DAO."
   ]
  },
  {
   "cell_type": "code",
   "execution_count": 2,
   "metadata": {
    "tags": [
     "remove-input",
     "remove-output"
    ]
   },
   "outputs": [],
   "source": [
    "all_organization_proposals = pd.read_csv(\n",
    "    \"../plutocracy_data/full_report/plutocracy_tally_report.csv.gzip\",\n",
    "    engine=\"c\",\n",
    "    low_memory=False,\n",
    "    compression='gzip',\n",
    ")\n",
    "all_organization_proposals_filtered = pd.read_csv(\n",
    "    \"../plutocracy_data/full_report/plutocracy_tally_report_filtered.csv.gzip\",\n",
    "    engine=\"c\",\n",
    "    low_memory=False,\n",
    "    compression='gzip',\n",
    ")\n"
   ]
  },
  {
   "cell_type": "code",
   "execution_count": 4,
   "metadata": {
    "tags": [
     "remove-input"
    ]
   },
   "outputs": [],
   "source": [
    "def to_organization_map(flat_organization_dataframe: pd.DataFrame):\n",
    "    return {\n",
    "        organization_name: proposal_df\n",
    "        for organization_name, proposal_df in [\n",
    "            (str(organization_name), space_proposals)\n",
    "            for organization_name, space_proposals in flat_organization_dataframe.groupby(\n",
    "                \"proposal_organization_name\"\n",
    "            )\n",
    "        ]\n",
    "    }\n",
    "\n",
    "plutocracy_report_data = to_organization_map(all_organization_proposals)\n",
    "plutocracy_report_data_filtered = to_organization_map(all_organization_proposals_filtered)\n"
   ]
  },
  {
   "cell_type": "code",
   "execution_count": 5,
   "metadata": {
    "tags": [
     "remove-output",
     "remove-input"
    ]
   },
   "outputs": [],
   "source": [
    "pd.set_option(\"display.max_rows\", int(1e3))\n",
    "score_differences = get_score_comparisons(\n",
    "    plutocracy_report_data, plutocracy_report_data_filtered\n",
    ")\n",
    "\n",
    "voter_counts = get_number_of_voters_per_proposal(plutocracy_report_data)"
   ]
  },
  {
   "attachments": {},
   "cell_type": "markdown",
   "metadata": {},
   "source": [
    "### Compute score differences\n",
    "\n",
    "For each choice of each proposal, get:\n",
    "\n",
    "- Actual score.\n",
    "- Hypothetical score that would have been produced if whales didn't vote.\n",
    "\n",
    "Then compute if the outcome is different, meaning if the outcome would have been changed if whales didn't vote.\n",
    "\n",
    "Then compute, for each DAO, the changed outcome proportion among the last 100 proposals."
   ]
  },
  {
   "cell_type": "code",
   "execution_count": 6,
   "metadata": {
    "tags": [
     "remove-input"
    ]
   },
   "outputs": [],
   "source": [
    "score_differences_dfs = dict()\n",
    "\n",
    "initial_series_data = {\n",
    "    organization: 0\n",
    "    for organization in plutocracy_report_data.keys()\n",
    "}\n",
    "changed_outcome_proportions = pd.Series(initial_series_data, name=\"changed outcomes %\")\n",
    "\n",
    "for score_difference in score_differences:\n",
    "    for organization, data in score_difference.items():\n",
    "        data: dict[str, list] = data\n",
    "        items = data.items()\n",
    "        score_differences_dfs[organization] = pd.DataFrame(\n",
    "            [score_data for _, score_data in items],\n",
    "            index=pd.Index(\n",
    "                ([proposal_id for proposal_id, _ in items]), name=\"Proposal ID\"\n",
    "            ),\n",
    "            columns=[\n",
    "                \"proposal_id\",\n",
    "                \"proposal_title\",\n",
    "                \"proposal_start\",\n",
    "                \"proposal_end\",\n",
    "                \"score_differences\",\n",
    "                \"whale_vp_proportion\",\n",
    "                \"total_vp\",\n",
    "                \"outcome_changed\",\n",
    "                \"outcome_old\",\n",
    "                \"outcome_new\"\n",
    "            ],\n",
    "        ).astype({\"total_vp\": \"float64\"}, copy=False\n",
    "        ).sort_values([\"whale_vp_proportion\",\"total_vp\"], ascending=False)\n",
    "\n",
    "        try:\n",
    "            changed_outcome_proportions[organization] = score_differences_dfs[organization][\"outcome_changed\"].value_counts(normalize=True)[True]\n",
    "        except KeyError:\n",
    "            changed_outcome_proportions[organization] = 0\n",
    "\n",
    "        organization_id = plutocracy_report_data[organization].iloc[0][\"proposal_organization_id\"]\n",
    "        organization_score_diff_df = score_differences_dfs[organization]\n",
    "\n",
    "        organization_score_diff_df[\"total_vp\"] = organization_score_diff_df[\"total_vp\"].apply(\"{:.9f}\".format)\n",
    "\n",
    "        organization_score_diff_df.style.format({\"whale_vp_proportion\": \"{:.2%}\".format})\n",
    "\n",
    "        organization_score_diff_df[\"voter_count\"] = voter_counts[organization]\n",
    "        organization_score_diff_df[\"total_vp\"] = organization_score_diff_df[\"total_vp\"].astype(\"float\")\n",
    "\n",
    "        sort_key = organization_score_diff_df.loc[:, [\"voter_count\", \"total_vp\"]]\n",
    "        sort_key[\"voter_count_rank\"] = sort_key.loc[:,\"voter_count\"].sort_values(ascending=False).rank(method=\"max\", ascending=False)\n",
    "        sort_key[\"total_vp_rank\"] = sort_key.loc[:,\"total_vp\"].sort_values(ascending=False).rank(method=\"dense\", ascending=False)\n",
    "\n",
    "        organization_score_diff_df[\"rank\"] = sort_key.apply(lambda row: row[\"voter_count_rank\"] + row[\"total_vp_rank\"], axis=1)\n",
    "        organization_score_diff_df.sort_values(\n",
    "            \"rank\",\n",
    "            inplace=True\n",
    "        )\n",
    "        \n",
    "        organization_score_diff_df.index = organization_score_diff_df.index.to_series().apply(\n",
    "            lambda s: f'<a href=http://snapshot.org/#/{organization_id}/proposal/{s} rel=\"noopener noreferrer\" target=\"_blank\">{s}</a>'\n",
    "        )\n",
    "\n",
    "\n",
    "changed_outcome_proportions_raw = changed_outcome_proportions.copy()\n",
    "changed_outcome_proportions = changed_outcome_proportions.apply(\n",
    "    lambda proportion: \"{:.0%}\".format(proportion)\n",
    ")"
   ]
  },
  {
   "cell_type": "code",
   "execution_count": 7,
   "metadata": {
    "tags": [
     "remove-input",
     "remove-output"
    ]
   },
   "outputs": [],
   "source": [
    "voting_ratios = get_number_of_whales_to_all_voters_ratio(\n",
    "    plutocracy_report_data, plutocracy_report_data_filtered\n",
    ")"
   ]
  },
  {
   "attachments": {},
   "cell_type": "markdown",
   "metadata": {},
   "source": [
    "### Synthesis\n",
    "\n",
    "For each DAO, show the percentage of proposals, the outcome of which would have changed if whales didn't vote (whale pivotality)."
   ]
  },
  {
   "cell_type": "code",
   "execution_count": 8,
   "metadata": {
    "tags": [
     "remove-input"
    ]
   },
   "outputs": [
    {
     "data": {
      "text/html": [
       "<div>\n",
       "<style scoped>\n",
       "    .dataframe tbody tr th:only-of-type {\n",
       "        vertical-align: middle;\n",
       "    }\n",
       "\n",
       "    .dataframe tbody tr th {\n",
       "        vertical-align: top;\n",
       "    }\n",
       "\n",
       "    .dataframe thead th {\n",
       "        text-align: right;\n",
       "    }\n",
       "</style>\n",
       "<table border=\"1\" class=\"dataframe\">\n",
       "  <thead>\n",
       "    <tr style=\"text-align: right;\">\n",
       "      <th></th>\n",
       "      <th># of whales</th>\n",
       "      <th>all voters</th>\n",
       "      <th>whale pivotality</th>\n",
       "    </tr>\n",
       "    <tr>\n",
       "      <th>DAO</th>\n",
       "      <th></th>\n",
       "      <th></th>\n",
       "      <th></th>\n",
       "    </tr>\n",
       "  </thead>\n",
       "  <tbody>\n",
       "    <tr>\n",
       "      <th>Aave</th>\n",
       "      <td>109</td>\n",
       "      <td>5274</td>\n",
       "      <td>4%</td>\n",
       "    </tr>\n",
       "    <tr>\n",
       "      <th>Ampleforth</th>\n",
       "      <td>2</td>\n",
       "      <td>109</td>\n",
       "      <td>0%</td>\n",
       "    </tr>\n",
       "    <tr>\n",
       "      <th>Angle</th>\n",
       "      <td>1</td>\n",
       "      <td>5</td>\n",
       "      <td>0%</td>\n",
       "    </tr>\n",
       "    <tr>\n",
       "      <th>Arbitrum Core</th>\n",
       "      <td>1558</td>\n",
       "      <td>31127</td>\n",
       "      <td>100%</td>\n",
       "    </tr>\n",
       "    <tr>\n",
       "      <th>Arbitrum Treasury</th>\n",
       "      <td>1785</td>\n",
       "      <td>34833</td>\n",
       "      <td>100%</td>\n",
       "    </tr>\n",
       "    <tr>\n",
       "      <th>ENS</th>\n",
       "      <td>4</td>\n",
       "      <td>1853</td>\n",
       "      <td>0%</td>\n",
       "    </tr>\n",
       "    <tr>\n",
       "      <th>Gitcoin</th>\n",
       "      <td>28</td>\n",
       "      <td>2125</td>\n",
       "      <td>2%</td>\n",
       "    </tr>\n",
       "    <tr>\n",
       "      <th>Hop</th>\n",
       "      <td>7</td>\n",
       "      <td>329</td>\n",
       "      <td>0%</td>\n",
       "    </tr>\n",
       "    <tr>\n",
       "      <th>InstaDapp</th>\n",
       "      <td>1</td>\n",
       "      <td>28</td>\n",
       "      <td>0%</td>\n",
       "    </tr>\n",
       "    <tr>\n",
       "      <th>Optimism</th>\n",
       "      <td>2077</td>\n",
       "      <td>72970</td>\n",
       "      <td>0%</td>\n",
       "    </tr>\n",
       "    <tr>\n",
       "      <th>Radicle</th>\n",
       "      <td>3</td>\n",
       "      <td>81</td>\n",
       "      <td>0%</td>\n",
       "    </tr>\n",
       "    <tr>\n",
       "      <th>Silo</th>\n",
       "      <td>1</td>\n",
       "      <td>148</td>\n",
       "      <td>4%</td>\n",
       "    </tr>\n",
       "    <tr>\n",
       "      <th>Uniswap</th>\n",
       "      <td>349</td>\n",
       "      <td>12486</td>\n",
       "      <td>0%</td>\n",
       "    </tr>\n",
       "  </tbody>\n",
       "</table>\n",
       "</div>"
      ],
      "text/plain": [
       "                   # of whales  all voters whale pivotality\n",
       "DAO                                                        \n",
       "Aave                       109        5274               4%\n",
       "Ampleforth                   2         109               0%\n",
       "Angle                        1           5               0%\n",
       "Arbitrum Core             1558       31127             100%\n",
       "Arbitrum Treasury         1785       34833             100%\n",
       "ENS                          4        1853               0%\n",
       "Gitcoin                     28        2125               2%\n",
       "Hop                          7         329               0%\n",
       "InstaDapp                    1          28               0%\n",
       "Optimism                  2077       72970               0%\n",
       "Radicle                      3          81               0%\n",
       "Silo                         1         148               4%\n",
       "Uniswap                    349       12486               0%"
      ]
     },
     "execution_count": 8,
     "metadata": {},
     "output_type": "execute_result"
    }
   ],
   "source": [
    "dao_overview = pd.DataFrame(\n",
    "    [list(result.items())[0][1] for result in voting_ratios],\n",
    "    columns=[\n",
    "        \"# of whales\",\n",
    "        \"all voters\",\n",
    "    ],\n",
    ")\n",
    "dao_overview.set_index(\n",
    "    pd.Index([list(result.items())[0][0] for result in voting_ratios], name=\"DAO\"),\n",
    "    inplace=True\n",
    ")\n",
    "\n",
    "dao_overview.insert(2, \"whale pivotality\", changed_outcome_proportions)\n",
    "dao_overview"
   ]
  },
  {
   "cell_type": "markdown",
   "metadata": {},
   "source": [
    "## Case studies"
   ]
  },
  {
   "attachments": {},
   "cell_type": "markdown",
   "metadata": {},
   "source": [
    "### Aave"
   ]
  },
  {
   "cell_type": "markdown",
   "metadata": {},
   "source": [
    "#### Proportion of Outcomes Changed:"
   ]
  },
  {
   "cell_type": "code",
   "execution_count": 9,
   "metadata": {
    "tags": [
     "remove-input",
     "full-width"
    ]
   },
   "outputs": [
    {
     "name": "stdout",
     "output_type": "stream",
     "text": [
      "4% of Aave's proposal outcomes change after filtering out whale voting power.\n"
     ]
    }
   ],
   "source": [
    "print(f\"{changed_outcome_proportions['Aave']} of Aave's proposal outcomes change after filtering out whale voting power.\")"
   ]
  },
  {
   "attachments": {},
   "cell_type": "markdown",
   "metadata": {},
   "source": [
    "#### Proposal Analysis:\n",
    "\n",
    "For example, [this proposal](https://www.tally.xyz/gov/aave/proposal/193) to freeze out some low liquidity assets on Aave V2 AMM: G-UNI DAI/USDC and G-UNI USDC/USDT."
   ]
  },
  {
   "cell_type": "code",
   "execution_count": 10,
   "metadata": {
    "tags": [
     "remove-input"
    ]
   },
   "outputs": [
    {
     "data": {
      "text/html": [
       "<style type=\"text/css\">\n",
       "</style>\n",
       "<table id=\"T_4713e\">\n",
       "  <thead>\n",
       "    <tr>\n",
       "      <th class=\"blank level0\" >&nbsp;</th>\n",
       "      <th id=\"T_4713e_level0_col0\" class=\"col_heading level0 col0\" >FOR</th>\n",
       "      <th id=\"T_4713e_level0_col1\" class=\"col_heading level0 col1\" >AGAINST</th>\n",
       "      <th id=\"T_4713e_level0_col2\" class=\"col_heading level0 col2\" >ABSTAIN</th>\n",
       "    </tr>\n",
       "  </thead>\n",
       "  <tbody>\n",
       "    <tr>\n",
       "      <th id=\"T_4713e_level0_row0\" class=\"row_heading level0 row0\" >Scores</th>\n",
       "      <td id=\"T_4713e_row0_col0\" class=\"data row0 col0\" >17873201996188790784.0</td>\n",
       "      <td id=\"T_4713e_row0_col1\" class=\"data row0 col1\" >226512566038205309124608.0</td>\n",
       "      <td id=\"T_4713e_row0_col2\" class=\"data row0 col2\" >0.0</td>\n",
       "    </tr>\n",
       "    <tr>\n",
       "      <th id=\"T_4713e_level0_row1\" class=\"row_heading level0 row1\" >Whale-only scores</th>\n",
       "      <td id=\"T_4713e_row1_col0\" class=\"data row1 col0\" >0.0</td>\n",
       "      <td id=\"T_4713e_row1_col1\" class=\"data row1 col1\" >226512181369205327659008.0</td>\n",
       "      <td id=\"T_4713e_row1_col2\" class=\"data row1 col2\" >0.0</td>\n",
       "    </tr>\n",
       "    <tr>\n",
       "      <th id=\"T_4713e_level0_row2\" class=\"row_heading level0 row2\" >Non-whale scores</th>\n",
       "      <td id=\"T_4713e_row2_col0\" class=\"data row2 col0\" >17873201996188790784.0</td>\n",
       "      <td id=\"T_4713e_row2_col1\" class=\"data row2 col1\" >384668999981465600.0</td>\n",
       "      <td id=\"T_4713e_row2_col2\" class=\"data row2 col2\" >0.0</td>\n",
       "    </tr>\n",
       "  </tbody>\n",
       "</table>\n"
      ],
      "text/plain": [
       "<pandas.io.formats.style.Styler at 0x7fcb54fef010>"
      ]
     },
     "execution_count": 10,
     "metadata": {},
     "output_type": "execute_result"
    }
   ],
   "source": [
    "propsal_choices = plutocracy_report_data['Aave'][plutocracy_report_data['Aave']['proposal_id'] == '193'].iloc[0]['proposal_choices']\n",
    "proposal_score_differences = score_differences_dfs[\"Aave\"][score_differences_dfs[\"Aave\"][\"proposal_id\"] == \"193\"][\"score_differences\"][0]\n",
    "proposal_scores = plutocracy_report_data['Aave'][plutocracy_report_data['Aave']['proposal_id'] == '193'].iloc[0]['proposal_scores']\n",
    "\n",
    "non_whales = [\n",
    "    x - y for x, y in zip(eval(proposal_scores), proposal_score_differences)\n",
    "]\n",
    "\n",
    "number_format = \"{:.1f}\".format\n",
    "\n",
    "pd.DataFrame(\n",
    "    {choice: [score, score_diff, non_whale_score] for choice, score, score_diff, non_whale_score in zip(eval(propsal_choices), eval(proposal_scores), proposal_score_differences, non_whales)},\n",
    "    index=[\"Scores\", \"Whale-only scores\", \"Non-whale scores\"],\n",
    ").style.format(number_format)"
   ]
  },
  {
   "attachments": {},
   "cell_type": "markdown",
   "metadata": {},
   "source": [
    "99.9% of voting power was attributed to whales, with 99.9% of proposal voting power allocated to voting for the proposal not to pass.\n",
    "\n",
    "We also observe that non-whale voting power is very low in this proposal. Six unique addresses voted for this proposal, eleven against."
   ]
  },
  {
   "attachments": {},
   "cell_type": "markdown",
   "metadata": {},
   "source": [
    "### Gitcoin"
   ]
  },
  {
   "cell_type": "markdown",
   "metadata": {},
   "source": [
    "#### Proportion of Outcomes Changed:"
   ]
  },
  {
   "cell_type": "code",
   "execution_count": 11,
   "metadata": {
    "tags": [
     "remove-input",
     "full-width"
    ]
   },
   "outputs": [
    {
     "name": "stdout",
     "output_type": "stream",
     "text": [
      "2% of Gitcoin's proposal outcomes change after filtering out whale voting power.\n"
     ]
    }
   ],
   "source": [
    "print(f\"{changed_outcome_proportions['Gitcoin']} of Gitcoin's proposal outcomes change after filtering out whale voting power.\")"
   ]
  },
  {
   "attachments": {},
   "cell_type": "markdown",
   "metadata": {},
   "source": [
    "#### Proposal Analysis:\n",
    "\n",
    "This defeated proposal to ratify the Fraud Defence and Detection budget for Gitcoin season 13 is the only proposal whose outcome changes after filtering out whales. Technically, it was \"defeated\" due to not meeting the required quorum"
   ]
  },
  {
   "cell_type": "code",
   "execution_count": 13,
   "metadata": {
    "tags": [
     "remove-input"
    ]
   },
   "outputs": [
    {
     "data": {
      "text/html": [
       "<style type=\"text/css\">\n",
       "</style>\n",
       "<table id=\"T_01c6a\">\n",
       "  <thead>\n",
       "    <tr>\n",
       "      <th class=\"blank level0\" >&nbsp;</th>\n",
       "      <th id=\"T_01c6a_level0_col0\" class=\"col_heading level0 col0\" >FOR</th>\n",
       "      <th id=\"T_01c6a_level0_col1\" class=\"col_heading level0 col1\" >AGAINST</th>\n",
       "      <th id=\"T_01c6a_level0_col2\" class=\"col_heading level0 col2\" >ABSTAIN</th>\n",
       "    </tr>\n",
       "  </thead>\n",
       "  <tbody>\n",
       "    <tr>\n",
       "      <th id=\"T_01c6a_level0_row0\" class=\"row_heading level0 row0\" >Scores</th>\n",
       "      <td id=\"T_01c6a_row0_col0\" class=\"data row0 col0\" >320966599999999967232.0</td>\n",
       "      <td id=\"T_01c6a_row0_col1\" class=\"data row0 col1\" >27000000000000000000.0</td>\n",
       "      <td id=\"T_01c6a_row0_col2\" class=\"data row0 col2\" >0.0</td>\n",
       "    </tr>\n",
       "    <tr>\n",
       "      <th id=\"T_01c6a_level0_row1\" class=\"row_heading level0 row1\" >Whale-only scores</th>\n",
       "      <td id=\"T_01c6a_row1_col0\" class=\"data row1 col0\" >320966599999999967232.0</td>\n",
       "      <td id=\"T_01c6a_row1_col1\" class=\"data row1 col1\" >0.0</td>\n",
       "      <td id=\"T_01c6a_row1_col2\" class=\"data row1 col2\" >0.0</td>\n",
       "    </tr>\n",
       "    <tr>\n",
       "      <th id=\"T_01c6a_level0_row2\" class=\"row_heading level0 row2\" >Non-whale scores</th>\n",
       "      <td id=\"T_01c6a_row2_col0\" class=\"data row2 col0\" >0.0</td>\n",
       "      <td id=\"T_01c6a_row2_col1\" class=\"data row2 col1\" >27000000000000000000.0</td>\n",
       "      <td id=\"T_01c6a_row2_col2\" class=\"data row2 col2\" >0.0</td>\n",
       "    </tr>\n",
       "  </tbody>\n",
       "</table>\n"
      ],
      "text/plain": [
       "<pandas.io.formats.style.Styler at 0x7fcb54feec20>"
      ]
     },
     "execution_count": 13,
     "metadata": {},
     "output_type": "execute_result"
    }
   ],
   "source": [
    "propsal_choices = plutocracy_report_data['Gitcoin'][plutocracy_report_data['Gitcoin']['proposal_id'] == '17'].iloc[0]['proposal_choices']\n",
    "proposal_score_differences = score_differences_dfs[\"Gitcoin\"][score_differences_dfs[\"Gitcoin\"][\"proposal_id\"] == '17'][\"score_differences\"][0]\n",
    "proposal_scores = plutocracy_report_data['Gitcoin'][plutocracy_report_data['Gitcoin']['proposal_id'] == '17'].iloc[0]['proposal_scores']\n",
    "\n",
    "non_whales = [\n",
    "    x - y for x, y in zip(eval(proposal_scores), proposal_score_differences)\n",
    "]\n",
    "\n",
    "\n",
    "pd.DataFrame(\n",
    "    {choice: [score, score_diff, non_whale_score] for choice, score, score_diff, non_whale_score in zip(eval(propsal_choices), eval(proposal_scores), proposal_score_differences, non_whales)},\n",
    "    index=[\"Scores\", \"Whale-only scores\", \"Non-whale scores\"],\n",
    ").style.format(number_format)"
   ]
  }
 ],
 "metadata": {
  "celltoolbar": "Tags",
  "kernelspec": {
   "display_name": "Python 3 (ipykernel)",
   "language": "python",
   "name": "python3"
  },
  "language_info": {
   "codemirror_mode": {
    "name": "ipython",
    "version": 3
   },
   "file_extension": ".py",
   "mimetype": "text/x-python",
   "name": "python",
   "nbconvert_exporter": "python",
   "pygments_lexer": "ipython3",
   "version": "3.10.10"
  },
  "vscode": {
   "interpreter": {
    "hash": "b4359820d3e15fa2519172d213623b0fd17349031edfcca628c1a3eb80849618"
   }
  }
 },
 "nbformat": 4,
 "nbformat_minor": 2
}
