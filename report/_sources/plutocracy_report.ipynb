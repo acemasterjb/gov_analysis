{
 "cells": [
  {
   "cell_type": "markdown",
   "metadata": {},
   "source": [
    "# Decisiveness: The influence of whales in DAO Governance "
   ]
  },
  {
   "cell_type": "markdown",
   "metadata": {},
   "source": [
    "## Definition\n",
    "\n",
    "**Decisiveness** is [defined](https://www.merriam-webster.com/dictionary/decisive) as having the power or quality of deciding as in *The council president cast the decisive vote.*\n",
    "\n",
    "More precisely, decisiveness here is used in the [game-theoretical sense](https://www.jstor.org/stable/30026126) of *casting a vote that affects the outcome of the election*."
   ]
  },
  {
   "cell_type": "markdown",
   "metadata": {},
   "source": [
    "## Aims of this report\n",
    "\n",
    "This article aims to analyze the top 60 DAOs, ranked by [treasury size](https://deepdao.io/) to determine the impact of large token holders (whales) on their governance.\n",
    "\n",
    "Our main contribution is the **_whale decisiveness_ metric**, representing how governance decisions in a given DAO are affected by whale votes.\n",
    "\n",
    "In this report we produce:\n",
    "\n",
    "- The whale decisiveness metric on each of the top 60 DAOs\n",
    "- On three proposals, a case study on the influence whales held over the outcome\n",
    "\n",
    "For the purpose of this report, whales are defined as the **top 5% voters in terms of voting power** for a given proposal (voters with voting power at or above the 95th percentile of voting power for that proposal). \n",
    "\n",
    "The whale decisiveness metric is calculated for each DAO as the percentage of proposals, **the outcome of which change once whale votes are not counted**.\n",
    "\n",
    "This report relies on on-chain data as well as Snapshot data about proposals and voters.  \n",
    "For more detailed data and case studies, check out our [extensive report here](https://acemasterjb.github.io/gov_analysis/analysis/extensive_analysis).\n",
    "\n",
    "This is a work in progress and will be updated as we learn more, so stay tuned!"
   ]
  },
  {
   "cell_type": "markdown",
   "metadata": {},
   "source": [
    "## Takeaways\n",
    "\n",
    "Out of 60 DAOs:\n",
    "\n",
    "- 5 of them (8%) have a whale decisiveness metric > 20%\n",
    "- 16 of them (27%) have whale decisiveness > 10%\n",
    "\n",
    "In 16 DAOs, whales' votes produced a different outcome than minority votes in 10 proposals of the last 100.\n",
    "\n",
    "Reviewing proposals (in Decentraland, Curve Finance and Radicle) in detail, we hint at the reasons why whale votes diverge from minority votes. Namely:\n",
    "\n",
    "- Massive whale voting power dominance coupled with meager participation from minority holders\n",
    "- Divergence of interests"
   ]
  },
  {
   "cell_type": "markdown",
   "metadata": {},
   "source": [
    "## Calculations\n",
    "\n",
    "Below, a brief summary of calculations performed to build the whale decisiveness statistics.\n",
    "\n",
    "See the [repository](https://github.com/butterymoney/gov_analysis) for more details."
   ]
  },
  {
   "cell_type": "code",
   "execution_count": 40,
   "metadata": {
    "tags": [
     "remove-input"
    ]
   },
   "outputs": [],
   "source": [
    "# sets up the pynb environment\n",
    "import os\n",
    "import sys\n",
    "\n",
    "from IPython.display import HTML\n",
    "import pandas as pd\n",
    "\n",
    "module_path = os.path.abspath(os.path.join(\"..\"))\n",
    "if module_path not in sys.path:\n",
    "    sys.path.append(module_path)\n",
    "\n",
    "from stages.data_processing.statistics import (\n",
    "    get_number_of_whales_to_all_voters_ratio,\n",
    "    get_score_comparisons,\n",
    ")"
   ]
  },
  {
   "cell_type": "markdown",
   "metadata": {},
   "source": [
    "### Load data\n",
    "\n",
    "Load each voter's choice and voting power for up to the last one hundred proposals in each DAO."
   ]
  },
  {
   "cell_type": "code",
   "execution_count": 12,
   "metadata": {
    "tags": [
     "remove-input",
     "remove-output"
    ]
   },
   "outputs": [],
   "source": [
    "all_organization_proposals = pd.read_csv(\n",
    "    \"../plutocracy_data/full_report/plutocracy_report.csv.gzip\",\n",
    "    engine=\"c\",\n",
    "    low_memory=False,\n",
    "    compression='gzip',\n",
    ")\n",
    "all_organization_proposals_filtered = pd.read_csv(\n",
    "    \"../plutocracy_data/full_report/plutocracy_report_filtered.csv.gzip\",\n",
    "    engine=\"c\",\n",
    "    low_memory=False,\n",
    "    compression='gzip',\n",
    ")\n"
   ]
  },
  {
   "cell_type": "code",
   "execution_count": 18,
   "metadata": {},
   "outputs": [],
   "source": [
    "def to_organization_map(flat_organization_dataframe: pd.DataFrame):\n",
    "    return {\n",
    "        organization_name: proposal_df\n",
    "        for organization_name, proposal_df in [\n",
    "            (str(space_name), space_proposals)\n",
    "            for space_name, space_proposals in flat_organization_dataframe.groupby(\n",
    "                \"proposal_space_name\"\n",
    "            )\n",
    "        ]\n",
    "    }\n",
    "\n",
    "plutocracy_report_data = to_organization_map(all_organization_proposals)\n",
    "plutocracy_report_data_filtered = to_organization_map(all_organization_proposals_filtered)\n"
   ]
  },
  {
   "cell_type": "code",
   "execution_count": 19,
   "metadata": {
    "tags": [
     "remove-input"
    ]
   },
   "outputs": [],
   "source": [
    "pd.set_option(\"display.max_rows\", int(1e3))\n",
    "score_differences = get_score_comparisons(\n",
    "    plutocracy_report_data, plutocracy_report_data_filtered\n",
    ")\n"
   ]
  },
  {
   "cell_type": "markdown",
   "metadata": {},
   "source": [
    "### Compute score differences\n",
    "\n",
    "For each choice of each proposal, get:\n",
    "\n",
    "- Actual score.\n",
    "- Hypothetical score that would have been produced if whales didn't vote.\n",
    "\n",
    "Then compute if the outcome is different, meaning if the outcome would have been changed if whales didn't vote.\n",
    "\n",
    "Then compute, for each DAO, the changed outcome propotion among the last 100 proposals."
   ]
  },
  {
   "cell_type": "code",
   "execution_count": 20,
   "metadata": {
    "tags": [
     "remove-input"
    ]
   },
   "outputs": [],
   "source": [
    "score_differences_dfs = dict()\n",
    "\n",
    "initial_series_data = {\n",
    "    organization: 0\n",
    "    for organization in plutocracy_report_data.keys()\n",
    "}\n",
    "changed_outcome_proportions = pd.Series(initial_series_data, name=\"changed outcomes %\")\n",
    "\n",
    "for score_difference in score_differences:\n",
    "    for organization, data in score_difference.items():\n",
    "        data: dict[str, list] = data\n",
    "        items = data.items()\n",
    "        score_differences_dfs[organization] = pd.DataFrame(\n",
    "            [score_data for _, score_data in items],\n",
    "            index=pd.Index(\n",
    "                ([proposal_id for proposal_id, _ in items]), name=\"Proposal ID\"\n",
    "            ),\n",
    "            columns=[\n",
    "                \"score_differences\",\n",
    "                \"whale_vp_proportion\",\n",
    "                \"total_vp\",\n",
    "                \"outcome_changed\",\n",
    "                \"outcome_old\",\n",
    "                \"outcome_new\"\n",
    "            ],\n",
    "        ).astype({\"total_vp\": \"float64\"}, copy=False\n",
    "        ).sort_values([\"whale_vp_proportion\",\"total_vp\"], ascending=False)\n",
    "\n",
    "        try:\n",
    "            changed_outcome_proportions[organization] = score_differences_dfs[organization][\"outcome_changed\"].value_counts(normalize=True)[True]\n",
    "        except KeyError:\n",
    "            changed_outcome_proportions[organization] = 0\n",
    "\n",
    "        space_id = plutocracy_report_data[organization].iloc[0][\"proposal_space_id\"]\n",
    "\n",
    "        score_differences_dfs[organization][\"total_vp\"] = score_differences_dfs[\n",
    "            organization\n",
    "        ][\"total_vp\"].apply(\"{:.9f}\".format)\n",
    "\n",
    "        score_differences_dfs[organization].index = score_differences_dfs[organization].index.to_series().apply(\n",
    "            lambda s: f'<a href=http://snapshot.org/#/{space_id}/proposal/{s} rel=\"noopener noreferrer\" target=\"_blank\">{s[0:9]}</a>'\n",
    "        )\n",
    "        score_differences_dfs[organization].style.format({\"whale_vp_proportion\": \"{:.2%}\".format})\n",
    "\n",
    "changed_outcome_proportions_raw = changed_outcome_proportions.copy()\n",
    "changed_outcome_proportions = changed_outcome_proportions.apply(\n",
    "    lambda proportion: \"{:.0%}\".format(proportion)\n",
    ")"
   ]
  },
  {
   "cell_type": "code",
   "execution_count": 21,
   "metadata": {
    "tags": [
     "remove-input",
     "remove-output"
    ]
   },
   "outputs": [],
   "source": [
    "voting_ratios = get_number_of_whales_to_all_voters_ratio(\n",
    "    plutocracy_report_data, plutocracy_report_data_filtered\n",
    ")"
   ]
  },
  {
   "cell_type": "markdown",
   "metadata": {},
   "source": [
    "### Synthesis\n",
    "\n",
    "For each DAO, show the percentage of proposals, the outcome of which would have changed if whales didn't vote (_whale decisiveness_)."
   ]
  },
  {
   "cell_type": "code",
   "execution_count": 22,
   "metadata": {
    "tags": [
     "remove-input"
    ]
   },
   "outputs": [
    {
     "data": {
      "text/html": [
       "<div>\n",
       "<style scoped>\n",
       "    .dataframe tbody tr th:only-of-type {\n",
       "        vertical-align: middle;\n",
       "    }\n",
       "\n",
       "    .dataframe tbody tr th {\n",
       "        vertical-align: top;\n",
       "    }\n",
       "\n",
       "    .dataframe thead th {\n",
       "        text-align: right;\n",
       "    }\n",
       "</style>\n",
       "<table border=\"1\" class=\"dataframe\">\n",
       "  <thead>\n",
       "    <tr style=\"text-align: right;\">\n",
       "      <th></th>\n",
       "      <th># of whales</th>\n",
       "      <th>all voters</th>\n",
       "      <th>whale decisiveness</th>\n",
       "    </tr>\n",
       "    <tr>\n",
       "      <th>DAO</th>\n",
       "      <th></th>\n",
       "      <th></th>\n",
       "      <th></th>\n",
       "    </tr>\n",
       "  </thead>\n",
       "  <tbody>\n",
       "    <tr>\n",
       "      <th>1inch Network</th>\n",
       "      <td>26</td>\n",
       "      <td>604</td>\n",
       "      <td>0%</td>\n",
       "    </tr>\n",
       "    <tr>\n",
       "      <th>Aavegotchi</th>\n",
       "      <td>47</td>\n",
       "      <td>5624</td>\n",
       "      <td>7%</td>\n",
       "    </tr>\n",
       "    <tr>\n",
       "      <th>Alchemix</th>\n",
       "      <td>49</td>\n",
       "      <td>2212</td>\n",
       "      <td>4%</td>\n",
       "    </tr>\n",
       "    <tr>\n",
       "      <th>Ampleforth</th>\n",
       "      <td>6</td>\n",
       "      <td>119</td>\n",
       "      <td>6%</td>\n",
       "    </tr>\n",
       "    <tr>\n",
       "      <th>Angle Protocol</th>\n",
       "      <td>17</td>\n",
       "      <td>475</td>\n",
       "      <td>10%</td>\n",
       "    </tr>\n",
       "    <tr>\n",
       "      <th>ApeCoin DAO</th>\n",
       "      <td>192</td>\n",
       "      <td>6812</td>\n",
       "      <td>12%</td>\n",
       "    </tr>\n",
       "    <tr>\n",
       "      <th>BadgerDAO</th>\n",
       "      <td>251</td>\n",
       "      <td>11169</td>\n",
       "      <td>5%</td>\n",
       "    </tr>\n",
       "    <tr>\n",
       "      <th>Cryptex</th>\n",
       "      <td>4</td>\n",
       "      <td>24</td>\n",
       "      <td>6%</td>\n",
       "    </tr>\n",
       "    <tr>\n",
       "      <th>Curve Finance</th>\n",
       "      <td>21</td>\n",
       "      <td>285</td>\n",
       "      <td>21%</td>\n",
       "    </tr>\n",
       "    <tr>\n",
       "      <th>Decentral Games</th>\n",
       "      <td>45</td>\n",
       "      <td>1540</td>\n",
       "      <td>17%</td>\n",
       "    </tr>\n",
       "    <tr>\n",
       "      <th>Decentraland</th>\n",
       "      <td>58</td>\n",
       "      <td>1665</td>\n",
       "      <td>27%</td>\n",
       "    </tr>\n",
       "    <tr>\n",
       "      <th>ENS</th>\n",
       "      <td>321</td>\n",
       "      <td>9742</td>\n",
       "      <td>4%</td>\n",
       "    </tr>\n",
       "    <tr>\n",
       "      <th>Euler</th>\n",
       "      <td>29</td>\n",
       "      <td>782</td>\n",
       "      <td>15%</td>\n",
       "    </tr>\n",
       "    <tr>\n",
       "      <th>Frax</th>\n",
       "      <td>1</td>\n",
       "      <td>340</td>\n",
       "      <td>4%</td>\n",
       "    </tr>\n",
       "    <tr>\n",
       "      <th>Gearbox</th>\n",
       "      <td>32</td>\n",
       "      <td>886</td>\n",
       "      <td>0%</td>\n",
       "    </tr>\n",
       "    <tr>\n",
       "      <th>Gitcoin</th>\n",
       "      <td>191</td>\n",
       "      <td>6309</td>\n",
       "      <td>12%</td>\n",
       "    </tr>\n",
       "    <tr>\n",
       "      <th>Hector Network</th>\n",
       "      <td>139</td>\n",
       "      <td>6554</td>\n",
       "      <td>6%</td>\n",
       "    </tr>\n",
       "    <tr>\n",
       "      <th>Hop</th>\n",
       "      <td>30</td>\n",
       "      <td>1506</td>\n",
       "      <td>4%</td>\n",
       "    </tr>\n",
       "    <tr>\n",
       "      <th>Instadapp</th>\n",
       "      <td>3</td>\n",
       "      <td>75</td>\n",
       "      <td>10%</td>\n",
       "    </tr>\n",
       "    <tr>\n",
       "      <th>JPEG’d</th>\n",
       "      <td>29</td>\n",
       "      <td>845</td>\n",
       "      <td>7%</td>\n",
       "    </tr>\n",
       "    <tr>\n",
       "      <th>Klima DAO</th>\n",
       "      <td>140</td>\n",
       "      <td>6503</td>\n",
       "      <td>0%</td>\n",
       "    </tr>\n",
       "    <tr>\n",
       "      <th>Lido</th>\n",
       "      <td>167</td>\n",
       "      <td>5060</td>\n",
       "      <td>6%</td>\n",
       "    </tr>\n",
       "    <tr>\n",
       "      <th>Magic Internet Money</th>\n",
       "      <td>56</td>\n",
       "      <td>1676</td>\n",
       "      <td>0%</td>\n",
       "    </tr>\n",
       "    <tr>\n",
       "      <th>Merit Circle</th>\n",
       "      <td>16</td>\n",
       "      <td>981</td>\n",
       "      <td>0%</td>\n",
       "    </tr>\n",
       "    <tr>\n",
       "      <th>Metronome DAO</th>\n",
       "      <td>1</td>\n",
       "      <td>9</td>\n",
       "      <td>0%</td>\n",
       "    </tr>\n",
       "    <tr>\n",
       "      <th>New Order</th>\n",
       "      <td>22</td>\n",
       "      <td>578</td>\n",
       "      <td>3%</td>\n",
       "    </tr>\n",
       "    <tr>\n",
       "      <th>Nexus Mutual Community Fund</th>\n",
       "      <td>3</td>\n",
       "      <td>198</td>\n",
       "      <td>17%</td>\n",
       "    </tr>\n",
       "    <tr>\n",
       "      <th>Notional Finance</th>\n",
       "      <td>7</td>\n",
       "      <td>149</td>\n",
       "      <td>0%</td>\n",
       "    </tr>\n",
       "    <tr>\n",
       "      <th>Pangolin Songbird</th>\n",
       "      <td>5</td>\n",
       "      <td>105</td>\n",
       "      <td>0%</td>\n",
       "    </tr>\n",
       "    <tr>\n",
       "      <th>Popcorn</th>\n",
       "      <td>8</td>\n",
       "      <td>249</td>\n",
       "      <td>14%</td>\n",
       "    </tr>\n",
       "    <tr>\n",
       "      <th>Qi Dao | Mai.Finance</th>\n",
       "      <td>51</td>\n",
       "      <td>4112</td>\n",
       "      <td>20%</td>\n",
       "    </tr>\n",
       "    <tr>\n",
       "      <th>Radiant Capital</th>\n",
       "      <td>244</td>\n",
       "      <td>4783</td>\n",
       "      <td>0%</td>\n",
       "    </tr>\n",
       "    <tr>\n",
       "      <th>Radicle</th>\n",
       "      <td>18</td>\n",
       "      <td>396</td>\n",
       "      <td>17%</td>\n",
       "    </tr>\n",
       "    <tr>\n",
       "      <th>Rally</th>\n",
       "      <td>1313</td>\n",
       "      <td>1531</td>\n",
       "      <td>0%</td>\n",
       "    </tr>\n",
       "    <tr>\n",
       "      <th>Redacted</th>\n",
       "      <td>11</td>\n",
       "      <td>369</td>\n",
       "      <td>16%</td>\n",
       "    </tr>\n",
       "    <tr>\n",
       "      <th>Rook</th>\n",
       "      <td>12</td>\n",
       "      <td>273</td>\n",
       "      <td>5%</td>\n",
       "    </tr>\n",
       "    <tr>\n",
       "      <th>Sarcophagus Ambassadors Voting</th>\n",
       "      <td>2</td>\n",
       "      <td>22</td>\n",
       "      <td>14%</td>\n",
       "    </tr>\n",
       "    <tr>\n",
       "      <th>Silo</th>\n",
       "      <td>8</td>\n",
       "      <td>316</td>\n",
       "      <td>3%</td>\n",
       "    </tr>\n",
       "    <tr>\n",
       "      <th>Spool DAO</th>\n",
       "      <td>3</td>\n",
       "      <td>57</td>\n",
       "      <td>0%</td>\n",
       "    </tr>\n",
       "    <tr>\n",
       "      <th>Stargate DAO</th>\n",
       "      <td>2479</td>\n",
       "      <td>65410</td>\n",
       "      <td>5%</td>\n",
       "    </tr>\n",
       "    <tr>\n",
       "      <th>SuperRare DAO</th>\n",
       "      <td>17</td>\n",
       "      <td>563</td>\n",
       "      <td>0%</td>\n",
       "    </tr>\n",
       "    <tr>\n",
       "      <th>Synapse Protocol</th>\n",
       "      <td>15</td>\n",
       "      <td>487</td>\n",
       "      <td>0%</td>\n",
       "    </tr>\n",
       "    <tr>\n",
       "      <th>Uniswap</th>\n",
       "      <td>813</td>\n",
       "      <td>23337</td>\n",
       "      <td>16%</td>\n",
       "    </tr>\n",
       "    <tr>\n",
       "      <th>Unlock Protocol</th>\n",
       "      <td>5</td>\n",
       "      <td>97</td>\n",
       "      <td>23%</td>\n",
       "    </tr>\n",
       "    <tr>\n",
       "      <th>Vesta</th>\n",
       "      <td>689</td>\n",
       "      <td>15382</td>\n",
       "      <td>12%</td>\n",
       "    </tr>\n",
       "    <tr>\n",
       "      <th>ssv.network</th>\n",
       "      <td>6</td>\n",
       "      <td>268</td>\n",
       "      <td>0%</td>\n",
       "    </tr>\n",
       "  </tbody>\n",
       "</table>\n",
       "</div>"
      ],
      "text/plain": [
       "                                # of whales  all voters whale decisiveness\n",
       "DAO                                                                       \n",
       "1inch Network                            26         604                 0%\n",
       "Aavegotchi                               47        5624                 7%\n",
       "Alchemix                                 49        2212                 4%\n",
       "Ampleforth                                6         119                 6%\n",
       "Angle Protocol                           17         475                10%\n",
       "ApeCoin DAO                             192        6812                12%\n",
       "BadgerDAO                               251       11169                 5%\n",
       "Cryptex                                   4          24                 6%\n",
       "Curve Finance                            21         285                21%\n",
       "Decentral Games                          45        1540                17%\n",
       "Decentraland                             58        1665                27%\n",
       "ENS                                     321        9742                 4%\n",
       "Euler                                    29         782                15%\n",
       "Frax                                      1         340                 4%\n",
       "Gearbox                                  32         886                 0%\n",
       "Gitcoin                                 191        6309                12%\n",
       "Hector Network                          139        6554                 6%\n",
       "Hop                                      30        1506                 4%\n",
       "Instadapp                                 3          75                10%\n",
       "JPEG’d                                   29         845                 7%\n",
       "Klima DAO                               140        6503                 0%\n",
       "Lido                                    167        5060                 6%\n",
       "Magic Internet Money                     56        1676                 0%\n",
       "Merit Circle                             16         981                 0%\n",
       "Metronome DAO                             1           9                 0%\n",
       "New Order                                22         578                 3%\n",
       "Nexus Mutual Community Fund               3         198                17%\n",
       "Notional Finance                          7         149                 0%\n",
       "Pangolin Songbird                         5         105                 0%\n",
       "Popcorn                                   8         249                14%\n",
       "Qi Dao | Mai.Finance                     51        4112                20%\n",
       "Radiant Capital                         244        4783                 0%\n",
       "Radicle                                  18         396                17%\n",
       "Rally                                  1313        1531                 0%\n",
       "Redacted                                 11         369                16%\n",
       "Rook                                     12         273                 5%\n",
       "Sarcophagus Ambassadors Voting            2          22                14%\n",
       "Silo                                      8         316                 3%\n",
       "Spool DAO                                 3          57                 0%\n",
       "Stargate DAO                           2479       65410                 5%\n",
       "SuperRare DAO                            17         563                 0%\n",
       "Synapse Protocol                         15         487                 0%\n",
       "Uniswap                                 813       23337                16%\n",
       "Unlock Protocol                           5          97                23%\n",
       "Vesta                                   689       15382                12%\n",
       "ssv.network                               6         268                 0%"
      ]
     },
     "execution_count": 22,
     "metadata": {},
     "output_type": "execute_result"
    }
   ],
   "source": [
    "dao_overview = pd.DataFrame(\n",
    "    [list(result.items())[0][1] for result in voting_ratios],\n",
    "    columns=[\n",
    "        \"# of whales\",\n",
    "        \"all voters\",\n",
    "    ],\n",
    ")\n",
    "dao_overview.set_index(\n",
    "    pd.Index([list(result.items())[0][0] for result in voting_ratios], name=\"DAO\"),\n",
    "    inplace=True\n",
    ")\n",
    "\n",
    "dao_overview.insert(2, \"whale decisiveness\", changed_outcome_proportions)\n",
    "dao_overview"
   ]
  },
  {
   "cell_type": "markdown",
   "metadata": {},
   "source": [
    "## Case studies"
   ]
  },
  {
   "cell_type": "markdown",
   "metadata": {},
   "source": [
    "### Decentraland"
   ]
  },
  {
   "cell_type": "markdown",
   "metadata": {},
   "source": [
    "#### Proportion of Outcomes Changed:"
   ]
  },
  {
   "cell_type": "code",
   "execution_count": 8,
   "metadata": {
    "tags": [
     "remove-input",
     "full-width"
    ]
   },
   "outputs": [
    {
     "name": "stdout",
     "output_type": "stream",
     "text": [
      "27% of Decentraland's proposal outcomes change after filtering out whale voting power.\n"
     ]
    }
   ],
   "source": [
    "print(f\"{changed_outcome_proportions['Decentraland']} of Decentraland's proposal outcomes change after filtering out whale voting power.\")"
   ]
  },
  {
   "cell_type": "markdown",
   "metadata": {},
   "source": [
    "#### Proposal Analysis:\n",
    "\n",
    "For example, [this proposal](https://snapshot.org/#/snapshot.dcl.eth/proposal/0x7f6fed8c7645d1b793526564104e4f79864a9e30ae284029f752b6297478b4f5) to set a duration period for the tenure of Decentraland DAO committee members had decisive whale votes; had whales not voted, the outcome would have been inversed."
   ]
  },
  {
   "cell_type": "code",
   "execution_count": 9,
   "metadata": {
    "tags": [
     "remove-input"
    ]
   },
   "outputs": [
    {
     "data": {
      "text/html": [
       "<div>\n",
       "<style scoped>\n",
       "    .dataframe tbody tr th:only-of-type {\n",
       "        vertical-align: middle;\n",
       "    }\n",
       "\n",
       "    .dataframe tbody tr th {\n",
       "        vertical-align: top;\n",
       "    }\n",
       "\n",
       "    .dataframe thead th {\n",
       "        text-align: right;\n",
       "    }\n",
       "</style>\n",
       "<table border=\"1\" class=\"dataframe\">\n",
       "  <thead>\n",
       "    <tr style=\"text-align: right;\">\n",
       "      <th></th>\n",
       "      <th>Yes</th>\n",
       "      <th>No</th>\n",
       "      <th>Invalid question/options</th>\n",
       "    </tr>\n",
       "  </thead>\n",
       "  <tbody>\n",
       "    <tr>\n",
       "      <th>Scores</th>\n",
       "      <td>168338.243827</td>\n",
       "      <td>1.394610e+06</td>\n",
       "      <td>0.025206</td>\n",
       "    </tr>\n",
       "    <tr>\n",
       "      <th>Whale-only scores</th>\n",
       "      <td>166209.638630</td>\n",
       "      <td>1.392896e+06</td>\n",
       "      <td>0.000000</td>\n",
       "    </tr>\n",
       "    <tr>\n",
       "      <th>Non-whale scores</th>\n",
       "      <td>2128.605197</td>\n",
       "      <td>1.714368e+03</td>\n",
       "      <td>0.025206</td>\n",
       "    </tr>\n",
       "  </tbody>\n",
       "</table>\n",
       "</div>"
      ],
      "text/plain": [
       "                             Yes            No  Invalid question/options\n",
       "Scores             168338.243827  1.394610e+06                  0.025206\n",
       "Whale-only scores  166209.638630  1.392896e+06                  0.000000\n",
       "Non-whale scores     2128.605197  1.714368e+03                  0.025206"
      ]
     },
     "execution_count": 9,
     "metadata": {},
     "output_type": "execute_result"
    }
   ],
   "source": [
    "propsal_choices = plutocracy_report_data['Decentraland'][plutocracy_report_data['Decentraland']['proposal_id'] == '0x7f6fed8c7645d1b793526564104e4f79864a9e30ae284029f752b6297478b4f5'].iloc[0]['proposal_choices']\n",
    "mask = score_differences_dfs[\"Decentraland\"].index.to_series().apply(\n",
    "    lambda s: \"0x7f6fed8\" in s,\n",
    ")\n",
    "proposal_score_differences = score_differences_dfs[\"Decentraland\"].loc[mask][\"score_differences\"][0]\n",
    "proposal_scores = plutocracy_report_data['Decentraland'][plutocracy_report_data['Decentraland']['proposal_id'] == '0x7f6fed8c7645d1b793526564104e4f79864a9e30ae284029f752b6297478b4f5'].iloc[0]['proposal_scores']\n",
    "\n",
    "non_whales = [\n",
    "    x - y for x, y in zip(eval(proposal_scores), proposal_score_differences)\n",
    "]\n",
    "\n",
    "pd.DataFrame(\n",
    "    {choice: [score, score_diff, non_whale_score] for choice, score, score_diff, non_whale_score in zip(eval(propsal_choices), eval(proposal_scores), proposal_score_differences, non_whales)},\n",
    "    index=[\"Scores\", \"Whale-only scores\", \"Non-whale scores\"],\n",
    ")"
   ]
  },
  {
   "cell_type": "markdown",
   "metadata": {},
   "source": [
    "99.9% of voting power was attributed to whales, with 94.85% of proposal voting power allocated to voting for the proposal not to pass.\n",
    "\n",
    "We also observe that non-whale voting power is very low in this proposal."
   ]
  },
  {
   "cell_type": "markdown",
   "metadata": {},
   "source": [
    "### Curve Finance"
   ]
  },
  {
   "cell_type": "markdown",
   "metadata": {},
   "source": [
    "#### Proportion of Outcomes Changed:"
   ]
  },
  {
   "cell_type": "code",
   "execution_count": 10,
   "metadata": {
    "tags": [
     "remove-input",
     "full-width"
    ]
   },
   "outputs": [
    {
     "name": "stdout",
     "output_type": "stream",
     "text": [
      "21% of Curve Finance's proposal outcomes change after filtering out whale voting power.\n"
     ]
    }
   ],
   "source": [
    "print(f\"{changed_outcome_proportions['Curve Finance']} of Curve Finance's proposal outcomes change after filtering out whale voting power.\")"
   ]
  },
  {
   "cell_type": "markdown",
   "metadata": {},
   "source": [
    "#### Proposal Analysis:\n",
    "\n",
    "Another proposal which would have passed if not for whale intervention is this proposal to [add the XSTUSD-3CRV pair](https://snapshot.org/#/curve.eth/proposal/0x0eb23ea0b877666ad3ddcd0d7da0114acdfe5ae6390b5628b7509f4338022db5) to Curve's [gauge](https://resources.curve.fi/reward-gauges/understanding-gauges) [controller](https://curve.readthedocs.io/dao-gauges.html#the-gauge-controller) to accrue CRV for liquidity providers of XSTUSD-3CRV. XSTUSD is a stablecoin deployed on Polkadot and Kusama that is backed by a synthetic token called XOR ([Sora](https://sora.org/)'s native token).\n",
    "\n",
    "The [governance discussion](https://gov.curve.fi/t/proposal-to-add-xstusd-3crv-to-the-gauge-controller/2998/15) about the vote shows reckless promotion of XST.\n",
    "\n",
    "![](./res/curve_governance_shenanigans.png)\n",
    "\n",
    "[Quite a](https://twitter.com/runekek/status/1478166276979793922) [few people](https://twitter.com/FreddieRaynolds/status/1463960623402913797) had their concerns about XST early on.\n",
    "\n",
    "We looked at the first 16 accounts which showed really strong support for this proposal, and almost [every single](https://gov.curve.fi/u/meowtopia) [one was](https://gov.curve.fi/u/LiquidityKing) [created within](https://gov.curve.fi/u/Ryandotrrr) 2 days of the proposal's forum post. One can reasonably conclude that they were created for the sole purpose of \"shilling\"."
   ]
  },
  {
   "cell_type": "code",
   "execution_count": 11,
   "metadata": {
    "tags": [
     "remove-input"
    ]
   },
   "outputs": [
    {
     "data": {
      "text/html": [
       "<div>\n",
       "<style scoped>\n",
       "    .dataframe tbody tr th:only-of-type {\n",
       "        vertical-align: middle;\n",
       "    }\n",
       "\n",
       "    .dataframe tbody tr th {\n",
       "        vertical-align: top;\n",
       "    }\n",
       "\n",
       "    .dataframe thead th {\n",
       "        text-align: right;\n",
       "    }\n",
       "</style>\n",
       "<table border=\"1\" class=\"dataframe\">\n",
       "  <thead>\n",
       "    <tr style=\"text-align: right;\">\n",
       "      <th></th>\n",
       "      <th>Yes</th>\n",
       "      <th>No</th>\n",
       "    </tr>\n",
       "  </thead>\n",
       "  <tbody>\n",
       "    <tr>\n",
       "      <th>Scores</th>\n",
       "      <td>45352.592228</td>\n",
       "      <td>529201.282019</td>\n",
       "    </tr>\n",
       "    <tr>\n",
       "      <th>Whale-only scores</th>\n",
       "      <td>23462.994316</td>\n",
       "      <td>511330.472493</td>\n",
       "    </tr>\n",
       "    <tr>\n",
       "      <th>Non-whale scores</th>\n",
       "      <td>21889.597912</td>\n",
       "      <td>17870.809526</td>\n",
       "    </tr>\n",
       "  </tbody>\n",
       "</table>\n",
       "</div>"
      ],
      "text/plain": [
       "                            Yes             No\n",
       "Scores             45352.592228  529201.282019\n",
       "Whale-only scores  23462.994316  511330.472493\n",
       "Non-whale scores   21889.597912   17870.809526"
      ]
     },
     "execution_count": 11,
     "metadata": {},
     "output_type": "execute_result"
    }
   ],
   "source": [
    "propsal_choices = plutocracy_report_data['Curve Finance'][plutocracy_report_data['Curve Finance']['proposal_id'] == '0x0eb23ea0b877666ad3ddcd0d7da0114acdfe5ae6390b5628b7509f4338022db5'].iloc[0]['proposal_choices']\n",
    "mask = score_differences_dfs[\"Curve Finance\"].index.to_series().apply(\n",
    "    lambda s: \"0x0eb23ea\" in s,\n",
    ")\n",
    "proposal_score_differences = score_differences_dfs[\"Curve Finance\"].loc[mask][\"score_differences\"][0]\n",
    "proposal_scores = plutocracy_report_data['Curve Finance'][plutocracy_report_data['Curve Finance']['proposal_id'] == '0x0eb23ea0b877666ad3ddcd0d7da0114acdfe5ae6390b5628b7509f4338022db5'].iloc[0]['proposal_scores']\n",
    "\n",
    "non_whales = [\n",
    "    x - y for x, y in zip(eval(proposal_scores), proposal_score_differences)\n",
    "]\n",
    "\n",
    "\n",
    "pd.DataFrame(\n",
    "    {choice: [score, score_diff, non_whale_score] for choice, score, score_diff, non_whale_score in zip(eval(propsal_choices), eval(proposal_scores), proposal_score_differences, non_whales)},\n",
    "    index=[\"Scores\", \"Whale-only scores\", \"Non-whale scores\"],\n",
    ")"
   ]
  },
  {
   "cell_type": "markdown",
   "metadata": {},
   "source": [
    "Just over 4% of voting power for this proposal was allocated by whales to vote \"Yes\" (which is just over half the total voting power allocated to the \"Yes\" choice for this proposal), whereas 89% of whale voting power was allocated to voting \"No\" (97% of total voting power for this choice).\n",
    "\n",
    "Clearly, large token holders had an incentive not to let this proposal pass. It seems some such large CRV whales voted sensibly.\n",
    "\n",
    "Just over 10% of whale voting power for this proposal was allocated to voting \"Aye\" on this proposal (27% of voting power allocated to the \"Aye\" choice came from whales). Whereas 45% of voting power from whales was allocated to the \"Nay\" choice (73% of whale voting power allocated to \"Nay\")."
   ]
  },
  {
   "cell_type": "markdown",
   "metadata": {},
   "source": [
    "### Radicle"
   ]
  },
  {
   "cell_type": "markdown",
   "metadata": {},
   "source": [
    "#### Proportion of Outcomes Changed:"
   ]
  },
  {
   "cell_type": "code",
   "execution_count": 12,
   "metadata": {
    "tags": [
     "remove-input",
     "full-width"
    ]
   },
   "outputs": [
    {
     "name": "stdout",
     "output_type": "stream",
     "text": [
      "17% of Radicle's proposal outcomes change after filtering out whale voting power.\n"
     ]
    }
   ],
   "source": [
    "print(f\"{changed_outcome_proportions['Radicle']} of Radicle's proposal outcomes change after filtering out whale voting power.\")"
   ]
  },
  {
   "cell_type": "markdown",
   "metadata": {},
   "source": [
    "#### Proposal Analysis:\n",
    "\n",
    "For Radicle, we look at this proposal to [distribute RAD remaining](https://snapshot.org/#/gov.radicle.eth/proposal/QmepPgXwo5q9GipZFKa32rnxaYoo3LrfRqduinftbU3L3S) following a Liquidity Bootsrapping (LBP) round conducted in February '21. This leftover RAD was proposed to be redistributed to participants of the LBP, i.e. people who bought RAD in this period from the Balancer LBP for RAD tokens."
   ]
  },
  {
   "cell_type": "code",
   "execution_count": 13,
   "metadata": {
    "tags": [
     "remove-input"
    ]
   },
   "outputs": [
    {
     "data": {
      "text/html": [
       "<div>\n",
       "<style scoped>\n",
       "    .dataframe tbody tr th:only-of-type {\n",
       "        vertical-align: middle;\n",
       "    }\n",
       "\n",
       "    .dataframe tbody tr th {\n",
       "        vertical-align: top;\n",
       "    }\n",
       "\n",
       "    .dataframe thead th {\n",
       "        text-align: right;\n",
       "    }\n",
       "</style>\n",
       "<table border=\"1\" class=\"dataframe\">\n",
       "  <thead>\n",
       "    <tr style=\"text-align: right;\">\n",
       "      <th></th>\n",
       "      <th>Aye</th>\n",
       "      <th>Nay</th>\n",
       "    </tr>\n",
       "  </thead>\n",
       "  <tbody>\n",
       "    <tr>\n",
       "      <th>Scores</th>\n",
       "      <td>78136.278442</td>\n",
       "      <td>123126.401817</td>\n",
       "    </tr>\n",
       "    <tr>\n",
       "      <th>Whale-only scores</th>\n",
       "      <td>20708.270722</td>\n",
       "      <td>90218.650933</td>\n",
       "    </tr>\n",
       "    <tr>\n",
       "      <th>Non-whale scores</th>\n",
       "      <td>57428.007720</td>\n",
       "      <td>32907.750885</td>\n",
       "    </tr>\n",
       "  </tbody>\n",
       "</table>\n",
       "</div>"
      ],
      "text/plain": [
       "                            Aye            Nay\n",
       "Scores             78136.278442  123126.401817\n",
       "Whale-only scores  20708.270722   90218.650933\n",
       "Non-whale scores   57428.007720   32907.750885"
      ]
     },
     "execution_count": 13,
     "metadata": {},
     "output_type": "execute_result"
    }
   ],
   "source": [
    "propsal_choices = plutocracy_report_data['Radicle'][plutocracy_report_data['Radicle']['proposal_id'] == 'QmepPgXwo5q9GipZFKa32rnxaYoo3LrfRqduinftbU3L3S'].iloc[0]['proposal_choices']\n",
    "mask = score_differences_dfs[\"Radicle\"].index.to_series().apply(\n",
    "    lambda s: \"QmepPgXwo\" in s,\n",
    ")\n",
    "proposal_score_differences = score_differences_dfs[\"Radicle\"].loc[mask][\"score_differences\"][0]\n",
    "proposal_scores = plutocracy_report_data['Radicle'][plutocracy_report_data['Radicle']['proposal_id'] == 'QmepPgXwo5q9GipZFKa32rnxaYoo3LrfRqduinftbU3L3S'].iloc[0]['proposal_scores']\n",
    "\n",
    "non_whales = [\n",
    "    x - y for x, y in zip(eval(proposal_scores), proposal_score_differences)\n",
    "]\n",
    "\n",
    "\n",
    "pd.DataFrame(\n",
    "    {choice: [score, score_diff, non_whale_score] for choice, score, score_diff, non_whale_score in zip(eval(propsal_choices), eval(proposal_scores), proposal_score_differences, non_whales)},\n",
    "    index=[\"Scores\", \"Whale-only scores\", \"Non-whale scores\"],\n",
    ")"
   ]
  },
  {
   "cell_type": "markdown",
   "metadata": {},
   "source": [
    "Just over 10% of voting power for this proposal was allocated by whales to vote \"Aye\" on this proposal (27% of voting power allocated to the \"Aye\" choice came from whales). Whereas 45% of voting power that came from whales was allocated to the \"Nay\" choice (73% of whale voting power allocated to \"Nay\")."
   ]
  }
 ],
 "metadata": {
  "celltoolbar": "Tags",
  "kernelspec": {
   "display_name": "Python 3 (ipykernel)",
   "language": "python",
   "name": "python3"
  },
  "language_info": {
   "codemirror_mode": {
    "name": "ipython",
    "version": 3
   },
   "file_extension": ".py",
   "mimetype": "text/x-python",
   "name": "python",
   "nbconvert_exporter": "python",
   "pygments_lexer": "ipython3",
   "version": "3.10.9"
  },
  "vscode": {
   "interpreter": {
    "hash": "b4359820d3e15fa2519172d213623b0fd17349031edfcca628c1a3eb80849618"
   }
  }
 },
 "nbformat": 4,
 "nbformat_minor": 2
}
