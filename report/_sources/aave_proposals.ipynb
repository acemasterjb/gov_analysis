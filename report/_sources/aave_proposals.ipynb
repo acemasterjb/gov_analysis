{
 "cells": [
  {
   "attachments": {},
   "cell_type": "markdown",
   "metadata": {},
   "source": [
    "# Aave Proposal Pivotality\n",
    "\n",
    "This article is part of a series of reports that aims to determine the impact of large token holders (whales) on DAO governance.\n",
    "\n",
    "We take a look at 10 recent proposals on Aave Governance, including the first Butter Aave Elections, and compare the voter turnout and the \"pivotality\" (a measure of whale influence) of each of them."
   ]
  },
  {
   "cell_type": "code",
   "execution_count": 1,
   "metadata": {
    "tags": [
     "remove-input"
    ]
   },
   "outputs": [],
   "source": [
    "# sets up the pynb environment\n",
    "import os\n",
    "import sys\n",
    "\n",
    "from IPython.display import HTML\n",
    "import pandas as pd\n",
    "\n",
    "module_path = os.path.abspath(os.path.join(\"..\"))\n",
    "if module_path not in sys.path:\n",
    "    sys.path.append(module_path)\n",
    "\n",
    "from stages.data_processing.statistics import (\n",
    "    get_number_of_whales_to_all_voters_ratio,\n",
    "    get_score_comparisons,\n",
    ")"
   ]
  },
  {
   "cell_type": "code",
   "execution_count": 2,
   "metadata": {
    "tags": [
     "remove-input"
    ]
   },
   "outputs": [],
   "source": [
    "all_organization_proposals = pd.read_csv(\n",
    "    \"../plutocracy_data/full_report/Aave_report.csv.gzip\",\n",
    "    engine=\"c\",\n",
    "    low_memory=False,\n",
    "    compression='gzip',\n",
    ")\n",
    "all_organization_proposals_filtered = pd.read_csv(\n",
    "    \"../plutocracy_data/full_report/Aave_report_filtered.csv.gzip\",\n",
    "    engine=\"c\",\n",
    "    low_memory=False,\n",
    "    compression='gzip',\n",
    ")\n"
   ]
  },
  {
   "cell_type": "code",
   "execution_count": 3,
   "metadata": {
    "tags": [
     "remove-input"
    ]
   },
   "outputs": [],
   "source": [
    "def to_organization_map(flat_organization_dataframe: pd.DataFrame):\n",
    "    return {\n",
    "        organization_name: proposal_df\n",
    "        for organization_name, proposal_df in [\n",
    "            (str(space_name), space_proposals)\n",
    "            for space_name, space_proposals in flat_organization_dataframe.groupby(\n",
    "                \"proposal_space_name\"\n",
    "            )\n",
    "        ]\n",
    "    }\n",
    "\n",
    "plutocracy_report_data = to_organization_map(all_organization_proposals)\n",
    "plutocracy_report_data_filtered = to_organization_map(all_organization_proposals_filtered)\n"
   ]
  },
  {
   "cell_type": "code",
   "execution_count": 4,
   "metadata": {
    "tags": [
     "remove-input"
    ]
   },
   "outputs": [],
   "source": [
    "pd.set_option(\"display.max_rows\", int(1e3))\n",
    "score_differences = get_score_comparisons(\n",
    "    plutocracy_report_data, plutocracy_report_data_filtered\n",
    ")\n"
   ]
  },
  {
   "cell_type": "code",
   "execution_count": 109,
   "metadata": {
    "tags": [
     "remove-input"
    ]
   },
   "outputs": [],
   "source": [
    "score_differences_dfs: dict[str, pd.DataFrame] = dict()\n",
    "\n",
    "initial_series_data = {\n",
    "    organization: 0\n",
    "    for organization in plutocracy_report_data.keys()\n",
    "}\n",
    "changed_outcome_proportions = pd.Series(initial_series_data, name=\"changed outcomes %\")\n",
    "\n",
    "for score_difference in score_differences:\n",
    "    for organization, data in score_difference.items():\n",
    "        data: dict[str, list] = data\n",
    "        items = data.items()\n",
    "        score_differences_dfs[organization] = pd.DataFrame(\n",
    "            [score_data for _, score_data in items],\n",
    "            index=pd.Index(\n",
    "                ([id for id, _ in items]), name=\"Proposal\"\n",
    "            ),\n",
    "            columns=[\n",
    "                \"Title\",\n",
    "                \"Date Started\",\n",
    "                \"Date Ended\",\n",
    "                \"score_differences\",\n",
    "                \"whale_vp_proportion\",\n",
    "                \"total_vp\",\n",
    "                \"outcome_changed\",\n",
    "                \"Result\",\n",
    "                \"Result w/o Whales\"\n",
    "            ],\n",
    "        ).astype({\"total_vp\": \"float64\"}, copy=False\n",
    "        ).sort_values([\"whale_vp_proportion\",\"total_vp\"], ascending=False)\n",
    "\n",
    "        changed_outcome_proportions[organization] = score_differences_dfs[organization][\"outcome_changed\"].value_counts(normalize=True)[True]\n",
    "\n",
    "        score_differences_dfs[organization].drop(\"outcome_changed\", axis=1, inplace=True)\n",
    "\n",
    "        score_differences_dfs[organization][\"Date Started\"] = pd.to_datetime(score_differences_dfs[organization][\"Date Started\"], utc=True, unit=\"s\").dt.strftime(\"%d/%m/%y\")\n",
    "        score_differences_dfs[organization][\"Date Ended\"] = pd.to_datetime(score_differences_dfs[organization][\"Date Ended\"], utc=True, unit=\"s\").dt.strftime(\"%d/%m/%y\")\n",
    "\n",
    "        space_id = plutocracy_report_data[organization].iloc[0][\"proposal_space_id\"]\n",
    "\n",
    "        score_differences_dfs[organization][\"total_vp\"] = score_differences_dfs[\n",
    "            organization\n",
    "        ][\"total_vp\"].apply(\"{:.9f}\".format)\n",
    "\n",
    "        score_differences_dfs[organization][\"Title\"] = score_differences_dfs[organization].apply(\n",
    "            lambda row: f'<a href=http://snapshot.org/#/{space_id}/proposal/{row.name} rel=\"noopener noreferrer\" target=\"_blank\">{row[\"Title\"]}</a>',\n",
    "            axis=1\n",
    "        )\n",
    "        score_differences_dfs[organization].style.format({\"whale_vp_proportion\": \"{:.2%}\".format})\n",
    "changed_outcome_proportions = changed_outcome_proportions.apply(\n",
    "    lambda proportion: \"{:.2%}\".format(proportion)\n",
    ")"
   ]
  },
  {
   "cell_type": "code",
   "execution_count": 6,
   "metadata": {
    "tags": [
     "remove-input",
     "remove-output"
    ]
   },
   "outputs": [],
   "source": [
    "voting_ratios = get_number_of_whales_to_all_voters_ratio(\n",
    "    plutocracy_report_data, plutocracy_report_data_filtered\n",
    ")\n"
   ]
  },
  {
   "attachments": {},
   "cell_type": "markdown",
   "metadata": {},
   "source": [
    "## Synthesis\n",
    "\n",
    "Show the percentage of proposals whose outcome changes if whales did not vote (i.e. *whale pivotality*)."
   ]
  },
  {
   "cell_type": "code",
   "execution_count": 110,
   "metadata": {
    "tags": [
     "remove-input"
    ]
   },
   "outputs": [
    {
     "data": {
      "text/html": [
       "<div>\n",
       "<style scoped>\n",
       "    .dataframe tbody tr th:only-of-type {\n",
       "        vertical-align: middle;\n",
       "    }\n",
       "\n",
       "    .dataframe tbody tr th {\n",
       "        vertical-align: top;\n",
       "    }\n",
       "\n",
       "    .dataframe thead th {\n",
       "        text-align: right;\n",
       "    }\n",
       "</style>\n",
       "<table border=\"1\" class=\"dataframe\">\n",
       "  <thead>\n",
       "    <tr style=\"text-align: right;\">\n",
       "      <th></th>\n",
       "      <th># of whales</th>\n",
       "      <th>all voters</th>\n",
       "      <th>changed outcomes %</th>\n",
       "    </tr>\n",
       "    <tr>\n",
       "      <th>DAO</th>\n",
       "      <th></th>\n",
       "      <th></th>\n",
       "      <th></th>\n",
       "    </tr>\n",
       "  </thead>\n",
       "  <tbody>\n",
       "    <tr>\n",
       "      <th>Aave</th>\n",
       "      <td>651</td>\n",
       "      <td>16006</td>\n",
       "      <td>11.11%</td>\n",
       "    </tr>\n",
       "  </tbody>\n",
       "</table>\n",
       "</div>"
      ],
      "text/plain": [
       "      # of whales  all voters changed outcomes %\n",
       "DAO                                             \n",
       "Aave          651       16006             11.11%"
      ]
     },
     "execution_count": 110,
     "metadata": {},
     "output_type": "execute_result"
    }
   ],
   "source": [
    "dao_overview = pd.DataFrame(\n",
    "    [list(result.items())[0][1] for result in voting_ratios],\n",
    "    columns=[\n",
    "        \"# of whales\",\n",
    "        \"all voters\",\n",
    "    ],\n",
    ")\n",
    "dao_overview.set_index(\n",
    "    pd.Index([list(result.items())[0][0] for result in voting_ratios], name=\"DAO\"),\n",
    "    inplace=True\n",
    ")\n",
    "\n",
    "dao_overview.insert(2, changed_outcome_proportions.name, changed_outcome_proportions)\n",
    "dao_overview"
   ]
  },
  {
   "cell_type": "markdown",
   "metadata": {},
   "source": [
    "---"
   ]
  },
  {
   "attachments": {},
   "cell_type": "markdown",
   "metadata": {},
   "source": [
    "## Case Studies"
   ]
  },
  {
   "attachments": {},
   "cell_type": "markdown",
   "metadata": {},
   "source": [
    "### Filtered Proposals Analysis"
   ]
  },
  {
   "cell_type": "code",
   "execution_count": 111,
   "metadata": {
    "tags": [
     "remove-input",
     "full-width"
    ]
   },
   "outputs": [
    {
     "data": {
      "text/html": [
       "<table border=\"1\" class=\"dataframe\">\n",
       "  <thead>\n",
       "    <tr style=\"text-align: right;\">\n",
       "      <th></th>\n",
       "      <th>Date Started</th>\n",
       "      <th>Date Ended</th>\n",
       "      <th>Result</th>\n",
       "      <th>Result w/o Whales</th>\n",
       "    </tr>\n",
       "    <tr>\n",
       "      <th>Proposal</th>\n",
       "      <th></th>\n",
       "      <th></th>\n",
       "      <th></th>\n",
       "      <th></th>\n",
       "    </tr>\n",
       "  </thead>\n",
       "  <tbody>\n",
       "    <tr>\n",
       "      <th><a href=http://snapshot.org/#/aave.eth/proposal/0xf6da417983653f7e7f5560a8e16ad77d5e25533bba9157abfd222347b40d09d0 rel=\"noopener noreferrer\" target=\"_blank\">[TEMP CHECK] Incentivized Delegate Campaign (3-month)</a></th>\n",
       "      <td>03/04/23</td>\n",
       "      <td>10/04/23</td>\n",
       "      <td>TokenLogic</td>\n",
       "      <td>Blockworks Research</td>\n",
       "    </tr>\n",
       "    <tr>\n",
       "      <th><a href=http://snapshot.org/#/aave.eth/proposal/0x569a161ff9e3684ad5fd767b72639a389ed6f58a838a3ab1b57ccd309058e026 rel=\"noopener noreferrer\" target=\"_blank\">[ARFC] Aave V1 Offboarding Plan</a></th>\n",
       "      <td>13/04/23</td>\n",
       "      <td>16/04/23</td>\n",
       "      <td>YAE</td>\n",
       "      <td>YAE</td>\n",
       "    </tr>\n",
       "    <tr>\n",
       "      <th><a href=http://snapshot.org/#/aave.eth/proposal/0x46cf72da892eb216edc1b7fe2f24f7491d8c37344b2b1f67632fa6950be034f7 rel=\"noopener noreferrer\" target=\"_blank\">[TEMP CHECK] Aave V3 Deployment on zkSync Era Mainnet</a></th>\n",
       "      <td>12/04/23</td>\n",
       "      <td>15/04/23</td>\n",
       "      <td>YAE</td>\n",
       "      <td>YAE</td>\n",
       "    </tr>\n",
       "    <tr>\n",
       "      <th><a href=http://snapshot.org/#/aave.eth/proposal/0xde90f4d29c4c5dd55cba023b29bdde8c49e37f70c3398668a78e2f173a61b4e6 rel=\"noopener noreferrer\" target=\"_blank\">[TEMP CHECK] - Launch Aave V3 on Starknet</a></th>\n",
       "      <td>03/04/23</td>\n",
       "      <td>10/04/23</td>\n",
       "      <td>YEA</td>\n",
       "      <td>YEA</td>\n",
       "    </tr>\n",
       "    <tr>\n",
       "      <th><a href=http://snapshot.org/#/aave.eth/proposal/0x84deca82139320b2570f04211b249e37b8a7602b4a0ed70e6fa772c9f6e94550 rel=\"noopener noreferrer\" target=\"_blank\">[ARC] E-Mode Parameter Changes for V3 Avalanche, Optimism, Polygon, and Arbitrum </a></th>\n",
       "      <td>05/04/23</td>\n",
       "      <td>12/04/23</td>\n",
       "      <td>Option 3</td>\n",
       "      <td>Option 3</td>\n",
       "    </tr>\n",
       "    <tr>\n",
       "      <th><a href=http://snapshot.org/#/aave.eth/proposal/0xc17bc863a09c72152c1ac25d09fcee4748b58eb2e10e70886e20e77ad4d8fad0 rel=\"noopener noreferrer\" target=\"_blank\">[TEMP CHECK] - Whitelist Stargate for V3 Portals</a></th>\n",
       "      <td>13/04/23</td>\n",
       "      <td>18/04/23</td>\n",
       "      <td>YAE</td>\n",
       "      <td>YAE</td>\n",
       "    </tr>\n",
       "    <tr>\n",
       "      <th><a href=http://snapshot.org/#/aave.eth/proposal/0x890cfaa5bb3f0d9c8b220e45e31efde8863538fcfa3232bd982fc9320b86f38f rel=\"noopener noreferrer\" target=\"_blank\"> [TEMP CHECK] - GHO Facilitator Onboarding Process and Application</a></th>\n",
       "      <td>05/04/23</td>\n",
       "      <td>08/04/23</td>\n",
       "      <td>YAE</td>\n",
       "      <td>YAE</td>\n",
       "    </tr>\n",
       "    <tr>\n",
       "      <th><a href=http://snapshot.org/#/aave.eth/proposal/0xc3c8768fa4bbdc12eea40c6cdd0d3d9f61847142a37b17cafcab3fdac7ce32d2 rel=\"noopener noreferrer\" target=\"_blank\">[ARFC] Align AAVE Risk Parameters on Aave V3 Ethereum Market with Aave V2</a></th>\n",
       "      <td>12/04/23</td>\n",
       "      <td>15/04/23</td>\n",
       "      <td>YAE</td>\n",
       "      <td>YAE</td>\n",
       "    </tr>\n",
       "    <tr>\n",
       "      <th><a href=http://snapshot.org/#/aave.eth/proposal/0xc882bf5f0f0f801591bfd5f0273388ea154654220f472aa4a06fd1fe6b94bb53 rel=\"noopener noreferrer\" target=\"_blank\">Risk Stewards Phase 1: CapsPlusSteward</a></th>\n",
       "      <td>12/04/23</td>\n",
       "      <td>17/04/23</td>\n",
       "      <td>YES 100% max increase per 5 days</td>\n",
       "      <td>YES 100% max increase per 5 days</td>\n",
       "    </tr>\n",
       "  </tbody>\n",
       "</table>"
      ],
      "text/plain": [
       "<IPython.core.display.HTML object>"
      ]
     },
     "execution_count": 111,
     "metadata": {},
     "output_type": "execute_result"
    }
   ],
   "source": [
    "HTML(score_differences_dfs[\"Aave\"].rename(lambda index: score_differences_dfs[\"Aave\"].loc[index][\"Title\"]).drop([\"score_differences\", \"total_vp\", \"whale_vp_proportion\", \"Title\"], axis=1).to_html(render_links=True, escape=False))"
   ]
  },
  {
   "attachments": {},
   "cell_type": "markdown",
   "metadata": {},
   "source": [
    "### Proportion of Outcomes Changed"
   ]
  },
  {
   "cell_type": "code",
   "execution_count": 112,
   "metadata": {
    "tags": [
     "remove-input"
    ]
   },
   "outputs": [
    {
     "name": "stdout",
     "output_type": "stream",
     "text": [
      "11.11% of Aave's proposal outcomes change after filtering out whale voting power.\n"
     ]
    }
   ],
   "source": [
    "print(f\"{changed_outcome_proportions['Aave']} of Aave's proposal outcomes change after filtering out whale voting power.\")"
   ]
  },
  {
   "attachments": {},
   "cell_type": "markdown",
   "metadata": {},
   "source": [
    "---"
   ]
  },
  {
   "attachments": {},
   "cell_type": "markdown",
   "metadata": {},
   "source": [
    "### Proposal Analysis"
   ]
  },
  {
   "attachments": {},
   "cell_type": "markdown",
   "metadata": {},
   "source": [
    "#### [TEMP CHECK] Incentivized Delegate Campaign (3-month)\n",
    "\n",
    "Aka the first Butter'd Aave Election.\n",
    "\n",
    "**Proposal ID**: [0xf6da417](https://snapshot.org/#/aave.eth/proposal/0xf6da417983653f7e7f5560a8e16ad77d5e25533bba9157abfd222347b40d09d0)\n",
    "\n",
    "**Start Date**: 03/04/23\n",
    "**End Date**: 10/04/23\n",
    "\n",
    "**Voting System**: Weighted Voting\n",
    "\n",
    "**Voting Strategies**:\n",
    "- aAAVE\n",
    "- AAVE + stkAAVE\n",
    "- Matic AAVE + amAAVE\n",
    "- AAVE in stkBPT (Balancer Pool Token)\n",
    "\n"
   ]
  },
  {
   "attachments": {},
   "cell_type": "markdown",
   "metadata": {},
   "source": [
    "Aave votes to select a delegate who will receive a $15k grant (paid in AAVE) from Aave Grants after a three-month term as a delegate, a delegate election. Thirteen delegates expressed interest in running this election which ran for 7 days. TokenLogic ultimately won this election, however, if we remove whale voting power from this proposal we find that Blockworks Research would've been selected by the Aave community instead."
   ]
  },
  {
   "cell_type": "code",
   "execution_count": 102,
   "metadata": {
    "tags": [
     "remove-input"
    ]
   },
   "outputs": [
    {
     "name": "stdout",
     "output_type": "stream",
     "text": [
      "0.24937532803856208\n"
     ]
    },
    {
     "data": {
      "text/html": [
       "<div>\n",
       "<style scoped>\n",
       "    .dataframe tbody tr th:only-of-type {\n",
       "        vertical-align: middle;\n",
       "    }\n",
       "\n",
       "    .dataframe tbody tr th {\n",
       "        vertical-align: top;\n",
       "    }\n",
       "\n",
       "    .dataframe thead th {\n",
       "        text-align: right;\n",
       "    }\n",
       "</style>\n",
       "<table border=\"1\" class=\"dataframe\">\n",
       "  <thead>\n",
       "    <tr style=\"text-align: right;\">\n",
       "      <th></th>\n",
       "      <th>Blockworks Research</th>\n",
       "      <th>ConsenSys</th>\n",
       "      <th>Curia</th>\n",
       "      <th>DAOStewards</th>\n",
       "      <th>Fire Eyes</th>\n",
       "      <th>Flipside Crypto</th>\n",
       "      <th>FranklinDAO</th>\n",
       "      <th>OnChainCoop</th>\n",
       "      <th>Oxytocin</th>\n",
       "      <th>Saludiego201.eth</th>\n",
       "      <th>StableLab</th>\n",
       "      <th>TokenLogic</th>\n",
       "      <th>Wallfacer Labs</th>\n",
       "    </tr>\n",
       "  </thead>\n",
       "  <tbody>\n",
       "    <tr>\n",
       "      <th>Scores</th>\n",
       "      <td>87232.635594</td>\n",
       "      <td>17620.565593</td>\n",
       "      <td>12742.462405</td>\n",
       "      <td>434.508563</td>\n",
       "      <td>104834.493934</td>\n",
       "      <td>90345.343934</td>\n",
       "      <td>66127.639535</td>\n",
       "      <td>409.610873</td>\n",
       "      <td>30504.177435</td>\n",
       "      <td>437.382397</td>\n",
       "      <td>146246.026838</td>\n",
       "      <td>185171.775039</td>\n",
       "      <td>435.859890</td>\n",
       "    </tr>\n",
       "    <tr>\n",
       "      <th>Whale-only Scores</th>\n",
       "      <td>86487.989188</td>\n",
       "      <td>16950.926291</td>\n",
       "      <td>12712.705752</td>\n",
       "      <td>407.073261</td>\n",
       "      <td>104802.547664</td>\n",
       "      <td>90318.258696</td>\n",
       "      <td>65886.207100</td>\n",
       "      <td>391.862324</td>\n",
       "      <td>30491.294636</td>\n",
       "      <td>393.737487</td>\n",
       "      <td>146194.584615</td>\n",
       "      <td>185153.921653</td>\n",
       "      <td>420.744217</td>\n",
       "    </tr>\n",
       "    <tr>\n",
       "      <th>Non-whale Scores</th>\n",
       "      <td>744.646406</td>\n",
       "      <td>669.639302</td>\n",
       "      <td>29.756653</td>\n",
       "      <td>27.435302</td>\n",
       "      <td>31.946270</td>\n",
       "      <td>27.085238</td>\n",
       "      <td>241.432435</td>\n",
       "      <td>17.748550</td>\n",
       "      <td>12.882799</td>\n",
       "      <td>43.644910</td>\n",
       "      <td>51.442223</td>\n",
       "      <td>17.853386</td>\n",
       "      <td>15.115673</td>\n",
       "    </tr>\n",
       "  </tbody>\n",
       "</table>\n",
       "</div>"
      ],
      "text/plain": [
       "                   Blockworks Research     ConsenSys         Curia  \\\n",
       "Scores                    87232.635594  17620.565593  12742.462405   \n",
       "Whale-only Scores         86487.989188  16950.926291  12712.705752   \n",
       "Non-whale Scores            744.646406    669.639302     29.756653   \n",
       "\n",
       "                   DAOStewards      Fire Eyes  Flipside Crypto   FranklinDAO  \\\n",
       "Scores              434.508563  104834.493934     90345.343934  66127.639535   \n",
       "Whale-only Scores   407.073261  104802.547664     90318.258696  65886.207100   \n",
       "Non-whale Scores     27.435302      31.946270        27.085238    241.432435   \n",
       "\n",
       "                   OnChainCoop      Oxytocin  Saludiego201.eth      StableLab  \\\n",
       "Scores              409.610873  30504.177435        437.382397  146246.026838   \n",
       "Whale-only Scores   391.862324  30491.294636        393.737487  146194.584615   \n",
       "Non-whale Scores     17.748550     12.882799         43.644910      51.442223   \n",
       "\n",
       "                      TokenLogic  Wallfacer Labs  \n",
       "Scores             185171.775039      435.859890  \n",
       "Whale-only Scores  185153.921653      420.744217  \n",
       "Non-whale Scores       17.853386       15.115673  "
      ]
     },
     "execution_count": 102,
     "metadata": {},
     "output_type": "execute_result"
    }
   ],
   "source": [
    "propsal_choices = plutocracy_report_data['Aave'][plutocracy_report_data['Aave']['proposal_id'] == '0xf6da417983653f7e7f5560a8e16ad77d5e25533bba9157abfd222347b40d09d0'].iloc[0]['proposal_choices']\n",
    "mask = score_differences_dfs[\"Aave\"].index.to_series().apply(\n",
    "    lambda s: \"0xf6da417\" in s,\n",
    ")\n",
    "proposal_score_differences = score_differences_dfs[\"Aave\"].loc[mask][\"score_differences\"][0]\n",
    "proposal_scores = plutocracy_report_data['Aave'][plutocracy_report_data['Aave']['proposal_id'] == '0xf6da417983653f7e7f5560a8e16ad77d5e25533bba9157abfd222347b40d09d0'].iloc[0]['proposal_scores']\n",
    "\n",
    "\n",
    "result = pd.DataFrame(\n",
    "    {choice: [score, score_diff, score - score_diff] for choice, score, score_diff in zip(eval(propsal_choices), eval(proposal_scores), proposal_score_differences)},\n",
    "    index=[\"Scores\", \"Whale-only Scores\", \"Non-whale Scores\"],\n",
    ")\n",
    "\n",
    "result"
   ]
  },
  {
   "attachments": {},
   "cell_type": "markdown",
   "metadata": {},
   "source": [
    "---"
   ]
  },
  {
   "attachments": {},
   "cell_type": "markdown",
   "metadata": {},
   "source": [
    "#### [ARFC] Aave V1 Offboarding Plan\n",
    "\n",
    "**Proposal ID**: [0x569a161](https://snapshot.org/#/aave.eth/proposal/0x569a161ff9e3684ad5fd767b72639a389ed6f58a838a3ab1b57ccd309058e026)\n",
    "\n",
    "**Start Date**: 13/04/23\n",
    "**End Date**: 16/04/23\n",
    "\n",
    "**Voting System**: Single Choice Voting\n",
    "\n",
    "\n",
    "**Voting Strategies**:\n",
    "- aAAVE\n",
    "- AAVE + stkAAVE\n",
    "- Matic AAVE + amAAVE\n",
    "- AAVE in stkBPT (Balancer Pool Token)"
   ]
  },
  {
   "attachments": {},
   "cell_type": "markdown",
   "metadata": {},
   "source": [
    "This proposal if passed will implement a new rate strategy for all Aave V1 assets to disincentive users from using V1, and move their assets to V2 or V3 instead. The overwhelming majority of voters voted for this proposal and filtering out whales did not change its outcome."
   ]
  },
  {
   "cell_type": "code",
   "execution_count": 97,
   "metadata": {
    "tags": [
     "remove-input",
     "full-width"
    ]
   },
   "outputs": [
    {
     "data": {
      "text/html": [
       "<div>\n",
       "<style scoped>\n",
       "    .dataframe tbody tr th:only-of-type {\n",
       "        vertical-align: middle;\n",
       "    }\n",
       "\n",
       "    .dataframe tbody tr th {\n",
       "        vertical-align: top;\n",
       "    }\n",
       "\n",
       "    .dataframe thead th {\n",
       "        text-align: right;\n",
       "    }\n",
       "</style>\n",
       "<table border=\"1\" class=\"dataframe\">\n",
       "  <thead>\n",
       "    <tr style=\"text-align: right;\">\n",
       "      <th></th>\n",
       "      <th>YAE</th>\n",
       "      <th>NAY</th>\n",
       "      <th>ABSTAIN</th>\n",
       "    </tr>\n",
       "  </thead>\n",
       "  <tbody>\n",
       "    <tr>\n",
       "      <th>Scores</th>\n",
       "      <td>427930.950274</td>\n",
       "      <td>75.491451</td>\n",
       "      <td>7.338264</td>\n",
       "    </tr>\n",
       "    <tr>\n",
       "      <th>Whale-only Scores</th>\n",
       "      <td>424165.546300</td>\n",
       "      <td>66.034293</td>\n",
       "      <td>1.199240</td>\n",
       "    </tr>\n",
       "    <tr>\n",
       "      <th>Non-whale Scores</th>\n",
       "      <td>3765.403974</td>\n",
       "      <td>9.457158</td>\n",
       "      <td>6.139025</td>\n",
       "    </tr>\n",
       "  </tbody>\n",
       "</table>\n",
       "</div>"
      ],
      "text/plain": [
       "                             YAE        NAY   ABSTAIN\n",
       "Scores             427930.950274  75.491451  7.338264\n",
       "Whale-only Scores  424165.546300  66.034293  1.199240\n",
       "Non-whale Scores     3765.403974   9.457158  6.139025"
      ]
     },
     "execution_count": 97,
     "metadata": {},
     "output_type": "execute_result"
    }
   ],
   "source": [
    "propsal_choices = plutocracy_report_data['Aave'][plutocracy_report_data['Aave']['proposal_id'] == '0x569a161ff9e3684ad5fd767b72639a389ed6f58a838a3ab1b57ccd309058e026'].iloc[0]['proposal_choices']\n",
    "mask = score_differences_dfs[\"Aave\"].index.to_series().apply(\n",
    "    lambda s: \"0x569a161\" in s,\n",
    ")\n",
    "proposal_score_differences = score_differences_dfs[\"Aave\"].loc[mask][\"score_differences\"][0]\n",
    "proposal_scores = plutocracy_report_data['Aave'][plutocracy_report_data['Aave']['proposal_id'] == '0x569a161ff9e3684ad5fd767b72639a389ed6f58a838a3ab1b57ccd309058e026'].iloc[0]['proposal_scores']\n",
    "\n",
    "pd.DataFrame(\n",
    "    {choice: [score, score_diff, score - score_diff] for choice, score, score_diff in zip(eval(propsal_choices), eval(proposal_scores), proposal_score_differences)},\n",
    "    index=[\"Scores\", \"Whale-only Scores\", \"Non-whale Scores\"],\n",
    ")"
   ]
  },
  {
   "attachments": {},
   "cell_type": "markdown",
   "metadata": {},
   "source": [
    "---"
   ]
  },
  {
   "attachments": {},
   "cell_type": "markdown",
   "metadata": {},
   "source": [
    "#### [TEMP CHECK] Aave V3 Deployment on zkSync Era Mainnet\n",
    "\n",
    "**Proposal ID**: [0x46cf72d](https://snapshot.org/#/aave.eth/proposal/0x46cf72da892eb216edc1b7fe2f24f7491d8c37344b2b1f67632fa6950be034f7)\n",
    "\n",
    "**Start Date**: 12/04/23\n",
    "**End Date**: 15/04/23\n",
    "\n",
    "**Voting System**: Single Choice Voting\n",
    "\n",
    "\n",
    "**Voting Strategies**:\n",
    "- aAAVE\n",
    "- AAVE + stkAAVE\n",
    "- Matic AAVE + amAAVE\n",
    "- AAVE in stkBPT (Balancer Pool Token)\n",
    "\n"
   ]
  },
  {
   "attachments": {},
   "cell_type": "markdown",
   "metadata": {},
   "source": [
    "A temperature check to gauge the community's sentiments on deploying Aave V3 on [zkSync Era](https://zksync.io/) Mainnet. The main purpose of this proposal is to encourage ecosystem growth. This proposal's outcome also was not changed after filtering out whales."
   ]
  },
  {
   "cell_type": "code",
   "execution_count": 98,
   "metadata": {
    "tags": [
     "remove-input",
     "full-width"
    ]
   },
   "outputs": [
    {
     "data": {
      "text/html": [
       "<div>\n",
       "<style scoped>\n",
       "    .dataframe tbody tr th:only-of-type {\n",
       "        vertical-align: middle;\n",
       "    }\n",
       "\n",
       "    .dataframe tbody tr th {\n",
       "        vertical-align: top;\n",
       "    }\n",
       "\n",
       "    .dataframe thead th {\n",
       "        text-align: right;\n",
       "    }\n",
       "</style>\n",
       "<table border=\"1\" class=\"dataframe\">\n",
       "  <thead>\n",
       "    <tr style=\"text-align: right;\">\n",
       "      <th></th>\n",
       "      <th>YAE</th>\n",
       "      <th>NAY</th>\n",
       "      <th>ABSTAIN</th>\n",
       "    </tr>\n",
       "  </thead>\n",
       "  <tbody>\n",
       "    <tr>\n",
       "      <th>Scores</th>\n",
       "      <td>577937.331903</td>\n",
       "      <td>1133.242375</td>\n",
       "      <td>134.422288</td>\n",
       "    </tr>\n",
       "    <tr>\n",
       "      <th>Whale-only Scores</th>\n",
       "      <td>529876.707255</td>\n",
       "      <td>1.350356</td>\n",
       "      <td>1.585889</td>\n",
       "    </tr>\n",
       "    <tr>\n",
       "      <th>Non-whale Scores</th>\n",
       "      <td>48060.624648</td>\n",
       "      <td>1131.892020</td>\n",
       "      <td>132.836399</td>\n",
       "    </tr>\n",
       "  </tbody>\n",
       "</table>\n",
       "</div>"
      ],
      "text/plain": [
       "                             YAE          NAY     ABSTAIN\n",
       "Scores             577937.331903  1133.242375  134.422288\n",
       "Whale-only Scores  529876.707255     1.350356    1.585889\n",
       "Non-whale Scores    48060.624648  1131.892020  132.836399"
      ]
     },
     "execution_count": 98,
     "metadata": {},
     "output_type": "execute_result"
    }
   ],
   "source": [
    "propsal_choices = plutocracy_report_data['Aave'][plutocracy_report_data['Aave']['proposal_id'] == '0x46cf72da892eb216edc1b7fe2f24f7491d8c37344b2b1f67632fa6950be034f7'].iloc[0]['proposal_choices']\n",
    "mask = score_differences_dfs[\"Aave\"].index.to_series().apply(\n",
    "    lambda s: \"0x46cf72d\" in s,\n",
    ")\n",
    "proposal_score_differences = score_differences_dfs[\"Aave\"].loc[mask][\"score_differences\"][0]\n",
    "proposal_scores = plutocracy_report_data['Aave'][plutocracy_report_data['Aave']['proposal_id'] == '0x46cf72da892eb216edc1b7fe2f24f7491d8c37344b2b1f67632fa6950be034f7'].iloc[0]['proposal_scores']\n",
    "\n",
    "\n",
    "result = pd.DataFrame(\n",
    "    {choice: [score, score_diff, score - score_diff] for choice, score, score_diff in zip(eval(propsal_choices), eval(proposal_scores), proposal_score_differences)},\n",
    "    index=[\"Scores\", \"Whale-only Scores\", \"Non-whale Scores\"],\n",
    ")\n",
    "\n",
    "print()\n",
    "result"
   ]
  },
  {
   "attachments": {},
   "cell_type": "markdown",
   "metadata": {},
   "source": [
    "---"
   ]
  },
  {
   "attachments": {},
   "cell_type": "markdown",
   "metadata": {},
   "source": [
    "#### [TEMP CHECK] - Launch Aave V3 on Starknet\n",
    "\n",
    "**Proposal ID**: [0xde90f4d](https://snapshot.org/#/aave.eth/proposal/0xde90f4d29c4c5dd55cba023b29bdde8c49e37f70c3398668a78e2f173a61b4e6)\n",
    "\n",
    "**Start Date**: 03/04/23\n",
    "**End Date**: 10/04/23\n",
    "\n",
    "**Voting System**: Single Choice Voting\n",
    "\n",
    "\n",
    "**Voting Strategies**:\n",
    "- aAAVE\n",
    "- AAVE + stkAAVE\n",
    "- Matic AAVE + amAAVE\n",
    "- AAVE in stkBPT (Balancer Pool Token)\n",
    "\n"
   ]
  },
  {
   "attachments": {},
   "cell_type": "markdown",
   "metadata": {},
   "source": [
    "This is a proposal to gauge the Aave community's sentiments on going on with phase 2 of the Aave's integration on Starknet. This phase will involve the deployment of Aave V3 on Starknet. Like the last 3 proposals detailed in this report, its outcome did not change after filtering out whales."
   ]
  },
  {
   "cell_type": "code",
   "execution_count": 100,
   "metadata": {
    "tags": [
     "remove-input",
     "full-width"
    ]
   },
   "outputs": [
    {
     "data": {
      "text/html": [
       "<div>\n",
       "<style scoped>\n",
       "    .dataframe tbody tr th:only-of-type {\n",
       "        vertical-align: middle;\n",
       "    }\n",
       "\n",
       "    .dataframe tbody tr th {\n",
       "        vertical-align: top;\n",
       "    }\n",
       "\n",
       "    .dataframe thead th {\n",
       "        text-align: right;\n",
       "    }\n",
       "</style>\n",
       "<table border=\"1\" class=\"dataframe\">\n",
       "  <thead>\n",
       "    <tr style=\"text-align: right;\">\n",
       "      <th></th>\n",
       "      <th>YEA</th>\n",
       "      <th>NOP</th>\n",
       "      <th>ABSTAIN</th>\n",
       "    </tr>\n",
       "  </thead>\n",
       "  <tbody>\n",
       "    <tr>\n",
       "      <th>Scores</th>\n",
       "      <td>664848.446683</td>\n",
       "      <td>21.627573</td>\n",
       "      <td>136.417016</td>\n",
       "    </tr>\n",
       "    <tr>\n",
       "      <th>Whale-only Scores</th>\n",
       "      <td>407757.376934</td>\n",
       "      <td>4.772256</td>\n",
       "      <td>120.558800</td>\n",
       "    </tr>\n",
       "    <tr>\n",
       "      <th>Non-whale Scores</th>\n",
       "      <td>257091.069749</td>\n",
       "      <td>16.855317</td>\n",
       "      <td>15.858216</td>\n",
       "    </tr>\n",
       "  </tbody>\n",
       "</table>\n",
       "</div>"
      ],
      "text/plain": [
       "                             YEA        NOP     ABSTAIN\n",
       "Scores             664848.446683  21.627573  136.417016\n",
       "Whale-only Scores  407757.376934   4.772256  120.558800\n",
       "Non-whale Scores   257091.069749  16.855317   15.858216"
      ]
     },
     "execution_count": 100,
     "metadata": {},
     "output_type": "execute_result"
    }
   ],
   "source": [
    "propsal_choices = plutocracy_report_data['Aave'][plutocracy_report_data['Aave']['proposal_id'] == '0xde90f4d29c4c5dd55cba023b29bdde8c49e37f70c3398668a78e2f173a61b4e6'].iloc[0]['proposal_choices']\n",
    "mask = score_differences_dfs[\"Aave\"].index.to_series().apply(\n",
    "    lambda s: \"0xde90f4d\" in s,\n",
    ")\n",
    "proposal_score_differences = score_differences_dfs[\"Aave\"].loc[mask][\"score_differences\"][0]\n",
    "proposal_scores = plutocracy_report_data['Aave'][plutocracy_report_data['Aave']['proposal_id'] == '0xde90f4d29c4c5dd55cba023b29bdde8c49e37f70c3398668a78e2f173a61b4e6'].iloc[0]['proposal_scores']\n",
    "pd.DataFrame(\n",
    "    {choice: [score, score_diff, score - score_diff] for choice, score, score_diff in zip(eval(propsal_choices), eval(proposal_scores), proposal_score_differences)},\n",
    "    index=[\"Scores\", \"Whale-only Scores\", \"Non-whale Scores\"],\n",
    ")"
   ]
  },
  {
   "attachments": {},
   "cell_type": "markdown",
   "metadata": {},
   "source": [
    "---"
   ]
  },
  {
   "attachments": {},
   "cell_type": "markdown",
   "metadata": {},
   "source": [
    "#### [ARC] E-Mode Parameter Changes for V3 Avalanche, Optimism, Polygon, and Arbitrum\n",
    "\n",
    "**Proposal ID**: [0x84deca8](https://snapshot.org/#/aave.eth/proposal/0x84deca82139320b2570f04211b249e37b8a7602b4a0ed70e6fa772c9f6e94550)\n",
    "\n",
    "**Start Date**: 05/04/23\n",
    "**End Date**: 11/04/23\n",
    "\n",
    "**Voting System**: Single Choice Voting\n",
    "\n",
    "\n",
    "**Voting Strategies**:\n",
    "- aAAVE\n",
    "- AAVE + stkAAVE\n",
    "- Matic AAVE + amAAVE\n",
    "- AAVE in stkBPT (Balancer Pool Token)\n",
    "\n"
   ]
  },
  {
   "cell_type": "markdown",
   "metadata": {},
   "source": []
  },
  {
   "cell_type": "code",
   "execution_count": 101,
   "metadata": {
    "tags": [
     "remove-input",
     "full-width"
    ]
   },
   "outputs": [
    {
     "data": {
      "text/html": [
       "<div>\n",
       "<style scoped>\n",
       "    .dataframe tbody tr th:only-of-type {\n",
       "        vertical-align: middle;\n",
       "    }\n",
       "\n",
       "    .dataframe tbody tr th {\n",
       "        vertical-align: top;\n",
       "    }\n",
       "\n",
       "    .dataframe thead th {\n",
       "        text-align: right;\n",
       "    }\n",
       "</style>\n",
       "<table border=\"1\" class=\"dataframe\">\n",
       "  <thead>\n",
       "    <tr style=\"text-align: right;\">\n",
       "      <th></th>\n",
       "      <th>Option 1</th>\n",
       "      <th>Option 2</th>\n",
       "      <th>Option 3</th>\n",
       "      <th>Option 4</th>\n",
       "      <th>Abstain</th>\n",
       "      <th>Nay</th>\n",
       "    </tr>\n",
       "  </thead>\n",
       "  <tbody>\n",
       "    <tr>\n",
       "      <th>Scores</th>\n",
       "      <td>126545.660433</td>\n",
       "      <td>166.034309</td>\n",
       "      <td>532246.554661</td>\n",
       "      <td>140.712281</td>\n",
       "      <td>489.850798</td>\n",
       "      <td>2.067035</td>\n",
       "    </tr>\n",
       "    <tr>\n",
       "      <th>Whale-only Scores</th>\n",
       "      <td>84143.973524</td>\n",
       "      <td>83.499083</td>\n",
       "      <td>291145.238949</td>\n",
       "      <td>107.559375</td>\n",
       "      <td>416.456718</td>\n",
       "      <td>1.017788</td>\n",
       "    </tr>\n",
       "    <tr>\n",
       "      <th>Non-whale Scores</th>\n",
       "      <td>42401.686910</td>\n",
       "      <td>82.535226</td>\n",
       "      <td>241101.315713</td>\n",
       "      <td>33.152905</td>\n",
       "      <td>73.394080</td>\n",
       "      <td>1.049248</td>\n",
       "    </tr>\n",
       "  </tbody>\n",
       "</table>\n",
       "</div>"
      ],
      "text/plain": [
       "                        Option 1    Option 2       Option 3    Option 4  \\\n",
       "Scores             126545.660433  166.034309  532246.554661  140.712281   \n",
       "Whale-only Scores   84143.973524   83.499083  291145.238949  107.559375   \n",
       "Non-whale Scores    42401.686910   82.535226  241101.315713   33.152905   \n",
       "\n",
       "                      Abstain       Nay  \n",
       "Scores             489.850798  2.067035  \n",
       "Whale-only Scores  416.456718  1.017788  \n",
       "Non-whale Scores    73.394080  1.049248  "
      ]
     },
     "execution_count": 101,
     "metadata": {},
     "output_type": "execute_result"
    }
   ],
   "source": [
    "propsal_choices = plutocracy_report_data['Aave'][plutocracy_report_data['Aave']['proposal_id'] == '0x84deca82139320b2570f04211b249e37b8a7602b4a0ed70e6fa772c9f6e94550'].iloc[0]['proposal_choices']\n",
    "mask = score_differences_dfs[\"Aave\"].index.to_series().apply(\n",
    "    lambda s: \"0x84deca8\" in s,\n",
    ")\n",
    "proposal_score_differences = score_differences_dfs[\"Aave\"].loc[mask][\"score_differences\"][0]\n",
    "proposal_scores = plutocracy_report_data['Aave'][plutocracy_report_data['Aave']['proposal_id'] == '0x84deca82139320b2570f04211b249e37b8a7602b4a0ed70e6fa772c9f6e94550'].iloc[0]['proposal_scores']\n",
    "pd.DataFrame(\n",
    "    {choice: [score, score_diff, score - score_diff] for choice, score, score_diff in zip(eval(propsal_choices), eval(proposal_scores), proposal_score_differences)},\n",
    "    index=[\"Scores\", \"Whale-only Scores\", \"Non-whale Scores\"],\n",
    ")"
   ]
  }
 ],
 "metadata": {
  "celltoolbar": "Tags",
  "kernelspec": {
   "display_name": "Python 3",
   "language": "python",
   "name": "python3"
  },
  "language_info": {
   "codemirror_mode": {
    "name": "ipython",
    "version": 3
   },
   "file_extension": ".py",
   "mimetype": "text/x-python",
   "name": "python",
   "nbconvert_exporter": "python",
   "pygments_lexer": "ipython3",
   "version": "3.10.9"
  },
  "vscode": {
   "interpreter": {
    "hash": "b4359820d3e15fa2519172d213623b0fd17349031edfcca628c1a3eb80849618"
   }
  }
 },
 "nbformat": 4,
 "nbformat_minor": 2
}
