{
 "cells": [
  {
   "attachments": {},
   "cell_type": "markdown",
   "metadata": {},
   "source": [
    "# Aave Proposal Pivotality"
   ]
  },
  {
   "cell_type": "code",
   "execution_count": 1,
   "metadata": {
    "tags": [
     "remove-input"
    ]
   },
   "outputs": [],
   "source": [
    "# sets up the pynb environment\n",
    "from datetime import datetime\n",
    "from zoneinfo import ZoneInfo\n",
    "import os\n",
    "import sys\n",
    "\n",
    "from IPython.display import HTML\n",
    "import pandas as pd\n",
    "\n",
    "module_path = os.path.abspath(os.path.join(\"..\"))\n",
    "if module_path not in sys.path:\n",
    "    sys.path.append(module_path)\n",
    "\n",
    "from stages.data_processing.statistics import (\n",
    "    get_number_of_whales_to_all_voters_ratio,\n",
    "    get_score_comparisons,\n",
    ")"
   ]
  },
  {
   "cell_type": "code",
   "execution_count": 2,
   "metadata": {
    "tags": [
     "remove-input"
    ]
   },
   "outputs": [
    {
     "name": "stdout",
     "output_type": "stream",
     "text": [
      "Last updated on 2023-04-20\n"
     ]
    }
   ],
   "source": [
    "print(f\"Last updated on {datetime.now(ZoneInfo('UTC')).date()}\")"
   ]
  },
  {
   "attachments": {},
   "cell_type": "markdown",
   "metadata": {},
   "source": [
    "This article is part of a series of reports that aims to determine the impact of large token holders (whales) on DAO governance.\n",
    "\n",
    "We take a look at the top 10 Aave Snapshot proposals ranked by voting power and voter count, including the first Butter Aave Elections.\n",
    "\n",
    "We compare their voter turnout and pivotality metric (a measure of whale influence, described in our previous [Mirror article](https://mirror.xyz/butterd.eth/_VrHsBXZU0IYuIUMq0ifJTffvH0e1AKNh6I-BIV3Nc4) and [data report](https://butterymoney.github.io/gov_analysis/report/plutocracy_report.html))."
   ]
  },
  {
   "cell_type": "code",
   "execution_count": 3,
   "metadata": {
    "tags": [
     "remove-input"
    ]
   },
   "outputs": [],
   "source": [
    "all_organization_proposals = pd.read_csv(\n",
    "    \"../plutocracy_data/full_report/Aave_report.csv.gzip\",\n",
    "    engine=\"c\",\n",
    "    low_memory=False,\n",
    "    compression='gzip',\n",
    ")\n",
    "all_organization_proposals_filtered = pd.read_csv(\n",
    "    \"../plutocracy_data/full_report/Aave_report_filtered.csv.gzip\",\n",
    "    engine=\"c\",\n",
    "    low_memory=False,\n",
    "    compression='gzip',\n",
    ")\n"
   ]
  },
  {
   "cell_type": "code",
   "execution_count": 4,
   "metadata": {
    "tags": [
     "remove-input"
    ]
   },
   "outputs": [],
   "source": [
    "def to_organization_map(flat_organization_dataframe: pd.DataFrame):\n",
    "    return {\n",
    "        organization_name: proposal_df\n",
    "        for organization_name, proposal_df in [\n",
    "            (str(space_name), space_proposals)\n",
    "            for space_name, space_proposals in flat_organization_dataframe.groupby(\n",
    "                \"proposal_space_name\"\n",
    "            )\n",
    "        ]\n",
    "    }\n",
    "\n",
    "plutocracy_report_data = to_organization_map(all_organization_proposals)\n",
    "plutocracy_report_data_filtered = to_organization_map(all_organization_proposals_filtered)\n"
   ]
  },
  {
   "cell_type": "code",
   "execution_count": 5,
   "metadata": {
    "tags": [
     "remove-input"
    ]
   },
   "outputs": [],
   "source": [
    "pd.set_option(\"display.max_rows\", int(1e3))\n",
    "score_differences = get_score_comparisons(\n",
    "    plutocracy_report_data, plutocracy_report_data_filtered\n",
    ")\n"
   ]
  },
  {
   "cell_type": "code",
   "execution_count": 6,
   "metadata": {
    "tags": [
     "remove-input"
    ]
   },
   "outputs": [],
   "source": [
    "score_differences_dfs: dict[str, pd.DataFrame] = dict()\n",
    "\n",
    "initial_series_data = {\n",
    "    organization: 0\n",
    "    for organization in plutocracy_report_data.keys()\n",
    "}\n",
    "changed_outcome_proportions = pd.Series(initial_series_data, name=\"changed outcomes %\")\n",
    "\n",
    "for score_difference in score_differences:\n",
    "    for organization, data in score_difference.items():\n",
    "        data: dict[str, list] = data\n",
    "        items = data.items()\n",
    "        score_differences_dfs[organization] = pd.DataFrame(\n",
    "            [score_data for _, score_data in items],\n",
    "            index=pd.Index(\n",
    "                ([id for id, _ in items]), name=\"Proposal\"\n",
    "            ),\n",
    "            columns=[\n",
    "                \"Title\",\n",
    "                \"Date Started\",\n",
    "                \"Date Ended\",\n",
    "                \"score_differences\",\n",
    "                \"whale_vp_proportion\",\n",
    "                \"total_vp\",\n",
    "                \"outcome_changed\",\n",
    "                \"Result\",\n",
    "                \"Result w/o Whales\"\n",
    "            ],\n",
    "        ).astype({\"total_vp\": \"float64\"}, copy=False\n",
    "        ).sort_values([\"total_vp\"], ascending=False)\n",
    "\n",
    "        changed_outcome_proportions[organization] = score_differences_dfs[organization][\"outcome_changed\"].value_counts(normalize=True)[True]\n",
    "\n",
    "        score_differences_dfs[organization].drop(\"outcome_changed\", axis=1, inplace=True)\n",
    "\n",
    "        score_differences_dfs[organization][\"Date Started\"] = pd.to_datetime(score_differences_dfs[organization][\"Date Started\"], utc=True, unit=\"s\").dt.strftime(\"%d/%m/%y\")\n",
    "        score_differences_dfs[organization][\"Date Ended\"] = pd.to_datetime(score_differences_dfs[organization][\"Date Ended\"], utc=True, unit=\"s\").dt.strftime(\"%d/%m/%y\")\n",
    "\n",
    "        space_id = plutocracy_report_data[organization].iloc[0][\"proposal_space_id\"]\n",
    "\n",
    "        score_differences_dfs[organization][\"total_vp\"] = score_differences_dfs[\n",
    "            organization\n",
    "        ][\"total_vp\"].apply(\"{:.9f}\".format)\n",
    "\n",
    "        score_differences_dfs[organization][\"Title\"] = score_differences_dfs[organization].apply(\n",
    "            lambda row: f'<a href=http://snapshot.org/#/{space_id}/proposal/{row.name} rel=\"noopener noreferrer\" target=\"_blank\">{row[\"Title\"]}</a>',\n",
    "            axis=1\n",
    "        )\n",
    "        score_differences_dfs[organization].style.format({\"whale_vp_proportion\": \"{:.2%}\".format})\n",
    "changed_outcome_proportions = changed_outcome_proportions.apply(\n",
    "    lambda proportion: \"{:.2%}\".format(proportion)\n",
    ")"
   ]
  },
  {
   "cell_type": "code",
   "execution_count": 7,
   "metadata": {
    "tags": [
     "remove-input",
     "remove-output"
    ]
   },
   "outputs": [],
   "source": [
    "voting_ratios = get_number_of_whales_to_all_voters_ratio(\n",
    "    plutocracy_report_data, plutocracy_report_data_filtered\n",
    ")\n"
   ]
  },
  {
   "attachments": {},
   "cell_type": "markdown",
   "metadata": {},
   "source": [
    "## Synthesis\n",
    "\n",
    "Show the percentage of proposals whose outcome changes if whales did not vote (i.e. *whale pivotality*)."
   ]
  },
  {
   "cell_type": "code",
   "execution_count": 8,
   "metadata": {
    "tags": [
     "remove-input"
    ]
   },
   "outputs": [
    {
     "data": {
      "text/html": [
       "<div>\n",
       "<style scoped>\n",
       "    .dataframe tbody tr th:only-of-type {\n",
       "        vertical-align: middle;\n",
       "    }\n",
       "\n",
       "    .dataframe tbody tr th {\n",
       "        vertical-align: top;\n",
       "    }\n",
       "\n",
       "    .dataframe thead th {\n",
       "        text-align: right;\n",
       "    }\n",
       "</style>\n",
       "<table border=\"1\" class=\"dataframe\">\n",
       "  <thead>\n",
       "    <tr style=\"text-align: right;\">\n",
       "      <th></th>\n",
       "      <th># of whales</th>\n",
       "      <th>all voters</th>\n",
       "      <th>changed outcomes %</th>\n",
       "    </tr>\n",
       "    <tr>\n",
       "      <th>DAO</th>\n",
       "      <th></th>\n",
       "      <th></th>\n",
       "      <th></th>\n",
       "    </tr>\n",
       "  </thead>\n",
       "  <tbody>\n",
       "    <tr>\n",
       "      <th>Aave</th>\n",
       "      <td>1438</td>\n",
       "      <td>42586</td>\n",
       "      <td>9.33%</td>\n",
       "    </tr>\n",
       "  </tbody>\n",
       "</table>\n",
       "</div>"
      ],
      "text/plain": [
       "      # of whales  all voters changed outcomes %\n",
       "DAO                                             \n",
       "Aave         1438       42586              9.33%"
      ]
     },
     "execution_count": 8,
     "metadata": {},
     "output_type": "execute_result"
    }
   ],
   "source": [
    "dao_overview = pd.DataFrame(\n",
    "    [list(result.items())[0][1] for result in voting_ratios],\n",
    "    columns=[\n",
    "        \"# of whales\",\n",
    "        \"all voters\",\n",
    "    ],\n",
    ")\n",
    "dao_overview.set_index(\n",
    "    pd.Index([list(result.items())[0][0] for result in voting_ratios], name=\"DAO\"),\n",
    "    inplace=True\n",
    ")\n",
    "\n",
    "dao_overview.insert(2, changed_outcome_proportions.name, changed_outcome_proportions)\n",
    "dao_overview"
   ]
  },
  {
   "cell_type": "markdown",
   "metadata": {},
   "source": [
    "---"
   ]
  },
  {
   "attachments": {},
   "cell_type": "markdown",
   "metadata": {},
   "source": [
    "## Comparison of the top 10 proposals"
   ]
  },
  {
   "cell_type": "code",
   "execution_count": 9,
   "metadata": {
    "tags": [
     "remove-input",
     "full-width"
    ]
   },
   "outputs": [
    {
     "data": {
      "text/html": [
       "<table border=\"1\" class=\"dataframe\">\n",
       "  <thead>\n",
       "    <tr style=\"text-align: right;\">\n",
       "      <th></th>\n",
       "      <th>Date Started</th>\n",
       "      <th>Date Ended</th>\n",
       "      <th>Result</th>\n",
       "      <th>Result w/o Whales</th>\n",
       "    </tr>\n",
       "    <tr>\n",
       "      <th>Proposal</th>\n",
       "      <th></th>\n",
       "      <th></th>\n",
       "      <th></th>\n",
       "      <th></th>\n",
       "    </tr>\n",
       "  </thead>\n",
       "  <tbody>\n",
       "    <tr>\n",
       "      <th><a href=http://snapshot.org/#/aave.eth/proposal/0x549fa2186f321a4e8a07e0d5e82f85f3e2c83189cfaee678a6df144bb67d8f54 rel=\"noopener noreferrer\" target=\"_blank\">[ARC] Gauntlet <> Aave Renewal</a></th>\n",
       "      <td>16/11/22</td>\n",
       "      <td>23/11/22</td>\n",
       "      <td>NAY</td>\n",
       "      <td>YAE</td>\n",
       "    </tr>\n",
       "    <tr>\n",
       "      <th><a href=http://snapshot.org/#/aave.eth/proposal/0xd096f98237c642614fe154844c5037a85c1f287f3323c4b003a83bd3f4ea658a rel=\"noopener noreferrer\" target=\"_blank\">[ARC] Updated: Gauntlet <> Aave Renewal</a></th>\n",
       "      <td>16/12/22</td>\n",
       "      <td>19/12/22</td>\n",
       "      <td>YAE</td>\n",
       "      <td>YAE</td>\n",
       "    </tr>\n",
       "    <tr>\n",
       "      <th><a href=http://snapshot.org/#/aave.eth/proposal/0xb4c756ac701b5cbc0ec2d832652e4f1c820aa40f7d9be18eb81f87080a52c5f1 rel=\"noopener noreferrer\" target=\"_blank\">[ARC] Community Risk Preference on Aave V3 Borrow/Supply Caps</a></th>\n",
       "      <td>15/02/23</td>\n",
       "      <td>21/02/23</td>\n",
       "      <td>Aggressive</td>\n",
       "      <td>Conservative only for small mkts</td>\n",
       "    </tr>\n",
       "    <tr>\n",
       "      <th><a href=http://snapshot.org/#/aave.eth/proposal/0xa3f5b45c0238ae1363eb50ffbd59dd19b07c2ce52b7afd21179d6e1416a8ed4c rel=\"noopener noreferrer\" target=\"_blank\">[ARC]- Chaos Labs Risk Parameter Updates - Aave V3 Ethereum - 2023.02.22</a></th>\n",
       "      <td>28/02/23</td>\n",
       "      <td>03/03/23</td>\n",
       "      <td>YAE</td>\n",
       "      <td>YAE</td>\n",
       "    </tr>\n",
       "    <tr>\n",
       "      <th><a href=http://snapshot.org/#/aave.eth/proposal/0x4bbd4dc6928b3d341381c5ba25cf9dfa41386229706832c627aef300963f5864 rel=\"noopener noreferrer\" target=\"_blank\">Supply and Borrow Cap Updates - Aave V3 Avalanche </a></th>\n",
       "      <td>02/03/23</td>\n",
       "      <td>05/03/23</td>\n",
       "      <td>Aggressive</td>\n",
       "      <td>Aggressive</td>\n",
       "    </tr>\n",
       "    <tr>\n",
       "      <th><a href=http://snapshot.org/#/aave.eth/proposal/0xf6da417983653f7e7f5560a8e16ad77d5e25533bba9157abfd222347b40d09d0 rel=\"noopener noreferrer\" target=\"_blank\">[TEMP CHECK] Incentivized Delegate Campaign (3-month)</a></th>\n",
       "      <td>03/04/23</td>\n",
       "      <td>10/04/23</td>\n",
       "      <td>TokenLogic</td>\n",
       "      <td>Blockworks Research</td>\n",
       "    </tr>\n",
       "    <tr>\n",
       "      <th><a href=http://snapshot.org/#/aave.eth/proposal/0x743ae6001bb0fdfa9a8c4475a2489c20917a79084725f0101ac7c1e7f0cf27c6 rel=\"noopener noreferrer\" target=\"_blank\">Safety Module upgrade to v1.5</a></th>\n",
       "      <td>15/03/23</td>\n",
       "      <td>20/03/23</td>\n",
       "      <td>YES</td>\n",
       "      <td>YES</td>\n",
       "    </tr>\n",
       "    <tr>\n",
       "      <th><a href=http://snapshot.org/#/aave.eth/proposal/0x2eca177d50449f541586d4816d27022b73417952f8c5996d99f500cf0c7ec1c3 rel=\"noopener noreferrer\" target=\"_blank\">[ARC] Community Preference for V3 Migration Levers</a></th>\n",
       "      <td>27/03/23</td>\n",
       "      <td>05/04/23</td>\n",
       "      <td>NO decrease V2 LT/LTV</td>\n",
       "      <td>NO decrease V2 LT/LTV</td>\n",
       "    </tr>\n",
       "    <tr>\n",
       "      <th><a href=http://snapshot.org/#/aave.eth/proposal/0x7e6175c21342dbd88dc5b0dabf2d0a86339e3ef3f199fc7d778a9a6f05ed0df9 rel=\"noopener noreferrer\" target=\"_blank\">Deploy Aave V3 to Metis Andromeda Mainnet</a></th>\n",
       "      <td>17/03/23</td>\n",
       "      <td>23/03/23</td>\n",
       "      <td>YAE</td>\n",
       "      <td>YAE</td>\n",
       "    </tr>\n",
       "    <tr>\n",
       "      <th><a href=http://snapshot.org/#/aave.eth/proposal/0x7fa9944e6866ab6dafcebdf1536655faf5a5ba0adc36e6df467702f7ae096c17 rel=\"noopener noreferrer\" target=\"_blank\">Chaos Labs Risk Parameter Updates - Aave V3 Arbitrum - 2023.02.20</a></th>\n",
       "      <td>26/02/23</td>\n",
       "      <td>01/03/23</td>\n",
       "      <td>YAE</td>\n",
       "      <td>YAE</td>\n",
       "    </tr>\n",
       "  </tbody>\n",
       "</table>"
      ],
      "text/plain": [
       "<IPython.core.display.HTML object>"
      ]
     },
     "execution_count": 9,
     "metadata": {},
     "output_type": "execute_result"
    }
   ],
   "source": [
    "score_differences_dfs[\"Aave\"] = score_differences_dfs[\"Aave\"].iloc[:10]\n",
    "HTML(score_differences_dfs[\"Aave\"].rename(lambda index: score_differences_dfs[\"Aave\"].loc[index][\"Title\"]).drop([\"score_differences\", \"total_vp\", \"whale_vp_proportion\", \"Title\"], axis=1).to_html(render_links=True, escape=False))"
   ]
  },
  {
   "attachments": {},
   "cell_type": "markdown",
   "metadata": {},
   "source": [
    "### Proportion of Outcomes Changed"
   ]
  },
  {
   "cell_type": "code",
   "execution_count": 10,
   "metadata": {
    "tags": [
     "remove-input"
    ]
   },
   "outputs": [
    {
     "name": "stdout",
     "output_type": "stream",
     "text": [
      "9.33% of Aave's proposal outcomes change after filtering out whale voting power.\n"
     ]
    }
   ],
   "source": [
    "print(f\"{changed_outcome_proportions['Aave']} of Aave's proposal outcomes change after filtering out whale voting power.\")"
   ]
  },
  {
   "attachments": {},
   "cell_type": "markdown",
   "metadata": {},
   "source": [
    "Case Studies\n",
    "---"
   ]
  },
  {
   "attachments": {},
   "cell_type": "markdown",
   "metadata": {},
   "source": [
    "#### [ARC] Gauntlet <> Aave Renewal\t\n",
    "\n",
    "**Proposal ID**: [0x549fa21](https://snapshot.org/#/aave.eth/proposal/0x549fa2186f321a4e8a07e0d5e82f85f3e2c83189cfaee678a6df144bb67d8f54)\n",
    "\n",
    "**Start Date**: 16/11/22\n",
    "**End Date**: 23/11/22\n",
    "\n",
    "**Voting System**: Single Choice Voting\n",
    "\n",
    "**Voting Strategies**:\n",
    "- aAAVE\n",
    "- AAVE + stkAAVE\n",
    "- Matic AAVE + amAAVE\n",
    "- AAVE in stkBPT (Balancer Pool Token)"
   ]
  },
  {
   "attachments": {},
   "cell_type": "markdown",
   "metadata": {},
   "source": [
    "This ARC proposal is for the renewal of Gauntlet's 12-month engagement on Aave as a risk manager. This proposal did not pass, but would have passed if whales had not participated."
   ]
  },
  {
   "cell_type": "code",
   "execution_count": 11,
   "metadata": {
    "tags": [
     "remove-input",
     "full-width"
    ]
   },
   "outputs": [
    {
     "data": {
      "text/html": [
       "<div>\n",
       "<style scoped>\n",
       "    .dataframe tbody tr th:only-of-type {\n",
       "        vertical-align: middle;\n",
       "    }\n",
       "\n",
       "    .dataframe tbody tr th {\n",
       "        vertical-align: top;\n",
       "    }\n",
       "\n",
       "    .dataframe thead th {\n",
       "        text-align: right;\n",
       "    }\n",
       "</style>\n",
       "<table border=\"1\" class=\"dataframe\">\n",
       "  <thead>\n",
       "    <tr style=\"text-align: right;\">\n",
       "      <th></th>\n",
       "      <th>YAE</th>\n",
       "      <th>NAY</th>\n",
       "      <th>ABSTAIN</th>\n",
       "    </tr>\n",
       "  </thead>\n",
       "  <tbody>\n",
       "    <tr>\n",
       "      <th>Scores</th>\n",
       "      <td>477505.187812</td>\n",
       "      <td>639091.170223</td>\n",
       "      <td>9.932691</td>\n",
       "    </tr>\n",
       "    <tr>\n",
       "      <th>Whale-only Scores</th>\n",
       "      <td>477179.561740</td>\n",
       "      <td>639076.325697</td>\n",
       "      <td>5.758735</td>\n",
       "    </tr>\n",
       "    <tr>\n",
       "      <th>Non-whale Scores</th>\n",
       "      <td>325.626072</td>\n",
       "      <td>14.844526</td>\n",
       "      <td>4.173956</td>\n",
       "    </tr>\n",
       "  </tbody>\n",
       "</table>\n",
       "</div>"
      ],
      "text/plain": [
       "                             YAE            NAY   ABSTAIN\n",
       "Scores             477505.187812  639091.170223  9.932691\n",
       "Whale-only Scores  477179.561740  639076.325697  5.758735\n",
       "Non-whale Scores      325.626072      14.844526  4.173956"
      ]
     },
     "execution_count": 11,
     "metadata": {},
     "output_type": "execute_result"
    }
   ],
   "source": [
    "propsal_choices = plutocracy_report_data['Aave'][plutocracy_report_data['Aave']['proposal_id'] == '0x549fa2186f321a4e8a07e0d5e82f85f3e2c83189cfaee678a6df144bb67d8f54'].iloc[0]['proposal_choices']\n",
    "mask = score_differences_dfs[\"Aave\"].index.to_series().apply(\n",
    "    lambda s: \"0x549fa21\" in s,\n",
    ")\n",
    "proposal_score_differences = score_differences_dfs[\"Aave\"].loc[mask][\"score_differences\"][0]\n",
    "proposal_scores = plutocracy_report_data['Aave'][plutocracy_report_data['Aave']['proposal_id'] == '0x549fa2186f321a4e8a07e0d5e82f85f3e2c83189cfaee678a6df144bb67d8f54'].iloc[0]['proposal_scores']\n",
    "\n",
    "\n",
    "result = pd.DataFrame(\n",
    "    {choice: [score, score_diff, score - score_diff] for choice, score, score_diff in zip(eval(propsal_choices), eval(proposal_scores), proposal_score_differences)},\n",
    "    index=[\"Scores\", \"Whale-only Scores\", \"Non-whale Scores\"],\n",
    ")\n",
    "\n",
    "result"
   ]
  },
  {
   "attachments": {},
   "cell_type": "markdown",
   "metadata": {},
   "source": [
    "#### [ARC] Updated: Gauntlet <> Aave Renewal\t\n",
    "\n",
    "**Proposal ID**: [0xd096f98](https://snapshot.org/#/aave.eth/proposal/0xd096f98237c642614fe154844c5037a85c1f287f3323c4b003a83bd3f4ea658a)\n",
    "\n",
    "**Start Date**: 15/12/22\n",
    "**End Date**: 19/12/22\n",
    "\n",
    "**Voting System**: Single Choice Voting\n",
    "\n",
    "**Voting Strategies**:\n",
    "- aAAVE\n",
    "- AAVE + stkAAVE\n",
    "- Matic AAVE + amAAVE\n",
    "- AAVE in stkBPT (Balancer Pool Token)\n",
    "\n"
   ]
  },
  {
   "attachments": {},
   "cell_type": "markdown",
   "metadata": {},
   "source": [
    "This is an updated proposal from the previous proposal which did not pass. It's outcome did not change after filtering out whales."
   ]
  },
  {
   "cell_type": "code",
   "execution_count": 12,
   "metadata": {
    "tags": [
     "remove-input",
     "full-width"
    ]
   },
   "outputs": [
    {
     "data": {
      "text/html": [
       "<div>\n",
       "<style scoped>\n",
       "    .dataframe tbody tr th:only-of-type {\n",
       "        vertical-align: middle;\n",
       "    }\n",
       "\n",
       "    .dataframe tbody tr th {\n",
       "        vertical-align: top;\n",
       "    }\n",
       "\n",
       "    .dataframe thead th {\n",
       "        text-align: right;\n",
       "    }\n",
       "</style>\n",
       "<table border=\"1\" class=\"dataframe\">\n",
       "  <thead>\n",
       "    <tr style=\"text-align: right;\">\n",
       "      <th></th>\n",
       "      <th>YAE</th>\n",
       "      <th>ABSTAIN</th>\n",
       "      <th>NAY</th>\n",
       "    </tr>\n",
       "  </thead>\n",
       "  <tbody>\n",
       "    <tr>\n",
       "      <th>Scores</th>\n",
       "      <td>810968.966804</td>\n",
       "      <td>38.584084</td>\n",
       "      <td>13.109700</td>\n",
       "    </tr>\n",
       "    <tr>\n",
       "      <th>Whale-only Scores</th>\n",
       "      <td>810686.317376</td>\n",
       "      <td>17.505492</td>\n",
       "      <td>10.953800</td>\n",
       "    </tr>\n",
       "    <tr>\n",
       "      <th>Non-whale Scores</th>\n",
       "      <td>282.649428</td>\n",
       "      <td>21.078592</td>\n",
       "      <td>2.155901</td>\n",
       "    </tr>\n",
       "  </tbody>\n",
       "</table>\n",
       "</div>"
      ],
      "text/plain": [
       "                             YAE    ABSTAIN        NAY\n",
       "Scores             810968.966804  38.584084  13.109700\n",
       "Whale-only Scores  810686.317376  17.505492  10.953800\n",
       "Non-whale Scores      282.649428  21.078592   2.155901"
      ]
     },
     "execution_count": 12,
     "metadata": {},
     "output_type": "execute_result"
    }
   ],
   "source": [
    "propsal_choices = plutocracy_report_data['Aave'][plutocracy_report_data['Aave']['proposal_id'] == '0xd096f98237c642614fe154844c5037a85c1f287f3323c4b003a83bd3f4ea658a'].iloc[0]['proposal_choices']\n",
    "mask = score_differences_dfs[\"Aave\"].index.to_series().apply(\n",
    "    lambda s: \"0xd096f98\" in s,\n",
    ")\n",
    "proposal_score_differences = score_differences_dfs[\"Aave\"].loc[mask][\"score_differences\"][0]\n",
    "proposal_scores = plutocracy_report_data['Aave'][plutocracy_report_data['Aave']['proposal_id'] == '0xd096f98237c642614fe154844c5037a85c1f287f3323c4b003a83bd3f4ea658a'].iloc[0]['proposal_scores']\n",
    "\n",
    "\n",
    "result = pd.DataFrame(\n",
    "    {choice: [score, score_diff, score - score_diff] for choice, score, score_diff in zip(eval(propsal_choices), eval(proposal_scores), proposal_score_differences)},\n",
    "    index=[\"Scores\", \"Whale-only Scores\", \"Non-whale Scores\"],\n",
    ")\n",
    "\n",
    "result"
   ]
  },
  {
   "attachments": {},
   "cell_type": "markdown",
   "metadata": {},
   "source": [
    "#### [ARC] Community Risk Preference on Aave V3 Borrow/Supply Caps\n",
    "\n",
    "**Proposal ID**: [0xb4c756a](https://snapshot.org/#/aave.eth/proposal/0xb4c756ac701b5cbc0ec2d832652e4f1c820aa40f7d9be18eb81f87080a52c5f1)\n",
    "\n",
    "**Start Date**: 15/02/23\n",
    "**End Date**: 21/02/23\n",
    "\n",
    "**Voting System**: Single Choice Voting\n",
    "\n",
    "**Voting Strategies**:\n",
    "- aAAVE\n",
    "- AAVE + stkAAVE\n",
    "- Matic AAVE + amAAVE\n",
    "- AAVE in stkBPT (Balancer Pool Token)\n",
    "\n"
   ]
  },
  {
   "attachments": {},
   "cell_type": "markdown",
   "metadata": {},
   "source": [
    "A proposal to set supply and borrow cap parameters on non-Ethereum chains. Filtering out whales changed the outcome of this proposal from setting aggressive parameters to only setting conservative parameters for small market cap assets."
   ]
  },
  {
   "cell_type": "code",
   "execution_count": 13,
   "metadata": {
    "tags": [
     "remove-input",
     "full-width"
    ]
   },
   "outputs": [
    {
     "data": {
      "text/html": [
       "<div>\n",
       "<style scoped>\n",
       "    .dataframe tbody tr th:only-of-type {\n",
       "        vertical-align: middle;\n",
       "    }\n",
       "\n",
       "    .dataframe tbody tr th {\n",
       "        vertical-align: top;\n",
       "    }\n",
       "\n",
       "    .dataframe thead th {\n",
       "        text-align: right;\n",
       "    }\n",
       "</style>\n",
       "<table border=\"1\" class=\"dataframe\">\n",
       "  <thead>\n",
       "    <tr style=\"text-align: right;\">\n",
       "      <th></th>\n",
       "      <th>Conservative</th>\n",
       "      <th>Aggressive</th>\n",
       "      <th>Conservative only for small mkts</th>\n",
       "      <th>Abstain</th>\n",
       "      <th>Nay</th>\n",
       "    </tr>\n",
       "  </thead>\n",
       "  <tbody>\n",
       "    <tr>\n",
       "      <th>Scores</th>\n",
       "      <td>1748.206533</td>\n",
       "      <td>492177.899982</td>\n",
       "      <td>305646.846008</td>\n",
       "      <td>45.704975</td>\n",
       "      <td>160.376733</td>\n",
       "    </tr>\n",
       "    <tr>\n",
       "      <th>Whale-only Scores</th>\n",
       "      <td>1578.218473</td>\n",
       "      <td>492126.107082</td>\n",
       "      <td>305006.709358</td>\n",
       "      <td>37.704366</td>\n",
       "      <td>153.841623</td>\n",
       "    </tr>\n",
       "    <tr>\n",
       "      <th>Non-whale Scores</th>\n",
       "      <td>169.988060</td>\n",
       "      <td>51.792900</td>\n",
       "      <td>640.136650</td>\n",
       "      <td>8.000609</td>\n",
       "      <td>6.535110</td>\n",
       "    </tr>\n",
       "  </tbody>\n",
       "</table>\n",
       "</div>"
      ],
      "text/plain": [
       "                   Conservative     Aggressive  \\\n",
       "Scores              1748.206533  492177.899982   \n",
       "Whale-only Scores   1578.218473  492126.107082   \n",
       "Non-whale Scores     169.988060      51.792900   \n",
       "\n",
       "                   Conservative only for small mkts    Abstain         Nay  \n",
       "Scores                                305646.846008  45.704975  160.376733  \n",
       "Whale-only Scores                     305006.709358  37.704366  153.841623  \n",
       "Non-whale Scores                         640.136650   8.000609    6.535110  "
      ]
     },
     "execution_count": 13,
     "metadata": {},
     "output_type": "execute_result"
    }
   ],
   "source": [
    "propsal_choices = plutocracy_report_data['Aave'][plutocracy_report_data['Aave']['proposal_id'] == '0xb4c756ac701b5cbc0ec2d832652e4f1c820aa40f7d9be18eb81f87080a52c5f1'].iloc[0]['proposal_choices']\n",
    "mask = score_differences_dfs[\"Aave\"].index.to_series().apply(\n",
    "    lambda s: \"0xb4c756a\" in s,\n",
    ")\n",
    "proposal_score_differences = score_differences_dfs[\"Aave\"].loc[mask][\"score_differences\"][0]\n",
    "proposal_scores = plutocracy_report_data['Aave'][plutocracy_report_data['Aave']['proposal_id'] == '0xb4c756ac701b5cbc0ec2d832652e4f1c820aa40f7d9be18eb81f87080a52c5f1'].iloc[0]['proposal_scores']\n",
    "\n",
    "\n",
    "result = pd.DataFrame(\n",
    "    {choice: [score, score_diff, score - score_diff] for choice, score, score_diff in zip(eval(propsal_choices), eval(proposal_scores), proposal_score_differences)},\n",
    "    index=[\"Scores\", \"Whale-only Scores\", \"Non-whale Scores\"],\n",
    ")\n",
    "\n",
    "result"
   ]
  },
  {
   "attachments": {},
   "cell_type": "markdown",
   "metadata": {},
   "source": [
    "#### [ARC]- Chaos Labs Risk Parameter Updates - Aave V3 Ethereum - 2023.02.22\n",
    "\n",
    "**Proposal ID**: [0xa3f5b45](https://snapshot.org/#/aave.eth/proposal/0xa3f5b45c0238ae1363eb50ffbd59dd19b07c2ce52b7afd21179d6e1416a8ed4c)\n",
    "\n",
    "**Start Date**: 28/02/23\n",
    "**End Date**: 03/03/23\n",
    "\n",
    "**Voting System**: Single Choice Voting\n",
    "\n",
    "**Voting Strategies**:\n",
    "- aAAVE\n",
    "- AAVE + stkAAVE\n",
    "- Matic AAVE + amAAVE\n",
    "- AAVE in stkBPT (Balancer Pool Token)\n",
    "\n"
   ]
  },
  {
   "attachments": {},
   "cell_type": "markdown",
   "metadata": {},
   "source": [
    "This proposal is for the adjustment of four risk parameters for USDC and DAI on Aave V3 assets. The outcome of this proposal did not change after filtering out whales."
   ]
  },
  {
   "cell_type": "code",
   "execution_count": 14,
   "metadata": {
    "tags": [
     "remove-input",
     "full-width"
    ]
   },
   "outputs": [
    {
     "data": {
      "text/html": [
       "<div>\n",
       "<style scoped>\n",
       "    .dataframe tbody tr th:only-of-type {\n",
       "        vertical-align: middle;\n",
       "    }\n",
       "\n",
       "    .dataframe tbody tr th {\n",
       "        vertical-align: top;\n",
       "    }\n",
       "\n",
       "    .dataframe thead th {\n",
       "        text-align: right;\n",
       "    }\n",
       "</style>\n",
       "<table border=\"1\" class=\"dataframe\">\n",
       "  <thead>\n",
       "    <tr style=\"text-align: right;\">\n",
       "      <th></th>\n",
       "      <th>YAE</th>\n",
       "      <th>NAE</th>\n",
       "      <th>Abstain</th>\n",
       "    </tr>\n",
       "  </thead>\n",
       "  <tbody>\n",
       "    <tr>\n",
       "      <th>Scores</th>\n",
       "      <td>794857.573876</td>\n",
       "      <td>17.605791</td>\n",
       "      <td>12.161327</td>\n",
       "    </tr>\n",
       "    <tr>\n",
       "      <th>Whale-only Scores</th>\n",
       "      <td>752869.995664</td>\n",
       "      <td>15.597452</td>\n",
       "      <td>9.350240</td>\n",
       "    </tr>\n",
       "    <tr>\n",
       "      <th>Non-whale Scores</th>\n",
       "      <td>41987.578212</td>\n",
       "      <td>2.008339</td>\n",
       "      <td>2.811087</td>\n",
       "    </tr>\n",
       "  </tbody>\n",
       "</table>\n",
       "</div>"
      ],
      "text/plain": [
       "                             YAE        NAE    Abstain\n",
       "Scores             794857.573876  17.605791  12.161327\n",
       "Whale-only Scores  752869.995664  15.597452   9.350240\n",
       "Non-whale Scores    41987.578212   2.008339   2.811087"
      ]
     },
     "execution_count": 14,
     "metadata": {},
     "output_type": "execute_result"
    }
   ],
   "source": [
    "propsal_choices = plutocracy_report_data['Aave'][plutocracy_report_data['Aave']['proposal_id'] == '0xa3f5b45c0238ae1363eb50ffbd59dd19b07c2ce52b7afd21179d6e1416a8ed4c'].iloc[0]['proposal_choices']\n",
    "mask = score_differences_dfs[\"Aave\"].index.to_series().apply(\n",
    "    lambda s: \"0xa3f5b45\" in s,\n",
    ")\n",
    "proposal_score_differences = score_differences_dfs[\"Aave\"].loc[mask][\"score_differences\"][0]\n",
    "proposal_scores = plutocracy_report_data['Aave'][plutocracy_report_data['Aave']['proposal_id'] == '0xa3f5b45c0238ae1363eb50ffbd59dd19b07c2ce52b7afd21179d6e1416a8ed4c'].iloc[0]['proposal_scores']\n",
    "\n",
    "\n",
    "result = pd.DataFrame(\n",
    "    {choice: [score, score_diff, score - score_diff] for choice, score, score_diff in zip(eval(propsal_choices), eval(proposal_scores), proposal_score_differences)},\n",
    "    index=[\"Scores\", \"Whale-only Scores\", \"Non-whale Scores\"],\n",
    ")\n",
    "\n",
    "result"
   ]
  },
  {
   "attachments": {},
   "cell_type": "markdown",
   "metadata": {},
   "source": [
    "#### Supply and Borrow Cap Updates - Aave V3 Avalanche\n",
    "\n",
    "**Proposal ID**: [0x4bbd4dc](https://snapshot.org/#/aave.eth/proposal/0x4bbd4dc6928b3d341381c5ba25cf9dfa41386229706832c627aef300963f5864)\n",
    "\n",
    "**Start Date**: 02/03/23\n",
    "**End Date**: 05/03/23\n",
    "\n",
    "**Voting System**: Single Choice Voting\n",
    "\n",
    "**Voting Strategies**:\n",
    "- aAAVE\n",
    "- AAVE + stkAAVE\n",
    "- Matic AAVE + amAAVE\n",
    "- AAVE in stkBPT (Balancer Pool Token)\n",
    "\n"
   ]
  },
  {
   "attachments": {},
   "cell_type": "markdown",
   "metadata": {},
   "source": [
    "This proposal aims to adjust twenty supply and borrow caps for eleven Aave V3 assets on Avalanche. The outcome of this proposal did not change after filtering out whales."
   ]
  },
  {
   "cell_type": "code",
   "execution_count": 15,
   "metadata": {
    "tags": [
     "remove-input",
     "full-width"
    ]
   },
   "outputs": [
    {
     "data": {
      "text/html": [
       "<div>\n",
       "<style scoped>\n",
       "    .dataframe tbody tr th:only-of-type {\n",
       "        vertical-align: middle;\n",
       "    }\n",
       "\n",
       "    .dataframe tbody tr th {\n",
       "        vertical-align: top;\n",
       "    }\n",
       "\n",
       "    .dataframe thead th {\n",
       "        text-align: right;\n",
       "    }\n",
       "</style>\n",
       "<table border=\"1\" class=\"dataframe\">\n",
       "  <thead>\n",
       "    <tr style=\"text-align: right;\">\n",
       "      <th></th>\n",
       "      <th>Conservative</th>\n",
       "      <th>Aggressive</th>\n",
       "      <th>NAY</th>\n",
       "      <th>Abstain</th>\n",
       "    </tr>\n",
       "  </thead>\n",
       "  <tbody>\n",
       "    <tr>\n",
       "      <th>Scores</th>\n",
       "      <td>230.814430</td>\n",
       "      <td>749548.068606</td>\n",
       "      <td>6.004477</td>\n",
       "      <td>220.980583</td>\n",
       "    </tr>\n",
       "    <tr>\n",
       "      <th>Whale-only Scores</th>\n",
       "      <td>122.780886</td>\n",
       "      <td>470152.599102</td>\n",
       "      <td>3.547180</td>\n",
       "      <td>64.500585</td>\n",
       "    </tr>\n",
       "    <tr>\n",
       "      <th>Non-whale Scores</th>\n",
       "      <td>108.033544</td>\n",
       "      <td>279395.469504</td>\n",
       "      <td>2.457296</td>\n",
       "      <td>156.479998</td>\n",
       "    </tr>\n",
       "  </tbody>\n",
       "</table>\n",
       "</div>"
      ],
      "text/plain": [
       "                   Conservative    Aggressive        NAY     Abstain\n",
       "Scores               230.814430  749548.068606  6.004477  220.980583\n",
       "Whale-only Scores    122.780886  470152.599102  3.547180   64.500585\n",
       "Non-whale Scores     108.033544  279395.469504  2.457296  156.479998"
      ]
     },
     "execution_count": 15,
     "metadata": {},
     "output_type": "execute_result"
    }
   ],
   "source": [
    "propsal_choices = plutocracy_report_data['Aave'][plutocracy_report_data['Aave']['proposal_id'] == '0x4bbd4dc6928b3d341381c5ba25cf9dfa41386229706832c627aef300963f5864'].iloc[0]['proposal_choices']\n",
    "mask = score_differences_dfs[\"Aave\"].index.to_series().apply(\n",
    "    lambda s: \"0x4bbd4dc\" in s,\n",
    ")\n",
    "proposal_score_differences = score_differences_dfs[\"Aave\"].loc[mask][\"score_differences\"][0]\n",
    "proposal_scores = plutocracy_report_data['Aave'][plutocracy_report_data['Aave']['proposal_id'] == '0x4bbd4dc6928b3d341381c5ba25cf9dfa41386229706832c627aef300963f5864'].iloc[0]['proposal_scores']\n",
    "\n",
    "\n",
    "result = pd.DataFrame(\n",
    "    {choice: [score, score_diff, score - score_diff] for choice, score, score_diff in zip(eval(propsal_choices), eval(proposal_scores), proposal_score_differences)},\n",
    "    index=[\"Scores\", \"Whale-only Scores\", \"Non-whale Scores\"],\n",
    ")\n",
    "\n",
    "result"
   ]
  },
  {
   "attachments": {},
   "cell_type": "markdown",
   "metadata": {},
   "source": [
    "#### [TEMP CHECK] Incentivized Delegate Campaign (3-month)\n",
    "\n",
    "Aka the first Butter'd Aave Election.\n",
    "\n",
    "**Proposal ID**: [0xf6da417](https://snapshot.org/#/aave.eth/proposal/0xf6da417983653f7e7f5560a8e16ad77d5e25533bba9157abfd222347b40d09d0)\n",
    "\n",
    "**Start Date**: 03/04/23\n",
    "**End Date**: 10/04/23\n",
    "\n",
    "**Voting System**: Weighted Voting\n",
    "\n",
    "**Voting Strategies**:\n",
    "- aAAVE\n",
    "- AAVE + stkAAVE\n",
    "- Matic AAVE + amAAVE\n",
    "- AAVE in stkBPT (Balancer Pool Token)\n",
    "\n"
   ]
  },
  {
   "attachments": {},
   "cell_type": "markdown",
   "metadata": {},
   "source": [
    "Aave votes to select a delegate who will receive a $15k grant (paid in AAVE) from Aave Grants after a three-month term as a delegate, a delegate election. TokenLogic ultimately won this election, however, if we remove whale voting power from this proposal we find that Blockworks Research would've been selected by the Aave community instead."
   ]
  },
  {
   "cell_type": "code",
   "execution_count": 16,
   "metadata": {
    "tags": [
     "remove-input",
     "full-width"
    ]
   },
   "outputs": [
    {
     "data": {
      "text/html": [
       "<div>\n",
       "<style scoped>\n",
       "    .dataframe tbody tr th:only-of-type {\n",
       "        vertical-align: middle;\n",
       "    }\n",
       "\n",
       "    .dataframe tbody tr th {\n",
       "        vertical-align: top;\n",
       "    }\n",
       "\n",
       "    .dataframe thead th {\n",
       "        text-align: right;\n",
       "    }\n",
       "</style>\n",
       "<table border=\"1\" class=\"dataframe\">\n",
       "  <thead>\n",
       "    <tr style=\"text-align: right;\">\n",
       "      <th></th>\n",
       "      <th>Blockworks Research</th>\n",
       "      <th>ConsenSys</th>\n",
       "      <th>Curia</th>\n",
       "      <th>DAOStewards</th>\n",
       "      <th>Fire Eyes</th>\n",
       "      <th>Flipside Crypto</th>\n",
       "      <th>FranklinDAO</th>\n",
       "      <th>OnChainCoop</th>\n",
       "      <th>Oxytocin</th>\n",
       "      <th>Saludiego201.eth</th>\n",
       "      <th>StableLab</th>\n",
       "      <th>TokenLogic</th>\n",
       "      <th>Wallfacer Labs</th>\n",
       "    </tr>\n",
       "  </thead>\n",
       "  <tbody>\n",
       "    <tr>\n",
       "      <th>Scores</th>\n",
       "      <td>87232.635594</td>\n",
       "      <td>17620.565593</td>\n",
       "      <td>12742.462405</td>\n",
       "      <td>434.508563</td>\n",
       "      <td>104834.493934</td>\n",
       "      <td>90345.343934</td>\n",
       "      <td>66127.639535</td>\n",
       "      <td>409.610873</td>\n",
       "      <td>30504.177435</td>\n",
       "      <td>437.382397</td>\n",
       "      <td>146246.026838</td>\n",
       "      <td>185171.775039</td>\n",
       "      <td>435.859890</td>\n",
       "    </tr>\n",
       "    <tr>\n",
       "      <th>Whale-only Scores</th>\n",
       "      <td>86487.989188</td>\n",
       "      <td>16950.926291</td>\n",
       "      <td>12712.705752</td>\n",
       "      <td>407.073261</td>\n",
       "      <td>104802.547664</td>\n",
       "      <td>90318.258696</td>\n",
       "      <td>65886.207100</td>\n",
       "      <td>391.862324</td>\n",
       "      <td>30491.294636</td>\n",
       "      <td>393.737487</td>\n",
       "      <td>146194.584615</td>\n",
       "      <td>185153.921653</td>\n",
       "      <td>420.744217</td>\n",
       "    </tr>\n",
       "    <tr>\n",
       "      <th>Non-whale Scores</th>\n",
       "      <td>744.646406</td>\n",
       "      <td>669.639302</td>\n",
       "      <td>29.756653</td>\n",
       "      <td>27.435302</td>\n",
       "      <td>31.946270</td>\n",
       "      <td>27.085238</td>\n",
       "      <td>241.432435</td>\n",
       "      <td>17.748550</td>\n",
       "      <td>12.882799</td>\n",
       "      <td>43.644910</td>\n",
       "      <td>51.442223</td>\n",
       "      <td>17.853386</td>\n",
       "      <td>15.115673</td>\n",
       "    </tr>\n",
       "  </tbody>\n",
       "</table>\n",
       "</div>"
      ],
      "text/plain": [
       "                   Blockworks Research     ConsenSys         Curia  \\\n",
       "Scores                    87232.635594  17620.565593  12742.462405   \n",
       "Whale-only Scores         86487.989188  16950.926291  12712.705752   \n",
       "Non-whale Scores            744.646406    669.639302     29.756653   \n",
       "\n",
       "                   DAOStewards      Fire Eyes  Flipside Crypto   FranklinDAO  \\\n",
       "Scores              434.508563  104834.493934     90345.343934  66127.639535   \n",
       "Whale-only Scores   407.073261  104802.547664     90318.258696  65886.207100   \n",
       "Non-whale Scores     27.435302      31.946270        27.085238    241.432435   \n",
       "\n",
       "                   OnChainCoop      Oxytocin  Saludiego201.eth      StableLab  \\\n",
       "Scores              409.610873  30504.177435        437.382397  146246.026838   \n",
       "Whale-only Scores   391.862324  30491.294636        393.737487  146194.584615   \n",
       "Non-whale Scores     17.748550     12.882799         43.644910      51.442223   \n",
       "\n",
       "                      TokenLogic  Wallfacer Labs  \n",
       "Scores             185171.775039      435.859890  \n",
       "Whale-only Scores  185153.921653      420.744217  \n",
       "Non-whale Scores       17.853386       15.115673  "
      ]
     },
     "execution_count": 16,
     "metadata": {},
     "output_type": "execute_result"
    }
   ],
   "source": [
    "propsal_choices = plutocracy_report_data['Aave'][plutocracy_report_data['Aave']['proposal_id'] == '0xf6da417983653f7e7f5560a8e16ad77d5e25533bba9157abfd222347b40d09d0'].iloc[0]['proposal_choices']\n",
    "mask = score_differences_dfs[\"Aave\"].index.to_series().apply(\n",
    "    lambda s: \"0xf6da417\" in s,\n",
    ")\n",
    "proposal_score_differences = score_differences_dfs[\"Aave\"].loc[mask][\"score_differences\"][0]\n",
    "proposal_scores = plutocracy_report_data['Aave'][plutocracy_report_data['Aave']['proposal_id'] == '0xf6da417983653f7e7f5560a8e16ad77d5e25533bba9157abfd222347b40d09d0'].iloc[0]['proposal_scores']\n",
    "\n",
    "\n",
    "result = pd.DataFrame(\n",
    "    {choice: [score, score_diff, score - score_diff] for choice, score, score_diff in zip(eval(propsal_choices), eval(proposal_scores), proposal_score_differences)},\n",
    "    index=[\"Scores\", \"Whale-only Scores\", \"Non-whale Scores\"],\n",
    ")\n",
    "\n",
    "result"
   ]
  },
  {
   "attachments": {},
   "cell_type": "markdown",
   "metadata": {},
   "source": [
    "#### Safety Module upgrade to v1.5\n",
    "\n",
    "**Proposal ID**: [0x743ae60](https://snapshot.org/#/aave.eth/proposal/0x743ae6001bb0fdfa9a8c4475a2489c20917a79084725f0101ac7c1e7f0cf27c6)\n",
    "\n",
    "**Start Date**: 15/03/23\n",
    "**End Date**: 20/03/23\n",
    "\n",
    "**Voting System**: Single Choice Voting\n",
    "\n",
    "\n",
    "**Voting Strategies**:\n",
    "- aAAVE\n",
    "- AAVE + stkAAVE\n",
    "- Matic AAVE + amAAVE\n",
    "- AAVE in stkBPT (Balancer Pool Token)"
   ]
  },
  {
   "attachments": {},
   "cell_type": "markdown",
   "metadata": {},
   "source": [
    "A proposal to gauge the community's sentiments on upgrading the Safety Module smart contracts (stkAAVE, stkABPT) to v1.5. The outcome of this proposal did not change after filtering out whales."
   ]
  },
  {
   "cell_type": "code",
   "execution_count": 17,
   "metadata": {
    "tags": [
     "remove-input",
     "full-width"
    ]
   },
   "outputs": [
    {
     "data": {
      "text/html": [
       "<div>\n",
       "<style scoped>\n",
       "    .dataframe tbody tr th:only-of-type {\n",
       "        vertical-align: middle;\n",
       "    }\n",
       "\n",
       "    .dataframe tbody tr th {\n",
       "        vertical-align: top;\n",
       "    }\n",
       "\n",
       "    .dataframe thead th {\n",
       "        text-align: right;\n",
       "    }\n",
       "</style>\n",
       "<table border=\"1\" class=\"dataframe\">\n",
       "  <thead>\n",
       "    <tr style=\"text-align: right;\">\n",
       "      <th></th>\n",
       "      <th>YES</th>\n",
       "      <th>NO</th>\n",
       "      <th>ABSTAIN</th>\n",
       "    </tr>\n",
       "  </thead>\n",
       "  <tbody>\n",
       "    <tr>\n",
       "      <th>Scores</th>\n",
       "      <td>728927.638707</td>\n",
       "      <td>34.541017</td>\n",
       "      <td>32.507649</td>\n",
       "    </tr>\n",
       "    <tr>\n",
       "      <th>Whale-only Scores</th>\n",
       "      <td>572570.468097</td>\n",
       "      <td>31.963758</td>\n",
       "      <td>3.550356</td>\n",
       "    </tr>\n",
       "    <tr>\n",
       "      <th>Non-whale Scores</th>\n",
       "      <td>156357.170609</td>\n",
       "      <td>2.577259</td>\n",
       "      <td>28.957293</td>\n",
       "    </tr>\n",
       "  </tbody>\n",
       "</table>\n",
       "</div>"
      ],
      "text/plain": [
       "                             YES         NO    ABSTAIN\n",
       "Scores             728927.638707  34.541017  32.507649\n",
       "Whale-only Scores  572570.468097  31.963758   3.550356\n",
       "Non-whale Scores   156357.170609   2.577259  28.957293"
      ]
     },
     "execution_count": 17,
     "metadata": {},
     "output_type": "execute_result"
    }
   ],
   "source": [
    "propsal_choices = plutocracy_report_data['Aave'][plutocracy_report_data['Aave']['proposal_id'] == '0x743ae6001bb0fdfa9a8c4475a2489c20917a79084725f0101ac7c1e7f0cf27c6'].iloc[0]['proposal_choices']\n",
    "mask = score_differences_dfs[\"Aave\"].index.to_series().apply(\n",
    "    lambda s: \"0x743ae60\" in s,\n",
    ")\n",
    "proposal_score_differences = score_differences_dfs[\"Aave\"].loc[mask][\"score_differences\"][0]\n",
    "proposal_scores = plutocracy_report_data['Aave'][plutocracy_report_data['Aave']['proposal_id'] == '0x743ae6001bb0fdfa9a8c4475a2489c20917a79084725f0101ac7c1e7f0cf27c6'].iloc[0]['proposal_scores']\n",
    "\n",
    "pd.DataFrame(\n",
    "    {choice: [score, score_diff, score - score_diff] for choice, score, score_diff in zip(eval(propsal_choices), eval(proposal_scores), proposal_score_differences)},\n",
    "    index=[\"Scores\", \"Whale-only Scores\", \"Non-whale Scores\"],\n",
    ")"
   ]
  },
  {
   "attachments": {},
   "cell_type": "markdown",
   "metadata": {},
   "source": [
    "#### [ARC] Community Preference for V3 Migration Levers\n",
    "\n",
    "**Proposal ID**: [0x2eca177](https://snapshot.org/#/aave.eth/proposal/0x2eca177d50449f541586d4816d27022b73417952f8c5996d99f500cf0c7ec1c3)\n",
    "\n",
    "**Start Date**: 27/03/23\n",
    "**End Date**: 05/04/23\n",
    "\n",
    "**Voting System**: Approval Voting\n",
    "\n",
    "\n",
    "**Voting Strategies**:\n",
    "- aAAVE\n",
    "- AAVE + stkAAVE\n",
    "- Matic AAVE + amAAVE\n",
    "- AAVE in stkBPT (Balancer Pool Token)\n",
    "\n"
   ]
  },
  {
   "attachments": {},
   "cell_type": "markdown",
   "metadata": {},
   "source": [
    "The analysis for this proposal is not yet ready to be published."
   ]
  },
  {
   "cell_type": "code",
   "execution_count": 18,
   "metadata": {
    "tags": [
     "remove-input",
     "full-width"
    ]
   },
   "outputs": [],
   "source": [
    "propsal_choices = plutocracy_report_data['Aave'][plutocracy_report_data['Aave']['proposal_id'] == '0x2eca177d50449f541586d4816d27022b73417952f8c5996d99f500cf0c7ec1c3'].iloc[0]['proposal_choices']\n",
    "mask = score_differences_dfs[\"Aave\"].index.to_series().apply(\n",
    "    lambda s: \"0x2eca177\" in s,\n",
    ")\n",
    "proposal_score_differences = score_differences_dfs[\"Aave\"].loc[mask][\"score_differences\"][0]\n",
    "proposal_scores = plutocracy_report_data['Aave'][plutocracy_report_data['Aave']['proposal_id'] == '0x2eca177d50449f541586d4816d27022b73417952f8c5996d99f500cf0c7ec1c3'].iloc[0]['proposal_scores']\n",
    "\n",
    "\n",
    "result = pd.DataFrame(\n",
    "    {choice: [score, score_diff, score_diff - score] for choice, score, score_diff in zip(eval(propsal_choices), eval(proposal_scores), proposal_score_differences)},\n",
    "    index=[\"Scores\", \"Whale-only Scores\", \"Non-whale Scores\"],\n",
    ")\n"
   ]
  },
  {
   "attachments": {},
   "cell_type": "markdown",
   "metadata": {},
   "source": [
    "#### Deploy Aave V3 to Metis Andromeda Mainnet\n",
    "\n",
    "**Proposal ID**: [0x7e6175c](https://snapshot.org/#/aave.eth/proposal/0x7e6175c21342dbd88dc5b0dabf2d0a86339e3ef3f199fc7d778a9a6f05ed0df9)\n",
    "\n",
    "**Start Date**: 17/03/23\n",
    "**End Date**: 23/03/23\n",
    "\n",
    "**Voting System**: Single Choice Voting\n",
    "\n",
    "\n",
    "**Voting Strategies**:\n",
    "- aAAVE\n",
    "- AAVE + stkAAVE\n",
    "- Matic AAVE + amAAVE\n",
    "- AAVE in stkBPT (Balancer Pool Token)\n",
    "\n"
   ]
  },
  {
   "attachments": {},
   "cell_type": "markdown",
   "metadata": {},
   "source": [
    "This is a proposal to gauge the community's sentiments to deploy Aave V3 to the Metis \"Andromeda\" Mainnet. The outcome of this proposal did not change after filtering out whales."
   ]
  },
  {
   "cell_type": "code",
   "execution_count": 19,
   "metadata": {
    "tags": [
     "remove-input",
     "full-width"
    ]
   },
   "outputs": [
    {
     "data": {
      "text/html": [
       "<div>\n",
       "<style scoped>\n",
       "    .dataframe tbody tr th:only-of-type {\n",
       "        vertical-align: middle;\n",
       "    }\n",
       "\n",
       "    .dataframe tbody tr th {\n",
       "        vertical-align: top;\n",
       "    }\n",
       "\n",
       "    .dataframe thead th {\n",
       "        text-align: right;\n",
       "    }\n",
       "</style>\n",
       "<table border=\"1\" class=\"dataframe\">\n",
       "  <thead>\n",
       "    <tr style=\"text-align: right;\">\n",
       "      <th></th>\n",
       "      <th>YAE</th>\n",
       "      <th>NAY</th>\n",
       "      <th>ABSTAIN</th>\n",
       "    </tr>\n",
       "  </thead>\n",
       "  <tbody>\n",
       "    <tr>\n",
       "      <th>Scores</th>\n",
       "      <td>555698.763981</td>\n",
       "      <td>162135.341400</td>\n",
       "      <td>140.725517</td>\n",
       "    </tr>\n",
       "    <tr>\n",
       "      <th>Whale-only Scores</th>\n",
       "      <td>133249.462649</td>\n",
       "      <td>161953.210564</td>\n",
       "      <td>137.650972</td>\n",
       "    </tr>\n",
       "    <tr>\n",
       "      <th>Non-whale Scores</th>\n",
       "      <td>422449.301332</td>\n",
       "      <td>182.130836</td>\n",
       "      <td>3.074545</td>\n",
       "    </tr>\n",
       "  </tbody>\n",
       "</table>\n",
       "</div>"
      ],
      "text/plain": [
       "                             YAE            NAY     ABSTAIN\n",
       "Scores             555698.763981  162135.341400  140.725517\n",
       "Whale-only Scores  133249.462649  161953.210564  137.650972\n",
       "Non-whale Scores   422449.301332     182.130836    3.074545"
      ]
     },
     "execution_count": 19,
     "metadata": {},
     "output_type": "execute_result"
    }
   ],
   "source": [
    "propsal_choices = plutocracy_report_data['Aave'][plutocracy_report_data['Aave']['proposal_id'] == '0x7e6175c21342dbd88dc5b0dabf2d0a86339e3ef3f199fc7d778a9a6f05ed0df9'].iloc[0]['proposal_choices']\n",
    "mask = score_differences_dfs[\"Aave\"].index.to_series().apply(\n",
    "    lambda s: \"0x7e6175c\" in s,\n",
    ")\n",
    "proposal_score_differences = score_differences_dfs[\"Aave\"].loc[mask][\"score_differences\"][0]\n",
    "proposal_scores = plutocracy_report_data['Aave'][plutocracy_report_data['Aave']['proposal_id'] == '0x7e6175c21342dbd88dc5b0dabf2d0a86339e3ef3f199fc7d778a9a6f05ed0df9'].iloc[0]['proposal_scores']\n",
    "pd.DataFrame(\n",
    "    {choice: [score, score_diff, score - score_diff] for choice, score, score_diff in zip(eval(propsal_choices), eval(proposal_scores), proposal_score_differences)},\n",
    "    index=[\"Scores\", \"Whale-only Scores\", \"Non-whale Scores\"],\n",
    ")"
   ]
  },
  {
   "attachments": {},
   "cell_type": "markdown",
   "metadata": {},
   "source": [
    "#### Chaos Labs Risk Parameter Updates - Aave V3 Arbitrum - 2023.02.20\n",
    "\n",
    "**Proposal ID**: [0x7fa9944](https://snapshot.org/#/aave.eth/proposal/0x7fa9944e6866ab6dafcebdf1536655faf5a5ba0adc36e6df467702f7ae096c17)\n",
    "\n",
    "**Start Date**: 25/02/23\n",
    "**End Date**: 01/03/23\n",
    "\n",
    "**Voting System**: Single Choice Voting\n",
    "\n",
    "\n",
    "**Voting Strategies**:\n",
    "- aAAVE\n",
    "- AAVE + stkAAVE\n",
    "- Matic AAVE + amAAVE\n",
    "- AAVE in stkBPT (Balancer Pool Token)\n",
    "\n"
   ]
  },
  {
   "cell_type": "markdown",
   "metadata": {},
   "source": [
    "This is a proposal to adjust all nine risk parameters for four Aave V3 assets on Arbitrum. The outcome of this proposal did not change after filtering out whales. "
   ]
  },
  {
   "cell_type": "code",
   "execution_count": 20,
   "metadata": {
    "tags": [
     "remove-input",
     "full-width"
    ]
   },
   "outputs": [
    {
     "data": {
      "text/html": [
       "<div>\n",
       "<style scoped>\n",
       "    .dataframe tbody tr th:only-of-type {\n",
       "        vertical-align: middle;\n",
       "    }\n",
       "\n",
       "    .dataframe tbody tr th {\n",
       "        vertical-align: top;\n",
       "    }\n",
       "\n",
       "    .dataframe thead th {\n",
       "        text-align: right;\n",
       "    }\n",
       "</style>\n",
       "<table border=\"1\" class=\"dataframe\">\n",
       "  <thead>\n",
       "    <tr style=\"text-align: right;\">\n",
       "      <th></th>\n",
       "      <th>YAE</th>\n",
       "      <th>NAE</th>\n",
       "      <th>Abastain</th>\n",
       "    </tr>\n",
       "  </thead>\n",
       "  <tbody>\n",
       "    <tr>\n",
       "      <th>Scores</th>\n",
       "      <td>687137.995655</td>\n",
       "      <td>237.064747</td>\n",
       "      <td>1126.592836</td>\n",
       "    </tr>\n",
       "    <tr>\n",
       "      <th>Whale-only Scores</th>\n",
       "      <td>686603.505151</td>\n",
       "      <td>222.546671</td>\n",
       "      <td>1118.761185</td>\n",
       "    </tr>\n",
       "    <tr>\n",
       "      <th>Non-whale Scores</th>\n",
       "      <td>534.490504</td>\n",
       "      <td>14.518076</td>\n",
       "      <td>7.831651</td>\n",
       "    </tr>\n",
       "  </tbody>\n",
       "</table>\n",
       "</div>"
      ],
      "text/plain": [
       "                             YAE         NAE     Abastain\n",
       "Scores             687137.995655  237.064747  1126.592836\n",
       "Whale-only Scores  686603.505151  222.546671  1118.761185\n",
       "Non-whale Scores      534.490504   14.518076     7.831651"
      ]
     },
     "execution_count": 20,
     "metadata": {},
     "output_type": "execute_result"
    }
   ],
   "source": [
    "propsal_choices = plutocracy_report_data['Aave'][plutocracy_report_data['Aave']['proposal_id'] == '0x7fa9944e6866ab6dafcebdf1536655faf5a5ba0adc36e6df467702f7ae096c17'].iloc[0]['proposal_choices']\n",
    "mask = score_differences_dfs[\"Aave\"].index.to_series().apply(\n",
    "    lambda s: \"0x7fa9944\" in s,\n",
    ")\n",
    "proposal_score_differences = score_differences_dfs[\"Aave\"].loc[mask][\"score_differences\"][0]\n",
    "proposal_scores = plutocracy_report_data['Aave'][plutocracy_report_data['Aave']['proposal_id'] == '0x7fa9944e6866ab6dafcebdf1536655faf5a5ba0adc36e6df467702f7ae096c17'].iloc[0]['proposal_scores']\n",
    "pd.DataFrame(\n",
    "    {choice: [score, score_diff, score - score_diff] for choice, score, score_diff in zip(eval(propsal_choices), eval(proposal_scores), proposal_score_differences)},\n",
    "    index=[\"Scores\", \"Whale-only Scores\", \"Non-whale Scores\"],\n",
    ")"
   ]
  }
 ],
 "metadata": {
  "celltoolbar": "Tags",
  "kernelspec": {
   "display_name": "Python 3",
   "language": "python",
   "name": "python3"
  },
  "language_info": {
   "codemirror_mode": {
    "name": "ipython",
    "version": 3
   },
   "file_extension": ".py",
   "mimetype": "text/x-python",
   "name": "python",
   "nbconvert_exporter": "python",
   "pygments_lexer": "ipython3",
   "version": "3.10.9"
  },
  "vscode": {
   "interpreter": {
    "hash": "b4359820d3e15fa2519172d213623b0fd17349031edfcca628c1a3eb80849618"
   }
  }
 },
 "nbformat": 4,
 "nbformat_minor": 2
}
