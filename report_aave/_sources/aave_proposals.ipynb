{
 "cells": [
  {
   "attachments": {},
   "cell_type": "markdown",
   "metadata": {},
   "source": [
    "# Whale Pivotality in Aave top Snapshot proposals"
   ]
  },
  {
   "cell_type": "code",
   "execution_count": 1,
   "metadata": {
    "tags": [
     "remove-input"
    ]
   },
   "outputs": [],
   "source": [
    "# sets up the pynb environment\n",
    "from datetime import datetime\n",
    "from zoneinfo import ZoneInfo\n",
    "import os\n",
    "import sys\n",
    "\n",
    "from IPython.display import HTML\n",
    "import pandas as pd\n",
    "\n",
    "module_path = os.path.abspath(os.path.join(\"..\"))\n",
    "if module_path not in sys.path:\n",
    "    sys.path.append(module_path)\n",
    "\n",
    "from stages.dataframe_filters.data_processing.statistics import (\n",
    "    get_number_of_whales_to_all_voters_ratio,\n",
    "    get_score_comparisons,\n",
    ")"
   ]
  },
  {
   "cell_type": "code",
   "execution_count": 2,
   "metadata": {
    "tags": [
     "remove-input"
    ]
   },
   "outputs": [
    {
     "name": "stdout",
     "output_type": "stream",
     "text": [
      "Last updated on 2023-04-21\n"
     ]
    }
   ],
   "source": [
    "print(f\"Last updated on {datetime.now(ZoneInfo('UTC')).date()}\")"
   ]
  },
  {
   "attachments": {},
   "cell_type": "markdown",
   "metadata": {},
   "source": [
    "This article is part of a series of reports that aims to determine the impact of large token holders (whales) on DAO governance.\n",
    "\n",
    "We take a look at the top 10 Aave Snapshot proposals ranked by voting power and voter count, including the first Butter Aave Elections.\n",
    "\n",
    "We compare their voter turnout and pivotality metric (a measure of whale influence, described in our previous [Mirror article](https://mirror.xyz/butterd.eth/_VrHsBXZU0IYuIUMq0ifJTffvH0e1AKNh6I-BIV3Nc4) and [data report](https://butterymoney.github.io/gov_analysis/report/plutocracy_report.html))."
   ]
  },
  {
   "cell_type": "code",
   "execution_count": 3,
   "metadata": {
    "tags": [
     "remove-input"
    ]
   },
   "outputs": [],
   "source": [
    "all_organization_proposals = pd.read_csv(\n",
    "    \"../plutocracy_data/full_report/Aave_report.csv.gzip\",\n",
    "    engine=\"c\",\n",
    "    low_memory=False,\n",
    "    compression='gzip',\n",
    ")\n",
    "all_organization_proposals_filtered = pd.read_csv(\n",
    "    \"../plutocracy_data/full_report/Aave_report_filtered.csv.gzip\",\n",
    "    engine=\"c\",\n",
    "    low_memory=False,\n",
    "    compression='gzip',\n",
    ")\n"
   ]
  },
  {
   "cell_type": "code",
   "execution_count": 4,
   "metadata": {
    "tags": [
     "remove-input"
    ]
   },
   "outputs": [],
   "source": [
    "def to_organization_map(flat_organization_dataframe: pd.DataFrame):\n",
    "    return {\n",
    "        organization_name: proposal_df\n",
    "        for organization_name, proposal_df in [\n",
    "            (str(organization_name), space_proposals)\n",
    "            for organization_name, space_proposals in flat_organization_dataframe.groupby(\n",
    "                \"proposal_organization_name\"\n",
    "            )\n",
    "        ]\n",
    "    }\n",
    "\n",
    "plutocracy_report_data = to_organization_map(all_organization_proposals)\n",
    "plutocracy_report_data_filtered = to_organization_map(all_organization_proposals_filtered)\n"
   ]
  },
  {
   "cell_type": "code",
   "execution_count": 5,
   "metadata": {
    "tags": [
     "remove-input"
    ]
   },
   "outputs": [],
   "source": [
    "pd.set_option(\"display.max_rows\", int(1e3))\n",
    "score_differences = get_score_comparisons(\n",
    "    plutocracy_report_data, plutocracy_report_data_filtered\n",
    ")"
   ]
  },
  {
   "cell_type": "code",
   "execution_count": 6,
   "metadata": {
    "tags": [
     "remove-input"
    ]
   },
   "outputs": [],
   "source": [
    "score_differences_dfs: dict[str, pd.DataFrame] = dict()\n",
    "\n",
    "initial_series_data = {\n",
    "    organization: 0\n",
    "    for organization in plutocracy_report_data.keys()\n",
    "}\n",
    "changed_outcome_proportions = pd.Series(initial_series_data, name=\"changed outcomes %\")\n",
    "\n",
    "for score_difference in score_differences:\n",
    "    for organization, data in score_difference.items():\n",
    "        data: dict[str, list] = data\n",
    "        items = data.items()\n",
    "        score_differences_dfs[organization] = pd.DataFrame(\n",
    "            [score_data for _, score_data in items],\n",
    "            index=pd.Index(\n",
    "                ([id for id, _ in items]), name=\"Proposal\"\n",
    "            ),\n",
    "            columns=[\n",
    "                \"proposal_id\",\n",
    "                \"Title\",\n",
    "                \"Date Started\",\n",
    "                \"Date Ended\",\n",
    "                \"score_differences\",\n",
    "                \"whale_vp_proportion\",\n",
    "                \"total_vp\",\n",
    "                \"outcome_changed\",\n",
    "                \"Result\",\n",
    "                \"Result w/o Whales\"\n",
    "            ],\n",
    "        ).astype({\"total_vp\": \"float64\"}, copy=False\n",
    "        ).sort_values([\"total_vp\"], ascending=False)\n",
    "\n",
    "        changed_outcome_proportions[organization] = score_differences_dfs[organization][\"outcome_changed\"].value_counts(normalize=True)[True]\n",
    "\n",
    "        score_differences_dfs[organization].drop(\"outcome_changed\", axis=1, inplace=True)\n",
    "\n",
    "        score_differences_dfs[organization][\"Date Started\"] = pd.to_datetime(score_differences_dfs[organization][\"Date Started\"], utc=True, unit=\"s\").dt.strftime(\"%d/%m/%y\")\n",
    "        score_differences_dfs[organization][\"Date Ended\"] = pd.to_datetime(score_differences_dfs[organization][\"Date Ended\"], utc=True, unit=\"s\").dt.strftime(\"%d/%m/%y\")\n",
    "\n",
    "        organization_id = plutocracy_report_data[organization].iloc[0][\"proposal_organization_id\"]\n",
    "\n",
    "        score_differences_dfs[organization][\"total_vp\"] = score_differences_dfs[\n",
    "            organization\n",
    "        ][\"total_vp\"].apply(\"{:.9f}\".format)\n",
    "\n",
    "        score_differences_dfs[organization][\"Title\"] = score_differences_dfs[organization].apply(\n",
    "            lambda row: f'<a href=http://snapshot.org/#/{organization_id}/proposal/{row.name} rel=\"noopener noreferrer\" target=\"_blank\">{row[\"Title\"]}</a>',\n",
    "            axis=1\n",
    "        )\n",
    "        score_differences_dfs[organization].style.format({\"whale_vp_proportion\": \"{:.2%}\".format})\n",
    "changed_outcome_proportions = changed_outcome_proportions.apply(\n",
    "    lambda proportion: \"{:.2%}\".format(proportion)\n",
    ")"
   ]
  },
  {
   "cell_type": "code",
   "execution_count": 7,
   "metadata": {
    "tags": [
     "remove-input",
     "remove-output"
    ]
   },
   "outputs": [],
   "source": [
    "voting_ratios = get_number_of_whales_to_all_voters_ratio(\n",
    "    plutocracy_report_data, plutocracy_report_data_filtered\n",
    ")\n"
   ]
  },
  {
   "attachments": {},
   "cell_type": "markdown",
   "metadata": {},
   "source": [
    "## Synthesis\n",
    "\n",
    "Show the percentage of proposals whose outcome changes if whales did not vote (i.e. *whale pivotality*)."
   ]
  },
  {
   "cell_type": "code",
   "execution_count": 8,
   "metadata": {
    "tags": [
     "remove-input"
    ]
   },
   "outputs": [
    {
     "data": {
      "text/html": [
       "<div>\n",
       "<style scoped>\n",
       "    .dataframe tbody tr th:only-of-type {\n",
       "        vertical-align: middle;\n",
       "    }\n",
       "\n",
       "    .dataframe tbody tr th {\n",
       "        vertical-align: top;\n",
       "    }\n",
       "\n",
       "    .dataframe thead th {\n",
       "        text-align: right;\n",
       "    }\n",
       "</style>\n",
       "<table border=\"1\" class=\"dataframe\">\n",
       "  <thead>\n",
       "    <tr style=\"text-align: right;\">\n",
       "      <th></th>\n",
       "      <th># of whales</th>\n",
       "      <th>all voters</th>\n",
       "      <th>changed outcomes %</th>\n",
       "    </tr>\n",
       "    <tr>\n",
       "      <th>DAO</th>\n",
       "      <th></th>\n",
       "      <th></th>\n",
       "      <th></th>\n",
       "    </tr>\n",
       "  </thead>\n",
       "  <tbody>\n",
       "    <tr>\n",
       "      <th>Aave</th>\n",
       "      <td>1438</td>\n",
       "      <td>42586</td>\n",
       "      <td>9.33%</td>\n",
       "    </tr>\n",
       "  </tbody>\n",
       "</table>\n",
       "</div>"
      ],
      "text/plain": [
       "      # of whales  all voters changed outcomes %\n",
       "DAO                                             \n",
       "Aave         1438       42586              9.33%"
      ]
     },
     "execution_count": 8,
     "metadata": {},
     "output_type": "execute_result"
    }
   ],
   "source": [
    "dao_overview = pd.DataFrame(\n",
    "    [list(result.items())[0][1] for result in voting_ratios],\n",
    "    columns=[\n",
    "        \"# of whales\",\n",
    "        \"all voters\",\n",
    "    ],\n",
    ")\n",
    "dao_overview.set_index(\n",
    "    pd.Index([list(result.items())[0][0] for result in voting_ratios], name=\"DAO\"),\n",
    "    inplace=True\n",
    ")\n",
    "\n",
    "dao_overview.insert(2, changed_outcome_proportions.name, changed_outcome_proportions)\n",
    "dao_overview"
   ]
  },
  {
   "attachments": {},
   "cell_type": "markdown",
   "metadata": {},
   "source": [
    "## Comparison of the Top 10 Proposals"
   ]
  },
  {
   "cell_type": "code",
   "execution_count": 33,
   "metadata": {
    "tags": [
     "remove-input",
     "full-width"
    ]
   },
   "outputs": [
    {
     "data": {
      "text/html": [
       "<table border=\"1\" class=\"dataframe\">\n",
       "  <thead>\n",
       "    <tr style=\"text-align: right;\">\n",
       "      <th></th>\n",
       "      <th>Date Started</th>\n",
       "      <th>Date Ended</th>\n",
       "      <th>Result</th>\n",
       "      <th>Result w/o Whales</th>\n",
       "    </tr>\n",
       "    <tr>\n",
       "      <th>Proposal</th>\n",
       "      <th></th>\n",
       "      <th></th>\n",
       "      <th></th>\n",
       "      <th></th>\n",
       "    </tr>\n",
       "  </thead>\n",
       "  <tbody>\n",
       "    <tr>\n",
       "      <th><a href=http://snapshot.org/#/aave.eth/proposal/0xf6da417983653f7e7f5560a8e16ad77d5e25533bba9157abfd222347b40d09d0 rel=\"noopener noreferrer\" target=\"_blank\">[TEMP CHECK] Incentivized Delegate Campaign (3-month)</a></th>\n",
       "      <td>03/04/23</td>\n",
       "      <td>10/04/23</td>\n",
       "      <td>TokenLogic</td>\n",
       "      <td>Blockworks Research</td>\n",
       "    </tr>\n",
       "    <tr>\n",
       "      <th><a href=http://snapshot.org/#/aave.eth/proposal/0xde90f4d29c4c5dd55cba023b29bdde8c49e37f70c3398668a78e2f173a61b4e6 rel=\"noopener noreferrer\" target=\"_blank\">[TEMP CHECK] - Launch Aave V3 on Starknet</a></th>\n",
       "      <td>03/04/23</td>\n",
       "      <td>10/04/23</td>\n",
       "      <td>YEA</td>\n",
       "      <td>YEA</td>\n",
       "    </tr>\n",
       "    <tr>\n",
       "      <th><a href=http://snapshot.org/#/aave.eth/proposal/0x84deca82139320b2570f04211b249e37b8a7602b4a0ed70e6fa772c9f6e94550 rel=\"noopener noreferrer\" target=\"_blank\">[ARC] E-Mode Parameter Changes for V3 Avalanche, Optimism, Polygon, and Arbitrum </a></th>\n",
       "      <td>05/04/23</td>\n",
       "      <td>12/04/23</td>\n",
       "      <td>Option 3</td>\n",
       "      <td>Option 3</td>\n",
       "    </tr>\n",
       "    <tr>\n",
       "      <th><a href=http://snapshot.org/#/aave.eth/proposal/0xc17bc863a09c72152c1ac25d09fcee4748b58eb2e10e70886e20e77ad4d8fad0 rel=\"noopener noreferrer\" target=\"_blank\">[TEMP CHECK] - Whitelist Stargate for V3 Portals</a></th>\n",
       "      <td>13/04/23</td>\n",
       "      <td>18/04/23</td>\n",
       "      <td>YAE</td>\n",
       "      <td>YAE</td>\n",
       "    </tr>\n",
       "    <tr>\n",
       "      <th><a href=http://snapshot.org/#/aave.eth/proposal/0x743ae6001bb0fdfa9a8c4475a2489c20917a79084725f0101ac7c1e7f0cf27c6 rel=\"noopener noreferrer\" target=\"_blank\">Safety Module upgrade to v1.5</a></th>\n",
       "      <td>15/03/23</td>\n",
       "      <td>20/03/23</td>\n",
       "      <td>YES</td>\n",
       "      <td>YES</td>\n",
       "    </tr>\n",
       "    <tr>\n",
       "      <th><a href=http://snapshot.org/#/aave.eth/proposal/0x7e6175c21342dbd88dc5b0dabf2d0a86339e3ef3f199fc7d778a9a6f05ed0df9 rel=\"noopener noreferrer\" target=\"_blank\">Deploy Aave V3 to Metis Andromeda Mainnet</a></th>\n",
       "      <td>17/03/23</td>\n",
       "      <td>23/03/23</td>\n",
       "      <td>YAE</td>\n",
       "      <td>YAE</td>\n",
       "    </tr>\n",
       "    <tr>\n",
       "      <th><a href=http://snapshot.org/#/aave.eth/proposal/0xf4aec3fbab5096752be96f0e5b522f37318c1902cf8b897b049b7a94d478de73 rel=\"noopener noreferrer\" target=\"_blank\">[ARFC] Add MKR to Ethereum v3</a></th>\n",
       "      <td>08/03/23</td>\n",
       "      <td>13/03/23</td>\n",
       "      <td>YAE</td>\n",
       "      <td>YAE</td>\n",
       "    </tr>\n",
       "    <tr>\n",
       "      <th><a href=http://snapshot.org/#/aave.eth/proposal/0x46cf72da892eb216edc1b7fe2f24f7491d8c37344b2b1f67632fa6950be034f7 rel=\"noopener noreferrer\" target=\"_blank\">[TEMP CHECK] Aave V3 Deployment on zkSync Era Mainnet</a></th>\n",
       "      <td>12/04/23</td>\n",
       "      <td>15/04/23</td>\n",
       "      <td>YAE</td>\n",
       "      <td>YAE</td>\n",
       "    </tr>\n",
       "    <tr>\n",
       "      <th><a href=http://snapshot.org/#/aave.eth/proposal/0x4579b562a4ea07c52871f724a8baf156514a97384e9427156d04fb6f0ae91515 rel=\"noopener noreferrer\" target=\"_blank\">[TEMP CHECK] Aave V3 deployment on BNB Chain</a></th>\n",
       "      <td>29/03/23</td>\n",
       "      <td>01/04/23</td>\n",
       "      <td>YAE</td>\n",
       "      <td>YAE</td>\n",
       "    </tr>\n",
       "    <tr>\n",
       "      <th><a href=http://snapshot.org/#/aave.eth/proposal/0xd8a400fc731b6e807f4d89aa1fa47225f0dfaaa8fc49ef04b46b11b98fbfa15f rel=\"noopener noreferrer\" target=\"_blank\">[ARFC] Grant OP Emission_Admin for Optimism v3 Liquidity Pool to Lido DAO</a></th>\n",
       "      <td>08/03/23</td>\n",
       "      <td>13/03/23</td>\n",
       "      <td>YAE</td>\n",
       "      <td>YAE</td>\n",
       "    </tr>\n",
       "  </tbody>\n",
       "</table>"
      ],
      "text/plain": [
       "<IPython.core.display.HTML object>"
      ]
     },
     "execution_count": 33,
     "metadata": {},
     "output_type": "execute_result"
    }
   ],
   "source": [
    "top_10_list = [\n",
    "    \"0xf6da417983653f7e7f5560a8e16ad77d5e25533bba9157abfd222347b40d09d0\",\n",
    "    \"0xde90f4d29c4c5dd55cba023b29bdde8c49e37f70c3398668a78e2f173a61b4e6\",\n",
    "    \"0x84deca82139320b2570f04211b249e37b8a7602b4a0ed70e6fa772c9f6e94550\",\n",
    "    \"0xc17bc863a09c72152c1ac25d09fcee4748b58eb2e10e70886e20e77ad4d8fad0\",\n",
    "    \"0x743ae6001bb0fdfa9a8c4475a2489c20917a79084725f0101ac7c1e7f0cf27c6\",\n",
    "    \"0x7e6175c21342dbd88dc5b0dabf2d0a86339e3ef3f199fc7d778a9a6f05ed0df9\",\n",
    "    \"0xf4aec3fbab5096752be96f0e5b522f37318c1902cf8b897b049b7a94d478de73\",\n",
    "    \"0x46cf72da892eb216edc1b7fe2f24f7491d8c37344b2b1f67632fa6950be034f7\",\n",
    "    \"0x4579b562a4ea07c52871f724a8baf156514a97384e9427156d04fb6f0ae91515\",\n",
    "    \"0xd8a400fc731b6e807f4d89aa1fa47225f0dfaaa8fc49ef04b46b11b98fbfa15f\",\n",
    "]  # credit @wwinter 🧈\n",
    "\n",
    "mask = score_differences_dfs[\"Aave\"].index.to_series().apply(\n",
    "    lambda row: row in top_10_list\n",
    ")\n",
    "\n",
    "score_differences_dfs[\"Aave\"] = score_differences_dfs[\"Aave\"].loc[mask]\n",
    "proposal_ids = score_differences_dfs[\"Aave\"][\"proposal_id\"]\n",
    "proposal_ids = pd.Categorical(proposal_ids, top_10_list)\n",
    "\n",
    "score_differences_dfs[\"Aave\"] = score_differences_dfs[\"Aave\"].loc[proposal_ids]\n",
    "score_differences_dfs[\"Aave\"][\"proposal_id\"] = proposal_ids\n",
    "score_differences_dfs[\"Aave\"] = score_differences_dfs[\"Aave\"].loc[proposal_ids].sort_values(\"proposal_id\")\n",
    "\n",
    "HTML(\n",
    "    score_differences_dfs[\"Aave\"]\n",
    "    .rename(lambda index: score_differences_dfs[\"Aave\"].loc[index][\"Title\"])\n",
    "    .drop([\"score_differences\", \"total_vp\", \"whale_vp_proportion\", \"Title\", \"proposal_id\"], axis=1)\n",
    "    .to_html(render_links=True, escape=False)\n",
    ")\n"
   ]
  },
  {
   "attachments": {},
   "cell_type": "markdown",
   "metadata": {},
   "source": [
    "<sup>Source for proposal list: https://dune.com/butterd/aave-top-10-snapshot-proposals</sup>"
   ]
  },
  {
   "attachments": {},
   "cell_type": "markdown",
   "metadata": {},
   "source": [
    "### Proportion of Outcomes Changed"
   ]
  },
  {
   "cell_type": "code",
   "execution_count": 10,
   "metadata": {
    "tags": [
     "remove-input",
     "full-width"
    ]
   },
   "outputs": [
    {
     "name": "stdout",
     "output_type": "stream",
     "text": [
      "9.33% of Aave's proposal outcomes (of the 150 sampled) change after filtering out whale voting power.\n"
     ]
    }
   ],
   "source": [
    "print(f\"{changed_outcome_proportions['Aave']} of Aave's proposal outcomes (of the 150 sampled) change after filtering out whale voting power.\")"
   ]
  },
  {
   "cell_type": "markdown",
   "metadata": {},
   "source": [
    "---"
   ]
  },
  {
   "attachments": {},
   "cell_type": "markdown",
   "metadata": {},
   "source": [
    "Case Studies\n",
    "---"
   ]
  },
  {
   "attachments": {},
   "cell_type": "markdown",
   "metadata": {},
   "source": [
    "#### [TEMP CHECK] Incentivized Delegate Campaign (3-month)\n",
    "\n",
    "Aka the first Butter'd Aave Election.\n",
    "\n",
    "**Proposal ID**: [0xf6da417](https://snapshot.org/#/aave.eth/proposal/0xf6da417983653f7e7f5560a8e16ad77d5e25533bba9157abfd222347b40d09d0)\n",
    "\n",
    "**Start Date**: 03/04/23\n",
    "**End Date**: 10/04/23\n",
    "\n",
    "**Voting System**: Weighted Voting\n",
    "\n",
    "**Voting Strategies**:\n",
    "- aAAVE\n",
    "- AAVE + stkAAVE\n",
    "- Matic AAVE + amAAVE\n",
    "- AAVE in stkBPT (Balancer Pool Token)\n",
    "\n"
   ]
  },
  {
   "attachments": {},
   "cell_type": "markdown",
   "metadata": {},
   "source": [
    "Aave votes to select a delegate who will receive a $15k grant (paid in AAVE) from Aave Grants after a three-month term as a delegate, a delegate election. TokenLogic ultimately won this election, however, if we remove whale voting power from this proposal we find that Blockworks Research would've been selected by the Aave community instead."
   ]
  },
  {
   "cell_type": "code",
   "execution_count": 18,
   "metadata": {
    "tags": [
     "remove-input",
     "full-width"
    ]
   },
   "outputs": [
    {
     "data": {
      "text/html": [
       "<div>\n",
       "<style scoped>\n",
       "    .dataframe tbody tr th:only-of-type {\n",
       "        vertical-align: middle;\n",
       "    }\n",
       "\n",
       "    .dataframe tbody tr th {\n",
       "        vertical-align: top;\n",
       "    }\n",
       "\n",
       "    .dataframe thead th {\n",
       "        text-align: right;\n",
       "    }\n",
       "</style>\n",
       "<table border=\"1\" class=\"dataframe\">\n",
       "  <thead>\n",
       "    <tr style=\"text-align: right;\">\n",
       "      <th></th>\n",
       "      <th>Blockworks Research</th>\n",
       "      <th>ConsenSys</th>\n",
       "      <th>Curia</th>\n",
       "      <th>DAOStewards</th>\n",
       "      <th>Fire Eyes</th>\n",
       "      <th>Flipside Crypto</th>\n",
       "      <th>FranklinDAO</th>\n",
       "      <th>OnChainCoop</th>\n",
       "      <th>Oxytocin</th>\n",
       "      <th>Saludiego201.eth</th>\n",
       "      <th>StableLab</th>\n",
       "      <th>TokenLogic</th>\n",
       "      <th>Wallfacer Labs</th>\n",
       "    </tr>\n",
       "  </thead>\n",
       "  <tbody>\n",
       "    <tr>\n",
       "      <th>Scores</th>\n",
       "      <td>87232.635594</td>\n",
       "      <td>17620.565593</td>\n",
       "      <td>12742.462405</td>\n",
       "      <td>434.508563</td>\n",
       "      <td>104834.493934</td>\n",
       "      <td>90345.343934</td>\n",
       "      <td>66127.639535</td>\n",
       "      <td>409.610873</td>\n",
       "      <td>30504.177435</td>\n",
       "      <td>437.382397</td>\n",
       "      <td>146246.026838</td>\n",
       "      <td>185171.775039</td>\n",
       "      <td>435.859890</td>\n",
       "    </tr>\n",
       "    <tr>\n",
       "      <th>Whale-only Scores</th>\n",
       "      <td>86487.989188</td>\n",
       "      <td>16950.926291</td>\n",
       "      <td>12712.705752</td>\n",
       "      <td>407.073261</td>\n",
       "      <td>104802.547664</td>\n",
       "      <td>90318.258696</td>\n",
       "      <td>65886.207100</td>\n",
       "      <td>391.862324</td>\n",
       "      <td>30491.294636</td>\n",
       "      <td>393.737487</td>\n",
       "      <td>146194.584615</td>\n",
       "      <td>185153.921653</td>\n",
       "      <td>420.744217</td>\n",
       "    </tr>\n",
       "    <tr>\n",
       "      <th>Non-whale Scores</th>\n",
       "      <td>744.646406</td>\n",
       "      <td>669.639302</td>\n",
       "      <td>29.756653</td>\n",
       "      <td>27.435302</td>\n",
       "      <td>31.946270</td>\n",
       "      <td>27.085238</td>\n",
       "      <td>241.432435</td>\n",
       "      <td>17.748550</td>\n",
       "      <td>12.882799</td>\n",
       "      <td>43.644910</td>\n",
       "      <td>51.442223</td>\n",
       "      <td>17.853386</td>\n",
       "      <td>15.115673</td>\n",
       "    </tr>\n",
       "  </tbody>\n",
       "</table>\n",
       "</div>"
      ],
      "text/plain": [
       "                   Blockworks Research     ConsenSys         Curia  \\\n",
       "Scores                    87232.635594  17620.565593  12742.462405   \n",
       "Whale-only Scores         86487.989188  16950.926291  12712.705752   \n",
       "Non-whale Scores            744.646406    669.639302     29.756653   \n",
       "\n",
       "                   DAOStewards      Fire Eyes  Flipside Crypto   FranklinDAO  \\\n",
       "Scores              434.508563  104834.493934     90345.343934  66127.639535   \n",
       "Whale-only Scores   407.073261  104802.547664     90318.258696  65886.207100   \n",
       "Non-whale Scores     27.435302      31.946270        27.085238    241.432435   \n",
       "\n",
       "                   OnChainCoop      Oxytocin  Saludiego201.eth      StableLab  \\\n",
       "Scores              409.610873  30504.177435        437.382397  146246.026838   \n",
       "Whale-only Scores   391.862324  30491.294636        393.737487  146194.584615   \n",
       "Non-whale Scores     17.748550     12.882799         43.644910      51.442223   \n",
       "\n",
       "                      TokenLogic  Wallfacer Labs  \n",
       "Scores             185171.775039      435.859890  \n",
       "Whale-only Scores  185153.921653      420.744217  \n",
       "Non-whale Scores       17.853386       15.115673  "
      ]
     },
     "execution_count": 18,
     "metadata": {},
     "output_type": "execute_result"
    }
   ],
   "source": [
    "propsal_choices = plutocracy_report_data['Aave'][plutocracy_report_data['Aave']['proposal_id'] == '0xf6da417983653f7e7f5560a8e16ad77d5e25533bba9157abfd222347b40d09d0'].iloc[0]['proposal_choices']\n",
    "mask = score_differences_dfs[\"Aave\"].index.to_series().apply(\n",
    "    lambda s: \"0xf6da417\" in s,\n",
    ")\n",
    "proposal_score_differences = score_differences_dfs[\"Aave\"].loc[mask][\"score_differences\"][0]\n",
    "proposal_scores = plutocracy_report_data['Aave'][plutocracy_report_data['Aave']['proposal_id'] == '0xf6da417983653f7e7f5560a8e16ad77d5e25533bba9157abfd222347b40d09d0'].iloc[0]['proposal_scores']\n",
    "\n",
    "\n",
    "result = pd.DataFrame(\n",
    "    {choice: [score, score_diff, score - score_diff] for choice, score, score_diff in zip(eval(propsal_choices), eval(proposal_scores), proposal_score_differences)},\n",
    "    index=[\"Scores\", \"Whale-only Scores\", \"Non-whale Scores\"],\n",
    ")\n",
    "\n",
    "result"
   ]
  },
  {
   "attachments": {},
   "cell_type": "markdown",
   "metadata": {},
   "source": [
    "#### [TEMP CHECK] - Launch Aave V3 on Starknet\n",
    "\n",
    "\n",
    "**Proposal ID**: [0xde90f4d](https://snapshot.org/#/aave.eth/proposal/0xde90f4d29c4c5dd55cba023b29bdde8c49e37f70c3398668a78e2f173a61b4e6)\n",
    "\n",
    "**Start Date**: 03/04/23\n",
    "**End Date**: 10/04/23\n",
    "\n",
    "**Voting System**: Single Choice\n",
    "\n",
    "**Voting Strategies**:\n",
    "- aAAVE\n",
    "- AAVE + stkAAVE\n",
    "- Matic AAVE + amAAVE\n",
    "- AAVE in stkBPT (Balancer Pool Token)\n",
    "\n"
   ]
  },
  {
   "attachments": {},
   "cell_type": "markdown",
   "metadata": {},
   "source": [
    "This is a proposal to gauge the Aave community’s sentiments on going on with phase 2 of the Aave’s integration on Starknet. Its outcome did not change after filtering out whales."
   ]
  },
  {
   "cell_type": "code",
   "execution_count": 20,
   "metadata": {
    "tags": [
     "remove-input",
     "full-width"
    ]
   },
   "outputs": [
    {
     "data": {
      "text/html": [
       "<div>\n",
       "<style scoped>\n",
       "    .dataframe tbody tr th:only-of-type {\n",
       "        vertical-align: middle;\n",
       "    }\n",
       "\n",
       "    .dataframe tbody tr th {\n",
       "        vertical-align: top;\n",
       "    }\n",
       "\n",
       "    .dataframe thead th {\n",
       "        text-align: right;\n",
       "    }\n",
       "</style>\n",
       "<table border=\"1\" class=\"dataframe\">\n",
       "  <thead>\n",
       "    <tr style=\"text-align: right;\">\n",
       "      <th></th>\n",
       "      <th>YEA</th>\n",
       "      <th>NOP</th>\n",
       "      <th>ABSTAIN</th>\n",
       "    </tr>\n",
       "  </thead>\n",
       "  <tbody>\n",
       "    <tr>\n",
       "      <th>Scores</th>\n",
       "      <td>664848.446683</td>\n",
       "      <td>21.627573</td>\n",
       "      <td>136.417016</td>\n",
       "    </tr>\n",
       "    <tr>\n",
       "      <th>Whale-only Scores</th>\n",
       "      <td>407757.376934</td>\n",
       "      <td>4.772256</td>\n",
       "      <td>120.558800</td>\n",
       "    </tr>\n",
       "    <tr>\n",
       "      <th>Non-whale Scores</th>\n",
       "      <td>257091.069749</td>\n",
       "      <td>16.855317</td>\n",
       "      <td>15.858216</td>\n",
       "    </tr>\n",
       "  </tbody>\n",
       "</table>\n",
       "</div>"
      ],
      "text/plain": [
       "                             YEA        NOP     ABSTAIN\n",
       "Scores             664848.446683  21.627573  136.417016\n",
       "Whale-only Scores  407757.376934   4.772256  120.558800\n",
       "Non-whale Scores   257091.069749  16.855317   15.858216"
      ]
     },
     "execution_count": 20,
     "metadata": {},
     "output_type": "execute_result"
    }
   ],
   "source": [
    "propsal_choices = plutocracy_report_data['Aave'][plutocracy_report_data['Aave']['proposal_id'] == '0xde90f4d29c4c5dd55cba023b29bdde8c49e37f70c3398668a78e2f173a61b4e6'].iloc[0]['proposal_choices']\n",
    "mask = score_differences_dfs[\"Aave\"].index.to_series().apply(\n",
    "    lambda s: \"0xde90f4d\" in s,\n",
    ")\n",
    "proposal_score_differences = score_differences_dfs[\"Aave\"].loc[mask][\"score_differences\"][0]\n",
    "proposal_scores = plutocracy_report_data['Aave'][plutocracy_report_data['Aave']['proposal_id'] == '0xde90f4d29c4c5dd55cba023b29bdde8c49e37f70c3398668a78e2f173a61b4e6'].iloc[0]['proposal_scores']\n",
    "\n",
    "\n",
    "result = pd.DataFrame(\n",
    "    {choice: [score, score_diff, score - score_diff] for choice, score, score_diff in zip(eval(propsal_choices), eval(proposal_scores), proposal_score_differences)},\n",
    "    index=[\"Scores\", \"Whale-only Scores\", \"Non-whale Scores\"],\n",
    ")\n",
    "\n",
    "result"
   ]
  },
  {
   "attachments": {},
   "cell_type": "markdown",
   "metadata": {},
   "source": [
    "#### [ARC] E-Mode Parameter Changes for V3 Avalanche, Optimism, Polygon, and Arbitrum\n",
    "\n",
    "\n",
    "**Proposal ID**: [0x84deca8](https://snapshot.org/#/aave.eth/proposal/0x84deca82139320b2570f04211b249e37b8a7602b4a0ed70e6fa772c9f6e94550)\n",
    "\n",
    "**Start Date**: 05/04/23\n",
    "**End Date**: 11/04/23\n",
    "\n",
    "**Voting System**: Single Choice\n",
    "\n",
    "**Voting Strategies**:\n",
    "- aAAVE\n",
    "- AAVE + stkAAVE\n",
    "- Matic AAVE + amAAVE\n",
    "- AAVE in stkBPT (Balancer Pool Token)\n",
    "\n"
   ]
  },
  {
   "attachments": {},
   "cell_type": "markdown",
   "metadata": {},
   "source": [
    "This proposal aims to optimize stablecoin [E-Mode](https://docs.aave.com/developers/whats-new/efficiency-mode-emode) parameters on various non-Ethereum chains. Its outcome did not change after filtering out whales."
   ]
  },
  {
   "cell_type": "code",
   "execution_count": 21,
   "metadata": {
    "tags": [
     "remove-input",
     "full-width"
    ]
   },
   "outputs": [
    {
     "data": {
      "text/html": [
       "<div>\n",
       "<style scoped>\n",
       "    .dataframe tbody tr th:only-of-type {\n",
       "        vertical-align: middle;\n",
       "    }\n",
       "\n",
       "    .dataframe tbody tr th {\n",
       "        vertical-align: top;\n",
       "    }\n",
       "\n",
       "    .dataframe thead th {\n",
       "        text-align: right;\n",
       "    }\n",
       "</style>\n",
       "<table border=\"1\" class=\"dataframe\">\n",
       "  <thead>\n",
       "    <tr style=\"text-align: right;\">\n",
       "      <th></th>\n",
       "      <th>Option 1</th>\n",
       "      <th>Option 2</th>\n",
       "      <th>Option 3</th>\n",
       "      <th>Option 4</th>\n",
       "      <th>Abstain</th>\n",
       "      <th>Nay</th>\n",
       "    </tr>\n",
       "  </thead>\n",
       "  <tbody>\n",
       "    <tr>\n",
       "      <th>Scores</th>\n",
       "      <td>126545.660433</td>\n",
       "      <td>166.034309</td>\n",
       "      <td>532246.554661</td>\n",
       "      <td>140.712281</td>\n",
       "      <td>489.850798</td>\n",
       "      <td>2.067035</td>\n",
       "    </tr>\n",
       "    <tr>\n",
       "      <th>Whale-only Scores</th>\n",
       "      <td>84143.973524</td>\n",
       "      <td>83.499083</td>\n",
       "      <td>291145.238949</td>\n",
       "      <td>107.559375</td>\n",
       "      <td>416.456718</td>\n",
       "      <td>1.017788</td>\n",
       "    </tr>\n",
       "    <tr>\n",
       "      <th>Non-whale Scores</th>\n",
       "      <td>42401.686910</td>\n",
       "      <td>82.535226</td>\n",
       "      <td>241101.315713</td>\n",
       "      <td>33.152905</td>\n",
       "      <td>73.394080</td>\n",
       "      <td>1.049248</td>\n",
       "    </tr>\n",
       "  </tbody>\n",
       "</table>\n",
       "</div>"
      ],
      "text/plain": [
       "                        Option 1    Option 2       Option 3    Option 4  \\\n",
       "Scores             126545.660433  166.034309  532246.554661  140.712281   \n",
       "Whale-only Scores   84143.973524   83.499083  291145.238949  107.559375   \n",
       "Non-whale Scores    42401.686910   82.535226  241101.315713   33.152905   \n",
       "\n",
       "                      Abstain       Nay  \n",
       "Scores             489.850798  2.067035  \n",
       "Whale-only Scores  416.456718  1.017788  \n",
       "Non-whale Scores    73.394080  1.049248  "
      ]
     },
     "execution_count": 21,
     "metadata": {},
     "output_type": "execute_result"
    }
   ],
   "source": [
    "propsal_choices = plutocracy_report_data['Aave'][plutocracy_report_data['Aave']['proposal_id'] == '0x84deca82139320b2570f04211b249e37b8a7602b4a0ed70e6fa772c9f6e94550'].iloc[0]['proposal_choices']\n",
    "mask = score_differences_dfs[\"Aave\"].index.to_series().apply(\n",
    "    lambda s: \"0x84deca8\" in s,\n",
    ")\n",
    "proposal_score_differences = score_differences_dfs[\"Aave\"].loc[mask][\"score_differences\"][0]\n",
    "proposal_scores = plutocracy_report_data['Aave'][plutocracy_report_data['Aave']['proposal_id'] == '0x84deca82139320b2570f04211b249e37b8a7602b4a0ed70e6fa772c9f6e94550'].iloc[0]['proposal_scores']\n",
    "\n",
    "\n",
    "result = pd.DataFrame(\n",
    "    {choice: [score, score_diff, score - score_diff] for choice, score, score_diff in zip(eval(propsal_choices), eval(proposal_scores), proposal_score_differences)},\n",
    "    index=[\"Scores\", \"Whale-only Scores\", \"Non-whale Scores\"],\n",
    ")\n",
    "\n",
    "result"
   ]
  },
  {
   "attachments": {},
   "cell_type": "markdown",
   "metadata": {},
   "source": [
    "#### [TEMP CHECK] - Whitelist Stargate for V3 Portals\n",
    "\n",
    "\n",
    "**Proposal ID**: [0xc17bc86](https://snapshot.org/#/aave.eth/proposal/0xc17bc863a09c72152c1ac25d09fcee4748b58eb2e10e70886e20e77ad4d8fad0)\n",
    "\n",
    "**Start Date**: 13/04/23\n",
    "**End Date**: 18/04/23\n",
    "\n",
    "**Voting System**: Single Choice\n",
    "\n",
    "**Voting Strategies**:\n",
    "- aAAVE\n",
    "- AAVE + stkAAVE\n",
    "- Matic AAVE + amAAVE\n",
    "- AAVE in stkBPT (Balancer Pool Token)\n",
    "\n"
   ]
  },
  {
   "attachments": {},
   "cell_type": "markdown",
   "metadata": {},
   "source": [
    "Proposes that Aave whitelist Stargate on their [Portal](https://docs.aave.com/developers/whats-new/portal) bridge. Its outcome did not change after filtering out whales."
   ]
  },
  {
   "cell_type": "code",
   "execution_count": 23,
   "metadata": {
    "tags": [
     "remove-input",
     "full-width"
    ]
   },
   "outputs": [
    {
     "data": {
      "text/html": [
       "<div>\n",
       "<style scoped>\n",
       "    .dataframe tbody tr th:only-of-type {\n",
       "        vertical-align: middle;\n",
       "    }\n",
       "\n",
       "    .dataframe tbody tr th {\n",
       "        vertical-align: top;\n",
       "    }\n",
       "\n",
       "    .dataframe thead th {\n",
       "        text-align: right;\n",
       "    }\n",
       "</style>\n",
       "<table border=\"1\" class=\"dataframe\">\n",
       "  <thead>\n",
       "    <tr style=\"text-align: right;\">\n",
       "      <th></th>\n",
       "      <th>YAE</th>\n",
       "      <th>NAY</th>\n",
       "      <th>ABSTAIN</th>\n",
       "    </tr>\n",
       "  </thead>\n",
       "  <tbody>\n",
       "    <tr>\n",
       "      <th>Scores</th>\n",
       "      <td>654682.761288</td>\n",
       "      <td>16.887568</td>\n",
       "      <td>167.351060</td>\n",
       "    </tr>\n",
       "    <tr>\n",
       "      <th>Whale-only Scores</th>\n",
       "      <td>364423.857267</td>\n",
       "      <td>8.134670</td>\n",
       "      <td>143.935683</td>\n",
       "    </tr>\n",
       "    <tr>\n",
       "      <th>Non-whale Scores</th>\n",
       "      <td>290258.904021</td>\n",
       "      <td>8.752898</td>\n",
       "      <td>23.415377</td>\n",
       "    </tr>\n",
       "  </tbody>\n",
       "</table>\n",
       "</div>"
      ],
      "text/plain": [
       "                             YAE        NAY     ABSTAIN\n",
       "Scores             654682.761288  16.887568  167.351060\n",
       "Whale-only Scores  364423.857267   8.134670  143.935683\n",
       "Non-whale Scores   290258.904021   8.752898   23.415377"
      ]
     },
     "execution_count": 23,
     "metadata": {},
     "output_type": "execute_result"
    }
   ],
   "source": [
    "propsal_choices = plutocracy_report_data['Aave'][plutocracy_report_data['Aave']['proposal_id'] == '0xc17bc863a09c72152c1ac25d09fcee4748b58eb2e10e70886e20e77ad4d8fad0'].iloc[0]['proposal_choices']\n",
    "mask = score_differences_dfs[\"Aave\"].index.to_series().apply(\n",
    "    lambda s: \"0xc17bc86\" in s,\n",
    ")\n",
    "proposal_score_differences = score_differences_dfs[\"Aave\"].loc[mask][\"score_differences\"][0]\n",
    "proposal_scores = plutocracy_report_data['Aave'][plutocracy_report_data['Aave']['proposal_id'] == '0xc17bc863a09c72152c1ac25d09fcee4748b58eb2e10e70886e20e77ad4d8fad0'].iloc[0]['proposal_scores']\n",
    "\n",
    "\n",
    "result = pd.DataFrame(\n",
    "    {choice: [score, score_diff, score - score_diff] for choice, score, score_diff in zip(eval(propsal_choices), eval(proposal_scores), proposal_score_differences)},\n",
    "    index=[\"Scores\", \"Whale-only Scores\", \"Non-whale Scores\"],\n",
    ")\n",
    "\n",
    "result"
   ]
  },
  {
   "attachments": {},
   "cell_type": "markdown",
   "metadata": {},
   "source": [
    "#### Safety Module upgrade to v1.5\n",
    "\n",
    "**Proposal ID**: [0x743ae60](https://snapshot.org/#/aave.eth/proposal/0x743ae6001bb0fdfa9a8c4475a2489c20917a79084725f0101ac7c1e7f0cf27c6)\n",
    "\n",
    "**Start Date**: 15/03/23\n",
    "**End Date**: 20/03/23\n",
    "\n",
    "**Voting System**: Single Choice Voting\n",
    "\n",
    "\n",
    "**Voting Strategies**:\n",
    "- aAAVE\n",
    "- AAVE + stkAAVE\n",
    "- Matic AAVE + amAAVE\n",
    "- AAVE in stkBPT (Balancer Pool Token)"
   ]
  },
  {
   "attachments": {},
   "cell_type": "markdown",
   "metadata": {},
   "source": [
    "A proposal to gauge the community's sentiments on upgrading the Safety Module smart contracts (stkAAVE, stkABPT) to v1.5. The outcome of this proposal did not change after filtering out whales."
   ]
  },
  {
   "cell_type": "code",
   "execution_count": null,
   "metadata": {
    "tags": [
     "remove-input",
     "full-width"
    ]
   },
   "outputs": [],
   "source": [
    "propsal_choices = plutocracy_report_data['Aave'][plutocracy_report_data['Aave']['proposal_id'] == '0x743ae6001bb0fdfa9a8c4475a2489c20917a79084725f0101ac7c1e7f0cf27c6'].iloc[0]['proposal_choices']\n",
    "mask = score_differences_dfs[\"Aave\"].index.to_series().apply(\n",
    "    lambda s: \"0x743ae60\" in s,\n",
    ")\n",
    "proposal_score_differences = score_differences_dfs[\"Aave\"].loc[mask][\"score_differences\"][0]\n",
    "proposal_scores = plutocracy_report_data['Aave'][plutocracy_report_data['Aave']['proposal_id'] == '0x743ae6001bb0fdfa9a8c4475a2489c20917a79084725f0101ac7c1e7f0cf27c6'].iloc[0]['proposal_scores']\n",
    "\n",
    "pd.DataFrame(\n",
    "    {choice: [score, score_diff, score - score_diff] for choice, score, score_diff in zip(eval(propsal_choices), eval(proposal_scores), proposal_score_differences)},\n",
    "    index=[\"Scores\", \"Whale-only Scores\", \"Non-whale Scores\"],\n",
    ")"
   ]
  },
  {
   "attachments": {},
   "cell_type": "markdown",
   "metadata": {},
   "source": [
    "#### Deploy Aave V3 to Metis Andromeda Mainnet\n",
    "\n",
    "**Proposal ID**: [0x7e6175c](https://snapshot.org/#/aave.eth/proposal/0x7e6175c21342dbd88dc5b0dabf2d0a86339e3ef3f199fc7d778a9a6f05ed0df9)\n",
    "\n",
    "**Start Date**: 17/03/23\n",
    "**End Date**: 23/03/23\n",
    "\n",
    "**Voting System**: Single Choice Voting\n",
    "\n",
    "\n",
    "**Voting Strategies**:\n",
    "- aAAVE\n",
    "- AAVE + stkAAVE\n",
    "- Matic AAVE + amAAVE\n",
    "- AAVE in stkBPT (Balancer Pool Token)\n",
    "\n"
   ]
  },
  {
   "cell_type": "markdown",
   "metadata": {},
   "source": [
    "This is a proposal to gauge the community's sentiments to deploy Aave V3 to the Metis \"Andromeda\" Mainnet. The outcome of this proposal did not change after filtering out whales."
   ]
  },
  {
   "cell_type": "code",
   "execution_count": 29,
   "metadata": {
    "tags": [
     "remove-input",
     "full-width"
    ]
   },
   "outputs": [
    {
     "data": {
      "text/html": [
       "<div>\n",
       "<style scoped>\n",
       "    .dataframe tbody tr th:only-of-type {\n",
       "        vertical-align: middle;\n",
       "    }\n",
       "\n",
       "    .dataframe tbody tr th {\n",
       "        vertical-align: top;\n",
       "    }\n",
       "\n",
       "    .dataframe thead th {\n",
       "        text-align: right;\n",
       "    }\n",
       "</style>\n",
       "<table border=\"1\" class=\"dataframe\">\n",
       "  <thead>\n",
       "    <tr style=\"text-align: right;\">\n",
       "      <th></th>\n",
       "      <th>YAE</th>\n",
       "      <th>NAY</th>\n",
       "      <th>ABSTAIN</th>\n",
       "    </tr>\n",
       "  </thead>\n",
       "  <tbody>\n",
       "    <tr>\n",
       "      <th>Scores</th>\n",
       "      <td>555698.763981</td>\n",
       "      <td>162135.341400</td>\n",
       "      <td>140.725517</td>\n",
       "    </tr>\n",
       "    <tr>\n",
       "      <th>Whale-only Scores</th>\n",
       "      <td>133249.462649</td>\n",
       "      <td>161953.210564</td>\n",
       "      <td>137.650972</td>\n",
       "    </tr>\n",
       "    <tr>\n",
       "      <th>Non-whale Scores</th>\n",
       "      <td>422449.301332</td>\n",
       "      <td>182.130836</td>\n",
       "      <td>3.074545</td>\n",
       "    </tr>\n",
       "  </tbody>\n",
       "</table>\n",
       "</div>"
      ],
      "text/plain": [
       "                             YAE            NAY     ABSTAIN\n",
       "Scores             555698.763981  162135.341400  140.725517\n",
       "Whale-only Scores  133249.462649  161953.210564  137.650972\n",
       "Non-whale Scores   422449.301332     182.130836    3.074545"
      ]
     },
     "execution_count": 29,
     "metadata": {},
     "output_type": "execute_result"
    }
   ],
   "source": [
    "propsal_choices = plutocracy_report_data['Aave'][plutocracy_report_data['Aave']['proposal_id'] == '0x7e6175c21342dbd88dc5b0dabf2d0a86339e3ef3f199fc7d778a9a6f05ed0df9'].iloc[0]['proposal_choices']\n",
    "mask = score_differences_dfs[\"Aave\"].index.to_series().apply(\n",
    "    lambda s: \"0x7e6175c\" in s,\n",
    ")\n",
    "proposal_score_differences = score_differences_dfs[\"Aave\"].loc[mask][\"score_differences\"][0]\n",
    "proposal_scores = plutocracy_report_data['Aave'][plutocracy_report_data['Aave']['proposal_id'] == '0x7e6175c21342dbd88dc5b0dabf2d0a86339e3ef3f199fc7d778a9a6f05ed0df9'].iloc[0]['proposal_scores']\n",
    "pd.DataFrame(\n",
    "    {choice: [score, score_diff, score - score_diff] for choice, score, score_diff in zip(eval(propsal_choices), eval(proposal_scores), proposal_score_differences)},\n",
    "    index=[\"Scores\", \"Whale-only Scores\", \"Non-whale Scores\"],\n",
    ")"
   ]
  },
  {
   "attachments": {},
   "cell_type": "markdown",
   "metadata": {},
   "source": [
    "#### [ARFC] Add MKR to Ethereum v3\n",
    "\n",
    "**Proposal ID**: [0xf4aec3f](https://snapshot.org/#/aave.eth/proposal/0xf4aec3fbab5096752be96f0e5b522f37318c1902cf8b897b049b7a94d478de73)\n",
    "\n",
    "**Start Date**: 08/03/23\n",
    "**End Date**: 13/03/23\n",
    "\n",
    "**Voting System**: Single Choice Voting\n",
    "\n",
    "\n",
    "**Voting Strategies**:\n",
    "- aAAVE\n",
    "- AAVE + stkAAVE\n",
    "- Matic AAVE + amAAVE\n",
    "- AAVE in stkBPT (Balancer Pool Token)\n",
    "\n"
   ]
  },
  {
   "attachments": {},
   "cell_type": "markdown",
   "metadata": {},
   "source": [
    "A proposal to onboard MKR to the Aave V3 Liquidity Pool. The outcome of this proposal did not change after filtering out whales."
   ]
  },
  {
   "cell_type": "code",
   "execution_count": 31,
   "metadata": {
    "tags": [
     "remove-input",
     "full-width"
    ]
   },
   "outputs": [
    {
     "data": {
      "text/html": [
       "<div>\n",
       "<style scoped>\n",
       "    .dataframe tbody tr th:only-of-type {\n",
       "        vertical-align: middle;\n",
       "    }\n",
       "\n",
       "    .dataframe tbody tr th {\n",
       "        vertical-align: top;\n",
       "    }\n",
       "\n",
       "    .dataframe thead th {\n",
       "        text-align: right;\n",
       "    }\n",
       "</style>\n",
       "<table border=\"1\" class=\"dataframe\">\n",
       "  <thead>\n",
       "    <tr style=\"text-align: right;\">\n",
       "      <th></th>\n",
       "      <th>YAE</th>\n",
       "      <th>NAE</th>\n",
       "      <th>ABSTAIN</th>\n",
       "    </tr>\n",
       "  </thead>\n",
       "  <tbody>\n",
       "    <tr>\n",
       "      <th>Scores</th>\n",
       "      <td>660079.717273</td>\n",
       "      <td>12.211159</td>\n",
       "      <td>19.760356</td>\n",
       "    </tr>\n",
       "    <tr>\n",
       "      <th>Whale-only Scores</th>\n",
       "      <td>421665.918408</td>\n",
       "      <td>8.137339</td>\n",
       "      <td>17.155329</td>\n",
       "    </tr>\n",
       "    <tr>\n",
       "      <th>Non-whale Scores</th>\n",
       "      <td>238413.798865</td>\n",
       "      <td>4.073820</td>\n",
       "      <td>2.605028</td>\n",
       "    </tr>\n",
       "  </tbody>\n",
       "</table>\n",
       "</div>"
      ],
      "text/plain": [
       "                             YAE        NAE    ABSTAIN\n",
       "Scores             660079.717273  12.211159  19.760356\n",
       "Whale-only Scores  421665.918408   8.137339  17.155329\n",
       "Non-whale Scores   238413.798865   4.073820   2.605028"
      ]
     },
     "execution_count": 31,
     "metadata": {},
     "output_type": "execute_result"
    }
   ],
   "source": [
    "propsal_choices = plutocracy_report_data['Aave'][plutocracy_report_data['Aave']['proposal_id'] == '0xf4aec3fbab5096752be96f0e5b522f37318c1902cf8b897b049b7a94d478de73'].iloc[0]['proposal_choices']\n",
    "mask = score_differences_dfs[\"Aave\"].index.to_series().apply(\n",
    "    lambda s: \"0xf4aec3f\" in s,\n",
    ")\n",
    "proposal_score_differences = score_differences_dfs[\"Aave\"].loc[mask][\"score_differences\"][0]\n",
    "proposal_scores = plutocracy_report_data['Aave'][plutocracy_report_data['Aave']['proposal_id'] == '0xf4aec3fbab5096752be96f0e5b522f37318c1902cf8b897b049b7a94d478de73'].iloc[0]['proposal_scores']\n",
    "pd.DataFrame(\n",
    "    {choice: [score, score_diff, score - score_diff] for choice, score, score_diff in zip(eval(propsal_choices), eval(proposal_scores), proposal_score_differences)},\n",
    "    index=[\"Scores\", \"Whale-only Scores\", \"Non-whale Scores\"],\n",
    ")"
   ]
  },
  {
   "attachments": {},
   "cell_type": "markdown",
   "metadata": {},
   "source": [
    "#### [TEMP CHECK] Aave V3 Deployment on zkSync Era Mainnet\n",
    "\n",
    "\n",
    "**Proposal ID**: [0x46cf72d](https://snapshot.org/#/aave.eth/proposal/0x46cf72da892eb216edc1b7fe2f24f7491d8c37344b2b1f67632fa6950be034f7)\n",
    "\n",
    "**Start Date**: 12/04/23\n",
    "**End Date**: 15/04/23\n",
    "\n",
    "**Voting System**: Single Choice\n",
    "\n",
    "**Voting Strategies**:\n",
    "- aAAVE\n",
    "- AAVE + stkAAVE\n",
    "- Matic AAVE + amAAVE\n",
    "- AAVE in stkBPT (Balancer Pool Token)\n",
    "\n"
   ]
  },
  {
   "attachments": {},
   "cell_type": "markdown",
   "metadata": {},
   "source": [
    "A temperature check to gauge the community’s sentiments on deploying Aave V3 on <a class=\"reference external\" href=\"https://zksync.io/\">zkSync Era</a> Mainnet. This proposal’s outcome also was not changed after filtering out whales."
   ]
  },
  {
   "cell_type": "code",
   "execution_count": 26,
   "metadata": {
    "tags": [
     "remove-input",
     "full-width"
    ]
   },
   "outputs": [
    {
     "data": {
      "text/html": [
       "<div>\n",
       "<style scoped>\n",
       "    .dataframe tbody tr th:only-of-type {\n",
       "        vertical-align: middle;\n",
       "    }\n",
       "\n",
       "    .dataframe tbody tr th {\n",
       "        vertical-align: top;\n",
       "    }\n",
       "\n",
       "    .dataframe thead th {\n",
       "        text-align: right;\n",
       "    }\n",
       "</style>\n",
       "<table border=\"1\" class=\"dataframe\">\n",
       "  <thead>\n",
       "    <tr style=\"text-align: right;\">\n",
       "      <th></th>\n",
       "      <th>YAE</th>\n",
       "      <th>NAY</th>\n",
       "      <th>ABSTAIN</th>\n",
       "    </tr>\n",
       "  </thead>\n",
       "  <tbody>\n",
       "    <tr>\n",
       "      <th>Scores</th>\n",
       "      <td>577937.331903</td>\n",
       "      <td>1133.242375</td>\n",
       "      <td>134.422288</td>\n",
       "    </tr>\n",
       "    <tr>\n",
       "      <th>Whale-only Scores</th>\n",
       "      <td>529876.707255</td>\n",
       "      <td>1.350356</td>\n",
       "      <td>1.585889</td>\n",
       "    </tr>\n",
       "    <tr>\n",
       "      <th>Non-whale Scores</th>\n",
       "      <td>48060.624648</td>\n",
       "      <td>1131.892020</td>\n",
       "      <td>132.836399</td>\n",
       "    </tr>\n",
       "  </tbody>\n",
       "</table>\n",
       "</div>"
      ],
      "text/plain": [
       "                             YAE          NAY     ABSTAIN\n",
       "Scores             577937.331903  1133.242375  134.422288\n",
       "Whale-only Scores  529876.707255     1.350356    1.585889\n",
       "Non-whale Scores    48060.624648  1131.892020  132.836399"
      ]
     },
     "execution_count": 26,
     "metadata": {},
     "output_type": "execute_result"
    }
   ],
   "source": [
    "propsal_choices = plutocracy_report_data['Aave'][plutocracy_report_data['Aave']['proposal_id'] == '0x46cf72da892eb216edc1b7fe2f24f7491d8c37344b2b1f67632fa6950be034f7'].iloc[0]['proposal_choices']\n",
    "mask = score_differences_dfs[\"Aave\"].index.to_series().apply(\n",
    "    lambda s: \"0x46cf72d\" in s,\n",
    ")\n",
    "proposal_score_differences = score_differences_dfs[\"Aave\"].loc[mask][\"score_differences\"][0]\n",
    "proposal_scores = plutocracy_report_data['Aave'][plutocracy_report_data['Aave']['proposal_id'] == '0x46cf72da892eb216edc1b7fe2f24f7491d8c37344b2b1f67632fa6950be034f7'].iloc[0]['proposal_scores']\n",
    "\n",
    "\n",
    "result = pd.DataFrame(\n",
    "    {choice: [score, score_diff, score - score_diff] for choice, score, score_diff in zip(eval(propsal_choices), eval(proposal_scores), proposal_score_differences)},\n",
    "    index=[\"Scores\", \"Whale-only Scores\", \"Non-whale Scores\"],\n",
    ")\n",
    "\n",
    "result"
   ]
  },
  {
   "attachments": {},
   "cell_type": "markdown",
   "metadata": {},
   "source": [
    "#### [TEMP CHECK] Aave V3 deployment on BNB Chain\n",
    "\n",
    "\n",
    "**Proposal ID**: [0x4579b56](https://snapshot.org/#/aave.eth/proposal/0x4579b562a4ea07c52871f724a8baf156514a97384e9427156d04fb6f0ae91515)\n",
    "\n",
    "**Start Date**: 29/03/23\n",
    "**End Date**: 01/04/23\n",
    "\n",
    "**Voting System**: Single Choice\n",
    "\n",
    "**Voting Strategies**:\n",
    "- aAAVE\n",
    "- AAVE + stkAAVE\n",
    "- Matic AAVE + amAAVE\n",
    "- AAVE in stkBPT (Balancer Pool Token)\n",
    "\n"
   ]
  },
  {
   "attachments": {},
   "cell_type": "markdown",
   "metadata": {},
   "source": [
    "A temperature check to gauge the community's sentiments on deploying Aave V3 on BNB Chain. Its outcome did not change after filtering out whales."
   ]
  },
  {
   "cell_type": "code",
   "execution_count": 27,
   "metadata": {
    "tags": [
     "remove-input",
     "full-width"
    ]
   },
   "outputs": [
    {
     "data": {
      "text/html": [
       "<div>\n",
       "<style scoped>\n",
       "    .dataframe tbody tr th:only-of-type {\n",
       "        vertical-align: middle;\n",
       "    }\n",
       "\n",
       "    .dataframe tbody tr th {\n",
       "        vertical-align: top;\n",
       "    }\n",
       "\n",
       "    .dataframe thead th {\n",
       "        text-align: right;\n",
       "    }\n",
       "</style>\n",
       "<table border=\"1\" class=\"dataframe\">\n",
       "  <thead>\n",
       "    <tr style=\"text-align: right;\">\n",
       "      <th></th>\n",
       "      <th>YAE</th>\n",
       "      <th>NAY</th>\n",
       "      <th>ABSTAIN</th>\n",
       "    </tr>\n",
       "  </thead>\n",
       "  <tbody>\n",
       "    <tr>\n",
       "      <th>Scores</th>\n",
       "      <td>583635.461921</td>\n",
       "      <td>2296.049067</td>\n",
       "      <td>124.059645</td>\n",
       "    </tr>\n",
       "    <tr>\n",
       "      <th>Whale-only Scores</th>\n",
       "      <td>191783.269653</td>\n",
       "      <td>1039.979339</td>\n",
       "      <td>113.040863</td>\n",
       "    </tr>\n",
       "    <tr>\n",
       "      <th>Non-whale Scores</th>\n",
       "      <td>391852.192268</td>\n",
       "      <td>1256.069728</td>\n",
       "      <td>11.018781</td>\n",
       "    </tr>\n",
       "  </tbody>\n",
       "</table>\n",
       "</div>"
      ],
      "text/plain": [
       "                             YAE          NAY     ABSTAIN\n",
       "Scores             583635.461921  2296.049067  124.059645\n",
       "Whale-only Scores  191783.269653  1039.979339  113.040863\n",
       "Non-whale Scores   391852.192268  1256.069728   11.018781"
      ]
     },
     "execution_count": 27,
     "metadata": {},
     "output_type": "execute_result"
    }
   ],
   "source": [
    "propsal_choices = plutocracy_report_data['Aave'][plutocracy_report_data['Aave']['proposal_id'] == '0x4579b562a4ea07c52871f724a8baf156514a97384e9427156d04fb6f0ae91515'].iloc[0]['proposal_choices']\n",
    "mask = score_differences_dfs[\"Aave\"].index.to_series().apply(\n",
    "    lambda s: \"0x4579b56\" in s,\n",
    ")\n",
    "proposal_score_differences = score_differences_dfs[\"Aave\"].loc[mask][\"score_differences\"][0]\n",
    "proposal_scores = plutocracy_report_data['Aave'][plutocracy_report_data['Aave']['proposal_id'] == '0x4579b562a4ea07c52871f724a8baf156514a97384e9427156d04fb6f0ae91515'].iloc[0]['proposal_scores']\n",
    "\n",
    "\n",
    "result = pd.DataFrame(\n",
    "    {choice: [score, score_diff, score - score_diff] for choice, score, score_diff in zip(eval(propsal_choices), eval(proposal_scores), proposal_score_differences)},\n",
    "    index=[\"Scores\", \"Whale-only Scores\", \"Non-whale Scores\"],\n",
    ")\n",
    "\n",
    "result"
   ]
  },
  {
   "attachments": {},
   "cell_type": "markdown",
   "metadata": {},
   "source": [
    "#### [ARFC] Grant OP `Emission_Admin` for Optimism v3 Liquidity Pool to Lido DAO\n",
    "\n",
    "\n",
    "**Proposal ID**: [0xd8a400f](https://snapshot.org/#/aave.eth/proposal/0xd8a400fc731b6e807f4d89aa1fa47225f0dfaaa8fc49ef04b46b11b98fbfa15f)\n",
    "\n",
    "**Start Date**: 08/03/23\n",
    "**End Date**: 13/03/23\n",
    "\n",
    "**Voting System**: Single Choice\n",
    "\n",
    "**Voting Strategies**:\n",
    "- aAAVE\n",
    "- AAVE + stkAAVE\n",
    "- Matic AAVE + amAAVE\n",
    "- AAVE in stkBPT (Balancer Pool Token)\n",
    "\n"
   ]
  },
  {
   "attachments": {},
   "cell_type": "markdown",
   "metadata": {},
   "source": [
    "This proposal aims to enable Lido DAO to distribute OP rewards to the Aave V3 Optimism Liquitdity Pool. Its outcome did not change after filtering out whales."
   ]
  },
  {
   "cell_type": "code",
   "execution_count": 32,
   "metadata": {
    "tags": [
     "remove-input",
     "full-width"
    ]
   },
   "outputs": [
    {
     "data": {
      "text/html": [
       "<div>\n",
       "<style scoped>\n",
       "    .dataframe tbody tr th:only-of-type {\n",
       "        vertical-align: middle;\n",
       "    }\n",
       "\n",
       "    .dataframe tbody tr th {\n",
       "        vertical-align: top;\n",
       "    }\n",
       "\n",
       "    .dataframe thead th {\n",
       "        text-align: right;\n",
       "    }\n",
       "</style>\n",
       "<table border=\"1\" class=\"dataframe\">\n",
       "  <thead>\n",
       "    <tr style=\"text-align: right;\">\n",
       "      <th></th>\n",
       "      <th>YAE</th>\n",
       "      <th>NAE</th>\n",
       "      <th>ABSTAIN</th>\n",
       "    </tr>\n",
       "  </thead>\n",
       "  <tbody>\n",
       "    <tr>\n",
       "      <th>Scores</th>\n",
       "      <td>578961.637041</td>\n",
       "      <td>6.087976</td>\n",
       "      <td>133.073240</td>\n",
       "    </tr>\n",
       "    <tr>\n",
       "      <th>Whale-only Scores</th>\n",
       "      <td>248331.876540</td>\n",
       "      <td>1.009792</td>\n",
       "      <td>122.666259</td>\n",
       "    </tr>\n",
       "    <tr>\n",
       "      <th>Non-whale Scores</th>\n",
       "      <td>330629.760501</td>\n",
       "      <td>5.078184</td>\n",
       "      <td>10.406981</td>\n",
       "    </tr>\n",
       "  </tbody>\n",
       "</table>\n",
       "</div>"
      ],
      "text/plain": [
       "                             YAE       NAE     ABSTAIN\n",
       "Scores             578961.637041  6.087976  133.073240\n",
       "Whale-only Scores  248331.876540  1.009792  122.666259\n",
       "Non-whale Scores   330629.760501  5.078184   10.406981"
      ]
     },
     "execution_count": 32,
     "metadata": {},
     "output_type": "execute_result"
    }
   ],
   "source": [
    "propsal_choices = plutocracy_report_data['Aave'][plutocracy_report_data['Aave']['proposal_id'] == '0xd8a400fc731b6e807f4d89aa1fa47225f0dfaaa8fc49ef04b46b11b98fbfa15f'].iloc[0]['proposal_choices']\n",
    "mask = score_differences_dfs[\"Aave\"].index.to_series().apply(\n",
    "    lambda s: \"0xd8a400f\" in s,\n",
    ")\n",
    "proposal_score_differences = score_differences_dfs[\"Aave\"].loc[mask][\"score_differences\"][0]\n",
    "proposal_scores = plutocracy_report_data['Aave'][plutocracy_report_data['Aave']['proposal_id'] == '0xd8a400fc731b6e807f4d89aa1fa47225f0dfaaa8fc49ef04b46b11b98fbfa15f'].iloc[0]['proposal_scores']\n",
    "\n",
    "\n",
    "result = pd.DataFrame(\n",
    "    {choice: [score, score_diff, score - score_diff] for choice, score, score_diff in zip(eval(propsal_choices), eval(proposal_scores), proposal_score_differences)},\n",
    "    index=[\"Scores\", \"Whale-only Scores\", \"Non-whale Scores\"],\n",
    ")\n",
    "\n",
    "result"
   ]
  }
 ],
 "metadata": {
  "celltoolbar": "Tags",
  "kernelspec": {
   "display_name": "Python 3",
   "language": "python",
   "name": "python3"
  },
  "language_info": {
   "codemirror_mode": {
    "name": "ipython",
    "version": 3
   },
   "file_extension": ".py",
   "mimetype": "text/x-python",
   "name": "python",
   "nbconvert_exporter": "python",
   "pygments_lexer": "ipython3",
   "version": "3.10.9"
  },
  "vscode": {
   "interpreter": {
    "hash": "b4359820d3e15fa2519172d213623b0fd17349031edfcca628c1a3eb80849618"
   }
  }
 },
 "nbformat": 4,
 "nbformat_minor": 2
}
