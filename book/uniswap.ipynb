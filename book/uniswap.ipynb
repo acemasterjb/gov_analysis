{
 "cells": [
  {
   "attachments": {},
   "cell_type": "markdown",
   "metadata": {},
   "source": [
    "# Whale Pivotality in Aave top Snapshot proposals"
   ]
  },
  {
   "cell_type": "code",
   "execution_count": 1,
   "metadata": {
    "tags": [
     "remove-input"
    ]
   },
   "outputs": [],
   "source": [
    "# sets up the pynb environment\n",
    "from datetime import datetime\n",
    "from zoneinfo import ZoneInfo\n",
    "import os\n",
    "import sys\n",
    "\n",
    "from IPython.display import HTML\n",
    "import pandas as pd\n",
    "\n",
    "from apis.dune import get_top_uniswap_proposals\n",
    "\n",
    "module_path = os.path.abspath(os.path.join(\"..\"))\n",
    "if module_path not in sys.path:\n",
    "    sys.path.append(module_path)\n",
    "\n",
    "from stages.dataframe_filters.data_processing.statistics import (\n",
    "    get_number_of_whales_to_all_voters_ratio,\n",
    "    get_score_comparisons,\n",
    ")"
   ]
  },
  {
   "cell_type": "code",
   "execution_count": 2,
   "metadata": {
    "tags": [
     "remove-input"
    ]
   },
   "outputs": [
    {
     "name": "stdout",
     "output_type": "stream",
     "text": [
      "Last updated on 2023-05-20\n"
     ]
    }
   ],
   "source": [
    "print(f\"Last updated on {datetime.now(ZoneInfo('UTC')).date()}\")"
   ]
  },
  {
   "cell_type": "code",
   "execution_count": 3,
   "metadata": {
    "tags": [
     "remove-input"
    ]
   },
   "outputs": [],
   "source": [
    "all_uniswap_proposals = pd.read_csv(\n",
    "    \"../plutocracy_data/full_report/Uniswap_report.csv.gzip\",\n",
    "    engine=\"c\",\n",
    "    low_memory=False,\n",
    "    compression='gzip',\n",
    ")\n",
    "all_uniswap_proposals_filtered = pd.read_csv(\n",
    "    \"../plutocracy_data/full_report/Uniswap_report_filtered.csv.gzip\",\n",
    "    engine=\"c\",\n",
    "    low_memory=False,\n",
    "    compression='gzip',\n",
    ")\n"
   ]
  },
  {
   "cell_type": "code",
   "execution_count": 4,
   "metadata": {
    "tags": [
     "remove-input",
     "remove-output"
    ]
   },
   "outputs": [],
   "source": [
    "def to_organization_map(flat_organization_dataframe: pd.DataFrame):\n",
    "    return {\n",
    "        organization_name: proposal_df\n",
    "        for organization_name, proposal_df in [\n",
    "            (str(organization_name), space_proposals)\n",
    "            for organization_name, space_proposals in flat_organization_dataframe.groupby(\n",
    "                \"proposal_organization_name\"\n",
    "            )\n",
    "        ]\n",
    "    }\n",
    "\n",
    "plutocracy_report_data = to_organization_map(all_uniswap_proposals)\n",
    "plutocracy_report_data_filtered = to_organization_map(all_uniswap_proposals_filtered)\n"
   ]
  },
  {
   "cell_type": "code",
   "execution_count": 5,
   "metadata": {
    "tags": [
     "remove-input"
    ]
   },
   "outputs": [],
   "source": [
    "pd.set_option(\"display.max_rows\", int(1e3))\n",
    "score_differences = get_score_comparisons(\n",
    "    plutocracy_report_data, plutocracy_report_data_filtered\n",
    ")"
   ]
  },
  {
   "cell_type": "code",
   "execution_count": 6,
   "metadata": {
    "tags": [
     "remove-input"
    ]
   },
   "outputs": [],
   "source": [
    "score_differences_dfs: dict[str, pd.DataFrame] = dict()\n",
    "\n",
    "initial_series_data = {\n",
    "    organization: 0\n",
    "    for organization in plutocracy_report_data.keys()\n",
    "}\n",
    "changed_outcome_proportions = pd.Series(initial_series_data, name=\"changed outcomes %\")\n",
    "\n",
    "for score_difference in score_differences:\n",
    "    for organization, data in score_difference.items():\n",
    "        data: dict[str, list] = data\n",
    "        items = data.items()\n",
    "        score_differences_dfs[organization] = pd.DataFrame(\n",
    "            [score_data for _, score_data in items],\n",
    "            index=pd.Index(\n",
    "                ([id for id, _ in items]), name=\"Proposal\"\n",
    "            ),\n",
    "            columns=[\n",
    "                \"proposal_id\",\n",
    "                \"Title\",\n",
    "                \"Date Started\",\n",
    "                \"Date Ended\",\n",
    "                \"score_differences\",\n",
    "                \"whale_vp_proportion\",\n",
    "                \"total_vp\",\n",
    "                \"outcome_changed\",\n",
    "                \"Result\",\n",
    "                \"Result w/o Whales\"\n",
    "            ],\n",
    "        ).astype({\"total_vp\": \"float64\"}, copy=False\n",
    "        ).sort_values([\"total_vp\"], ascending=False)\n",
    "\n",
    "\n",
    "        changed_outcome_proportions[organization] = score_differences_dfs[organization][\"outcome_changed\"].value_counts(normalize=True)[True]\n",
    "\n",
    "        score_differences_dfs[organization].drop(\"outcome_changed\", axis=1, inplace=True)\n",
    "\n",
    "        score_differences_dfs[organization][\"Date Started\"] = pd.to_datetime(score_differences_dfs[organization][\"Date Started\"], utc=True, unit=\"s\").dt.strftime(\"%d/%m/%y\")\n",
    "        score_differences_dfs[organization][\"Date Ended\"] = pd.to_datetime(score_differences_dfs[organization][\"Date Ended\"], utc=True, unit=\"s\").dt.strftime(\"%d/%m/%y\")\n",
    "\n",
    "        organization_id = plutocracy_report_data[organization].iloc[0][\"proposal_organization_id\"]\n",
    "\n",
    "        score_differences_dfs[organization][\"total_vp\"] = score_differences_dfs[\n",
    "            organization\n",
    "        ][\"total_vp\"].apply(\"{:.9f}\".format)\n",
    "\n",
    "        score_differences_dfs[organization][\"Title\"] = score_differences_dfs[organization].apply(\n",
    "            lambda row: f'<a href=http://snapshot.org/#/{organization_id}/proposal/{row.name} rel=\"noopener noreferrer\" target=\"_blank\">{row[\"Title\"]}</a>',\n",
    "            axis=1\n",
    "        )\n",
    "        score_differences_dfs[organization].style.format({\"whale_vp_proportion\": \"{:.2%}\".format})\n",
    "changed_outcome_proportions = changed_outcome_proportions.apply(\n",
    "    lambda proportion: \"{:.2%}\".format(proportion)\n",
    ")"
   ]
  },
  {
   "cell_type": "code",
   "execution_count": 7,
   "metadata": {
    "tags": [
     "remove-input",
     "remove-output"
    ]
   },
   "outputs": [],
   "source": [
    "voting_ratios = get_number_of_whales_to_all_voters_ratio(\n",
    "    plutocracy_report_data, plutocracy_report_data_filtered\n",
    ")\n"
   ]
  },
  {
   "attachments": {},
   "cell_type": "markdown",
   "metadata": {},
   "source": [
    "## Synthesis\n",
    "\n",
    "Show the percentage of proposals whose outcome changes if whales did not vote (i.e. *whale pivotality*)."
   ]
  },
  {
   "cell_type": "code",
   "execution_count": 8,
   "metadata": {
    "tags": [
     "remove-input"
    ]
   },
   "outputs": [
    {
     "data": {
      "text/html": [
       "<div>\n",
       "<style scoped>\n",
       "    .dataframe tbody tr th:only-of-type {\n",
       "        vertical-align: middle;\n",
       "    }\n",
       "\n",
       "    .dataframe tbody tr th {\n",
       "        vertical-align: top;\n",
       "    }\n",
       "\n",
       "    .dataframe thead th {\n",
       "        text-align: right;\n",
       "    }\n",
       "</style>\n",
       "<table border=\"1\" class=\"dataframe\">\n",
       "  <thead>\n",
       "    <tr style=\"text-align: right;\">\n",
       "      <th></th>\n",
       "      <th># of whales</th>\n",
       "      <th>all voters</th>\n",
       "      <th>changed outcomes %</th>\n",
       "    </tr>\n",
       "    <tr>\n",
       "      <th>DAO</th>\n",
       "      <th></th>\n",
       "      <th></th>\n",
       "      <th></th>\n",
       "    </tr>\n",
       "  </thead>\n",
       "  <tbody>\n",
       "    <tr>\n",
       "      <th>Uniswap</th>\n",
       "      <td>783</td>\n",
       "      <td>24558</td>\n",
       "      <td>16.47%</td>\n",
       "    </tr>\n",
       "  </tbody>\n",
       "</table>\n",
       "</div>"
      ],
      "text/plain": [
       "         # of whales  all voters changed outcomes %\n",
       "DAO                                                \n",
       "Uniswap          783       24558             16.47%"
      ]
     },
     "execution_count": 8,
     "metadata": {},
     "output_type": "execute_result"
    }
   ],
   "source": [
    "dao_overview = pd.DataFrame(\n",
    "    [list(result.items())[0][1] for result in voting_ratios],\n",
    "    columns=[\n",
    "        \"# of whales\",\n",
    "        \"all voters\",\n",
    "    ],\n",
    ")\n",
    "dao_overview.set_index(\n",
    "    pd.Index([list(result.items())[0][0] for result in voting_ratios], name=\"DAO\"),\n",
    "    inplace=True\n",
    ")\n",
    "\n",
    "dao_overview.insert(2, changed_outcome_proportions.name, changed_outcome_proportions)\n",
    "dao_overview"
   ]
  },
  {
   "cell_type": "code",
   "execution_count": 9,
   "metadata": {
    "tags": [
     "remove-input"
    ]
   },
   "outputs": [],
   "source": [
    "top_10_proposals = get_top_uniswap_proposals()\n",
    "top_10_proposals_df = pd.DataFrame(top_10_proposals)"
   ]
  },
  {
   "attachments": {},
   "cell_type": "markdown",
   "metadata": {},
   "source": [
    "## Comparison of the Top 10 Proposals"
   ]
  },
  {
   "cell_type": "code",
   "execution_count": 10,
   "metadata": {
    "tags": [
     "remove-input",
     "full-width"
    ]
   },
   "outputs": [
    {
     "data": {
      "text/html": [
       "<table border=\"1\" class=\"dataframe\">\n",
       "  <thead>\n",
       "    <tr style=\"text-align: right;\">\n",
       "      <th></th>\n",
       "      <th>Date Started</th>\n",
       "      <th>Date Ended</th>\n",
       "      <th>Result</th>\n",
       "      <th>Result w/o Whales</th>\n",
       "    </tr>\n",
       "    <tr>\n",
       "      <th>Proposal</th>\n",
       "      <th></th>\n",
       "      <th></th>\n",
       "      <th></th>\n",
       "      <th></th>\n",
       "    </tr>\n",
       "  </thead>\n",
       "  <tbody>\n",
       "    <tr>\n",
       "      <th><a href=http://snapshot.org/#/uniswap/proposal/0x387b5e811e9673359b98729af5c7f14a50b7d0ea9b4dcf9278686b238932e25d rel=\"noopener noreferrer\" target=\"_blank\">Community Governance Process Changes</a></th>\n",
       "      <td>14/12/22</td>\n",
       "      <td>21/12/22</td>\n",
       "      <td>Yes - Enact changes</td>\n",
       "      <td>Yes - Enact changes</td>\n",
       "    </tr>\n",
       "    <tr>\n",
       "      <th><a href=http://snapshot.org/#/uniswap/proposal/0x6b8df360fdf73085b21fdf5eef9f85916fbde95621a3d454cb20fbe545ffc852 rel=\"noopener noreferrer\" target=\"_blank\">[Temperature Check] Which bridge should Uniswap v3 use for cross-chain governance messaging between Ethereum and BNB Chain?</a></th>\n",
       "      <td>27/01/23</td>\n",
       "      <td>31/01/23</td>\n",
       "      <td>Wormhole</td>\n",
       "      <td>Wormhole</td>\n",
       "    </tr>\n",
       "    <tr>\n",
       "      <th><a href=http://snapshot.org/#/uniswap/proposal/0x15031b68121659b87a3f5e33c303cd517bcbc003d3f60fc82f1299620475bcab rel=\"noopener noreferrer\" target=\"_blank\"> [Temperature Check] Enable 1bp Fee Tier for UniswapV3 on Arbitrum</a></th>\n",
       "      <td>02/02/23</td>\n",
       "      <td>07/02/23</td>\n",
       "      <td>For</td>\n",
       "      <td>For</td>\n",
       "    </tr>\n",
       "    <tr>\n",
       "      <th><a href=http://snapshot.org/#/uniswap/proposal/0x0f8a85d90759acf3a6fdc018e20b991f3562847122a8142c4e166c71d0e755e3 rel=\"noopener noreferrer\" target=\"_blank\">[Temperature Check] Post-BSL cross-chain deployment process and creation of new uniswap.eth subdomain</a></th>\n",
       "      <td>06/04/23</td>\n",
       "      <td>13/04/23</td>\n",
       "      <td>Yes - create new subdomain</td>\n",
       "      <td>Yes - create new subdomain</td>\n",
       "    </tr>\n",
       "    <tr>\n",
       "      <th><a href=http://snapshot.org/#/uniswap/proposal/0xbadf3b39b681c98ba8fb988d5b6c9454ebeb5aae88545a6a852d0734e9f7c957 rel=\"noopener noreferrer\" target=\"_blank\">Temperature Check: Create Accoutability Committee</a></th>\n",
       "      <td>24/02/23</td>\n",
       "      <td>03/03/23</td>\n",
       "      <td>Doo Wan Nam (StableLab)</td>\n",
       "      <td>Cam O'Donnell (Consensys)</td>\n",
       "    </tr>\n",
       "    <tr>\n",
       "      <th><a href=http://snapshot.org/#/uniswap/proposal/0xdc3e034f9b7c876736f1b629c7c9ff9c466205dfe075607d70e69b6af2fa87ef rel=\"noopener noreferrer\" target=\"_blank\">Uniswap V3 Launch on zkEVM</a></th>\n",
       "      <td>29/03/23</td>\n",
       "      <td>03/04/23</td>\n",
       "      <td>Yes</td>\n",
       "      <td>Yes</td>\n",
       "    </tr>\n",
       "    <tr>\n",
       "      <th><a href=http://snapshot.org/#/uniswap/proposal/0xa47404722b9c8a6fb850cf5de79e8a95f073f06393290949644a627bfe85bced rel=\"noopener noreferrer\" target=\"_blank\">[Temperature Check] Deploy Uniswap v3 on Avalanche </a></th>\n",
       "      <td>04/03/23</td>\n",
       "      <td>09/03/23</td>\n",
       "      <td>Yes</td>\n",
       "      <td>Yes</td>\n",
       "    </tr>\n",
       "    <tr>\n",
       "      <th><a href=http://snapshot.org/#/uniswap/proposal/0xa3c7247632d3a08e4e73a63867908d0cd4402f48fa673945f93e3197dee5450a rel=\"noopener noreferrer\" target=\"_blank\">[Temperature Check] Should Uniswap v3 be deployed to BNB Chain? 🦄</a></th>\n",
       "      <td>17/01/23</td>\n",
       "      <td>22/01/23</td>\n",
       "      <td>Yes</td>\n",
       "      <td>Yes</td>\n",
       "    </tr>\n",
       "    <tr>\n",
       "      <th><a href=http://snapshot.org/#/uniswap/proposal/0x73021d63f985aba8e42c67165f80c0027a591980a5cc372cda9637bdf2173f95 rel=\"noopener noreferrer\" target=\"_blank\">[Temperature Check] Deploy Uniswap v3 on Moonbeam (2023)</a></th>\n",
       "      <td>25/04/23</td>\n",
       "      <td>30/04/23</td>\n",
       "      <td>Yes</td>\n",
       "      <td>Yes</td>\n",
       "    </tr>\n",
       "    <tr>\n",
       "      <th><a href=http://snapshot.org/#/uniswap/proposal/0x63f6c44e4245e5b90a0f30ebb6932506879f68b149a5f78fd2186125c9144535 rel=\"noopener noreferrer\" target=\"_blank\">[Temperature Check] Deploy Uniswap V3 on Gnosis Chain</a></th>\n",
       "      <td>24/03/23</td>\n",
       "      <td>29/03/23</td>\n",
       "      <td>Yes</td>\n",
       "      <td>Yes</td>\n",
       "    </tr>\n",
       "  </tbody>\n",
       "</table>"
      ],
      "text/plain": [
       "<IPython.core.display.HTML object>"
      ]
     },
     "execution_count": 10,
     "metadata": {},
     "output_type": "execute_result"
    }
   ],
   "source": [
    "top_10_proposal_ids = top_10_proposals_df[\"proposal_id\"].values\n",
    "\n",
    "mask = score_differences_dfs[\"Uniswap\"].index.to_series().apply(\n",
    "    lambda row: row in top_10_proposal_ids\n",
    ")\n",
    "\n",
    "score_differences_dfs[\"Uniswap\"] = score_differences_dfs[\"Uniswap\"].loc[mask]\n",
    "proposal_ids = score_differences_dfs[\"Uniswap\"][\"proposal_id\"]\n",
    "proposal_ids = pd.Categorical(proposal_ids, top_10_proposal_ids)\n",
    "\n",
    "score_differences_dfs[\"Uniswap\"] = score_differences_dfs[\"Uniswap\"].loc[proposal_ids]\n",
    "score_differences_dfs[\"Uniswap\"][\"proposal_id\"] = proposal_ids\n",
    "score_differences_dfs[\"Uniswap\"] = score_differences_dfs[\"Uniswap\"].loc[proposal_ids].sort_values(\"proposal_id\")\n",
    "\n",
    "HTML(\n",
    "    score_differences_dfs[\"Uniswap\"]\n",
    "    .rename(lambda index: score_differences_dfs[\"Uniswap\"].loc[index][\"Title\"])\n",
    "    .drop([\"score_differences\", \"total_vp\", \"whale_vp_proportion\", \"Title\", \"proposal_id\"], axis=1)\n",
    "    .to_html(render_links=True, escape=False)\n",
    ")"
   ]
  },
  {
   "attachments": {},
   "cell_type": "markdown",
   "metadata": {},
   "source": [
    "<sup>Source for proposal list: https://dune.com/queries/2488751</sup>"
   ]
  },
  {
   "attachments": {},
   "cell_type": "markdown",
   "metadata": {},
   "source": [
    "### Proportion of Outcomes Changed"
   ]
  },
  {
   "cell_type": "code",
   "execution_count": 11,
   "metadata": {
    "tags": [
     "remove-input",
     "full-width"
    ]
   },
   "outputs": [
    {
     "name": "stdout",
     "output_type": "stream",
     "text": [
      "16.47% of Uniswap's proposal outcomes (of the 150 sampled) change after filtering out whale voting power.\n"
     ]
    }
   ],
   "source": [
    "print(f\"{changed_outcome_proportions['Uniswap']} of Uniswap's proposal outcomes (of the 150 sampled) change after filtering out whale voting power.\")"
   ]
  },
  {
   "cell_type": "markdown",
   "metadata": {},
   "source": [
    "---"
   ]
  }
 ],
 "metadata": {
  "celltoolbar": "Tags",
  "kernelspec": {
   "display_name": "Python 3",
   "language": "python",
   "name": "python3"
  },
  "language_info": {
   "codemirror_mode": {
    "name": "ipython",
    "version": 3
   },
   "file_extension": ".py",
   "mimetype": "text/x-python",
   "name": "python",
   "nbconvert_exporter": "python",
   "pygments_lexer": "ipython3",
   "version": "3.10.9"
  },
  "vscode": {
   "interpreter": {
    "hash": "b4359820d3e15fa2519172d213623b0fd17349031edfcca628c1a3eb80849618"
   }
  }
 },
 "nbformat": 4,
 "nbformat_minor": 2
}
