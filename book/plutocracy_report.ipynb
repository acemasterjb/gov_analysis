{
 "cells": [
  {
   "attachments": {},
   "cell_type": "markdown",
   "metadata": {},
   "source": [
    "# Cost of Plutocracy\n",
    "\n",
    "This article aims to analyze the top 60 DAOs (ranked by [treasury size](https://deepdao.io/)) to determine the impact of large token holders on their governance."
   ]
  },
  {
   "cell_type": "code",
   "execution_count": 1,
   "metadata": {
    "tags": [
     "remove-input"
    ]
   },
   "outputs": [],
   "source": [
    "# sets up the pynb environment\n",
    "import os\n",
    "import sys\n",
    "\n",
    "from IPython.display import HTML\n",
    "import pandas as pd\n",
    "\n",
    "module_path = os.path.abspath(os.path.join(\"..\"))\n",
    "if module_path not in sys.path:\n",
    "    sys.path.append(module_path)\n",
    "\n",
    "from libs.data_processing.statistics import (\n",
    "    get_number_of_whales_to_all_voters_ratio,\n",
    "    get_score_comparisons,\n",
    ")"
   ]
  },
  {
   "attachments": {},
   "cell_type": "markdown",
   "metadata": {},
   "source": [
    "Our data sources include DeepDAO and Snapshot, both of which specialize in providing data on Decentralised Autonomous Organization (DAO) governance. We also use Coingecko to find market data for DAO governance tokens.\n",
    "\n",
    "Using this data, we compile two spreadsheets that act as the local database for this analysis. Each spreadsheet contains each voter's choice and voting power for the last fifty proposals in each DAO. **One spreadsheet filters out \"whales\"** which, in the context of this analysis, are voters that have voting power **at or above the 95th percentile of voting power for that proposal**."
   ]
  },
  {
   "cell_type": "code",
   "execution_count": 2,
   "metadata": {
    "tags": [
     "remove-input",
     "remove-output"
    ]
   },
   "outputs": [],
   "source": [
    "plutocracy_report_data = pd.read_excel(\n",
    "    \"../plutocracy_report.xlsx\", sheet_name=None, engine=\"openpyxl\"\n",
    ")\n",
    "plutocracy_report_data_filtered = pd.read_excel(\n",
    "    \"../plutocracy_report_filtered.xlsx\", sheet_name=None, engine=\"openpyxl\"\n",
    ")"
   ]
  },
  {
   "attachments": {},
   "cell_type": "markdown",
   "metadata": {},
   "source": [
    "We then ask the following question: **How many whales have voted up to the last 100 proposals for each of the DAOs we analyzed?** Voting power for each of these DAOs varies by the type of [voting strategy](https://docs.snapshot.org/strategies/what-is-a-strategy) outlined in their respective Snapshot spaces.\n",
    "\n",
    "However, to keep this analysis simple, we assume the common `erc-20-balance` strategy and define the cost of voting power (`vp`) as the US dollar value of a DAO's native token at the time of the proposal."
   ]
  },
  {
   "cell_type": "code",
   "execution_count": 3,
   "metadata": {
    "tags": [
     "remove-input",
     "remove-output"
    ]
   },
   "outputs": [],
   "source": [
    "voting_ratios = get_number_of_whales_to_all_voters_ratio(\n",
    "    plutocracy_report_data, plutocracy_report_data_filtered\n",
    ")\n"
   ]
  },
  {
   "cell_type": "code",
   "execution_count": 4,
   "metadata": {
    "tags": [
     "remove-input"
    ]
   },
   "outputs": [
    {
     "data": {
      "text/html": [
       "<div>\n",
       "<style scoped>\n",
       "    .dataframe tbody tr th:only-of-type {\n",
       "        vertical-align: middle;\n",
       "    }\n",
       "\n",
       "    .dataframe tbody tr th {\n",
       "        vertical-align: top;\n",
       "    }\n",
       "\n",
       "    .dataframe thead th {\n",
       "        text-align: right;\n",
       "    }\n",
       "</style>\n",
       "<table border=\"1\" class=\"dataframe\">\n",
       "  <thead>\n",
       "    <tr style=\"text-align: right;\">\n",
       "      <th></th>\n",
       "      <th># of whales</th>\n",
       "      <th>all voters</th>\n",
       "      <th>avg vp for non-whales</th>\n",
       "      <th>avg vp for whales</th>\n",
       "      <th>avg cost of vote</th>\n",
       "    </tr>\n",
       "  </thead>\n",
       "  <tbody>\n",
       "    <tr>\n",
       "      <th>Uniswap</th>\n",
       "      <td>705</td>\n",
       "      <td>20345</td>\n",
       "      <td>1.404874</td>\n",
       "      <td>5.341279e+04</td>\n",
       "      <td>6.259218</td>\n",
       "    </tr>\n",
       "    <tr>\n",
       "      <th>ENS</th>\n",
       "      <td>55</td>\n",
       "      <td>2900</td>\n",
       "      <td>40.051150</td>\n",
       "      <td>5.101698e+04</td>\n",
       "      <td>14.240899</td>\n",
       "    </tr>\n",
       "    <tr>\n",
       "      <th>Lido</th>\n",
       "      <td>176</td>\n",
       "      <td>3781</td>\n",
       "      <td>5.298892</td>\n",
       "      <td>8.038818e+05</td>\n",
       "      <td>1.529445</td>\n",
       "    </tr>\n",
       "    <tr>\n",
       "      <th>Frax</th>\n",
       "      <td>5</td>\n",
       "      <td>153</td>\n",
       "      <td>72055.592306</td>\n",
       "      <td>1.037947e+07</td>\n",
       "      <td>10.638224</td>\n",
       "    </tr>\n",
       "    <tr>\n",
       "      <th>Curve Finance</th>\n",
       "      <td>9</td>\n",
       "      <td>192</td>\n",
       "      <td>5064.334615</td>\n",
       "      <td>2.018702e+06</td>\n",
       "      <td>2.855234</td>\n",
       "    </tr>\n",
       "  </tbody>\n",
       "</table>\n",
       "</div>"
      ],
      "text/plain": [
       "               # of whales  all voters  avg vp for non-whales  \\\n",
       "Uniswap                705       20345               1.404874   \n",
       "ENS                     55        2900              40.051150   \n",
       "Lido                   176        3781               5.298892   \n",
       "Frax                     5         153           72055.592306   \n",
       "Curve Finance            9         192            5064.334615   \n",
       "\n",
       "               avg vp for whales  avg cost of vote  \n",
       "Uniswap             5.341279e+04          6.259218  \n",
       "ENS                 5.101698e+04         14.240899  \n",
       "Lido                8.038818e+05          1.529445  \n",
       "Frax                1.037947e+07         10.638224  \n",
       "Curve Finance       2.018702e+06          2.855234  "
      ]
     },
     "execution_count": 4,
     "metadata": {},
     "output_type": "execute_result"
    }
   ],
   "source": [
    "pd.DataFrame(\n",
    "    [list(result.items())[0][1] for result in voting_ratios],\n",
    "    index=[list(result.items())[0][0] for result in voting_ratios],\n",
    "    columns=[\n",
    "        \"# of whales\",\n",
    "        \"all voters\",\n",
    "        \"avg vp for non-whales\",\n",
    "        \"avg vp for whales\",\n",
    "        \"avg cost of vote\",\n",
    "    ],\n",
    ")\n"
   ]
  },
  {
   "attachments": {},
   "cell_type": "markdown",
   "metadata": {},
   "source": [
    "For the DAOs above, the top 5% of voters have a disproportionate amount of voting power compared to the average voter.\n",
    "\n",
    "We also have an insight into the economic might whales hold in their respective DAO. We calculate the average cost to purchase a token to vote at the time the proposal was active (in USD) for comparative purposes."
   ]
  },
  {
   "cell_type": "markdown",
   "metadata": {},
   "source": [
    "---"
   ]
  },
  {
   "attachments": {},
   "cell_type": "markdown",
   "metadata": {},
   "source": [
    "Next, we take a look at how governance decisions are affected once whale votes are discounted. We do so by comparing the scores of each proposal and checking whether the outcome of the proposal is changed when whales are filtered out.\n",
    "\n",
    "We check whether a proposal's outcome changes by checking if the largest vote choice score changes after filtering out whales. Specifically, in python we do the following:\n",
    "```python\n",
    "has_changed_outcome = not unfiltered_winning_choice_index == filtered_winning_choice_index\n",
    "```"
   ]
  },
  {
   "cell_type": "code",
   "execution_count": 5,
   "metadata": {
    "tags": [
     "remove-input"
    ]
   },
   "outputs": [],
   "source": [
    "pd.set_option(\"display.max_rows\", 5)\n",
    "score_differences = get_score_comparisons(\n",
    "    plutocracy_report_data, plutocracy_report_data_filtered\n",
    ")\n"
   ]
  },
  {
   "cell_type": "code",
   "execution_count": 6,
   "metadata": {
    "tags": [
     "remove-input"
    ]
   },
   "outputs": [],
   "source": [
    "score_differences_dfs = dict()\n",
    "\n",
    "for score_difference in score_differences:\n",
    "    for organization, data in score_difference.items():\n",
    "        data: dict[str, list] = data\n",
    "        items = data.items()\n",
    "        score_differences_dfs[organization] = pd.DataFrame(\n",
    "            [score_data for _, score_data in items],\n",
    "            index=pd.Index(\n",
    "                ([proposal_id for proposal_id, _ in items]), name=\"Proposal ID\"\n",
    "            ),\n",
    "            columns=[\n",
    "                \"score_differences\",\n",
    "                \"whale_vp_proportion\",\n",
    "                \"total_vp\",\n",
    "                \"outcome_changed\",\n",
    "                \"outcome_old\",\n",
    "                \"outcome_new\"\n",
    "            ],\n",
    "        ).astype({\"total_vp\": \"float64\"}, copy=False\n",
    "        ).sort_values([\"whale_vp_proportion\",\"total_vp\"], ascending=False)\n",
    "\n",
    "        space_id = plutocracy_report_data[organization].iloc[0][\"proposal_space_id\"]\n",
    "\n",
    "        score_differences_dfs[organization][\"total_vp\"] = score_differences_dfs[\n",
    "            organization\n",
    "        ][\"total_vp\"].apply(\"{:.9f}\".format)\n",
    "\n",
    "        score_differences_dfs[organization].index = score_differences_dfs[organization].index.to_series().apply(\n",
    "            lambda s: f'<a href=http://snapshot.org/#/{space_id}/proposal/{s} rel=\"noopener noreferrer\" target=\"_blank\">{s[0:9]}</a>'\n",
    "        )\n"
   ]
  },
  {
   "attachments": {},
   "cell_type": "markdown",
   "metadata": {},
   "source": [
    "## Uniswap\n",
    "\n",
    "### Filtered Proposals Analysis"
   ]
  },
  {
   "cell_type": "code",
   "execution_count": 7,
   "metadata": {
    "tags": [
     "remove-input",
     "full-width"
    ]
   },
   "outputs": [
    {
     "data": {
      "text/html": [
       "<table border=\"1\" class=\"dataframe\">\n",
       "  <thead>\n",
       "    <tr style=\"text-align: right;\">\n",
       "      <th></th>\n",
       "      <th>whale_vp_proportion</th>\n",
       "      <th>total_vp</th>\n",
       "      <th>outcome_changed</th>\n",
       "      <th>outcome_old</th>\n",
       "      <th>outcome_new</th>\n",
       "    </tr>\n",
       "    <tr>\n",
       "      <th>Proposal ID</th>\n",
       "      <th></th>\n",
       "      <th></th>\n",
       "      <th></th>\n",
       "      <th></th>\n",
       "      <th></th>\n",
       "    </tr>\n",
       "  </thead>\n",
       "  <tbody>\n",
       "    <tr>\n",
       "      <th><a href=http://snapshot.org/#/uniswap/proposal/0xab1dbb6e3486073b81cc64b81d15d24a7bf82efcfc94e533de0779250df06ba9 rel=\"noopener noreferrer\" target=\"_blank\">0xab1dbb6</a></th>\n",
       "      <td>0.999859</td>\n",
       "      <td>15337121.942599891</td>\n",
       "      <td>False</td>\n",
       "      <td>Yes</td>\n",
       "      <td>Yes</td>\n",
       "    </tr>\n",
       "    <tr>\n",
       "      <th><a href=http://snapshot.org/#/uniswap/proposal/0x2f72d9f247d9ce143809bbb4af7f5b36aa50895e517cc32096b15b18b40e3191 rel=\"noopener noreferrer\" target=\"_blank\">0x2f72d9f</a></th>\n",
       "      <td>0.999836</td>\n",
       "      <td>18646586.937362339</td>\n",
       "      <td>False</td>\n",
       "      <td>Yes</td>\n",
       "      <td>Yes</td>\n",
       "    </tr>\n",
       "    <tr>\n",
       "      <th><a href=http://snapshot.org/#/uniswap/proposal/0xe6ad2033b04559b3db6be7fa9993f05ee68f43f1061c632382c88e367e76bfb1 rel=\"noopener noreferrer\" target=\"_blank\">0xe6ad203</a></th>\n",
       "      <td>0.999814</td>\n",
       "      <td>24235309.275069810</td>\n",
       "      <td>False</td>\n",
       "      <td>Yes</td>\n",
       "      <td>Yes</td>\n",
       "    </tr>\n",
       "    <tr>\n",
       "      <th><a href=http://snapshot.org/#/uniswap/proposal/0xe523d31000db5ecb16b002efd2ee984b958928b01cee140212eefc3ed5bcdfcd rel=\"noopener noreferrer\" target=\"_blank\">0xe523d31</a></th>\n",
       "      <td>0.999803</td>\n",
       "      <td>22439325.860326741</td>\n",
       "      <td>False</td>\n",
       "      <td>Yes - Deploy Uniswap v3 to Boba</td>\n",
       "      <td>Yes - Deploy Uniswap v3 to Boba</td>\n",
       "    </tr>\n",
       "    <tr>\n",
       "      <th><a href=http://snapshot.org/#/uniswap/proposal/0x5387b0756442268d283d4ac7f3f4bc4cc0204c5e47b9708e5128fcbdea2d0cd1 rel=\"noopener noreferrer\" target=\"_blank\">0x5387b07</a></th>\n",
       "      <td>0.999747</td>\n",
       "      <td>14642047.224558931</td>\n",
       "      <td>False</td>\n",
       "      <td>Yes - Deploy Uniswap v3 to Boba</td>\n",
       "      <td>Yes - Deploy Uniswap v3 to Boba</td>\n",
       "    </tr>\n",
       "    <tr>\n",
       "      <th><a href=http://snapshot.org/#/uniswap/proposal/0xa4a21c808b28a61562c6b4ebf5b71c0cd37ee2d630bcbdf91ffaf5f683cc650f rel=\"noopener noreferrer\" target=\"_blank\">0xa4a21c8</a></th>\n",
       "      <td>0.999674</td>\n",
       "      <td>19840363.162523411</td>\n",
       "      <td>False</td>\n",
       "      <td>Yes</td>\n",
       "      <td>Yes</td>\n",
       "    </tr>\n",
       "    <tr>\n",
       "      <th><a href=http://snapshot.org/#/uniswap/proposal/0xa3c7247632d3a08e4e73a63867908d0cd4402f48fa673945f93e3197dee5450a rel=\"noopener noreferrer\" target=\"_blank\">0xa3c7247</a></th>\n",
       "      <td>0.999561</td>\n",
       "      <td>24994560.158377878</td>\n",
       "      <td>False</td>\n",
       "      <td>Yes</td>\n",
       "      <td>Yes</td>\n",
       "    </tr>\n",
       "    <tr>\n",
       "      <th><a href=http://snapshot.org/#/uniswap/proposal/0x8db45283c71ed4f72e5834212a10963b1b4a53527a175472ba8cc4ecdeebc6a2 rel=\"noopener noreferrer\" target=\"_blank\">0x8db4528</a></th>\n",
       "      <td>0.999370</td>\n",
       "      <td>5722321.782621147</td>\n",
       "      <td>True</td>\n",
       "      <td>3 Phases [50k/2w, 100k/3w, 650k]</td>\n",
       "      <td>2 Phases - 1 [2 week Phase 1]</td>\n",
       "    </tr>\n",
       "    <tr>\n",
       "      <th><a href=http://snapshot.org/#/uniswap/proposal/0x255d43357e17858f8664ffaaeaf7660bfd8be5f7dabc414edf98d3fadb3f1588 rel=\"noopener noreferrer\" target=\"_blank\">0x255d433</a></th>\n",
       "      <td>0.999367</td>\n",
       "      <td>5723290.905228001</td>\n",
       "      <td>True</td>\n",
       "      <td>WETH/USDC, WETH/DAI, USDC/DAI</td>\n",
       "      <td>WETH/USDC, WETH/DAI, WETH/OP</td>\n",
       "    </tr>\n",
       "    <tr>\n",
       "      <th><a href=http://snapshot.org/#/uniswap/proposal/0xfd3d3807bd2a6eda1327c311b83de235061d39ff1bdfb616c9f9b0d367c3ac2c rel=\"noopener noreferrer\" target=\"_blank\">0xfd3d380</a></th>\n",
       "      <td>0.997435</td>\n",
       "      <td>2728492.255083876</td>\n",
       "      <td>True</td>\n",
       "      <td>add DeFiEdge</td>\n",
       "      <td>add Overnight Finance</td>\n",
       "    </tr>\n",
       "    <tr>\n",
       "      <th><a href=http://snapshot.org/#/uniswap/proposal/0x3447c5c95e70304122194efb2874757059f0851cc7449e58682f48a25e4ce7ba rel=\"noopener noreferrer\" target=\"_blank\">0x3447c5c</a></th>\n",
       "      <td>0.981407</td>\n",
       "      <td>1045945.183786833</td>\n",
       "      <td>False</td>\n",
       "      <td>Yes</td>\n",
       "      <td>Yes</td>\n",
       "    </tr>\n",
       "    <tr>\n",
       "      <th><a href=http://snapshot.org/#/uniswap/proposal/0x6b8df360fdf73085b21fdf5eef9f85916fbde95621a3d454cb20fbe545ffc852 rel=\"noopener noreferrer\" target=\"_blank\">0x6b8df36</a></th>\n",
       "      <td>0.887264</td>\n",
       "      <td>45581689.082320422</td>\n",
       "      <td>False</td>\n",
       "      <td>Wormhole</td>\n",
       "      <td>Wormhole</td>\n",
       "    </tr>\n",
       "    <tr>\n",
       "      <th><a href=http://snapshot.org/#/uniswap/proposal/0x5ad7208d9ccad93dbc96abc12bfeffcfe83e96b9782e5135727cdaaf494d70f3 rel=\"noopener noreferrer\" target=\"_blank\">0x5ad7208</a></th>\n",
       "      <td>0.779724</td>\n",
       "      <td>11575893.085716439</td>\n",
       "      <td>False</td>\n",
       "      <td>Yes</td>\n",
       "      <td>Yes</td>\n",
       "    </tr>\n",
       "    <tr>\n",
       "      <th><a href=http://snapshot.org/#/uniswap/proposal/0x31c3409c09f5561d6aff1e0adeee6c83a5e73768a5d5c3e01b2a48a3894eda54 rel=\"noopener noreferrer\" target=\"_blank\">0x31c3409</a></th>\n",
       "      <td>0.767515</td>\n",
       "      <td>12950287.668343490</td>\n",
       "      <td>False</td>\n",
       "      <td>Yes - Fix the bridge</td>\n",
       "      <td>Yes - Fix the bridge</td>\n",
       "    </tr>\n",
       "    <tr>\n",
       "      <th><a href=http://snapshot.org/#/uniswap/proposal/0x9db793de052692853aa3749920e1c7161de0eead4730c3fef516bc11eb829879 rel=\"noopener noreferrer\" target=\"_blank\">0x9db793d</a></th>\n",
       "      <td>0.738536</td>\n",
       "      <td>24692.433422367</td>\n",
       "      <td>False</td>\n",
       "      <td>Yes</td>\n",
       "      <td>Yes</td>\n",
       "    </tr>\n",
       "    <tr>\n",
       "      <th><a href=http://snapshot.org/#/uniswap/proposal/0x374d7f9ba673e65d6a85c3cfcc082fd3ad22ca5d8f9f44ac14e1d67154640d90 rel=\"noopener noreferrer\" target=\"_blank\">0x374d7f9</a></th>\n",
       "      <td>0.544205</td>\n",
       "      <td>32011.083070674</td>\n",
       "      <td>False</td>\n",
       "      <td>Yes</td>\n",
       "      <td>Yes</td>\n",
       "    </tr>\n",
       "    <tr>\n",
       "      <th><a href=http://snapshot.org/#/uniswap/proposal/0x387b5e811e9673359b98729af5c7f14a50b7d0ea9b4dcf9278686b238932e25d rel=\"noopener noreferrer\" target=\"_blank\">0x387b5e8</a></th>\n",
       "      <td>0.497340</td>\n",
       "      <td>61343398.710826278</td>\n",
       "      <td>False</td>\n",
       "      <td>Yes - Enact changes</td>\n",
       "      <td>Yes - Enact changes</td>\n",
       "    </tr>\n",
       "    <tr>\n",
       "      <th><a href=http://snapshot.org/#/uniswap/proposal/0xbadf3b39b681c98ba8fb988d5b6c9454ebeb5aae88545a6a852d0734e9f7c957 rel=\"noopener noreferrer\" target=\"_blank\">0xbadf3b3</a></th>\n",
       "      <td>0.484117</td>\n",
       "      <td>14580897.229314700</td>\n",
       "      <td>False</td>\n",
       "      <td>Doo Wan Nam (StableLab)</td>\n",
       "      <td>Doo Wan Nam (StableLab)</td>\n",
       "    </tr>\n",
       "    <tr>\n",
       "      <th><a href=http://snapshot.org/#/uniswap/proposal/0x15031b68121659b87a3f5e33c303cd517bcbc003d3f60fc82f1299620475bcab rel=\"noopener noreferrer\" target=\"_blank\">0x15031b6</a></th>\n",
       "      <td>0.408376</td>\n",
       "      <td>38105686.407799788</td>\n",
       "      <td>False</td>\n",
       "      <td>For</td>\n",
       "      <td>For</td>\n",
       "    </tr>\n",
       "  </tbody>\n",
       "</table>"
      ],
      "text/plain": [
       "<IPython.core.display.HTML object>"
      ]
     },
     "execution_count": 7,
     "metadata": {},
     "output_type": "execute_result"
    }
   ],
   "source": [
    "HTML(score_differences_dfs[\"Uniswap\"].drop(\"score_differences\", axis=1).to_html(render_links=True, escape=False))"
   ]
  },
  {
   "attachments": {},
   "cell_type": "markdown",
   "metadata": {},
   "source": [
    "### Proportion of Outcomes Changed"
   ]
  },
  {
   "attachments": {},
   "cell_type": "markdown",
   "metadata": {},
   "source": [
    "Using [pandas](https://pandas.pydata.org/), we see that **12.5% of proposal outcomes change after removing whales.**\n",
    "\n"
   ]
  },
  {
   "cell_type": "code",
   "execution_count": 8,
   "metadata": {
    "tags": [
     "remove-input"
    ]
   },
   "outputs": [
    {
     "data": {
      "text/plain": [
       "False    0.842105\n",
       "True     0.157895\n",
       "Name: outcome_changed, dtype: float64"
      ]
     },
     "execution_count": 8,
     "metadata": {},
     "output_type": "execute_result"
    }
   ],
   "source": [
    "score_differences_dfs[\"Uniswap\"][\"outcome_changed\"].value_counts(normalize=True)"
   ]
  },
  {
   "attachments": {},
   "cell_type": "markdown",
   "metadata": {},
   "source": [
    "### Proposal Analysis"
   ]
  },
  {
   "attachments": {},
   "cell_type": "markdown",
   "metadata": {},
   "source": [
    "The outcome of the proposal to add a Liquidity Mining Manager (LMM) for the [Optimism-Uniswap Liquidity Mining Program](https://snapshot.org/#/uniswap/proposal/0xfd3d3807bd2a6eda1327c311b83de235061d39ff1bdfb616c9f9b0d367c3ac2c) changes after removing whales.\n",
    "\n",
    "If not for whale intervention, \"Overnight Finance\" would have been chosen as the LMM. Instead, \"DeFiEdge\" was selected. From the data, we see that without whale intervention, DeFiEdge would've had ~2,708,025 fewer votes out of the total ~2,728,492 voting power on this proposal. That is ~99.3% of voting power allocated for this proposal directed to choosing \"DeFiEdge\"."
   ]
  },
  {
   "cell_type": "code",
   "execution_count": 9,
   "metadata": {
    "tags": [
     "remove-input"
    ]
   },
   "outputs": [
    {
     "data": {
      "text/html": [
       "<div>\n",
       "<style scoped>\n",
       "    .dataframe tbody tr th:only-of-type {\n",
       "        vertical-align: middle;\n",
       "    }\n",
       "\n",
       "    .dataframe tbody tr th {\n",
       "        vertical-align: top;\n",
       "    }\n",
       "\n",
       "    .dataframe thead th {\n",
       "        text-align: right;\n",
       "    }\n",
       "</style>\n",
       "<table border=\"1\" class=\"dataframe\">\n",
       "  <thead>\n",
       "    <tr style=\"text-align: right;\">\n",
       "      <th></th>\n",
       "      <th>add Overnight Finance</th>\n",
       "      <th>add DeFiEdge</th>\n",
       "      <th>add none</th>\n",
       "    </tr>\n",
       "  </thead>\n",
       "  <tbody>\n",
       "    <tr>\n",
       "      <th>Scores</th>\n",
       "      <td>14335.930887</td>\n",
       "      <td>2.710600e+06</td>\n",
       "      <td>3556.089173</td>\n",
       "    </tr>\n",
       "    <tr>\n",
       "      <th>Score Differences</th>\n",
       "      <td>10054.585076</td>\n",
       "      <td>2.708025e+06</td>\n",
       "      <td>3412.851497</td>\n",
       "    </tr>\n",
       "  </tbody>\n",
       "</table>\n",
       "</div>"
      ],
      "text/plain": [
       "                   add Overnight Finance  add DeFiEdge     add none\n",
       "Scores                      14335.930887  2.710600e+06  3556.089173\n",
       "Score Differences           10054.585076  2.708025e+06  3412.851497"
      ]
     },
     "execution_count": 9,
     "metadata": {},
     "output_type": "execute_result"
    }
   ],
   "source": [
    "propsal_choices = plutocracy_report_data['Uniswap'][plutocracy_report_data['Uniswap']['proposal_id'] == '0xfd3d3807bd2a6eda1327c311b83de235061d39ff1bdfb616c9f9b0d367c3ac2c'].iloc[0]['proposal_choices']\n",
    "mask = score_differences_dfs[\"Uniswap\"].index.to_series().apply(\n",
    "    lambda s: \"0xfd3d380\" in s,\n",
    ")\n",
    "proposal_score_differences = score_differences_dfs[\"Uniswap\"].loc[mask][\"score_differences\"][0]\n",
    "proposal_scores = plutocracy_report_data['Uniswap'][plutocracy_report_data['Uniswap']['proposal_id'] == '0xfd3d3807bd2a6eda1327c311b83de235061d39ff1bdfb616c9f9b0d367c3ac2c'].iloc[0]['proposal_scores']\n",
    "\n",
    "pd.DataFrame(\n",
    "    {choice: [score, score_diff] for choice, score, score_diff in zip(eval(propsal_choices), eval(proposal_scores), proposal_score_differences)},\n",
    "    index=[\"Scores\", \"Score Differences\"],\n",
    ")"
   ]
  },
  {
   "attachments": {},
   "cell_type": "markdown",
   "metadata": {},
   "source": [
    "One highly contentious proposal whose outcome did not change after filtering out whales was [this temperature check to choose which Eth <> BNB bridge to use for Uniswap v3 governance](https://snapshot.org/#/uniswap/proposal/0x6b8df360fdf73085b21fdf5eef9f85916fbde95621a3d454cb20fbe545ffc852). We see that even for the least popular choices, whales still contributed to the majority of the votes. LayerZero\", the runner-up, received ~37.7% of the total whale voting power. By comparison, \"Wormhole\" received ~51.1%."
   ]
  },
  {
   "cell_type": "code",
   "execution_count": 10,
   "metadata": {
    "tags": [
     "remove-input"
    ]
   },
   "outputs": [
    {
     "data": {
      "text/html": [
       "<div>\n",
       "<style scoped>\n",
       "    .dataframe tbody tr th:only-of-type {\n",
       "        vertical-align: middle;\n",
       "    }\n",
       "\n",
       "    .dataframe tbody tr th {\n",
       "        vertical-align: top;\n",
       "    }\n",
       "\n",
       "    .dataframe thead th {\n",
       "        text-align: right;\n",
       "    }\n",
       "</style>\n",
       "<table border=\"1\" class=\"dataframe\">\n",
       "  <thead>\n",
       "    <tr style=\"text-align: right;\">\n",
       "      <th></th>\n",
       "      <th>Wormhole</th>\n",
       "      <th>LayerZero</th>\n",
       "      <th>Celer</th>\n",
       "      <th>deBridge</th>\n",
       "    </tr>\n",
       "  </thead>\n",
       "  <tbody>\n",
       "    <tr>\n",
       "      <th>Scores</th>\n",
       "      <td>2.840391e+07</td>\n",
       "      <td>1.717334e+07</td>\n",
       "      <td>662.606204</td>\n",
       "      <td>3772.802474</td>\n",
       "    </tr>\n",
       "    <tr>\n",
       "      <th>Score Differences</th>\n",
       "      <td>2.327546e+07</td>\n",
       "      <td>1.716363e+07</td>\n",
       "      <td>481.545728</td>\n",
       "      <td>3402.436704</td>\n",
       "    </tr>\n",
       "  </tbody>\n",
       "</table>\n",
       "</div>"
      ],
      "text/plain": [
       "                       Wormhole     LayerZero       Celer     deBridge\n",
       "Scores             2.840391e+07  1.717334e+07  662.606204  3772.802474\n",
       "Score Differences  2.327546e+07  1.716363e+07  481.545728  3402.436704"
      ]
     },
     "execution_count": 10,
     "metadata": {},
     "output_type": "execute_result"
    }
   ],
   "source": [
    "propsal_choices = plutocracy_report_data['Uniswap'][plutocracy_report_data['Uniswap']['proposal_id'] == '0x6b8df360fdf73085b21fdf5eef9f85916fbde95621a3d454cb20fbe545ffc852'].iloc[0]['proposal_choices']\n",
    "mask = score_differences_dfs[\"Uniswap\"].index.to_series().apply(\n",
    "    lambda s: \"0x6b8df36\" in s,\n",
    ")\n",
    "proposal_score_differences = score_differences_dfs[\"Uniswap\"].loc[mask][\"score_differences\"][0]\n",
    "proposal_scores = plutocracy_report_data['Uniswap'][plutocracy_report_data['Uniswap']['proposal_id'] == '0x6b8df360fdf73085b21fdf5eef9f85916fbde95621a3d454cb20fbe545ffc852'].iloc[0]['proposal_scores']\n",
    "\n",
    "pd.DataFrame(\n",
    "    {choice: [score, score_diff] for choice, score, score_diff in zip(eval(propsal_choices), eval(proposal_scores), proposal_score_differences)},\n",
    "    index=[\"Scores\", \"Score Differences\"],\n",
    ")"
   ]
  },
  {
   "attachments": {},
   "cell_type": "markdown",
   "metadata": {},
   "source": [
    "## ENS\n",
    "\n",
    "### Filtered Proposal Outcome Analysis"
   ]
  },
  {
   "cell_type": "code",
   "execution_count": 11,
   "metadata": {
    "tags": [
     "remove-input",
     "full-width"
    ]
   },
   "outputs": [
    {
     "data": {
      "text/html": [
       "<table border=\"1\" class=\"dataframe\">\n",
       "  <thead>\n",
       "    <tr style=\"text-align: right;\">\n",
       "      <th></th>\n",
       "      <th>whale_vp_proportion</th>\n",
       "      <th>total_vp</th>\n",
       "      <th>outcome_changed</th>\n",
       "      <th>outcome_old</th>\n",
       "      <th>outcome_new</th>\n",
       "    </tr>\n",
       "    <tr>\n",
       "      <th>Proposal ID</th>\n",
       "      <th></th>\n",
       "      <th></th>\n",
       "      <th></th>\n",
       "      <th></th>\n",
       "      <th></th>\n",
       "    </tr>\n",
       "  </thead>\n",
       "  <tbody>\n",
       "    <tr>\n",
       "      <th><a href=http://snapshot.org/#/ens.eth/proposal/0x41b3509b88e15677aa15680f48278517f794822fb9a79b9c621def53f1866be7 rel=\"noopener noreferrer\" target=\"_blank\">0x41b3509</a></th>\n",
       "      <td>0.998301</td>\n",
       "      <td>1.670185e+06</td>\n",
       "      <td>False</td>\n",
       "      <td>For</td>\n",
       "      <td>For</td>\n",
       "    </tr>\n",
       "    <tr>\n",
       "      <th><a href=http://snapshot.org/#/ens.eth/proposal/0xd7eff781be059513b5cd64d79e709abbbc653944c9a8c621dc051e7b42a405cb rel=\"noopener noreferrer\" target=\"_blank\">0xd7eff78</a></th>\n",
       "      <td>0.998220</td>\n",
       "      <td>1.670154e+06</td>\n",
       "      <td>False</td>\n",
       "      <td>For</td>\n",
       "      <td>For</td>\n",
       "    </tr>\n",
       "    <tr>\n",
       "      <th><a href=http://snapshot.org/#/ens.eth/proposal/0x5788bf0f52ce82a1d3f7750a80f3001671ded49e4e0239dbbafd154275c78f8b rel=\"noopener noreferrer\" target=\"_blank\">0x5788bf0</a></th>\n",
       "      <td>0.998020</td>\n",
       "      <td>1.671687e+06</td>\n",
       "      <td>False</td>\n",
       "      <td>For</td>\n",
       "      <td>For</td>\n",
       "    </tr>\n",
       "    <tr>\n",
       "      <th><a href=http://snapshot.org/#/ens.eth/proposal/0xa245dc7264ae072620434996e1c66d82c64cefc5a2edde5114d691a8559d0b5f rel=\"noopener noreferrer\" target=\"_blank\">0xa245dc7</a></th>\n",
       "      <td>0.998011</td>\n",
       "      <td>2.282886e+06</td>\n",
       "      <td>False</td>\n",
       "      <td>slobo.eth</td>\n",
       "      <td>slobo.eth</td>\n",
       "    </tr>\n",
       "    <tr>\n",
       "      <th><a href=http://snapshot.org/#/ens.eth/proposal/0xa714c25d0f6bcb108635c1ea5a79bd5ef1c0a1c6e7fb13d62b9ab1fa83a68ff8 rel=\"noopener noreferrer\" target=\"_blank\">0xa714c25</a></th>\n",
       "      <td>0.997780</td>\n",
       "      <td>2.299997e+06</td>\n",
       "      <td>False</td>\n",
       "      <td>avsa.eth</td>\n",
       "      <td>avsa.eth</td>\n",
       "    </tr>\n",
       "    <tr>\n",
       "      <th><a href=http://snapshot.org/#/ens.eth/proposal/0xdaff050d30c77fe469da7eaa5b5bae0cb892f91a89c119367e47faf370667240 rel=\"noopener noreferrer\" target=\"_blank\">0xdaff050</a></th>\n",
       "      <td>0.997736</td>\n",
       "      <td>2.325021e+06</td>\n",
       "      <td>False</td>\n",
       "      <td>nick.eth</td>\n",
       "      <td>nick.eth</td>\n",
       "    </tr>\n",
       "    <tr>\n",
       "      <th><a href=http://snapshot.org/#/ens.eth/proposal/0x5c96e490f3e28d8269e8fc7e929491fb8fa5e4bd04d3379f0c4f4bb1a42dc23e rel=\"noopener noreferrer\" target=\"_blank\">0x5c96e49</a></th>\n",
       "      <td>0.994136</td>\n",
       "      <td>2.126140e+06</td>\n",
       "      <td>False</td>\n",
       "      <td>For</td>\n",
       "      <td>For</td>\n",
       "    </tr>\n",
       "    <tr>\n",
       "      <th><a href=http://snapshot.org/#/ens.eth/proposal/0x46c7294aca8d70ae8213e8e8c6915697c7be1aab731fbb7e534276f7eb0ef2b9 rel=\"noopener noreferrer\" target=\"_blank\">0x46c7294</a></th>\n",
       "      <td>0.993740</td>\n",
       "      <td>2.137811e+06</td>\n",
       "      <td>False</td>\n",
       "      <td>For</td>\n",
       "      <td>For</td>\n",
       "    </tr>\n",
       "    <tr>\n",
       "      <th><a href=http://snapshot.org/#/ens.eth/proposal/0x4a1aedbd9d22295f358dc4028b5a3f0a602bb5f1089dabdc2b63bf2bcce45834 rel=\"noopener noreferrer\" target=\"_blank\">0x4a1aedb</a></th>\n",
       "      <td>0.993403</td>\n",
       "      <td>2.639657e+06</td>\n",
       "      <td>False</td>\n",
       "      <td>For</td>\n",
       "      <td>For</td>\n",
       "    </tr>\n",
       "    <tr>\n",
       "      <th><a href=http://snapshot.org/#/ens.eth/proposal/0x97265786d808280adc788e6744dd07afd3ff7e2776527d18f4e19abe1bd6c1a5 rel=\"noopener noreferrer\" target=\"_blank\">0x9726578</a></th>\n",
       "      <td>0.991728</td>\n",
       "      <td>2.363679e+06</td>\n",
       "      <td>False</td>\n",
       "      <td>For</td>\n",
       "      <td>For</td>\n",
       "    </tr>\n",
       "    <tr>\n",
       "      <th><a href=http://snapshot.org/#/ens.eth/proposal/0x718c496b04017fb82749b68570d12f32c839f59b9f9433df127f48bf99121eb7 rel=\"noopener noreferrer\" target=\"_blank\">0x718c496</a></th>\n",
       "      <td>0.988244</td>\n",
       "      <td>1.683490e+06</td>\n",
       "      <td>False</td>\n",
       "      <td>For</td>\n",
       "      <td>For</td>\n",
       "    </tr>\n",
       "    <tr>\n",
       "      <th><a href=http://snapshot.org/#/ens.eth/proposal/0xa64ec8b446e509cb4b75092c4a714897790b70e2711fc3d6afa969c250e7eb92 rel=\"noopener noreferrer\" target=\"_blank\">0xa64ec8b</a></th>\n",
       "      <td>0.978053</td>\n",
       "      <td>2.292065e+06</td>\n",
       "      <td>False</td>\n",
       "      <td>For</td>\n",
       "      <td>For</td>\n",
       "    </tr>\n",
       "    <tr>\n",
       "      <th><a href=http://snapshot.org/#/ens.eth/proposal/0xc7186cf8bebe47600f8d847e76f7971ea97b48bc04eda1e07780aff91fb6410d rel=\"noopener noreferrer\" target=\"_blank\">0xc7186cf</a></th>\n",
       "      <td>0.970687</td>\n",
       "      <td>3.252712e+06</td>\n",
       "      <td>False</td>\n",
       "      <td>For</td>\n",
       "      <td>For</td>\n",
       "    </tr>\n",
       "    <tr>\n",
       "      <th><a href=http://snapshot.org/#/ens.eth/proposal/0xe07284156fb063d5fba6b9fed50cc74fad36ea02c2ede0207434db476884104b rel=\"noopener noreferrer\" target=\"_blank\">0xe072841</a></th>\n",
       "      <td>0.968392</td>\n",
       "      <td>3.159857e+06</td>\n",
       "      <td>False</td>\n",
       "      <td>For</td>\n",
       "      <td>For</td>\n",
       "    </tr>\n",
       "    <tr>\n",
       "      <th><a href=http://snapshot.org/#/ens.eth/proposal/0x104eb11d42813fadc2b408856e8fa2c10e34dbb4a87abaa2f089ece124263f16 rel=\"noopener noreferrer\" target=\"_blank\">0x104eb11</a></th>\n",
       "      <td>0.961057</td>\n",
       "      <td>3.147196e+06</td>\n",
       "      <td>False</td>\n",
       "      <td>For</td>\n",
       "      <td>For</td>\n",
       "    </tr>\n",
       "  </tbody>\n",
       "</table>"
      ],
      "text/plain": [
       "<IPython.core.display.HTML object>"
      ]
     },
     "execution_count": 11,
     "metadata": {},
     "output_type": "execute_result"
    }
   ],
   "source": [
    "HTML(score_differences_dfs[\"ENS\"].astype({\"total_vp\": \"float64\"}, copy=False).sort_values([\"whale_vp_proportion\", \"total_vp\"], ascending=False).drop(\"score_differences\", axis=1).to_html(render_links=True, escape=False))"
   ]
  },
  {
   "attachments": {},
   "cell_type": "markdown",
   "metadata": {},
   "source": [
    "### Proportion of Outcomes Changed"
   ]
  },
  {
   "cell_type": "code",
   "execution_count": 12,
   "metadata": {
    "tags": [
     "remove-input"
    ]
   },
   "outputs": [
    {
     "data": {
      "text/plain": [
       "False    1.0\n",
       "Name: outcome_changed, dtype: float64"
      ]
     },
     "execution_count": 12,
     "metadata": {},
     "output_type": "execute_result"
    }
   ],
   "source": [
    "score_differences_dfs[\"ENS\"][\"outcome_changed\"].value_counts(normalize=True)"
   ]
  },
  {
   "attachments": {},
   "cell_type": "markdown",
   "metadata": {},
   "source": [
    "### Proposal Analysis"
   ]
  },
  {
   "attachments": {},
   "cell_type": "markdown",
   "metadata": {},
   "source": [
    "A very small percentage of proposal outcomes were changed after filtering out whales, around 3.6%. However, if we take look at score differences as they compare to each score, we see that almost all proposals were heavily backed by whales."
   ]
  },
  {
   "cell_type": "code",
   "execution_count": 13,
   "metadata": {
    "tags": [
     "remove-input"
    ]
   },
   "outputs": [
    {
     "data": {
      "text/html": [
       "<div>\n",
       "<style scoped>\n",
       "    .dataframe tbody tr th:only-of-type {\n",
       "        vertical-align: middle;\n",
       "    }\n",
       "\n",
       "    .dataframe tbody tr th {\n",
       "        vertical-align: top;\n",
       "    }\n",
       "\n",
       "    .dataframe thead th {\n",
       "        text-align: right;\n",
       "    }\n",
       "</style>\n",
       "<table border=\"1\" class=\"dataframe\">\n",
       "  <thead>\n",
       "    <tr style=\"text-align: right;\">\n",
       "      <th></th>\n",
       "      <th>For</th>\n",
       "      <th>Against</th>\n",
       "      <th>Abstain</th>\n",
       "    </tr>\n",
       "  </thead>\n",
       "  <tbody>\n",
       "    <tr>\n",
       "      <th>Scores</th>\n",
       "      <td>1.669865e+06</td>\n",
       "      <td>125.702762</td>\n",
       "      <td>194.817417</td>\n",
       "    </tr>\n",
       "    <tr>\n",
       "      <th>Score Differences</th>\n",
       "      <td>1.667211e+06</td>\n",
       "      <td>0.000000</td>\n",
       "      <td>137.124541</td>\n",
       "    </tr>\n",
       "  </tbody>\n",
       "</table>\n",
       "</div>"
      ],
      "text/plain": [
       "                            For     Against     Abstain\n",
       "Scores             1.669865e+06  125.702762  194.817417\n",
       "Score Differences  1.667211e+06    0.000000  137.124541"
      ]
     },
     "execution_count": 13,
     "metadata": {},
     "output_type": "execute_result"
    }
   ],
   "source": [
    "propsal_choices = plutocracy_report_data['ENS'][plutocracy_report_data['ENS']['proposal_id'] == '0x41b3509b88e15677aa15680f48278517f794822fb9a79b9c621def53f1866be7'].iloc[0]['proposal_choices']\n",
    "mask = score_differences_dfs[\"ENS\"].index.to_series().apply(\n",
    "    lambda s: \"0x41b3509\" in s,\n",
    ")\n",
    "proposal_score_differences = score_differences_dfs[\"ENS\"].loc[mask][\"score_differences\"][0]\n",
    "proposal_scores = plutocracy_report_data['ENS'][plutocracy_report_data['ENS']['proposal_id'] == '0x41b3509b88e15677aa15680f48278517f794822fb9a79b9c621def53f1866be7'].iloc[0]['proposal_scores']\n",
    "\n",
    "pd.DataFrame(\n",
    "    {choice: [score, score_diff] for choice, score, score_diff in zip(eval(propsal_choices), eval(proposal_scores), proposal_score_differences)},\n",
    "    index=[\"Scores\", \"Score Differences\"],\n",
    ")"
   ]
  },
  {
   "attachments": {},
   "cell_type": "markdown",
   "metadata": {},
   "source": [
    "[This proposal](https://snapshot.org/#/ens.eth/proposal/0x41b3509b88e15677aa15680f48278517f794822fb9a79b9c621def53f1866be7) approves the funding of various grants ENS had committed to funding—-**250k USDC and 50 ETH of commitments in total**. 99.9% of the voting power committed to this proposal voted to approve it, 0.0001% was allocated to abstaining, and an even smaller percentage voted against it.\n",
    "\n",
    "Meaning that ~0.1% of the vote would've still been allocated towards voting for the proposal to pass even without whale intervention, which I think many would see as fine since the funding of public goods is always well received by DAO communities."
   ]
  },
  {
   "attachments": {},
   "cell_type": "markdown",
   "metadata": {},
   "source": [
    "[This proposal](https://snapshot.org/#/ens.eth/proposal/0x5788bf0f52ce82a1d3f7750a80f3001671ded49e4e0239dbbafd154275c78f8b) to commit **935k USDC and 254 ETH** to the ENS Ecosystem Working Group also enjoyed significant backing from whales. The Working Group is responsible for *growing and improving the ENS Ecosystem by funding people and projects that are ENS-specific or ENS-centric*."
   ]
  },
  {
   "cell_type": "code",
   "execution_count": 14,
   "metadata": {
    "tags": [
     "remove-input"
    ]
   },
   "outputs": [
    {
     "data": {
      "text/html": [
       "<div>\n",
       "<style scoped>\n",
       "    .dataframe tbody tr th:only-of-type {\n",
       "        vertical-align: middle;\n",
       "    }\n",
       "\n",
       "    .dataframe tbody tr th {\n",
       "        vertical-align: top;\n",
       "    }\n",
       "\n",
       "    .dataframe thead th {\n",
       "        text-align: right;\n",
       "    }\n",
       "</style>\n",
       "<table border=\"1\" class=\"dataframe\">\n",
       "  <thead>\n",
       "    <tr style=\"text-align: right;\">\n",
       "      <th></th>\n",
       "      <th>For</th>\n",
       "      <th>Against</th>\n",
       "      <th>Abstain</th>\n",
       "    </tr>\n",
       "  </thead>\n",
       "  <tbody>\n",
       "    <tr>\n",
       "      <th>Scores</th>\n",
       "      <td>1.449464e+06</td>\n",
       "      <td>208582.378002</td>\n",
       "      <td>13640.353424</td>\n",
       "    </tr>\n",
       "    <tr>\n",
       "      <th>Score Differences</th>\n",
       "      <td>1.446509e+06</td>\n",
       "      <td>208348.531592</td>\n",
       "      <td>13519.449465</td>\n",
       "    </tr>\n",
       "  </tbody>\n",
       "</table>\n",
       "</div>"
      ],
      "text/plain": [
       "                            For        Against       Abstain\n",
       "Scores             1.449464e+06  208582.378002  13640.353424\n",
       "Score Differences  1.446509e+06  208348.531592  13519.449465"
      ]
     },
     "execution_count": 14,
     "metadata": {},
     "output_type": "execute_result"
    }
   ],
   "source": [
    "propsal_choices = plutocracy_report_data['ENS'][plutocracy_report_data['ENS']['proposal_id'] == '0x5788bf0f52ce82a1d3f7750a80f3001671ded49e4e0239dbbafd154275c78f8b'].iloc[0]['proposal_choices']\n",
    "mask = score_differences_dfs[\"ENS\"].index.to_series().apply(\n",
    "    lambda s: \"0x5788bf0\" in s,\n",
    ")\n",
    "proposal_score_differences = score_differences_dfs[\"ENS\"].loc[mask][\"score_differences\"][0]\n",
    "proposal_scores = plutocracy_report_data['ENS'][plutocracy_report_data['ENS']['proposal_id'] == '0x5788bf0f52ce82a1d3f7750a80f3001671ded49e4e0239dbbafd154275c78f8b'].iloc[0]['proposal_scores']\n",
    "\n",
    "pd.DataFrame(\n",
    "    {choice: [score, score_diff] for choice, score, score_diff in zip(eval(propsal_choices), eval(proposal_scores), proposal_score_differences)},\n",
    "    index=[\"Scores\", \"Score Differences\"],\n",
    ")"
   ]
  },
  {
   "attachments": {},
   "cell_type": "markdown",
   "metadata": {},
   "source": [
    "Similar to the previous proposal, this was highly influenced by whales (~86.5% of voting power committed to this proposal committed by whales that voted for it to pass, ~12.5% from whales that voted against it, and ~0.8% of whales voted to abstain).\n",
    "\n",
    "Yet, even after removing whales, the proposal still passes. After doing some quick math, we can see the remaining voting power for this proposal that voted for its passing equates to about ~0.17% out of the remaining 0.2% of voting power after removing whales.\n",
    "\n",
    "Still, I do not believe the outcome of this proposal is controversial. An organisation funding initiatives that aid in the development of its product should not be a controversial topic for its members. "
   ]
  },
  {
   "attachments": {},
   "cell_type": "markdown",
   "metadata": {},
   "source": [
    "## Lido\n",
    "### Filtered Proposal Analysis"
   ]
  },
  {
   "cell_type": "code",
   "execution_count": 15,
   "metadata": {
    "tags": [
     "remove-input",
     "full-width"
    ]
   },
   "outputs": [
    {
     "data": {
      "text/html": [
       "<table border=\"1\" class=\"dataframe\">\n",
       "  <thead>\n",
       "    <tr style=\"text-align: right;\">\n",
       "      <th></th>\n",
       "      <th>whale_vp_proportion</th>\n",
       "      <th>total_vp</th>\n",
       "      <th>outcome_changed</th>\n",
       "      <th>outcome_old</th>\n",
       "      <th>outcome_new</th>\n",
       "    </tr>\n",
       "    <tr>\n",
       "      <th>Proposal ID</th>\n",
       "      <th></th>\n",
       "      <th></th>\n",
       "      <th></th>\n",
       "      <th></th>\n",
       "      <th></th>\n",
       "    </tr>\n",
       "  </thead>\n",
       "  <tbody>\n",
       "    <tr>\n",
       "      <th><a href=http://snapshot.org/#/lido-snapshot.eth/proposal/0x3b1e5f9960e682abdc25c86624ad13acb88ee1cea18db9be99379b44750c7b36 rel=\"noopener noreferrer\" target=\"_blank\">0x3b1e5f9</a></th>\n",
       "      <td>0.999968</td>\n",
       "      <td>5.518937e+07</td>\n",
       "      <td>False</td>\n",
       "      <td>For</td>\n",
       "      <td>For</td>\n",
       "    </tr>\n",
       "    <tr>\n",
       "      <th><a href=http://snapshot.org/#/lido-snapshot.eth/proposal/0x7ac2431dc0eddcad4a02ba220a19f451ab6b064a0eaef961ed386dc573722a7f rel=\"noopener noreferrer\" target=\"_blank\">0x7ac2431</a></th>\n",
       "      <td>0.999945</td>\n",
       "      <td>5.769020e+07</td>\n",
       "      <td>False</td>\n",
       "      <td>For</td>\n",
       "      <td>For</td>\n",
       "    </tr>\n",
       "    <tr>\n",
       "      <th><a href=http://snapshot.org/#/lido-snapshot.eth/proposal/0x32f6f095dc4f7b97665b560781d6e6795da11f9c8218936a505575040038d70f rel=\"noopener noreferrer\" target=\"_blank\">0x32f6f09</a></th>\n",
       "      <td>0.999934</td>\n",
       "      <td>5.717509e+07</td>\n",
       "      <td>False</td>\n",
       "      <td>For</td>\n",
       "      <td>For</td>\n",
       "    </tr>\n",
       "    <tr>\n",
       "      <th><a href=http://snapshot.org/#/lido-snapshot.eth/proposal/0x3436b98afacec300ec2c0f79bb8dfd16685ececeeb7a45a18754d43b710179e8 rel=\"noopener noreferrer\" target=\"_blank\">0x3436b98</a></th>\n",
       "      <td>0.999932</td>\n",
       "      <td>5.717666e+07</td>\n",
       "      <td>False</td>\n",
       "      <td>For</td>\n",
       "      <td>For</td>\n",
       "    </tr>\n",
       "    <tr>\n",
       "      <th><a href=http://snapshot.org/#/lido-snapshot.eth/proposal/0x7f19fed19b66df88b45d64c22f9905fbf716839a5052fb79b10ee2ef1241645d rel=\"noopener noreferrer\" target=\"_blank\">0x7f19fed</a></th>\n",
       "      <td>0.999930</td>\n",
       "      <td>5.455752e+07</td>\n",
       "      <td>False</td>\n",
       "      <td>YAY</td>\n",
       "      <td>YAY</td>\n",
       "    </tr>\n",
       "    <tr>\n",
       "      <th><a href=http://snapshot.org/#/lido-snapshot.eth/proposal/0xc00b48275e268f26b6cebf82322f281a44acaf679f6381dd612e278174671daf rel=\"noopener noreferrer\" target=\"_blank\">0xc00b482</a></th>\n",
       "      <td>0.999917</td>\n",
       "      <td>5.311034e+07</td>\n",
       "      <td>False</td>\n",
       "      <td>For</td>\n",
       "      <td>For</td>\n",
       "    </tr>\n",
       "    <tr>\n",
       "      <th><a href=http://snapshot.org/#/lido-snapshot.eth/proposal/0x9d39cc7ed918e89cff5a597ff1e0bce0974f5721283dcac6ccc8274bde703d1f rel=\"noopener noreferrer\" target=\"_blank\">0x9d39cc7</a></th>\n",
       "      <td>0.999909</td>\n",
       "      <td>6.413642e+07</td>\n",
       "      <td>False</td>\n",
       "      <td>For</td>\n",
       "      <td>For</td>\n",
       "    </tr>\n",
       "    <tr>\n",
       "      <th><a href=http://snapshot.org/#/lido-snapshot.eth/proposal/0x5844beba37131b3621c5c96621603db7cb7e2771d1c690dc6869ebd117e12abb rel=\"noopener noreferrer\" target=\"_blank\">0x5844beb</a></th>\n",
       "      <td>0.999905</td>\n",
       "      <td>6.416467e+07</td>\n",
       "      <td>False</td>\n",
       "      <td>For</td>\n",
       "      <td>For</td>\n",
       "    </tr>\n",
       "    <tr>\n",
       "      <th><a href=http://snapshot.org/#/lido-snapshot.eth/proposal/0xf2d6161128682bb3807838e51e33c318f1b6beca3e235ebf8c79682b800aedde rel=\"noopener noreferrer\" target=\"_blank\">0xf2d6161</a></th>\n",
       "      <td>0.999895</td>\n",
       "      <td>6.650449e+07</td>\n",
       "      <td>False</td>\n",
       "      <td>For</td>\n",
       "      <td>For</td>\n",
       "    </tr>\n",
       "    <tr>\n",
       "      <th><a href=http://snapshot.org/#/lido-snapshot.eth/proposal/0xcbf534335fe07c046caa933e1623ac38bfb3d1890ab825264a0b47415cf7799b rel=\"noopener noreferrer\" target=\"_blank\">0xcbf5343</a></th>\n",
       "      <td>0.999891</td>\n",
       "      <td>5.282637e+07</td>\n",
       "      <td>True</td>\n",
       "      <td>2. For 4 new oracles, 5/9 set</td>\n",
       "      <td>1. For 6 new oracles, 6/11 set</td>\n",
       "    </tr>\n",
       "    <tr>\n",
       "      <th><a href=http://snapshot.org/#/lido-snapshot.eth/proposal/0x57c8e1017c79eacbe4dc56b9b0077f445d8bb8e49ec7dced4f6c3b3e63029eb1 rel=\"noopener noreferrer\" target=\"_blank\">0x57c8e10</a></th>\n",
       "      <td>0.999881</td>\n",
       "      <td>6.414131e+07</td>\n",
       "      <td>False</td>\n",
       "      <td>For</td>\n",
       "      <td>For</td>\n",
       "    </tr>\n",
       "    <tr>\n",
       "      <th><a href=http://snapshot.org/#/lido-snapshot.eth/proposal/0xb2732ebb88f93b0c0cf649dfe6cc7e7549b36523781b9171c57e9ae68e441567 rel=\"noopener noreferrer\" target=\"_blank\">0xb2732eb</a></th>\n",
       "      <td>0.999875</td>\n",
       "      <td>3.898268e+07</td>\n",
       "      <td>False</td>\n",
       "      <td>For</td>\n",
       "      <td>For</td>\n",
       "    </tr>\n",
       "    <tr>\n",
       "      <th><a href=http://snapshot.org/#/lido-snapshot.eth/proposal/0xeeadc3b5bfb4565cca611499c2c39e37e84bab8ad63b4f6a74d73b4151b0e791 rel=\"noopener noreferrer\" target=\"_blank\">0xeeadc3b</a></th>\n",
       "      <td>0.999867</td>\n",
       "      <td>6.139175e+07</td>\n",
       "      <td>False</td>\n",
       "      <td>For</td>\n",
       "      <td>For</td>\n",
       "    </tr>\n",
       "    <tr>\n",
       "      <th><a href=http://snapshot.org/#/lido-snapshot.eth/proposal/0xbb5c7f1b0ae30b502ec207cffa324b05f69d6024cc56d94b0ea8df69216de1c4 rel=\"noopener noreferrer\" target=\"_blank\">0xbb5c7f1</a></th>\n",
       "      <td>0.999863</td>\n",
       "      <td>3.846066e+07</td>\n",
       "      <td>False</td>\n",
       "      <td>Upgrade to V2</td>\n",
       "      <td>Upgrade to V2</td>\n",
       "    </tr>\n",
       "    <tr>\n",
       "      <th><a href=http://snapshot.org/#/lido-snapshot.eth/proposal/0xa3995b1c5a9805aeb897fe94a0120588be394ba3c177c22c67b55c3d2ed5d590 rel=\"noopener noreferrer\" target=\"_blank\">0xa3995b1</a></th>\n",
       "      <td>0.999817</td>\n",
       "      <td>4.763423e+07</td>\n",
       "      <td>False</td>\n",
       "      <td>For</td>\n",
       "      <td>For</td>\n",
       "    </tr>\n",
       "    <tr>\n",
       "      <th><a href=http://snapshot.org/#/lido-snapshot.eth/proposal/0x3fdb38cc13abdfccf9978a27b74de7a47d52663c952bc6d8c4b8881442610fa3 rel=\"noopener noreferrer\" target=\"_blank\">0x3fdb38c</a></th>\n",
       "      <td>0.999796</td>\n",
       "      <td>3.955494e+07</td>\n",
       "      <td>False</td>\n",
       "      <td>For</td>\n",
       "      <td>For</td>\n",
       "    </tr>\n",
       "    <tr>\n",
       "      <th><a href=http://snapshot.org/#/lido-snapshot.eth/proposal/0x933548c6f64dea6b12b9ff589c8d4ec3ac5bf74906a738e7fbfb7831c149975c rel=\"noopener noreferrer\" target=\"_blank\">0x933548c</a></th>\n",
       "      <td>0.999732</td>\n",
       "      <td>5.489371e+07</td>\n",
       "      <td>False</td>\n",
       "      <td>For</td>\n",
       "      <td>For</td>\n",
       "    </tr>\n",
       "    <tr>\n",
       "      <th><a href=http://snapshot.org/#/lido-snapshot.eth/proposal/0xce01f9f6521b7873e1fd59564b64ee13f4d2dfd5251c996e61ed4258df9de685 rel=\"noopener noreferrer\" target=\"_blank\">0xce01f9f</a></th>\n",
       "      <td>0.999731</td>\n",
       "      <td>5.058910e+07</td>\n",
       "      <td>False</td>\n",
       "      <td>For</td>\n",
       "      <td>For</td>\n",
       "    </tr>\n",
       "    <tr>\n",
       "      <th><a href=http://snapshot.org/#/lido-snapshot.eth/proposal/0x629b547c688dea536a4a5c5b42274894ac068df0b0278d173b4d7a68c8c4281d rel=\"noopener noreferrer\" target=\"_blank\">0x629b547</a></th>\n",
       "      <td>0.999072</td>\n",
       "      <td>2.388043e+05</td>\n",
       "      <td>False</td>\n",
       "      <td>Support the upgrade plan</td>\n",
       "      <td>Support the upgrade plan</td>\n",
       "    </tr>\n",
       "    <tr>\n",
       "      <th><a href=http://snapshot.org/#/lido-snapshot.eth/proposal/0x4208b8d791cbf36721aa1e0776f9a96e305ceb0117b34265b376812e75cb0b2d rel=\"noopener noreferrer\" target=\"_blank\">0x4208b8d</a></th>\n",
       "      <td>0.515368</td>\n",
       "      <td>2.438447e+02</td>\n",
       "      <td>False</td>\n",
       "      <td>For</td>\n",
       "      <td>For</td>\n",
       "    </tr>\n",
       "  </tbody>\n",
       "</table>"
      ],
      "text/plain": [
       "<IPython.core.display.HTML object>"
      ]
     },
     "execution_count": 15,
     "metadata": {},
     "output_type": "execute_result"
    }
   ],
   "source": [
    "HTML(score_differences_dfs[\"Lido\"].astype({\"total_vp\": \"float64\"}, copy=False).sort_values([\"whale_vp_proportion\", \"total_vp\"], ascending=False).drop(\"score_differences\", axis=1).to_html(render_links=True, escape=False))"
   ]
  },
  {
   "attachments": {},
   "cell_type": "markdown",
   "metadata": {},
   "source": [
    "### Proportion of Outcomes Changed"
   ]
  },
  {
   "cell_type": "code",
   "execution_count": 16,
   "metadata": {
    "tags": [
     "remove-input"
    ]
   },
   "outputs": [
    {
     "data": {
      "text/plain": [
       "False    0.95\n",
       "True     0.05\n",
       "Name: outcome_changed, dtype: float64"
      ]
     },
     "execution_count": 16,
     "metadata": {},
     "output_type": "execute_result"
    }
   ],
   "source": [
    "score_differences_dfs[\"Lido\"][\"outcome_changed\"].value_counts(normalize=True)"
   ]
  },
  {
   "attachments": {},
   "cell_type": "markdown",
   "metadata": {},
   "source": [
    "Here, there was a change in outcome for just six of the proposals (6%). [This proposal](https://snapshot.org/#/lido-snapshot.eth/proposal/0xcbf534335fe07c046caa933e1623ac38bfb3d1890ab825264a0b47415cf7799b) to [expand the oracle set and quorum](https://mainnet.lido.fi/#/lido-dao/0x442af784a788a5bd6f42a01ebe9f287a871243fb/) of Lido DAO oracle node operators was passed on 16/12/22, onboarded 4 new oracle node operators, and set the quorum to 5/9 identical oracle reports to be accepted by the protocol.\n",
    "\n",
    "Had whales not intervened, Option 1 to onboard 6 additional oracles and set the quorum to 6/11, would've passed."
   ]
  },
  {
   "cell_type": "code",
   "execution_count": 17,
   "metadata": {
    "tags": [
     "remove-input"
    ]
   },
   "outputs": [
    {
     "data": {
      "text/html": [
       "<div>\n",
       "<style scoped>\n",
       "    .dataframe tbody tr th:only-of-type {\n",
       "        vertical-align: middle;\n",
       "    }\n",
       "\n",
       "    .dataframe tbody tr th {\n",
       "        vertical-align: top;\n",
       "    }\n",
       "\n",
       "    .dataframe thead th {\n",
       "        text-align: right;\n",
       "    }\n",
       "</style>\n",
       "<table border=\"1\" class=\"dataframe\">\n",
       "  <thead>\n",
       "    <tr style=\"text-align: right;\">\n",
       "      <th></th>\n",
       "      <th>1. For 6 new oracles, 6/11 set</th>\n",
       "      <th>2. For 4 new oracles, 5/9 set</th>\n",
       "      <th>3. Against</th>\n",
       "    </tr>\n",
       "  </thead>\n",
       "  <tbody>\n",
       "    <tr>\n",
       "      <th>Scores</th>\n",
       "      <td>96886.616711</td>\n",
       "      <td>5.272470e+07</td>\n",
       "      <td>4778.954352</td>\n",
       "    </tr>\n",
       "    <tr>\n",
       "      <th>Score Differences</th>\n",
       "      <td>92934.922644</td>\n",
       "      <td>5.272312e+07</td>\n",
       "      <td>4535.772055</td>\n",
       "    </tr>\n",
       "  </tbody>\n",
       "</table>\n",
       "</div>"
      ],
      "text/plain": [
       "                   1. For 6 new oracles, 6/11 set  \\\n",
       "Scores                               96886.616711   \n",
       "Score Differences                    92934.922644   \n",
       "\n",
       "                   2. For 4 new oracles, 5/9 set   3. Against  \n",
       "Scores                              5.272470e+07  4778.954352  \n",
       "Score Differences                   5.272312e+07  4535.772055  "
      ]
     },
     "execution_count": 17,
     "metadata": {},
     "output_type": "execute_result"
    }
   ],
   "source": [
    "propsal_choices = plutocracy_report_data['Lido'][plutocracy_report_data['Lido']['proposal_id'] == '0xcbf534335fe07c046caa933e1623ac38bfb3d1890ab825264a0b47415cf7799b'].iloc[0]['proposal_choices']\n",
    "mask = score_differences_dfs[\"Lido\"].index.to_series().apply(\n",
    "    lambda s: \"0xcbf5343\" in s,\n",
    ")\n",
    "proposal_score_differences = score_differences_dfs[\"Lido\"].loc[mask][\"score_differences\"][0]\n",
    "proposal_scores = plutocracy_report_data['Lido'][plutocracy_report_data['Lido']['proposal_id'] == '0xcbf534335fe07c046caa933e1623ac38bfb3d1890ab825264a0b47415cf7799b'].iloc[0]['proposal_scores']\n",
    "\n",
    "pd.DataFrame(\n",
    "    {choice: [score, score_diff] for choice, score, score_diff in zip(eval(propsal_choices), eval(proposal_scores), proposal_score_differences)},\n",
    "    index=[\"Scores\", \"Score Differences\"],\n",
    ")"
   ]
  },
  {
   "attachments": {},
   "cell_type": "markdown",
   "metadata": {},
   "source": [
    "Here we see whale participation was consistent for all choices for this proposal. In fact, ~99.982% of voting power allocated to this proposal came from whales that voted for each of the outcomes. The second outcome alone had ~99.980% of the voting power allocated to this proposal and so removing it would make a huge impression on the outcome.\n",
    "\n",
    "Voting power allocated to this proposal would be low without whale intervention: (only ~9277.7397 LDO would be allocated to this proposal). However, the community would still vote for adding more oracles that [broadcasts the chain state from the beacon chain to the execution layer](https://docs.lido.fi/guides/oracle-operator-manual) of ETH 2.0."
   ]
  },
  {
   "attachments": {},
   "cell_type": "markdown",
   "metadata": {},
   "source": [
    "## Frax\n",
    "### Filtered Proposal Outcome Analysis"
   ]
  },
  {
   "cell_type": "code",
   "execution_count": 18,
   "metadata": {
    "tags": [
     "remove-input",
     "full-width"
    ]
   },
   "outputs": [
    {
     "data": {
      "text/html": [
       "<table border=\"1\" class=\"dataframe\">\n",
       "  <thead>\n",
       "    <tr style=\"text-align: right;\">\n",
       "      <th></th>\n",
       "      <th>whale_vp_proportion</th>\n",
       "      <th>total_vp</th>\n",
       "      <th>outcome_changed</th>\n",
       "      <th>outcome_old</th>\n",
       "      <th>outcome_new</th>\n",
       "    </tr>\n",
       "    <tr>\n",
       "      <th>Proposal ID</th>\n",
       "      <th></th>\n",
       "      <th></th>\n",
       "      <th></th>\n",
       "      <th></th>\n",
       "      <th></th>\n",
       "    </tr>\n",
       "  </thead>\n",
       "  <tbody>\n",
       "    <tr>\n",
       "      <th><a href=http://snapshot.org/#/frax.eth/proposal/0x9547dee11379b25e7de9ad0884b6e4d7a0b4e6b049abc848b26e9279db5162bc rel=\"noopener noreferrer\" target=\"_blank\">0x9547dee</a></th>\n",
       "      <td>0.999550</td>\n",
       "      <td>2.659437e+07</td>\n",
       "      <td>False</td>\n",
       "      <td>For</td>\n",
       "      <td>For</td>\n",
       "    </tr>\n",
       "    <tr>\n",
       "      <th><a href=http://snapshot.org/#/frax.eth/proposal/0x6fc17d995e620ccd9af812da7354d620a8cfb543b649d28fb829d814cb45e26e rel=\"noopener noreferrer\" target=\"_blank\">0x6fc17d9</a></th>\n",
       "      <td>0.991518</td>\n",
       "      <td>3.633629e+07</td>\n",
       "      <td>False</td>\n",
       "      <td>For</td>\n",
       "      <td>For</td>\n",
       "    </tr>\n",
       "    <tr>\n",
       "      <th><a href=http://snapshot.org/#/frax.eth/proposal/0x1127ca8206adbce95004ed0496defd1b25ee8bbd542757c73b77cc3ee6f058c7 rel=\"noopener noreferrer\" target=\"_blank\">0x1127ca8</a></th>\n",
       "      <td>0.985974</td>\n",
       "      <td>3.375063e+07</td>\n",
       "      <td>False</td>\n",
       "      <td>For</td>\n",
       "      <td>For</td>\n",
       "    </tr>\n",
       "    <tr>\n",
       "      <th><a href=http://snapshot.org/#/frax.eth/proposal/0x1c844e1bd646e9545564b0a731f845cfb6c386fba2fe4932eddc8a9ad69b796b rel=\"noopener noreferrer\" target=\"_blank\">0x1c844e1</a></th>\n",
       "      <td>0.984243</td>\n",
       "      <td>3.377246e+07</td>\n",
       "      <td>False</td>\n",
       "      <td>For</td>\n",
       "      <td>For</td>\n",
       "    </tr>\n",
       "    <tr>\n",
       "      <th><a href=http://snapshot.org/#/frax.eth/proposal/0x8f497b3efdb082b236f3a1f6ee3284a5652a72f84223b19d03e386522bb2a44d rel=\"noopener noreferrer\" target=\"_blank\">0x8f497b3</a></th>\n",
       "      <td>0.983152</td>\n",
       "      <td>2.775706e+07</td>\n",
       "      <td>False</td>\n",
       "      <td>For</td>\n",
       "      <td>For</td>\n",
       "    </tr>\n",
       "    <tr>\n",
       "      <th><a href=http://snapshot.org/#/frax.eth/proposal/0xa688bcc33398fcb2b7543993962f2049513154fc337646b6433e3f38d84dedc5 rel=\"noopener noreferrer\" target=\"_blank\">0xa688bcc</a></th>\n",
       "      <td>0.952812</td>\n",
       "      <td>3.760456e+07</td>\n",
       "      <td>True</td>\n",
       "      <td>Against</td>\n",
       "      <td>For</td>\n",
       "    </tr>\n",
       "    <tr>\n",
       "      <th><a href=http://snapshot.org/#/frax.eth/proposal/0x30f07adde0872b25d410d127537c484ca13c9c9989b31c7f5d619fcec5eb3629 rel=\"noopener noreferrer\" target=\"_blank\">0x30f07ad</a></th>\n",
       "      <td>0.925340</td>\n",
       "      <td>3.259459e+03</td>\n",
       "      <td>False</td>\n",
       "      <td>For</td>\n",
       "      <td>For</td>\n",
       "    </tr>\n",
       "    <tr>\n",
       "      <th><a href=http://snapshot.org/#/frax.eth/proposal/0x4c4ad066cb34571872d71c2b4be4a184e300d1326569b571a91065a3f57c6ed0 rel=\"noopener noreferrer\" target=\"_blank\">0x4c4ad06</a></th>\n",
       "      <td>0.912745</td>\n",
       "      <td>5.256330e+05</td>\n",
       "      <td>False</td>\n",
       "      <td>For</td>\n",
       "      <td>For</td>\n",
       "    </tr>\n",
       "    <tr>\n",
       "      <th><a href=http://snapshot.org/#/frax.eth/proposal/0xd7a869e60d7302c821637f88527db3a4cc927a75566095d2eee1baa01d74c0e3 rel=\"noopener noreferrer\" target=\"_blank\">0xd7a869e</a></th>\n",
       "      <td>0.911208</td>\n",
       "      <td>1.829533e+05</td>\n",
       "      <td>False</td>\n",
       "      <td>For</td>\n",
       "      <td>For</td>\n",
       "    </tr>\n",
       "    <tr>\n",
       "      <th><a href=http://snapshot.org/#/frax.eth/proposal/0x206884236b6d568ddb3f7cbff5be8556d92bef7ff5cfc5713de39891491d7aad rel=\"noopener noreferrer\" target=\"_blank\">0x2068842</a></th>\n",
       "      <td>0.904213</td>\n",
       "      <td>5.952755e+06</td>\n",
       "      <td>False</td>\n",
       "      <td>For</td>\n",
       "      <td>For</td>\n",
       "    </tr>\n",
       "    <tr>\n",
       "      <th><a href=http://snapshot.org/#/frax.eth/proposal/0xd5b4f9a9bcf72e50487e476ef7ef36fff86f70b20659cf875034fd988d339f32 rel=\"noopener noreferrer\" target=\"_blank\">0xd5b4f9a</a></th>\n",
       "      <td>0.889500</td>\n",
       "      <td>6.833075e+05</td>\n",
       "      <td>False</td>\n",
       "      <td>For</td>\n",
       "      <td>For</td>\n",
       "    </tr>\n",
       "    <tr>\n",
       "      <th><a href=http://snapshot.org/#/frax.eth/proposal/0x1272233285b3b4ce026173ec4e2a59d6c8daba3d64b41e67ba160cc526fc5c7d rel=\"noopener noreferrer\" target=\"_blank\">0x1272233</a></th>\n",
       "      <td>0.879926</td>\n",
       "      <td>4.136920e+07</td>\n",
       "      <td>False</td>\n",
       "      <td>For</td>\n",
       "      <td>For</td>\n",
       "    </tr>\n",
       "    <tr>\n",
       "      <th><a href=http://snapshot.org/#/frax.eth/proposal/0x6d43531f54de3d52ad439dcb6c56e3eae1b833fceb4d484dcb3b20be070ca25d rel=\"noopener noreferrer\" target=\"_blank\">0x6d43531</a></th>\n",
       "      <td>0.839944</td>\n",
       "      <td>4.265763e+07</td>\n",
       "      <td>False</td>\n",
       "      <td>For</td>\n",
       "      <td>For</td>\n",
       "    </tr>\n",
       "    <tr>\n",
       "      <th><a href=http://snapshot.org/#/frax.eth/proposal/0x05888e106ea31cfc1af09dcccbe9012a6cd394dccc0e1bc5ef3587f70b08e483 rel=\"noopener noreferrer\" target=\"_blank\">0x05888e1</a></th>\n",
       "      <td>0.827736</td>\n",
       "      <td>7.342978e+05</td>\n",
       "      <td>False</td>\n",
       "      <td>For</td>\n",
       "      <td>For</td>\n",
       "    </tr>\n",
       "    <tr>\n",
       "      <th><a href=http://snapshot.org/#/frax.eth/proposal/0x02aa360090c273c1218b84fe4b25e2be1d6a0210be1419087832da3ac15c38eb rel=\"noopener noreferrer\" target=\"_blank\">0x02aa360</a></th>\n",
       "      <td>0.812537</td>\n",
       "      <td>4.011643e+07</td>\n",
       "      <td>False</td>\n",
       "      <td>For</td>\n",
       "      <td>For</td>\n",
       "    </tr>\n",
       "    <tr>\n",
       "      <th><a href=http://snapshot.org/#/frax.eth/proposal/0x9cc997cf19f797919e40d87e17c7eed87aefa10279fbeef89761cb1717ac56b8 rel=\"noopener noreferrer\" target=\"_blank\">0x9cc997c</a></th>\n",
       "      <td>0.811329</td>\n",
       "      <td>4.017614e+07</td>\n",
       "      <td>False</td>\n",
       "      <td>For</td>\n",
       "      <td>For</td>\n",
       "    </tr>\n",
       "    <tr>\n",
       "      <th><a href=http://snapshot.org/#/frax.eth/proposal/0xe53269e838ab2ca0d8e09f8326d2a4ffb3425ecb1b39dfe89b72b7178b486614 rel=\"noopener noreferrer\" target=\"_blank\">0xe53269e</a></th>\n",
       "      <td>0.809403</td>\n",
       "      <td>4.027181e+07</td>\n",
       "      <td>False</td>\n",
       "      <td>For</td>\n",
       "      <td>For</td>\n",
       "    </tr>\n",
       "    <tr>\n",
       "      <th><a href=http://snapshot.org/#/frax.eth/proposal/0xe6a925a1fedc1ab3f5349fe0b405c7ed89cc3e720ad7dc26570e8e9245f11e93 rel=\"noopener noreferrer\" target=\"_blank\">0xe6a925a</a></th>\n",
       "      <td>0.791819</td>\n",
       "      <td>4.550032e+07</td>\n",
       "      <td>False</td>\n",
       "      <td>For</td>\n",
       "      <td>For</td>\n",
       "    </tr>\n",
       "    <tr>\n",
       "      <th><a href=http://snapshot.org/#/frax.eth/proposal/0xece8d5be8b180b54350c4bddee190e24e2849d233f8aac11e0ef0aa7d658ae2a rel=\"noopener noreferrer\" target=\"_blank\">0xece8d5b</a></th>\n",
       "      <td>0.787636</td>\n",
       "      <td>1.172910e+07</td>\n",
       "      <td>False</td>\n",
       "      <td>For</td>\n",
       "      <td>For</td>\n",
       "    </tr>\n",
       "    <tr>\n",
       "      <th><a href=http://snapshot.org/#/frax.eth/proposal/0xda26f181df9014367a1dfeb597c376e17c7b4d1b92fd7555cc3d010cb37b1be2 rel=\"noopener noreferrer\" target=\"_blank\">0xda26f18</a></th>\n",
       "      <td>0.646389</td>\n",
       "      <td>1.887457e+04</td>\n",
       "      <td>False</td>\n",
       "      <td>For</td>\n",
       "      <td>For</td>\n",
       "    </tr>\n",
       "  </tbody>\n",
       "</table>"
      ],
      "text/plain": [
       "<IPython.core.display.HTML object>"
      ]
     },
     "execution_count": 18,
     "metadata": {},
     "output_type": "execute_result"
    }
   ],
   "source": [
    "HTML(score_differences_dfs[\"Frax\"].astype({\"total_vp\": \"float64\"}, copy=False).sort_values(\"whale_vp_proportion\", ascending=False).drop(\"score_differences\", axis=1).to_html(render_links=True, escape=False))"
   ]
  },
  {
   "attachments": {},
   "cell_type": "markdown",
   "metadata": {},
   "source": [
    "### Proportion of Outcomes Changed"
   ]
  },
  {
   "cell_type": "code",
   "execution_count": 19,
   "metadata": {
    "tags": [
     "remove-input"
    ]
   },
   "outputs": [
    {
     "data": {
      "text/plain": [
       "False    0.95\n",
       "True     0.05\n",
       "Name: outcome_changed, dtype: float64"
      ]
     },
     "execution_count": 19,
     "metadata": {},
     "output_type": "execute_result"
    }
   ],
   "source": [
    "score_differences_dfs[\"Frax\"][\"outcome_changed\"].value_counts(normalize=True)"
   ]
  },
  {
   "attachments": {},
   "cell_type": "markdown",
   "metadata": {},
   "source": [
    "While enormous voting power was filtered out from all the proposals listed, five had their outcomes changed (representing 5% of all proposals analysed).\n",
    "\n",
    "If we look at the [proposal which attracted the most voting power](https://snapshot.org/#/frax.eth/proposal/0xece8d5be8b180b54350c4bddee190e24e2849d233f8aac11e0ef0aa7d658ae2a), which renewed the 2023 grant for Flywheel (in the amount of approx $214.2k, split 50/50 in FXS and FRAX) for the promotion of \"the Frax ecosystem and producing high-quality DeFi content\", we see that just over 50% of the voting power was removed from this proposal after filtering out whales (approx 56.7%)."
   ]
  },
  {
   "cell_type": "code",
   "execution_count": 20,
   "metadata": {
    "tags": [
     "remove-input"
    ]
   },
   "outputs": [
    {
     "data": {
      "text/html": [
       "<div>\n",
       "<style scoped>\n",
       "    .dataframe tbody tr th:only-of-type {\n",
       "        vertical-align: middle;\n",
       "    }\n",
       "\n",
       "    .dataframe tbody tr th {\n",
       "        vertical-align: top;\n",
       "    }\n",
       "\n",
       "    .dataframe thead th {\n",
       "        text-align: right;\n",
       "    }\n",
       "</style>\n",
       "<table border=\"1\" class=\"dataframe\">\n",
       "  <thead>\n",
       "    <tr style=\"text-align: right;\">\n",
       "      <th></th>\n",
       "      <th>For</th>\n",
       "      <th>Against</th>\n",
       "    </tr>\n",
       "  </thead>\n",
       "  <tbody>\n",
       "    <tr>\n",
       "      <th>Scores</th>\n",
       "      <td>1.172897e+07</td>\n",
       "      <td>131.88977</td>\n",
       "    </tr>\n",
       "    <tr>\n",
       "      <th>Score Differences</th>\n",
       "      <td>9.238258e+06</td>\n",
       "      <td>0.00000</td>\n",
       "    </tr>\n",
       "  </tbody>\n",
       "</table>\n",
       "</div>"
      ],
      "text/plain": [
       "                            For    Against\n",
       "Scores             1.172897e+07  131.88977\n",
       "Score Differences  9.238258e+06    0.00000"
      ]
     },
     "execution_count": 20,
     "metadata": {},
     "output_type": "execute_result"
    }
   ],
   "source": [
    "propsal_choices = plutocracy_report_data['Frax'][plutocracy_report_data['Frax']['proposal_id'] == '0xece8d5be8b180b54350c4bddee190e24e2849d233f8aac11e0ef0aa7d658ae2a'].iloc[0]['proposal_choices']\n",
    "mask = score_differences_dfs[\"Frax\"].index.to_series().apply(\n",
    "    lambda s: \"0xece8d5b\" in s,\n",
    ")\n",
    "proposal_score_differences = score_differences_dfs[\"Frax\"].loc[mask][\"score_differences\"][0]\n",
    "proposal_scores = plutocracy_report_data['Frax'][plutocracy_report_data['Frax']['proposal_id'] == '0xece8d5be8b180b54350c4bddee190e24e2849d233f8aac11e0ef0aa7d658ae2a'].iloc[0]['proposal_scores']\n",
    "\n",
    "pd.DataFrame(\n",
    "    {choice: [score, score_diff] for choice, score, score_diff in zip(eval(propsal_choices), eval(proposal_scores), proposal_score_differences)},\n",
    "    index=[\"Scores\", \"Score Differences\"],\n",
    ")"
   ]
  },
  {
   "attachments": {},
   "cell_type": "markdown",
   "metadata": {},
   "source": [
    "Though, because the opposition voting power for this proposal was a paltry 1E-5% of the vote, filtering out whales did not change the outcome. After observing the number of voting participants (FXS token holders who participated in this proposal), this was not a controversial outcome."
   ]
  },
  {
   "attachments": {},
   "cell_type": "markdown",
   "metadata": {},
   "source": [
    "## Decentraland\n",
    "Let's now look at Decentraland, where the largest holders regularly participate in governance and dominate voting.\n",
    "\n",
    "### Filtered Proposals Analysis"
   ]
  },
  {
   "cell_type": "code",
   "execution_count": 21,
   "metadata": {
    "tags": [
     "remove-input",
     "full-width"
    ]
   },
   "outputs": [
    {
     "ename": "KeyError",
     "evalue": "'Decentraland'",
     "output_type": "error",
     "traceback": [
      "\u001b[0;31m---------------------------------------------------------------------------\u001b[0m",
      "\u001b[0;31mKeyError\u001b[0m                                  Traceback (most recent call last)",
      "Cell \u001b[0;32mIn[21], line 1\u001b[0m\n\u001b[0;32m----> 1\u001b[0m HTML(score_differences_dfs[\u001b[39m\"\u001b[39;49m\u001b[39mDecentraland\u001b[39;49m\u001b[39m\"\u001b[39;49m]\u001b[39m.\u001b[39mastype({\u001b[39m\"\u001b[39m\u001b[39mtotal_vp\u001b[39m\u001b[39m\"\u001b[39m: \u001b[39m\"\u001b[39m\u001b[39mfloat64\u001b[39m\u001b[39m\"\u001b[39m}, copy\u001b[39m=\u001b[39m\u001b[39mFalse\u001b[39;00m)\u001b[39m.\u001b[39msort_values([\u001b[39m\"\u001b[39m\u001b[39mwhale_vp_proportion\u001b[39m\u001b[39m\"\u001b[39m, \u001b[39m\"\u001b[39m\u001b[39mtotal_vp\u001b[39m\u001b[39m\"\u001b[39m], ascending\u001b[39m=\u001b[39m\u001b[39mFalse\u001b[39;00m)\u001b[39m.\u001b[39mdrop(\u001b[39m\"\u001b[39m\u001b[39mscore_differences\u001b[39m\u001b[39m\"\u001b[39m, axis\u001b[39m=\u001b[39m\u001b[39m1\u001b[39m)\u001b[39m.\u001b[39mto_html(render_links\u001b[39m=\u001b[39m\u001b[39mTrue\u001b[39;00m, escape\u001b[39m=\u001b[39m\u001b[39mFalse\u001b[39;00m))\n",
      "\u001b[0;31mKeyError\u001b[0m: 'Decentraland'"
     ]
    }
   ],
   "source": [
    "HTML(score_differences_dfs[\"Decentraland\"].astype({\"total_vp\": \"float64\"}, copy=False).sort_values([\"whale_vp_proportion\", \"total_vp\"], ascending=False).drop(\"score_differences\", axis=1).to_html(render_links=True, escape=False))"
   ]
  },
  {
   "attachments": {},
   "cell_type": "markdown",
   "metadata": {},
   "source": [
    "### Proportion of Outcomes Changed"
   ]
  },
  {
   "cell_type": "code",
   "execution_count": null,
   "metadata": {
    "tags": [
     "remove-input"
    ]
   },
   "outputs": [],
   "source": [
    "score_differences_dfs[\"Decentraland\"][\"outcome_changed\"].value_counts(normalize=True)"
   ]
  },
  {
   "attachments": {},
   "cell_type": "markdown",
   "metadata": {},
   "source": [
    "Here we see that a quarter of proposals' outcomes would change if whales were not involved in Decentraland governance."
   ]
  },
  {
   "attachments": {},
   "cell_type": "markdown",
   "metadata": {},
   "source": [
    "For example, [this proposal](https://snapshot.org/#/snapshot.dcl.eth/proposal/0x7f6fed8c7645d1b793526564104e4f79864a9e30ae284029f752b6297478b4f5) to set a duration period for the tenure of Decentraland DAO committee members saw 99.9% of voting power attributed to whales, with 94.85% of proposal voting power allocated to voting for the proposal not to pass."
   ]
  },
  {
   "cell_type": "code",
   "execution_count": null,
   "metadata": {
    "tags": [
     "remove-input"
    ]
   },
   "outputs": [],
   "source": [
    "propsal_choices = plutocracy_report_data['Decentraland'][plutocracy_report_data['Decentraland']['proposal_id'] == '0x7f6fed8c7645d1b793526564104e4f79864a9e30ae284029f752b6297478b4f5'].iloc[0]['proposal_choices']\n",
    "mask = score_differences_dfs[\"Decentraland\"].index.to_series().apply(\n",
    "    lambda s: \"0x7f6fed8\" in s,\n",
    ")\n",
    "proposal_score_differences = score_differences_dfs[\"Decentraland\"].loc[mask][\"score_differences\"][0]\n",
    "proposal_scores = plutocracy_report_data['Decentraland'][plutocracy_report_data['Decentraland']['proposal_id'] == '0x7f6fed8c7645d1b793526564104e4f79864a9e30ae284029f752b6297478b4f5'].iloc[0]['proposal_scores']\n",
    "\n",
    "pd.DataFrame(\n",
    "    {choice: [score, score_diff] for choice, score, score_diff in zip(eval(propsal_choices), eval(proposal_scores), proposal_score_differences)},\n",
    "    index=[\"Scores\", \"Score Differences\"],\n",
    ")"
   ]
  },
  {
   "attachments": {},
   "cell_type": "markdown",
   "metadata": {},
   "source": [
    "This is clearly a case of large holders voting to support their own interests. Once whales are filtered out of the votes (which would've given existing and future committee members set terms, making the roles more democratic) the proposal would've passed, albeit, with very low voting power by comparison."
   ]
  },
  {
   "attachments": {},
   "cell_type": "markdown",
   "metadata": {},
   "source": [
    "## Curve Finance\n",
    "\n",
    "### Filtered Proposals Analysis"
   ]
  },
  {
   "cell_type": "code",
   "execution_count": null,
   "metadata": {
    "tags": [
     "remove-input",
     "full-width"
    ]
   },
   "outputs": [],
   "source": [
    "HTML(score_differences_dfs[\"Curve Finance\"].astype({\"total_vp\": \"float64\"}, copy=False).drop(\"score_differences\", axis=1).sort_values([\"whale_vp_proportion\", \"total_vp\"], ascending=False).to_html(render_links=True, escape=False))"
   ]
  },
  {
   "attachments": {},
   "cell_type": "markdown",
   "metadata": {},
   "source": [
    "### Proportion of Outcomes Changed"
   ]
  },
  {
   "cell_type": "code",
   "execution_count": null,
   "metadata": {
    "tags": [
     "remove-input"
    ]
   },
   "outputs": [],
   "source": [
    "score_differences_dfs[\"Curve Finance\"][\"outcome_changed\"].value_counts(normalize=True)"
   ]
  },
  {
   "attachments": {},
   "cell_type": "markdown",
   "metadata": {},
   "source": [
    "One proposal which would've passed if not for whale intervention was this proposal to [add the XSTUSD-3CRV pair](https://snapshot.org/#/curve.eth/proposal/0x0eb23ea0b877666ad3ddcd0d7da0114acdfe5ae6390b5628b7509f4338022db5) to Curve's [gauge](https://resources.curve.fi/reward-gauges/understanding-gauges) [controller](https://curve.readthedocs.io/dao-gauges.html#the-gauge-controller) to accrue CRV for liquidity providers of XSTUSD-3CRV.\n",
    "\n",
    "XSTUSD is a stablecoin deployed on Polkadot and Kusama that's backed by a synthetic token called XOR (Sora's native token). The [governance discussion](https://gov.curve.fi/t/proposal-to-add-xstusd-3crv-to-the-gauge-controller/2998/15) about the vote was particularly interesting.\n",
    "\n",
    "![](./res/curve_governance_shenanigans.png)\n",
    "\n",
    "What stands out is XSTUSD's comparison with LUNA/UST. This proposal was created before the LUNA/UST [depegging disaster](https://rekt.news/luna-rekt/), but even before that, [quite a](https://twitter.com/runekek/status/1478166276979793922) [few people](https://twitter.com/FreddieRaynolds/status/1463960623402913797) had their concerns about it. So I checked out the first 16 accounts which showed really strong support for this proposal, and almost [every single](https://gov.curve.fi/u/meowtopia) [one was](https://gov.curve.fi/u/LiquidityKing) [created within](https://gov.curve.fi/u/Ryandotrrr) 2 days of the proposal's forum post. Clear signs of governance forum shenanigans, executed to raise hype for a proposal."
   ]
  },
  {
   "cell_type": "code",
   "execution_count": null,
   "metadata": {
    "tags": [
     "remove-input"
    ]
   },
   "outputs": [],
   "source": [
    "propsal_choices = plutocracy_report_data['Curve Finance'][plutocracy_report_data['Curve Finance']['proposal_id'] == '0x0eb23ea0b877666ad3ddcd0d7da0114acdfe5ae6390b5628b7509f4338022db5'].iloc[0]['proposal_choices']\n",
    "mask = score_differences_dfs[\"Curve Finance\"].index.to_series().apply(\n",
    "    lambda s: \"0x0eb23ea\" in s,\n",
    ")\n",
    "proposal_score_differences = score_differences_dfs[\"Curve Finance\"].loc[mask][\"score_differences\"][0]\n",
    "proposal_scores = plutocracy_report_data['Curve Finance'][plutocracy_report_data['Curve Finance']['proposal_id'] == '0x0eb23ea0b877666ad3ddcd0d7da0114acdfe5ae6390b5628b7509f4338022db5'].iloc[0]['proposal_scores']\n",
    "\n",
    "pd.DataFrame(\n",
    "    {choice: [score, score_diff] for choice, score, score_diff in zip(eval(propsal_choices), eval(proposal_scores), proposal_score_differences)},\n",
    "    index=[\"Scores\", \"Score Differences\"],\n",
    ")"
   ]
  },
  {
   "attachments": {},
   "cell_type": "markdown",
   "metadata": {},
   "source": [
    "Just over 4% of voting power for this proposal was allocated by whales to vote \"Yes\" (which is just over half the total voting power allocated to the \"Yes\" choice for this proposal), whereas ~89% of whale voting power was allocated to voting \"NO\" (~97% of total voting power for this choice)."
   ]
  },
  {
   "attachments": {},
   "cell_type": "markdown",
   "metadata": {},
   "source": [
    "It's important to highlight that whales are also sensible and not always \"evil\", which I would classify as entities that promote proposals that are detrimental to the DAO for their own interests. It should also be noted that this was, by far, the proposal with the most voting power allocated. It's a good thing that CRV whales didn't have an incentive to pass this proposal as well."
   ]
  },
  {
   "attachments": {},
   "cell_type": "markdown",
   "metadata": {},
   "source": [
    "## Radicle\n",
    "### Filtered Proposals Analysis"
   ]
  },
  {
   "cell_type": "code",
   "execution_count": null,
   "metadata": {
    "tags": [
     "remove-input",
     "full-width"
    ]
   },
   "outputs": [],
   "source": [
    "HTML(score_differences_dfs[\"Radicle\"].astype({\"total_vp\": \"float64\"}, copy=False).drop(\"score_differences\", axis=1).sort_values([\"whale_vp_proportion\", \"total_vp\"], ascending=False).to_html(render_links=True, escape=False))"
   ]
  },
  {
   "attachments": {},
   "cell_type": "markdown",
   "metadata": {},
   "source": [
    "We see that 18% of proposal (2 proposals) outcomes change once whale votes are removed."
   ]
  },
  {
   "attachments": {},
   "cell_type": "markdown",
   "metadata": {},
   "source": [
    "### Proportion of Outcomes Changed"
   ]
  },
  {
   "cell_type": "code",
   "execution_count": null,
   "metadata": {
    "tags": [
     "remove-input"
    ]
   },
   "outputs": [],
   "source": [
    "score_differences_dfs[\"Radicle\"][\"outcome_changed\"].value_counts(normalize=True)"
   ]
  },
  {
   "attachments": {},
   "cell_type": "markdown",
   "metadata": {},
   "source": [
    "One such proposal was the one to [distribute RAD remaining](https://snapshot.org/#/gov.radicle.eth/proposal/QmepPgXwo5q9GipZFKa32rnxaYoo3LrfRqduinftbU3L3S) following a Liquidity Bootsrapping (LBP) round conducted in February '21. This leftover RAD was proposed to be redistributed to participants of the LBP, i.e. people who bought RAD in this period from the Balancer LBP for RAD tokens."
   ]
  },
  {
   "cell_type": "code",
   "execution_count": null,
   "metadata": {
    "tags": [
     "remove-input"
    ]
   },
   "outputs": [],
   "source": [
    "propsal_choices = plutocracy_report_data['Radicle'][plutocracy_report_data['Radicle']['proposal_id'] == 'QmepPgXwo5q9GipZFKa32rnxaYoo3LrfRqduinftbU3L3S'].iloc[0]['proposal_choices']\n",
    "mask = score_differences_dfs[\"Radicle\"].index.to_series().apply(\n",
    "    lambda s: \"QmepPgXwo\" in s,\n",
    ")\n",
    "proposal_score_differences = score_differences_dfs[\"Radicle\"].loc[mask][\"score_differences\"][0]\n",
    "proposal_scores = plutocracy_report_data['Radicle'][plutocracy_report_data['Radicle']['proposal_id'] == 'QmepPgXwo5q9GipZFKa32rnxaYoo3LrfRqduinftbU3L3S'].iloc[0]['proposal_scores']\n",
    "\n",
    "pd.DataFrame(\n",
    "    {choice: [score, score_diff] for choice, score, score_diff in zip(eval(propsal_choices), eval(proposal_scores), proposal_score_differences)},\n",
    "    index=[\"Scores\", \"Score Differences\"],\n",
    ")"
   ]
  },
  {
   "attachments": {},
   "cell_type": "markdown",
   "metadata": {},
   "source": [
    "Just over 10% of whale voting power for this proposal was allocated to voting \"Aye\" on this proposal (~27% of voting power allocated to the \"Aye\" choice came from whales). Whereas ~45% of voting power from whales was allocated to the \"Nay\" choice (~73% of whale voting power allocated to \"Nay\")."
   ]
  },
  {
   "attachments": {},
   "cell_type": "markdown",
   "metadata": {},
   "source": [
    "## Gitcoin\n",
    "### Filtered Proposals Analysis"
   ]
  },
  {
   "cell_type": "code",
   "execution_count": null,
   "metadata": {
    "tags": [
     "remove-input",
     "full-width"
    ]
   },
   "outputs": [],
   "source": [
    "HTML(score_differences_dfs[\"Gitcoin\"].astype({\"total_vp\": \"float64\"}, copy=False).drop(\"score_differences\", axis=1).sort_values([\"whale_vp_proportion\", \"total_vp\"], ascending=False).to_html(render_links=True, escape=False))"
   ]
  },
  {
   "attachments": {},
   "cell_type": "markdown",
   "metadata": {},
   "source": [
    "### Proportion of Outcomes Changed"
   ]
  },
  {
   "cell_type": "code",
   "execution_count": null,
   "metadata": {
    "tags": [
     "remove-input"
    ]
   },
   "outputs": [],
   "source": [
    "score_differences_dfs[\"Gitcoin\"][\"outcome_changed\"].value_counts(normalize=True)"
   ]
  },
  {
   "attachments": {},
   "cell_type": "markdown",
   "metadata": {},
   "source": [
    "## Euler\n",
    "### Filtered Proposals Analysis"
   ]
  },
  {
   "cell_type": "code",
   "execution_count": null,
   "metadata": {
    "tags": [
     "remove-input",
     "full-width"
    ]
   },
   "outputs": [],
   "source": [
    "HTML(score_differences_dfs[\"Euler\"].astype({\"total_vp\": \"float64\"}, copy=False).drop(\"score_differences\", axis=1).sort_values([\"whale_vp_proportion\", \"total_vp\"], ascending=False).to_html(render_links=True, escape=False))"
   ]
  },
  {
   "attachments": {},
   "cell_type": "markdown",
   "metadata": {},
   "source": [
    "### Proportion of Outcomes Changed"
   ]
  },
  {
   "cell_type": "code",
   "execution_count": null,
   "metadata": {
    "tags": [
     "remove-input"
    ]
   },
   "outputs": [],
   "source": [
    "score_differences_dfs[\"Euler\"][\"outcome_changed\"].value_counts(normalize=True)"
   ]
  },
  {
   "attachments": {},
   "cell_type": "markdown",
   "metadata": {},
   "source": [
    "## Gearbox\n",
    "### Filtered Proposals Analysis"
   ]
  },
  {
   "cell_type": "code",
   "execution_count": null,
   "metadata": {
    "tags": [
     "remove-input",
     "full-width"
    ]
   },
   "outputs": [],
   "source": [
    "HTML(score_differences_dfs[\"Gearbox\"].astype({\"total_vp\": \"float64\"}, copy=False).drop(\"score_differences\", axis=1).sort_values([\"whale_vp_proportion\", \"total_vp\"], ascending=False).to_html(render_links=True, escape=False))"
   ]
  },
  {
   "attachments": {},
   "cell_type": "markdown",
   "metadata": {},
   "source": [
    "### Proportion of Outcomes Changed"
   ]
  },
  {
   "cell_type": "code",
   "execution_count": null,
   "metadata": {
    "tags": [
     "remove-input"
    ]
   },
   "outputs": [],
   "source": [
    "score_differences_dfs[\"Gearbox\"][\"outcome_changed\"].value_counts(normalize=True)"
   ]
  },
  {
   "attachments": {},
   "cell_type": "markdown",
   "metadata": {},
   "source": [
    "## SuperRare\n",
    "### Filtered Proposals Analysis"
   ]
  },
  {
   "cell_type": "code",
   "execution_count": null,
   "metadata": {
    "tags": [
     "remove-input"
    ]
   },
   "outputs": [],
   "source": [
    "HTML(score_differences_dfs[\"SuperRare DAO\"].astype({\"total_vp\": \"float64\"}, copy=False).drop(\"score_differences\", axis=1).sort_values([\"whale_vp_proportion\", \"total_vp\"], ascending=False).to_html(render_links=True, escape=False))"
   ]
  },
  {
   "attachments": {},
   "cell_type": "markdown",
   "metadata": {},
   "source": [
    "### Proportion of Outcomes Changed"
   ]
  },
  {
   "cell_type": "code",
   "execution_count": null,
   "metadata": {
    "tags": [
     "remove-input"
    ]
   },
   "outputs": [],
   "source": [
    "score_differences_dfs[\"Gearbox\"][\"outcome_changed\"].value_counts(normalize=True)"
   ]
  },
  {
   "attachments": {},
   "cell_type": "markdown",
   "metadata": {},
   "source": [
    "## Hop\n",
    "### Filtered Proposals Analysis"
   ]
  },
  {
   "cell_type": "code",
   "execution_count": null,
   "metadata": {
    "tags": [
     "remove-input",
     "full-width"
    ]
   },
   "outputs": [],
   "source": [
    "HTML(score_differences_dfs[\"Hop\"].astype({\"total_vp\": \"float64\"}, copy=False).drop(\"score_differences\", axis=1).sort_values([\"whale_vp_proportion\", \"total_vp\"], ascending=False).to_html(render_links=True, escape=False))"
   ]
  },
  {
   "attachments": {},
   "cell_type": "markdown",
   "metadata": {},
   "source": [
    "### Proportion of Outcomes Changed"
   ]
  },
  {
   "cell_type": "code",
   "execution_count": null,
   "metadata": {
    "tags": [
     "remove-input"
    ]
   },
   "outputs": [],
   "source": [
    "score_differences_dfs[\"Hop\"][\"outcome_changed\"].value_counts(normalize=True)"
   ]
  },
  {
   "attachments": {},
   "cell_type": "markdown",
   "metadata": {},
   "source": [
    "## JPEG’d\n",
    "### Filtered Proposals Analysis"
   ]
  },
  {
   "cell_type": "code",
   "execution_count": null,
   "metadata": {
    "tags": [
     "remove-input",
     "full-width"
    ]
   },
   "outputs": [],
   "source": [
    "HTML(score_differences_dfs[\"JPEG’d\"].astype({\"total_vp\": \"float64\"}, copy=False).drop(\"score_differences\", axis=1).sort_values([\"whale_vp_proportion\", \"total_vp\"], ascending=False).to_html(render_links=True, escape=False))"
   ]
  },
  {
   "attachments": {},
   "cell_type": "markdown",
   "metadata": {},
   "source": [
    "### Proportion of Outcomes Changed"
   ]
  },
  {
   "cell_type": "code",
   "execution_count": null,
   "metadata": {
    "tags": [
     "remove-input"
    ]
   },
   "outputs": [],
   "source": [
    "score_differences_dfs[\"JPEG’d\"][\"outcome_changed\"].value_counts(normalize=True)"
   ]
  },
  {
   "attachments": {},
   "cell_type": "markdown",
   "metadata": {},
   "source": [
    "## Merit Circle\n",
    "### Filtered Proposals Analysis"
   ]
  },
  {
   "cell_type": "code",
   "execution_count": null,
   "metadata": {
    "tags": [
     "remove-input"
    ]
   },
   "outputs": [],
   "source": [
    "HTML(score_differences_dfs[\"Merit Circle\"].astype({\"total_vp\": \"float64\"}, copy=False).drop(\"score_differences\", axis=1).sort_values([\"whale_vp_proportion\", \"total_vp\"], ascending=False).to_html(render_links=True, escape=False))"
   ]
  },
  {
   "attachments": {},
   "cell_type": "markdown",
   "metadata": {},
   "source": [
    "### Proportion of Outcomes Changed"
   ]
  },
  {
   "cell_type": "code",
   "execution_count": null,
   "metadata": {
    "tags": [
     "remove-input"
    ]
   },
   "outputs": [],
   "source": [
    "score_differences_dfs[\"Merit Circle\"][\"outcome_changed\"].value_counts(normalize=True)"
   ]
  },
  {
   "attachments": {},
   "cell_type": "markdown",
   "metadata": {},
   "source": [
    "## Aavegotchi\n",
    "### Filtered Proposals Analysis"
   ]
  },
  {
   "cell_type": "code",
   "execution_count": null,
   "metadata": {
    "tags": [
     "remove-input",
     "full-width"
    ]
   },
   "outputs": [],
   "source": [
    "HTML(score_differences_dfs[\"Aavegotchi\"].astype({\"total_vp\": \"float64\"}, copy=False).drop(\"score_differences\", axis=1).sort_values([\"whale_vp_proportion\", \"total_vp\"], ascending=False).to_html(render_links=True, escape=False))"
   ]
  },
  {
   "attachments": {},
   "cell_type": "markdown",
   "metadata": {},
   "source": [
    "### Proportion of Outcomes Changed"
   ]
  },
  {
   "cell_type": "code",
   "execution_count": null,
   "metadata": {
    "tags": [
     "remove-input"
    ]
   },
   "outputs": [],
   "source": [
    "score_differences_dfs[\"Aavegotchi\"][\"outcome_changed\"].value_counts(normalize=True)"
   ]
  },
  {
   "attachments": {},
   "cell_type": "markdown",
   "metadata": {},
   "source": [
    "## Rook\n",
    "### Filtered Proposals Analysis"
   ]
  },
  {
   "cell_type": "code",
   "execution_count": null,
   "metadata": {
    "tags": [
     "remove-input"
    ]
   },
   "outputs": [],
   "source": [
    "HTML(score_differences_dfs[\"Rook\"].astype({\"total_vp\": \"float64\"}, copy=False).drop(\"score_differences\", axis=1).sort_values([\"whale_vp_proportion\", \"total_vp\"], ascending=False).to_html(render_links=True, escape=False))"
   ]
  },
  {
   "attachments": {},
   "cell_type": "markdown",
   "metadata": {},
   "source": [
    "### Proportion of Outcomes Changed"
   ]
  },
  {
   "cell_type": "code",
   "execution_count": null,
   "metadata": {
    "tags": [
     "remove-input"
    ]
   },
   "outputs": [],
   "source": [
    "score_differences_dfs[\"Rook\"][\"outcome_changed\"].value_counts(normalize=True)"
   ]
  },
  {
   "attachments": {},
   "cell_type": "markdown",
   "metadata": {},
   "source": [
    "## ApeCoin DAO\n",
    "### Filtered Proposals Analysis"
   ]
  },
  {
   "cell_type": "code",
   "execution_count": null,
   "metadata": {
    "tags": [
     "remove-input",
     "full-width"
    ]
   },
   "outputs": [],
   "source": [
    "HTML(score_differences_dfs[\"ApeCoin DAO\"].astype({\"total_vp\": \"float64\"}, copy=False).drop(\"score_differences\", axis=1).sort_values([\"whale_vp_proportion\", \"total_vp\"], ascending=False).to_html(render_links=True, escape=False))"
   ]
  },
  {
   "attachments": {},
   "cell_type": "markdown",
   "metadata": {},
   "source": [
    "### Proportion of Outcomes Changed"
   ]
  },
  {
   "cell_type": "code",
   "execution_count": null,
   "metadata": {
    "tags": [
     "remove-input"
    ]
   },
   "outputs": [],
   "source": [
    "score_differences_dfs[\"ApeCoin DAO\"][\"outcome_changed\"].value_counts(normalize=True)"
   ]
  },
  {
   "attachments": {},
   "cell_type": "markdown",
   "metadata": {},
   "source": [
    "## Klima DAO\n",
    "### Filtered Proposals Analysis"
   ]
  },
  {
   "cell_type": "code",
   "execution_count": null,
   "metadata": {
    "tags": [
     "remove-input",
     "full-width"
    ]
   },
   "outputs": [],
   "source": [
    "HTML(score_differences_dfs[\"Klima DAO\"].astype({\"total_vp\": \"float64\"}, copy=False).drop(\"score_differences\", axis=1).sort_values([\"whale_vp_proportion\", \"total_vp\"], ascending=False).to_html(render_links=True, escape=False))"
   ]
  },
  {
   "attachments": {},
   "cell_type": "markdown",
   "metadata": {},
   "source": [
    "### Proportion of Outcomes Changed"
   ]
  },
  {
   "cell_type": "code",
   "execution_count": null,
   "metadata": {
    "tags": [
     "remove-input"
    ]
   },
   "outputs": [],
   "source": [
    "score_differences_dfs[\"Klima DAO\"][\"outcome_changed\"].value_counts(normalize=True)"
   ]
  },
  {
   "attachments": {},
   "cell_type": "markdown",
   "metadata": {},
   "source": [
    "## Hector Network\n",
    "### Filtered Proposals Analysis"
   ]
  },
  {
   "cell_type": "code",
   "execution_count": null,
   "metadata": {
    "tags": [
     "remove-input",
     "full-width"
    ]
   },
   "outputs": [],
   "source": [
    "HTML(score_differences_dfs[\"Hector Network\"].astype({\"total_vp\": \"float64\"}, copy=False).drop(\"score_differences\", axis=1).sort_values([\"whale_vp_proportion\", \"total_vp\"], ascending=False).to_html(render_links=True, escape=False))"
   ]
  },
  {
   "attachments": {},
   "cell_type": "markdown",
   "metadata": {},
   "source": [
    "### Proportion of Outcomes Changed"
   ]
  },
  {
   "cell_type": "code",
   "execution_count": null,
   "metadata": {
    "tags": [
     "remove-input"
    ]
   },
   "outputs": [],
   "source": [
    "score_differences_dfs[\"Hector Network\"][\"outcome_changed\"].value_counts(normalize=True)"
   ]
  },
  {
   "attachments": {},
   "cell_type": "markdown",
   "metadata": {},
   "source": [
    "## Vesta\n",
    "### Filtered Proposals Analysis"
   ]
  },
  {
   "cell_type": "code",
   "execution_count": null,
   "metadata": {
    "tags": [
     "remove-input",
     "full-wdith"
    ]
   },
   "outputs": [],
   "source": [
    "HTML(score_differences_dfs[\"Vesta\"].astype({\"total_vp\": \"float64\"}, copy=False).drop(\"score_differences\", axis=1).sort_values([\"whale_vp_proportion\", \"total_vp\"], ascending=False).to_html(render_links=True, escape=False))"
   ]
  },
  {
   "attachments": {},
   "cell_type": "markdown",
   "metadata": {},
   "source": [
    "### Filtered Proposals Analysis"
   ]
  },
  {
   "cell_type": "code",
   "execution_count": null,
   "metadata": {
    "tags": [
     "remove-input"
    ]
   },
   "outputs": [],
   "source": [
    "score_differences_dfs[\"Vesta\"][\"outcome_changed\"].value_counts(normalize=True)"
   ]
  }
 ],
 "metadata": {
  "celltoolbar": "Tags",
  "kernelspec": {
   "display_name": "Python 3",
   "language": "python",
   "name": "python3"
  },
  "language_info": {
   "codemirror_mode": {
    "name": "ipython",
    "version": 3
   },
   "file_extension": ".py",
   "mimetype": "text/x-python",
   "name": "python",
   "nbconvert_exporter": "python",
   "pygments_lexer": "ipython3",
   "version": "3.10.9"
  },
  "vscode": {
   "interpreter": {
    "hash": "b4359820d3e15fa2519172d213623b0fd17349031edfcca628c1a3eb80849618"
   }
  }
 },
 "nbformat": 4,
 "nbformat_minor": 2
}
