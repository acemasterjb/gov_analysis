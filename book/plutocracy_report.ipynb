{
 "cells": [
  {
   "cell_type": "markdown",
   "metadata": {},
   "source": [
    "# Cost of Plutocracy\n",
    "\n",
    "This article aims to analyze some of the biggest DAOs in the crypto space and see how many of them are influenced by token holders which own a disproportionate amount of tokens compared to most voters."
   ]
  },
  {
   "cell_type": "code",
   "execution_count": 1,
   "metadata": {
    "tags": [
     "remove-input"
    ]
   },
   "outputs": [],
   "source": [
    "# sets up the pynb environment\n",
    "import os\n",
    "import sys\n",
    "\n",
    "import pandas as pd\n",
    "import numpy as np\n",
    "\n",
    "\n",
    "module_path = os.path.abspath(os.path.join(\"..\"))\n",
    "if module_path not in sys.path:\n",
    "    sys.path.append(module_path)\n",
    "\n",
    "from libs.data_processing.filters import get_quartile_by_vp\n",
    "from libs.data_processing.statistics import (\n",
    "    get_number_of_whales_to_all_voters_ratio,\n",
    "    get_score_comparisons,\n",
    ")\n"
   ]
  },
  {
   "cell_type": "markdown",
   "metadata": {},
   "source": [
    "The data used for this article came from data sources that specialize in providing data on DAO governance, such as DeepDAO and Snapshot. Coingecko was also used to find market data for DAO native tokens.\n",
    "\n",
    "Using this data, two spreadsheets were compiled which act as the local database for this analysis. Each spreadsheet contains each voter's choice and voting power for the last fifty proposals each DAO opened. **One spreadsheet filters out \"whales\"** which, in the context of this analysis, are voters of each proposal that have voting power **at or above the 95th percentile of voting power for that proposal**."
   ]
  },
  {
   "cell_type": "code",
   "execution_count": 2,
   "metadata": {
    "tags": [
     "remove-input",
     "remove-output"
    ]
   },
   "outputs": [],
   "source": [
    "plutocracy_report_data = pd.read_excel(\n",
    "    \"../plutocracy_report.xlsx\", sheet_name=None, engine=\"openpyxl\"\n",
    ")\n",
    "plutocracy_report_data_filtered = pd.read_excel(\n",
    "    \"../plutocracy_report_filtered.xlsx\", sheet_name=None, engine=\"openpyxl\"\n",
    ")"
   ]
  },
  {
   "cell_type": "markdown",
   "metadata": {},
   "source": [
    "With this, we can begin asking ourselves some questions. Such as: **How many whales have voted in the last fifty proposals for each of the DAOs we analyzed?**"
   ]
  },
  {
   "cell_type": "code",
   "execution_count": 3,
   "metadata": {
    "tags": [
     "remove-input"
    ]
   },
   "outputs": [],
   "source": [
    "voting_ratios = get_number_of_whales_to_all_voters_ratio(\n",
    "    plutocracy_report_data, plutocracy_report_data_filtered\n",
    ")\n"
   ]
  },
  {
   "cell_type": "code",
   "execution_count": 4,
   "metadata": {
    "tags": [
     "remove-input"
    ]
   },
   "outputs": [
    {
     "data": {
      "text/html": [
       "<div>\n",
       "<style scoped>\n",
       "    .dataframe tbody tr th:only-of-type {\n",
       "        vertical-align: middle;\n",
       "    }\n",
       "\n",
       "    .dataframe tbody tr th {\n",
       "        vertical-align: top;\n",
       "    }\n",
       "\n",
       "    .dataframe thead th {\n",
       "        text-align: right;\n",
       "    }\n",
       "</style>\n",
       "<table border=\"1\" class=\"dataframe\">\n",
       "  <thead>\n",
       "    <tr style=\"text-align: right;\">\n",
       "      <th></th>\n",
       "      <th># of whales</th>\n",
       "      <th>all voters</th>\n",
       "      <th>avg vp for non-whales</th>\n",
       "      <th>avg vp for whales</th>\n",
       "      <th>avg cost of vote</th>\n",
       "    </tr>\n",
       "  </thead>\n",
       "  <tbody>\n",
       "    <tr>\n",
       "      <th>Uniswap</th>\n",
       "      <td>801</td>\n",
       "      <td>21301</td>\n",
       "      <td>1.658005</td>\n",
       "      <td>9.212467e+04</td>\n",
       "      <td>7.285653</td>\n",
       "    </tr>\n",
       "    <tr>\n",
       "      <th>ENS</th>\n",
       "      <td>321</td>\n",
       "      <td>9742</td>\n",
       "      <td>281.564683</td>\n",
       "      <td>5.561220e+04</td>\n",
       "      <td>29.874161</td>\n",
       "    </tr>\n",
       "    <tr>\n",
       "      <th>Lido</th>\n",
       "      <td>164</td>\n",
       "      <td>4438</td>\n",
       "      <td>115.172600</td>\n",
       "      <td>1.363868e+06</td>\n",
       "      <td>1.573563</td>\n",
       "    </tr>\n",
       "    <tr>\n",
       "      <th>Frax</th>\n",
       "      <td>2</td>\n",
       "      <td>165</td>\n",
       "      <td>110023.913464</td>\n",
       "      <td>1.444174e+07</td>\n",
       "      <td>8.497316</td>\n",
       "    </tr>\n",
       "    <tr>\n",
       "      <th>Curve Finance</th>\n",
       "      <td>14</td>\n",
       "      <td>235</td>\n",
       "      <td>3454.929793</td>\n",
       "      <td>1.352748e+06</td>\n",
       "      <td>3.338636</td>\n",
       "    </tr>\n",
       "    <tr>\n",
       "      <th>Decentraland</th>\n",
       "      <td>56</td>\n",
       "      <td>1212</td>\n",
       "      <td>238.465901</td>\n",
       "      <td>2.900371e+05</td>\n",
       "      <td>0.706981</td>\n",
       "    </tr>\n",
       "    <tr>\n",
       "      <th>Radicle</th>\n",
       "      <td>18</td>\n",
       "      <td>395</td>\n",
       "      <td>26779.601995</td>\n",
       "      <td>9.430134e+05</td>\n",
       "      <td>12.567908</td>\n",
       "    </tr>\n",
       "    <tr>\n",
       "      <th>Gitcoin</th>\n",
       "      <td>86</td>\n",
       "      <td>3075</td>\n",
       "      <td>18.195005</td>\n",
       "      <td>2.643118e+05</td>\n",
       "      <td>3.112334</td>\n",
       "    </tr>\n",
       "  </tbody>\n",
       "</table>\n",
       "</div>"
      ],
      "text/plain": [
       "               # of whales  all voters  avg vp for non-whales  \\\n",
       "Uniswap                801       21301               1.658005   \n",
       "ENS                    321        9742             281.564683   \n",
       "Lido                   164        4438             115.172600   \n",
       "Frax                     2         165          110023.913464   \n",
       "Curve Finance           14         235            3454.929793   \n",
       "Decentraland            56        1212             238.465901   \n",
       "Radicle                 18         395           26779.601995   \n",
       "Gitcoin                 86        3075              18.195005   \n",
       "\n",
       "               avg vp for whales  avg cost of vote  \n",
       "Uniswap             9.212467e+04          7.285653  \n",
       "ENS                 5.561220e+04         29.874161  \n",
       "Lido                1.363868e+06          1.573563  \n",
       "Frax                1.444174e+07          8.497316  \n",
       "Curve Finance       1.352748e+06          3.338636  \n",
       "Decentraland        2.900371e+05          0.706981  \n",
       "Radicle             9.430134e+05         12.567908  \n",
       "Gitcoin             2.643118e+05          3.112334  "
      ]
     },
     "execution_count": 4,
     "metadata": {},
     "output_type": "execute_result"
    }
   ],
   "source": [
    "pd.DataFrame(\n",
    "    [list(result.items())[0][1] for result in voting_ratios],\n",
    "    index=[list(result.items())[0][0] for result in voting_ratios],\n",
    "    columns=[\n",
    "        \"# of whales\",\n",
    "        \"all voters\",\n",
    "        \"avg vp for non-whales\",\n",
    "        \"avg vp for whales\",\n",
    "        \"avg cost of vote\",\n",
    "    ],\n",
    ")\n"
   ]
  },
  {
   "cell_type": "markdown",
   "metadata": {},
   "source": [
    "Here we can see that for the DAOs which we choose to analyze the top 5% of voters have a clear, disproportionate amount of voting power compared to the average voter.\n",
    "\n",
    "We can also gain some insight into the economic might that these whales hold for each DAO at the time of voting by taking a look at the average cost of each vote for each DAO's native token at the time these proposals were active (in USD)."
   ]
  },
  {
   "cell_type": "markdown",
   "metadata": {},
   "source": [
    "---"
   ]
  },
  {
   "cell_type": "markdown",
   "metadata": {},
   "source": [
    "We move on to take a look at what DAO participation would look like without whale involvement. We do so by comparing the scores of each proposal and checking whether or not the outcome of the proposal was changed after filtering out whales.\n",
    "\n",
    "We check whether or not a proposal's outcome has changed simply by checking if the largest vote choice score has changed after filtering out whales, more specifically, in python we do:\n",
    "```python\n",
    "has_changed_outcome = not unfiltered_winning_choice_index == filtered_winning_choice_index\n",
    "```"
   ]
  },
  {
   "cell_type": "code",
   "execution_count": 5,
   "metadata": {
    "tags": [
     "remove-input"
    ]
   },
   "outputs": [],
   "source": [
    "pd.set_option(\"display.max_rows\", 5)\n",
    "score_diffrences = get_score_comparisons(\n",
    "    plutocracy_report_data, plutocracy_report_data_filtered\n",
    ")\n"
   ]
  },
  {
   "cell_type": "code",
   "execution_count": 6,
   "metadata": {
    "tags": [
     "remove-input"
    ]
   },
   "outputs": [],
   "source": [
    "score_diffrences_dfs = dict()\n",
    "\n",
    "for score_diffrence in score_diffrences:\n",
    "    for organization, data in score_diffrence.items():\n",
    "        data: dict[str, list] = data\n",
    "        items = data.items()\n",
    "        score_diffrences_dfs[organization] = pd.DataFrame(\n",
    "            [score_data for _, score_data in items],\n",
    "            index=pd.Index(\n",
    "                ([proposal_id for proposal_id, _ in items]), name=\"Proposal ID\"\n",
    "            ),\n",
    "            columns=[\n",
    "                \"type\",\n",
    "                \"choices\",\n",
    "                \"score_diffrences\",\n",
    "                \"total_vp\",\n",
    "                \"outcome_changed\",\n",
    "                \"outcome\"\n",
    "            ],\n",
    "        )\n",
    "        score_diffrences_dfs[organization][\"total_vp\"] = score_diffrences_dfs[\n",
    "            organization\n",
    "        ][\"total_vp\"].apply(\"{:.9f}\".format)\n",
    "        score_diffrences_dfs[organization].index = score_diffrences_dfs[organization].index.str.slice(0, 9)\n"
   ]
  },
  {
   "cell_type": "markdown",
   "metadata": {},
   "source": [
    "First, let's look at Uniswap"
   ]
  },
  {
   "cell_type": "code",
   "execution_count": 7,
   "metadata": {},
   "outputs": [
    {
     "data": {
      "text/html": [
       "<div>\n",
       "<style scoped>\n",
       "    .dataframe tbody tr th:only-of-type {\n",
       "        vertical-align: middle;\n",
       "    }\n",
       "\n",
       "    .dataframe tbody tr th {\n",
       "        vertical-align: top;\n",
       "    }\n",
       "\n",
       "    .dataframe thead th {\n",
       "        text-align: right;\n",
       "    }\n",
       "</style>\n",
       "<table border=\"1\" class=\"dataframe\">\n",
       "  <thead>\n",
       "    <tr style=\"text-align: right;\">\n",
       "      <th></th>\n",
       "      <th>type</th>\n",
       "      <th>choices</th>\n",
       "      <th>score_diffrences</th>\n",
       "      <th>total_vp</th>\n",
       "      <th>outcome_changed</th>\n",
       "      <th>outcome</th>\n",
       "    </tr>\n",
       "    <tr>\n",
       "      <th>Proposal ID</th>\n",
       "      <th></th>\n",
       "      <th></th>\n",
       "      <th></th>\n",
       "      <th></th>\n",
       "      <th></th>\n",
       "      <th></th>\n",
       "    </tr>\n",
       "  </thead>\n",
       "  <tbody>\n",
       "    <tr>\n",
       "      <th>0x374d7f9</th>\n",
       "      <td>single-choice</td>\n",
       "      <td>['Yes', 'No']</td>\n",
       "      <td>[17079.258062488916, 341.33411472548084]</td>\n",
       "      <td>32011.083070674</td>\n",
       "      <td>False</td>\n",
       "      <td>Yes</td>\n",
       "    </tr>\n",
       "    <tr>\n",
       "      <th>0x15031b6</th>\n",
       "      <td>single-choice</td>\n",
       "      <td>['For', 'Against', 'Abstain']</td>\n",
       "      <td>[15561440.496482328, 0.0, 0.0]</td>\n",
       "      <td>38105686.407799788</td>\n",
       "      <td>False</td>\n",
       "      <td>For</td>\n",
       "    </tr>\n",
       "    <tr>\n",
       "      <th>...</th>\n",
       "      <td>...</td>\n",
       "      <td>...</td>\n",
       "      <td>...</td>\n",
       "      <td>...</td>\n",
       "      <td>...</td>\n",
       "      <td>...</td>\n",
       "    </tr>\n",
       "    <tr>\n",
       "      <th>QmcpJ8Qm9</th>\n",
       "      <td>single-choice</td>\n",
       "      <td>['Yes, Bring V3 to AVAX', 'No, V3 Should Stay ...</td>\n",
       "      <td>[9790.514303638305, 0]</td>\n",
       "      <td>10030.326504541</td>\n",
       "      <td>False</td>\n",
       "      <td>Yes, Bring V3 to AVAX</td>\n",
       "    </tr>\n",
       "    <tr>\n",
       "      <th>QmYeNLn1x</th>\n",
       "      <td>single-choice</td>\n",
       "      <td>['No support', '25k - 50k (37.5k $UNI loan)', ...</td>\n",
       "      <td>[0.0, 0.0, 75.83513107330648, 135.62208, 0.0, ...</td>\n",
       "      <td>212333.479358470</td>\n",
       "      <td>False</td>\n",
       "      <td>800k+ (1M $UNI loan)</td>\n",
       "    </tr>\n",
       "  </tbody>\n",
       "</table>\n",
       "<p>48 rows × 6 columns</p>\n",
       "</div>"
      ],
      "text/plain": [
       "                      type                                            choices  \\\n",
       "Proposal ID                                                                     \n",
       "0x374d7f9    single-choice                                      ['Yes', 'No']   \n",
       "0x15031b6    single-choice                      ['For', 'Against', 'Abstain']   \n",
       "...                    ...                                                ...   \n",
       "QmcpJ8Qm9    single-choice  ['Yes, Bring V3 to AVAX', 'No, V3 Should Stay ...   \n",
       "QmYeNLn1x    single-choice  ['No support', '25k - 50k (37.5k $UNI loan)', ...   \n",
       "\n",
       "                                              score_diffrences  \\\n",
       "Proposal ID                                                      \n",
       "0x374d7f9             [17079.258062488916, 341.33411472548084]   \n",
       "0x15031b6                       [15561440.496482328, 0.0, 0.0]   \n",
       "...                                                        ...   \n",
       "QmcpJ8Qm9                               [9790.514303638305, 0]   \n",
       "QmYeNLn1x    [0.0, 0.0, 75.83513107330648, 135.62208, 0.0, ...   \n",
       "\n",
       "                       total_vp  outcome_changed                outcome  \n",
       "Proposal ID                                                              \n",
       "0x374d7f9       32011.083070674            False                    Yes  \n",
       "0x15031b6    38105686.407799788            False                    For  \n",
       "...                         ...              ...                    ...  \n",
       "QmcpJ8Qm9       10030.326504541            False  Yes, Bring V3 to AVAX  \n",
       "QmYeNLn1x      212333.479358470            False   800k+ (1M $UNI loan)  \n",
       "\n",
       "[48 rows x 6 columns]"
      ]
     },
     "execution_count": 7,
     "metadata": {},
     "output_type": "execute_result"
    }
   ],
   "source": [
    "score_diffrences_dfs[\"Uniswap\"].index = score_diffrences_dfs[\"Uniswap\"].index.str.slice(0, 9)\n",
    "score_diffrences_dfs[\"Uniswap\"]"
   ]
  },
  {
   "attachments": {},
   "cell_type": "markdown",
   "metadata": {},
   "source": [
    "We can do some quick calculations using pandas to see that 12.5% of proposals had their outcome changed by removing whales."
   ]
  },
  {
   "cell_type": "code",
   "execution_count": 8,
   "metadata": {},
   "outputs": [
    {
     "data": {
      "text/plain": [
       "False    0.875\n",
       "True     0.125\n",
       "Name: outcome_changed, dtype: float64"
      ]
     },
     "execution_count": 8,
     "metadata": {},
     "output_type": "execute_result"
    }
   ],
   "source": [
    "score_diffrences_dfs[\"Uniswap\"][\"outcome_changed\"].value_counts(normalize=True)"
   ]
  },
  {
   "attachments": {},
   "cell_type": "markdown",
   "metadata": {},
   "source": [
    "One of the proposals which had their outcome changed after removing whales was the proposal to [add a Liquidity Mining Manager for the Optimism-Uniswap Liquidity Mining Program](https://snapshot.org/#/uniswap/proposal/0xfd3d3807bd2a6eda1327c311b83de235061d39ff1bdfb616c9f9b0d367c3ac2c).\n",
    "\n",
    "In this case, \"Overnight Finance\" would've been the chosen LMM if it weren't for whale intervention, instead \"DeFiEdge\" was chosen for this campaign. From the data, we can see that without whale intervention, DeFiEdge would've had ~2,708,025 fewer votes out of the total ~2,728,492 voting power on this proposal. That is ~99.3% of voting power allocated for this proposal directed to choosing \"DeFiEdge\"."
   ]
  },
  {
   "cell_type": "code",
   "execution_count": 9,
   "metadata": {
    "tags": [
     "remove-input"
    ]
   },
   "outputs": [
    {
     "data": {
      "text/html": [
       "<div>\n",
       "<style scoped>\n",
       "    .dataframe tbody tr th:only-of-type {\n",
       "        vertical-align: middle;\n",
       "    }\n",
       "\n",
       "    .dataframe tbody tr th {\n",
       "        vertical-align: top;\n",
       "    }\n",
       "\n",
       "    .dataframe thead th {\n",
       "        text-align: right;\n",
       "    }\n",
       "</style>\n",
       "<table border=\"1\" class=\"dataframe\">\n",
       "  <thead>\n",
       "    <tr style=\"text-align: right;\">\n",
       "      <th></th>\n",
       "      <th>add Overnight Finance</th>\n",
       "      <th>add DeFiEdge</th>\n",
       "      <th>add none</th>\n",
       "    </tr>\n",
       "  </thead>\n",
       "  <tbody>\n",
       "    <tr>\n",
       "      <th>Scores</th>\n",
       "      <td>14335.930887</td>\n",
       "      <td>2.710600e+06</td>\n",
       "      <td>3556.089173</td>\n",
       "    </tr>\n",
       "    <tr>\n",
       "      <th>Score Differeces</th>\n",
       "      <td>10054.585076</td>\n",
       "      <td>2.708025e+06</td>\n",
       "      <td>3412.851497</td>\n",
       "    </tr>\n",
       "  </tbody>\n",
       "</table>\n",
       "</div>"
      ],
      "text/plain": [
       "                  add Overnight Finance  add DeFiEdge     add none\n",
       "Scores                     14335.930887  2.710600e+06  3556.089173\n",
       "Score Differeces           10054.585076  2.708025e+06  3412.851497"
      ]
     },
     "execution_count": 9,
     "metadata": {},
     "output_type": "execute_result"
    }
   ],
   "source": [
    "propsal_choices = plutocracy_report_data['Uniswap'][plutocracy_report_data['Uniswap']['proposal_id'] == '0xfd3d3807bd2a6eda1327c311b83de235061d39ff1bdfb616c9f9b0d367c3ac2c'].iloc[0]['proposal_choices']\n",
    "proposal_score_diffrences = score_diffrences_dfs[\"Uniswap\"].loc[\"0xfd3d380\"][\"score_diffrences\"]\n",
    "proposal_scores = plutocracy_report_data['Uniswap'][plutocracy_report_data['Uniswap']['proposal_id'] == '0xfd3d3807bd2a6eda1327c311b83de235061d39ff1bdfb616c9f9b0d367c3ac2c'].iloc[0]['proposal_scores']\n",
    "\n",
    "pd.DataFrame(\n",
    "    {choice: [score, score_diff] for choice, score, score_diff in zip(eval(propsal_choices), eval(proposal_scores), proposal_score_diffrences)},\n",
    "    index=[\"Scores\", \"Score Differeces\"],\n",
    ")"
   ]
  },
  {
   "attachments": {},
   "cell_type": "markdown",
   "metadata": {},
   "source": [
    "One highly contentious proposal whose outcome did not change after filtering out whales was [this temperature check to choose which Eth <> BNB bridge to use for Uniswap v3 governance](https://snapshot.org/#/uniswap/proposal/0x6b8df360fdf73085b21fdf5eef9f85916fbde95621a3d454cb20fbe545ffc852). We see that even for the least popular choices, whales still contributed to the majority of the votes. We also observe that whales held the overwhelming majority of voting power for the runner-up, \"LayerZero\", with 99.9% of voting power allocated to this proposal being directed to this choice. By comparison, \"Wormhole\" received 65.1% of voting power for this proposal coming from whales."
   ]
  },
  {
   "cell_type": "code",
   "execution_count": 10,
   "metadata": {
    "tags": [
     "remove-input"
    ]
   },
   "outputs": [
    {
     "data": {
      "text/html": [
       "<div>\n",
       "<style scoped>\n",
       "    .dataframe tbody tr th:only-of-type {\n",
       "        vertical-align: middle;\n",
       "    }\n",
       "\n",
       "    .dataframe tbody tr th {\n",
       "        vertical-align: top;\n",
       "    }\n",
       "\n",
       "    .dataframe thead th {\n",
       "        text-align: right;\n",
       "    }\n",
       "</style>\n",
       "<table border=\"1\" class=\"dataframe\">\n",
       "  <thead>\n",
       "    <tr style=\"text-align: right;\">\n",
       "      <th></th>\n",
       "      <th>Wormhole</th>\n",
       "      <th>LayerZero</th>\n",
       "      <th>Celer</th>\n",
       "      <th>deBridge</th>\n",
       "    </tr>\n",
       "  </thead>\n",
       "  <tbody>\n",
       "    <tr>\n",
       "      <th>Scores</th>\n",
       "      <td>2.840391e+07</td>\n",
       "      <td>1.717334e+07</td>\n",
       "      <td>662.606204</td>\n",
       "      <td>3772.802474</td>\n",
       "    </tr>\n",
       "    <tr>\n",
       "      <th>Score Differeces</th>\n",
       "      <td>2.327546e+07</td>\n",
       "      <td>1.716363e+07</td>\n",
       "      <td>481.545728</td>\n",
       "      <td>3402.436704</td>\n",
       "    </tr>\n",
       "  </tbody>\n",
       "</table>\n",
       "</div>"
      ],
      "text/plain": [
       "                      Wormhole     LayerZero       Celer     deBridge\n",
       "Scores            2.840391e+07  1.717334e+07  662.606204  3772.802474\n",
       "Score Differeces  2.327546e+07  1.716363e+07  481.545728  3402.436704"
      ]
     },
     "execution_count": 10,
     "metadata": {},
     "output_type": "execute_result"
    }
   ],
   "source": [
    "propsal_choices = plutocracy_report_data['Uniswap'][plutocracy_report_data['Uniswap']['proposal_id'] == '0x6b8df360fdf73085b21fdf5eef9f85916fbde95621a3d454cb20fbe545ffc852'].iloc[0]['proposal_choices']\n",
    "proposal_score_diffrences = score_diffrences_dfs[\"Uniswap\"].loc[\"0x6b8df36\"][\"score_diffrences\"]\n",
    "proposal_scores = plutocracy_report_data['Uniswap'][plutocracy_report_data['Uniswap']['proposal_id'] == '0x6b8df360fdf73085b21fdf5eef9f85916fbde95621a3d454cb20fbe545ffc852'].iloc[0]['proposal_scores']\n",
    "\n",
    "pd.DataFrame(\n",
    "    {choice: [score, score_diff] for choice, score, score_diff in zip(eval(propsal_choices), eval(proposal_scores), proposal_score_diffrences)},\n",
    "    index=[\"Scores\", \"Score Differeces\"],\n",
    ")"
   ]
  },
  {
   "cell_type": "markdown",
   "metadata": {},
   "source": [
    "Next up is ENS."
   ]
  },
  {
   "cell_type": "code",
   "execution_count": 11,
   "metadata": {},
   "outputs": [
    {
     "data": {
      "text/html": [
       "<div>\n",
       "<style scoped>\n",
       "    .dataframe tbody tr th:only-of-type {\n",
       "        vertical-align: middle;\n",
       "    }\n",
       "\n",
       "    .dataframe tbody tr th {\n",
       "        vertical-align: top;\n",
       "    }\n",
       "\n",
       "    .dataframe thead th {\n",
       "        text-align: right;\n",
       "    }\n",
       "</style>\n",
       "<table border=\"1\" class=\"dataframe\">\n",
       "  <thead>\n",
       "    <tr style=\"text-align: right;\">\n",
       "      <th></th>\n",
       "      <th>type</th>\n",
       "      <th>choices</th>\n",
       "      <th>score_diffrences</th>\n",
       "      <th>total_vp</th>\n",
       "      <th>outcome_changed</th>\n",
       "      <th>outcome</th>\n",
       "    </tr>\n",
       "    <tr>\n",
       "      <th>Proposal ID</th>\n",
       "      <th></th>\n",
       "      <th></th>\n",
       "      <th></th>\n",
       "      <th></th>\n",
       "      <th></th>\n",
       "      <th></th>\n",
       "    </tr>\n",
       "  </thead>\n",
       "  <tbody>\n",
       "    <tr>\n",
       "      <th>0x41b3509</th>\n",
       "      <td>single-choice</td>\n",
       "      <td>['For', 'Against', 'Abstain']</td>\n",
       "      <td>[1667210.963067633, 0.0, 137.12454090065714]</td>\n",
       "      <td>1670185.073618348</td>\n",
       "      <td>False</td>\n",
       "      <td>For</td>\n",
       "    </tr>\n",
       "    <tr>\n",
       "      <th>0xd7eff78</th>\n",
       "      <td>single-choice</td>\n",
       "      <td>['For', 'Against', 'Abstain']</td>\n",
       "      <td>[1666938.9315321625, 100.38682608595627, 141.9...</td>\n",
       "      <td>1670154.219044510</td>\n",
       "      <td>False</td>\n",
       "      <td>For</td>\n",
       "    </tr>\n",
       "    <tr>\n",
       "      <th>...</th>\n",
       "      <td>...</td>\n",
       "      <td>...</td>\n",
       "      <td>...</td>\n",
       "      <td>...</td>\n",
       "      <td>...</td>\n",
       "      <td>...</td>\n",
       "    </tr>\n",
       "    <tr>\n",
       "      <th>0xfe73d1b</th>\n",
       "      <td>approval</td>\n",
       "      <td>['1. Transfer Treasury', '2. Transfer Registra...</td>\n",
       "      <td>[4573759.0782857565, 4573759.078285757, 457375...</td>\n",
       "      <td>4856109.997858677</td>\n",
       "      <td>False</td>\n",
       "      <td>1. Transfer Treasury</td>\n",
       "    </tr>\n",
       "    <tr>\n",
       "      <th>0xd810c4c</th>\n",
       "      <td>approval</td>\n",
       "      <td>['Ratify Article I', 'Ratify Article II', 'Rat...</td>\n",
       "      <td>[170029.0968926698, 170029.0968926698, 170029....</td>\n",
       "      <td>16102806.718553530</td>\n",
       "      <td>False</td>\n",
       "      <td>Ratify Article I</td>\n",
       "    </tr>\n",
       "  </tbody>\n",
       "</table>\n",
       "<p>28 rows × 6 columns</p>\n",
       "</div>"
      ],
      "text/plain": [
       "                      type                                            choices  \\\n",
       "Proposal ID                                                                     \n",
       "0x41b3509    single-choice                      ['For', 'Against', 'Abstain']   \n",
       "0xd7eff78    single-choice                      ['For', 'Against', 'Abstain']   \n",
       "...                    ...                                                ...   \n",
       "0xfe73d1b         approval  ['1. Transfer Treasury', '2. Transfer Registra...   \n",
       "0xd810c4c         approval  ['Ratify Article I', 'Ratify Article II', 'Rat...   \n",
       "\n",
       "                                              score_diffrences  \\\n",
       "Proposal ID                                                      \n",
       "0x41b3509         [1667210.963067633, 0.0, 137.12454090065714]   \n",
       "0xd7eff78    [1666938.9315321625, 100.38682608595627, 141.9...   \n",
       "...                                                        ...   \n",
       "0xfe73d1b    [4573759.0782857565, 4573759.078285757, 457375...   \n",
       "0xd810c4c    [170029.0968926698, 170029.0968926698, 170029....   \n",
       "\n",
       "                       total_vp  outcome_changed               outcome  \n",
       "Proposal ID                                                             \n",
       "0x41b3509     1670185.073618348            False                   For  \n",
       "0xd7eff78     1670154.219044510            False                   For  \n",
       "...                         ...              ...                   ...  \n",
       "0xfe73d1b     4856109.997858677            False  1. Transfer Treasury  \n",
       "0xd810c4c    16102806.718553530            False      Ratify Article I  \n",
       "\n",
       "[28 rows x 6 columns]"
      ]
     },
     "execution_count": 11,
     "metadata": {},
     "output_type": "execute_result"
    }
   ],
   "source": [
    "score_diffrences_dfs[\"ENS\"]"
   ]
  },
  {
   "cell_type": "code",
   "execution_count": 12,
   "metadata": {},
   "outputs": [
    {
     "data": {
      "text/plain": [
       "False    0.964286\n",
       "True     0.035714\n",
       "Name: outcome_changed, dtype: float64"
      ]
     },
     "execution_count": 12,
     "metadata": {},
     "output_type": "execute_result"
    }
   ],
   "source": [
    "score_diffrences_dfs[\"ENS\"][\"outcome_changed\"].value_counts(normalize=True)"
   ]
  },
  {
   "attachments": {},
   "cell_type": "markdown",
   "metadata": {},
   "source": [
    "We see that a very small percentage of proposal outcomes were changed after filtering out whales (3.5%). However, if we take look at score differences as they compare to each score, we see that they were almost all determined by whales."
   ]
  },
  {
   "cell_type": "code",
   "execution_count": 13,
   "metadata": {
    "tags": [
     "remove-input"
    ]
   },
   "outputs": [
    {
     "data": {
      "text/html": [
       "<div>\n",
       "<style scoped>\n",
       "    .dataframe tbody tr th:only-of-type {\n",
       "        vertical-align: middle;\n",
       "    }\n",
       "\n",
       "    .dataframe tbody tr th {\n",
       "        vertical-align: top;\n",
       "    }\n",
       "\n",
       "    .dataframe thead th {\n",
       "        text-align: right;\n",
       "    }\n",
       "</style>\n",
       "<table border=\"1\" class=\"dataframe\">\n",
       "  <thead>\n",
       "    <tr style=\"text-align: right;\">\n",
       "      <th></th>\n",
       "      <th>For</th>\n",
       "      <th>Against</th>\n",
       "      <th>Abstain</th>\n",
       "    </tr>\n",
       "  </thead>\n",
       "  <tbody>\n",
       "    <tr>\n",
       "      <th>Scores</th>\n",
       "      <td>1.669865e+06</td>\n",
       "      <td>125.702762</td>\n",
       "      <td>194.817417</td>\n",
       "    </tr>\n",
       "    <tr>\n",
       "      <th>Score Differeces</th>\n",
       "      <td>1.667211e+06</td>\n",
       "      <td>0.000000</td>\n",
       "      <td>137.124541</td>\n",
       "    </tr>\n",
       "  </tbody>\n",
       "</table>\n",
       "</div>"
      ],
      "text/plain": [
       "                           For     Against     Abstain\n",
       "Scores            1.669865e+06  125.702762  194.817417\n",
       "Score Differeces  1.667211e+06    0.000000  137.124541"
      ]
     },
     "execution_count": 13,
     "metadata": {},
     "output_type": "execute_result"
    }
   ],
   "source": [
    "propsal_choices = plutocracy_report_data['ENS'][plutocracy_report_data['ENS']['proposal_id'] == '0x41b3509b88e15677aa15680f48278517f794822fb9a79b9c621def53f1866be7'].iloc[0]['proposal_choices']\n",
    "proposal_score_diffrences = score_diffrences_dfs[\"ENS\"].loc[\"0x41b3509\"][\"score_diffrences\"]\n",
    "proposal_scores = plutocracy_report_data['ENS'][plutocracy_report_data['ENS']['proposal_id'] == '0x41b3509b88e15677aa15680f48278517f794822fb9a79b9c621def53f1866be7'].iloc[0]['proposal_scores']\n",
    "\n",
    "pd.DataFrame(\n",
    "    {choice: [score, score_diff] for choice, score, score_diff in zip(eval(propsal_choices), eval(proposal_scores), proposal_score_diffrences)},\n",
    "    index=[\"Scores\", \"Score Differeces\"],\n",
    ")"
   ]
  },
  {
   "cell_type": "markdown",
   "metadata": {},
   "source": [
    "[This proposal](https://snapshot.org/#/ens.eth/proposal/0x41b3509b88e15677aa15680f48278517f794822fb9a79b9c621def53f1866be7) once passed will approve the funding of various grants ENS has committed to funding as detailed by the proposal, **the amount of capital to be committed to this proposal is 250k USDC and 50 ETH**. 99.9% of voting power allocated towards this proposal was committed to voting for its passing, 0.0001% was allocated to abstaining and even a smaller percentage was allocated to voting against its passing.\n",
    "\n",
    "Meaning that ~0.1% of the vote would've still been allocated towards voting for the proposal to pass even without whale intervention, which I think many would see as fine since the funding of public goods is always important."
   ]
  },
  {
   "attachments": {},
   "cell_type": "markdown",
   "metadata": {},
   "source": [
    "Another proposal on ENS which had a large amount of voting power committed by whales is [this proposal](https://snapshot.org/#/ens.eth/proposal/0x5788bf0f52ce82a1d3f7750a80f3001671ded49e4e0239dbbafd154275c78f8b) to commit **935k USDC and 254 ETH** to the ENS Ecosystem Working group which is responsible for *growing and improving the ENS Ecosystem by funding people and projects that are ENS-specific or ENS-centric*."
   ]
  },
  {
   "cell_type": "code",
   "execution_count": 14,
   "metadata": {
    "tags": [
     "remove-input"
    ]
   },
   "outputs": [
    {
     "data": {
      "text/html": [
       "<div>\n",
       "<style scoped>\n",
       "    .dataframe tbody tr th:only-of-type {\n",
       "        vertical-align: middle;\n",
       "    }\n",
       "\n",
       "    .dataframe tbody tr th {\n",
       "        vertical-align: top;\n",
       "    }\n",
       "\n",
       "    .dataframe thead th {\n",
       "        text-align: right;\n",
       "    }\n",
       "</style>\n",
       "<table border=\"1\" class=\"dataframe\">\n",
       "  <thead>\n",
       "    <tr style=\"text-align: right;\">\n",
       "      <th></th>\n",
       "      <th>For</th>\n",
       "      <th>Against</th>\n",
       "      <th>Abstain</th>\n",
       "    </tr>\n",
       "  </thead>\n",
       "  <tbody>\n",
       "    <tr>\n",
       "      <th>Scores</th>\n",
       "      <td>1.449464e+06</td>\n",
       "      <td>208582.378002</td>\n",
       "      <td>13640.353424</td>\n",
       "    </tr>\n",
       "    <tr>\n",
       "      <th>Score Differeces</th>\n",
       "      <td>1.446509e+06</td>\n",
       "      <td>208348.531592</td>\n",
       "      <td>13519.449465</td>\n",
       "    </tr>\n",
       "  </tbody>\n",
       "</table>\n",
       "</div>"
      ],
      "text/plain": [
       "                           For        Against       Abstain\n",
       "Scores            1.449464e+06  208582.378002  13640.353424\n",
       "Score Differeces  1.446509e+06  208348.531592  13519.449465"
      ]
     },
     "execution_count": 14,
     "metadata": {},
     "output_type": "execute_result"
    }
   ],
   "source": [
    "propsal_choices = plutocracy_report_data['ENS'][plutocracy_report_data['ENS']['proposal_id'] == '0x5788bf0f52ce82a1d3f7750a80f3001671ded49e4e0239dbbafd154275c78f8b'].iloc[0]['proposal_choices']\n",
    "proposal_score_diffrences = score_diffrences_dfs[\"ENS\"].loc[\"0x5788bf0\"][\"score_diffrences\"]\n",
    "proposal_scores = plutocracy_report_data['ENS'][plutocracy_report_data['ENS']['proposal_id'] == '0x5788bf0f52ce82a1d3f7750a80f3001671ded49e4e0239dbbafd154275c78f8b'].iloc[0]['proposal_scores']\n",
    "\n",
    "pd.DataFrame(\n",
    "    {choice: [score, score_diff] for choice, score, score_diff in zip(eval(propsal_choices), eval(proposal_scores), proposal_score_diffrences)},\n",
    "    index=[\"Scores\", \"Score Differeces\"],\n",
    ")"
   ]
  },
  {
   "cell_type": "markdown",
   "metadata": {},
   "source": [
    "Similar to the previous proposal we looked at, this one was highly influenced by whales (~86.5% of voting power committed to this proposal coming from whales that voted for its passing, ~12.5% from whales that voted against it, and ~0.8% of whales voted to abstain).\n",
    "\n",
    "Yet, even after removing whales, the proposal still passes. After doing some quick math, we can see the remaining voting power for this proposal that voted for its passing equates to about ~0.17% out of the remaining 0.2% of voting power after removing whales.\n",
    "\n",
    "Still, I am not at all saying that the outcome of this proposal is controversial. An organisation's funding initiatives that aid in the development of its product should not be a controversial topic for its members. I suppose the only thing that would be contested is the amount that is committed to this proposal."
   ]
  },
  {
   "cell_type": "markdown",
   "metadata": {},
   "source": [
    "Next let's take a look at everyone's favourite liquid staking platform: Lido."
   ]
  },
  {
   "cell_type": "code",
   "execution_count": 15,
   "metadata": {},
   "outputs": [
    {
     "data": {
      "text/html": [
       "<div>\n",
       "<style scoped>\n",
       "    .dataframe tbody tr th:only-of-type {\n",
       "        vertical-align: middle;\n",
       "    }\n",
       "\n",
       "    .dataframe tbody tr th {\n",
       "        vertical-align: top;\n",
       "    }\n",
       "\n",
       "    .dataframe thead th {\n",
       "        text-align: right;\n",
       "    }\n",
       "</style>\n",
       "<table border=\"1\" class=\"dataframe\">\n",
       "  <thead>\n",
       "    <tr style=\"text-align: right;\">\n",
       "      <th></th>\n",
       "      <th>type</th>\n",
       "      <th>choices</th>\n",
       "      <th>score_diffrences</th>\n",
       "      <th>total_vp</th>\n",
       "      <th>outcome_changed</th>\n",
       "      <th>outcome</th>\n",
       "    </tr>\n",
       "    <tr>\n",
       "      <th>Proposal ID</th>\n",
       "      <th></th>\n",
       "      <th></th>\n",
       "      <th></th>\n",
       "      <th></th>\n",
       "      <th></th>\n",
       "      <th></th>\n",
       "    </tr>\n",
       "  </thead>\n",
       "  <tbody>\n",
       "    <tr>\n",
       "      <th>0xc00b482</th>\n",
       "      <td>single-choice</td>\n",
       "      <td>['For', 'Against']</td>\n",
       "      <td>[53104809.92512264, 143.9334151800236]</td>\n",
       "      <td>53109342.190054603</td>\n",
       "      <td>False</td>\n",
       "      <td>For</td>\n",
       "    </tr>\n",
       "    <tr>\n",
       "      <th>0x3436b98</th>\n",
       "      <td>single-choice</td>\n",
       "      <td>['For', 'Against']</td>\n",
       "      <td>[55124323.664074376, 2048432.8880345668]</td>\n",
       "      <td>57176658.163439780</td>\n",
       "      <td>False</td>\n",
       "      <td>For</td>\n",
       "    </tr>\n",
       "    <tr>\n",
       "      <th>...</th>\n",
       "      <td>...</td>\n",
       "      <td>...</td>\n",
       "      <td>...</td>\n",
       "      <td>...</td>\n",
       "      <td>...</td>\n",
       "      <td>...</td>\n",
       "    </tr>\n",
       "    <tr>\n",
       "      <th>0xa2cd540</th>\n",
       "      <td>single-choice</td>\n",
       "      <td>['For', 'Against']</td>\n",
       "      <td>[64857751.02380797, 0.0]</td>\n",
       "      <td>64866671.314562209</td>\n",
       "      <td>False</td>\n",
       "      <td>For</td>\n",
       "    </tr>\n",
       "    <tr>\n",
       "      <th>0xdeb8cd8</th>\n",
       "      <td>single-choice</td>\n",
       "      <td>['For', 'Against']</td>\n",
       "      <td>[23322855.94982495, 90633.0303001409]</td>\n",
       "      <td>23470186.408249840</td>\n",
       "      <td>False</td>\n",
       "      <td>For</td>\n",
       "    </tr>\n",
       "  </tbody>\n",
       "</table>\n",
       "<p>50 rows × 6 columns</p>\n",
       "</div>"
      ],
      "text/plain": [
       "                      type             choices  \\\n",
       "Proposal ID                                      \n",
       "0xc00b482    single-choice  ['For', 'Against']   \n",
       "0x3436b98    single-choice  ['For', 'Against']   \n",
       "...                    ...                 ...   \n",
       "0xa2cd540    single-choice  ['For', 'Against']   \n",
       "0xdeb8cd8    single-choice  ['For', 'Against']   \n",
       "\n",
       "                                     score_diffrences            total_vp  \\\n",
       "Proposal ID                                                                 \n",
       "0xc00b482      [53104809.92512264, 143.9334151800236]  53109342.190054603   \n",
       "0x3436b98    [55124323.664074376, 2048432.8880345668]  57176658.163439780   \n",
       "...                                               ...                 ...   \n",
       "0xa2cd540                    [64857751.02380797, 0.0]  64866671.314562209   \n",
       "0xdeb8cd8       [23322855.94982495, 90633.0303001409]  23470186.408249840   \n",
       "\n",
       "             outcome_changed outcome  \n",
       "Proposal ID                           \n",
       "0xc00b482              False     For  \n",
       "0x3436b98              False     For  \n",
       "...                      ...     ...  \n",
       "0xa2cd540              False     For  \n",
       "0xdeb8cd8              False     For  \n",
       "\n",
       "[50 rows x 6 columns]"
      ]
     },
     "execution_count": 15,
     "metadata": {},
     "output_type": "execute_result"
    }
   ],
   "source": [
    "score_diffrences_dfs[\"Lido\"]"
   ]
  },
  {
   "cell_type": "code",
   "execution_count": 16,
   "metadata": {},
   "outputs": [
    {
     "data": {
      "text/plain": [
       "False    0.96\n",
       "True     0.04\n",
       "Name: outcome_changed, dtype: float64"
      ]
     },
     "execution_count": 16,
     "metadata": {},
     "output_type": "execute_result"
    }
   ],
   "source": [
    "score_diffrences_dfs[\"Lido\"][\"outcome_changed\"].value_counts(normalize=True)"
   ]
  },
  {
   "attachments": {},
   "cell_type": "markdown",
   "metadata": {},
   "source": [
    "Here, we see that there was a change in outcome for just two of the proposals (4%). [This proposal](https://snapshot.org/#/lido-snapshot.eth/proposal/0xcbf534335fe07c046caa933e1623ac38bfb3d1890ab825264a0b47415cf7799b) to [expand the oracle set and quorum](https://mainnet.lido.fi/#/lido-dao/0x442af784a788a5bd6f42a01ebe9f287a871243fb/) of Lido DAO oracle node operators was passed 16/12/22 and onboarded 4 new oracle node operators and set the quorum to 5/9 reports from oracles being identical to be accepted by the protocol.\n",
    "\n",
    "Had whales not intervened, Option 1 to onboard 6 additional oracles and set the quorum to 6/11 would've passed."
   ]
  },
  {
   "cell_type": "code",
   "execution_count": 17,
   "metadata": {
    "tags": [
     "remove-input"
    ]
   },
   "outputs": [
    {
     "data": {
      "text/html": [
       "<div>\n",
       "<style scoped>\n",
       "    .dataframe tbody tr th:only-of-type {\n",
       "        vertical-align: middle;\n",
       "    }\n",
       "\n",
       "    .dataframe tbody tr th {\n",
       "        vertical-align: top;\n",
       "    }\n",
       "\n",
       "    .dataframe thead th {\n",
       "        text-align: right;\n",
       "    }\n",
       "</style>\n",
       "<table border=\"1\" class=\"dataframe\">\n",
       "  <thead>\n",
       "    <tr style=\"text-align: right;\">\n",
       "      <th></th>\n",
       "      <th>1. For 6 new oracles, 6/11 set</th>\n",
       "      <th>2. For 4 new oracles, 5/9 set</th>\n",
       "      <th>3. Against</th>\n",
       "    </tr>\n",
       "  </thead>\n",
       "  <tbody>\n",
       "    <tr>\n",
       "      <th>Scores</th>\n",
       "      <td>96886.616711</td>\n",
       "      <td>5.272470e+07</td>\n",
       "      <td>4778.954352</td>\n",
       "    </tr>\n",
       "    <tr>\n",
       "      <th>Score Differeces</th>\n",
       "      <td>92934.922644</td>\n",
       "      <td>5.272312e+07</td>\n",
       "      <td>4535.772055</td>\n",
       "    </tr>\n",
       "  </tbody>\n",
       "</table>\n",
       "</div>"
      ],
      "text/plain": [
       "                  1. For 6 new oracles, 6/11 set  \\\n",
       "Scores                              96886.616711   \n",
       "Score Differeces                    92934.922644   \n",
       "\n",
       "                  2. For 4 new oracles, 5/9 set   3. Against  \n",
       "Scores                             5.272470e+07  4778.954352  \n",
       "Score Differeces                   5.272312e+07  4535.772055  "
      ]
     },
     "execution_count": 17,
     "metadata": {},
     "output_type": "execute_result"
    }
   ],
   "source": [
    "propsal_choices = plutocracy_report_data['Lido'][plutocracy_report_data['Lido']['proposal_id'] == '0xcbf534335fe07c046caa933e1623ac38bfb3d1890ab825264a0b47415cf7799b'].iloc[0]['proposal_choices']\n",
    "proposal_score_diffrences = score_diffrences_dfs[\"Lido\"].loc[\"0xcbf5343\"][\"score_diffrences\"]\n",
    "proposal_scores = plutocracy_report_data['Lido'][plutocracy_report_data['Lido']['proposal_id'] == '0xcbf534335fe07c046caa933e1623ac38bfb3d1890ab825264a0b47415cf7799b'].iloc[0]['proposal_scores']\n",
    "\n",
    "pd.DataFrame(\n",
    "    {choice: [score, score_diff] for choice, score, score_diff in zip(eval(propsal_choices), eval(proposal_scores), proposal_score_diffrences)},\n",
    "    index=[\"Scores\", \"Score Differeces\"],\n",
    ")"
   ]
  },
  {
   "cell_type": "markdown",
   "metadata": {},
   "source": [
    "Here we see that whale participation was consistent for all choices for this proposal. In fact, ~99.982% of voting power allocated to this proposal came from whales that voted for each of the outcomes. The second outcome alone had ~99.980% of the voting power allocated to this proposal, so obviously, its removal would make a huge impression on the outcome.\n",
    "\n",
    "Indeed, the voting power would be comparatively low without whale intervention (if this were the case, only ~9277.7397 LDO would be allocated to this proposal). However the fact that after doing so additional oracles would still be implemented anyway, where the only other alternative would be to not implement any more oracles, shows that the community that participated in this proposal still saw it important to add more oracles to further promote decentralisation of oracles which [report chain state from the beacon chain to the execution layer](https://docs.lido.fi/guides/oracle-operator-manual) of ETH 2.0 as it pertains to the operation of Lido.\n",
    "\n",
    "In conclusion of this analysis of this proposal, we can say that whales and average token holders were moving in the same direction, but perhaps taking different paths. It will be interesting to see why whales opted to implement fewer oracles than what the majority of average token holders chose, which may require a more in-depth report based on the [forum discussions](https://research.lido.fi/t/expansion-of-lidos-ethereum-oracle-set/2836) on the proposal."
   ]
  },
  {
   "attachments": {},
   "cell_type": "markdown",
   "metadata": {},
   "source": [
    "---\n",
    "Now we take a look at Frax."
   ]
  },
  {
   "cell_type": "code",
   "execution_count": 18,
   "metadata": {},
   "outputs": [
    {
     "data": {
      "text/html": [
       "<div>\n",
       "<style scoped>\n",
       "    .dataframe tbody tr th:only-of-type {\n",
       "        vertical-align: middle;\n",
       "    }\n",
       "\n",
       "    .dataframe tbody tr th {\n",
       "        vertical-align: top;\n",
       "    }\n",
       "\n",
       "    .dataframe thead th {\n",
       "        text-align: right;\n",
       "    }\n",
       "</style>\n",
       "<table border=\"1\" class=\"dataframe\">\n",
       "  <thead>\n",
       "    <tr style=\"text-align: right;\">\n",
       "      <th></th>\n",
       "      <th>type</th>\n",
       "      <th>choices</th>\n",
       "      <th>score_diffrences</th>\n",
       "      <th>total_vp</th>\n",
       "      <th>outcome_changed</th>\n",
       "      <th>outcome</th>\n",
       "    </tr>\n",
       "    <tr>\n",
       "      <th>Proposal ID</th>\n",
       "      <th></th>\n",
       "      <th></th>\n",
       "      <th></th>\n",
       "      <th></th>\n",
       "      <th></th>\n",
       "      <th></th>\n",
       "    </tr>\n",
       "  </thead>\n",
       "  <tbody>\n",
       "    <tr>\n",
       "      <th>0x1c844e1</th>\n",
       "      <td>weighted</td>\n",
       "      <td>['For', 'Against']</td>\n",
       "      <td>[6339652.010523546, 0]</td>\n",
       "      <td>6482055.593524806</td>\n",
       "      <td>False</td>\n",
       "      <td>For</td>\n",
       "    </tr>\n",
       "    <tr>\n",
       "      <th>0x1127ca8</th>\n",
       "      <td>weighted</td>\n",
       "      <td>['For', 'Against']</td>\n",
       "      <td>[33277228.29325966, 0.0]</td>\n",
       "      <td>33750631.491070352</td>\n",
       "      <td>False</td>\n",
       "      <td>For</td>\n",
       "    </tr>\n",
       "    <tr>\n",
       "      <th>...</th>\n",
       "      <td>...</td>\n",
       "      <td>...</td>\n",
       "      <td>...</td>\n",
       "      <td>...</td>\n",
       "      <td>...</td>\n",
       "      <td>...</td>\n",
       "    </tr>\n",
       "    <tr>\n",
       "      <th>0x40e711b</th>\n",
       "      <td>weighted</td>\n",
       "      <td>['For', 'Against']</td>\n",
       "      <td>[32776757.693645008, 0]</td>\n",
       "      <td>39954420.724392056</td>\n",
       "      <td>False</td>\n",
       "      <td>For</td>\n",
       "    </tr>\n",
       "    <tr>\n",
       "      <th>0x68c141f</th>\n",
       "      <td>weighted</td>\n",
       "      <td>['For', 'Against']</td>\n",
       "      <td>[32776774.671120502, 0.0]</td>\n",
       "      <td>40485623.779861562</td>\n",
       "      <td>False</td>\n",
       "      <td>For</td>\n",
       "    </tr>\n",
       "  </tbody>\n",
       "</table>\n",
       "<p>50 rows × 6 columns</p>\n",
       "</div>"
      ],
      "text/plain": [
       "                 type             choices           score_diffrences  \\\n",
       "Proposal ID                                                            \n",
       "0x1c844e1    weighted  ['For', 'Against']     [6339652.010523546, 0]   \n",
       "0x1127ca8    weighted  ['For', 'Against']   [33277228.29325966, 0.0]   \n",
       "...               ...                 ...                        ...   \n",
       "0x40e711b    weighted  ['For', 'Against']    [32776757.693645008, 0]   \n",
       "0x68c141f    weighted  ['For', 'Against']  [32776774.671120502, 0.0]   \n",
       "\n",
       "                       total_vp  outcome_changed outcome  \n",
       "Proposal ID                                               \n",
       "0x1c844e1     6482055.593524806            False     For  \n",
       "0x1127ca8    33750631.491070352            False     For  \n",
       "...                         ...              ...     ...  \n",
       "0x40e711b    39954420.724392056            False     For  \n",
       "0x68c141f    40485623.779861562            False     For  \n",
       "\n",
       "[50 rows x 6 columns]"
      ]
     },
     "execution_count": 18,
     "metadata": {},
     "output_type": "execute_result"
    }
   ],
   "source": [
    "score_diffrences_dfs[\"Frax\"]"
   ]
  },
  {
   "cell_type": "code",
   "execution_count": 19,
   "metadata": {},
   "outputs": [
    {
     "data": {
      "text/plain": [
       "False    0.98\n",
       "True     0.02\n",
       "Name: outcome_changed, dtype: float64"
      ]
     },
     "execution_count": 19,
     "metadata": {},
     "output_type": "execute_result"
    }
   ],
   "source": [
    "score_diffrences_dfs[\"Frax\"][\"outcome_changed\"].value_counts(normalize=True)"
   ]
  },
  {
   "cell_type": "markdown",
   "metadata": {},
   "source": [
    "Whilst enormous voting power was filtered out from all the proposals listed, just one had their outcomes changed (2%).\n",
    "\n",
    "If we look at the proposal which attracted the most voting power, [this proposal](https://snapshot.org/#/frax.eth/proposal/0xece8d5be8b180b54350c4bddee190e24e2849d233f8aac11e0ef0aa7d658ae2a) to renew the grant for Flywheel for 2023 (in the amount of approx $214.2k, split 50/50 in FXS and FRAX) for the promotion of \"the Frax ecosystem and producing high-quality DeFi content\", we see that just over 50% of the voting power was removed from this proposal after filtering out whales (approx 56.7%).\n",
    "\n",
    "Though, because the opposition voting power for this proposal was a paltry 1E-5% of the vote, filtering out whales did not change the outcome. This was not a controversial outcome to this proposal after observing the number of voting participants (FXS token holders who participated in this proposal).\n",
    "\n",
    "Indeed, Frax's [forum post](https://gov.frax.finance/t/fip-178-flywheel-grant-renewal-for-2023/2068) regarding this proposal had mostly positive things to say about Flywheel, which started out as a podcast promoting Frax in the wake of the collapse of Terra/Luna. Stating that since their last grant given to Flywheel in 2022, their social following has increased by 2770% on Twitter and 3140% on Youtube. They also serve as an educating branch for Frax, organizing meetups and also \"attracted builders from across the ecosystem\".\n",
    "\n",
    "What's interesting about this proposal is that whale participation contributed to just over 56.7% of the voting power for this proposal. This is probably the most fairly represented outcome looked at so far, with the outcome being clearly popular with whales and the average voter.\n"
   ]
  },
  {
   "cell_type": "code",
   "execution_count": 20,
   "metadata": {
    "tags": [
     "remove-input"
    ]
   },
   "outputs": [
    {
     "data": {
      "text/html": [
       "<div>\n",
       "<style scoped>\n",
       "    .dataframe tbody tr th:only-of-type {\n",
       "        vertical-align: middle;\n",
       "    }\n",
       "\n",
       "    .dataframe tbody tr th {\n",
       "        vertical-align: top;\n",
       "    }\n",
       "\n",
       "    .dataframe thead th {\n",
       "        text-align: right;\n",
       "    }\n",
       "</style>\n",
       "<table border=\"1\" class=\"dataframe\">\n",
       "  <thead>\n",
       "    <tr style=\"text-align: right;\">\n",
       "      <th></th>\n",
       "      <th>For</th>\n",
       "      <th>Against</th>\n",
       "    </tr>\n",
       "  </thead>\n",
       "  <tbody>\n",
       "    <tr>\n",
       "      <th>Scores</th>\n",
       "      <td>1.172897e+07</td>\n",
       "      <td>131.88977</td>\n",
       "    </tr>\n",
       "    <tr>\n",
       "      <th>Score Differeces</th>\n",
       "      <td>9.238258e+06</td>\n",
       "      <td>0.00000</td>\n",
       "    </tr>\n",
       "  </tbody>\n",
       "</table>\n",
       "</div>"
      ],
      "text/plain": [
       "                           For    Against\n",
       "Scores            1.172897e+07  131.88977\n",
       "Score Differeces  9.238258e+06    0.00000"
      ]
     },
     "execution_count": 20,
     "metadata": {},
     "output_type": "execute_result"
    }
   ],
   "source": [
    "propsal_choices = plutocracy_report_data['Frax'][plutocracy_report_data['Frax']['proposal_id'] == '0xece8d5be8b180b54350c4bddee190e24e2849d233f8aac11e0ef0aa7d658ae2a'].iloc[0]['proposal_choices']\n",
    "proposal_score_diffrences = score_diffrences_dfs[\"Frax\"].loc[\"0xece8d5b\"][\"score_diffrences\"]\n",
    "proposal_scores = plutocracy_report_data['Frax'][plutocracy_report_data['Frax']['proposal_id'] == '0xece8d5be8b180b54350c4bddee190e24e2849d233f8aac11e0ef0aa7d658ae2a'].iloc[0]['proposal_scores']\n",
    "\n",
    "pd.DataFrame(\n",
    "    {choice: [score, score_diff] for choice, score, score_diff in zip(eval(propsal_choices), eval(proposal_scores), proposal_score_diffrences)},\n",
    "    index=[\"Scores\", \"Score Differeces\"],\n",
    ")"
   ]
  },
  {
   "cell_type": "markdown",
   "metadata": {},
   "source": [
    "---\n",
    "If we now look at Decentraland, we observe that there is quite a bad case of concentration of votes in the hands of plutocrats."
   ]
  },
  {
   "cell_type": "code",
   "execution_count": 21,
   "metadata": {},
   "outputs": [
    {
     "data": {
      "text/html": [
       "<div>\n",
       "<style scoped>\n",
       "    .dataframe tbody tr th:only-of-type {\n",
       "        vertical-align: middle;\n",
       "    }\n",
       "\n",
       "    .dataframe tbody tr th {\n",
       "        vertical-align: top;\n",
       "    }\n",
       "\n",
       "    .dataframe thead th {\n",
       "        text-align: right;\n",
       "    }\n",
       "</style>\n",
       "<table border=\"1\" class=\"dataframe\">\n",
       "  <thead>\n",
       "    <tr style=\"text-align: right;\">\n",
       "      <th></th>\n",
       "      <th>type</th>\n",
       "      <th>choices</th>\n",
       "      <th>score_diffrences</th>\n",
       "      <th>total_vp</th>\n",
       "      <th>outcome_changed</th>\n",
       "      <th>outcome</th>\n",
       "    </tr>\n",
       "    <tr>\n",
       "      <th>Proposal ID</th>\n",
       "      <th></th>\n",
       "      <th></th>\n",
       "      <th></th>\n",
       "      <th></th>\n",
       "      <th></th>\n",
       "      <th></th>\n",
       "    </tr>\n",
       "  </thead>\n",
       "  <tbody>\n",
       "    <tr>\n",
       "      <th>0xbedf554</th>\n",
       "      <td>single-choice</td>\n",
       "      <td>['yes', 'no']</td>\n",
       "      <td>[4002000.0, 3893550.133071836]</td>\n",
       "      <td>7897313.282092846</td>\n",
       "      <td>False</td>\n",
       "      <td>yes</td>\n",
       "    </tr>\n",
       "    <tr>\n",
       "      <th>0xdbe9b2d</th>\n",
       "      <td>single-choice</td>\n",
       "      <td>['yes', 'no']</td>\n",
       "      <td>[4815847.412524041, 0.0]</td>\n",
       "      <td>4828413.810218499</td>\n",
       "      <td>False</td>\n",
       "      <td>yes</td>\n",
       "    </tr>\n",
       "    <tr>\n",
       "      <th>...</th>\n",
       "      <td>...</td>\n",
       "      <td>...</td>\n",
       "      <td>...</td>\n",
       "      <td>...</td>\n",
       "      <td>...</td>\n",
       "      <td>...</td>\n",
       "    </tr>\n",
       "    <tr>\n",
       "      <th>0x79b68a7</th>\n",
       "      <td>single-choice</td>\n",
       "      <td>['Yea I like the idea', 'no not interested', '...</td>\n",
       "      <td>[0.0, 302348.9759993614, 929354.0397820002]</td>\n",
       "      <td>1237047.644105608</td>\n",
       "      <td>False</td>\n",
       "      <td>Invalid question/options</td>\n",
       "    </tr>\n",
       "    <tr>\n",
       "      <th>0x4d2a825</th>\n",
       "      <td>single-choice</td>\n",
       "      <td>['yes', 'no']</td>\n",
       "      <td>[0.0, 1650987.4791028618]</td>\n",
       "      <td>1724953.034168607</td>\n",
       "      <td>False</td>\n",
       "      <td>no</td>\n",
       "    </tr>\n",
       "  </tbody>\n",
       "</table>\n",
       "<p>50 rows × 6 columns</p>\n",
       "</div>"
      ],
      "text/plain": [
       "                      type                                            choices  \\\n",
       "Proposal ID                                                                     \n",
       "0xbedf554    single-choice                                      ['yes', 'no']   \n",
       "0xdbe9b2d    single-choice                                      ['yes', 'no']   \n",
       "...                    ...                                                ...   \n",
       "0x79b68a7    single-choice  ['Yea I like the idea', 'no not interested', '...   \n",
       "0x4d2a825    single-choice                                      ['yes', 'no']   \n",
       "\n",
       "                                        score_diffrences           total_vp  \\\n",
       "Proposal ID                                                                   \n",
       "0xbedf554                 [4002000.0, 3893550.133071836]  7897313.282092846   \n",
       "0xdbe9b2d                       [4815847.412524041, 0.0]  4828413.810218499   \n",
       "...                                                  ...                ...   \n",
       "0x79b68a7    [0.0, 302348.9759993614, 929354.0397820002]  1237047.644105608   \n",
       "0x4d2a825                      [0.0, 1650987.4791028618]  1724953.034168607   \n",
       "\n",
       "             outcome_changed                   outcome  \n",
       "Proposal ID                                             \n",
       "0xbedf554              False                       yes  \n",
       "0xdbe9b2d              False                       yes  \n",
       "...                      ...                       ...  \n",
       "0x79b68a7              False  Invalid question/options  \n",
       "0x4d2a825              False                        no  \n",
       "\n",
       "[50 rows x 6 columns]"
      ]
     },
     "execution_count": 21,
     "metadata": {},
     "output_type": "execute_result"
    }
   ],
   "source": [
    "score_diffrences_dfs[\"Decentraland\"]"
   ]
  },
  {
   "cell_type": "code",
   "execution_count": 22,
   "metadata": {},
   "outputs": [
    {
     "data": {
      "text/plain": [
       "False    0.76\n",
       "True     0.24\n",
       "Name: outcome_changed, dtype: float64"
      ]
     },
     "execution_count": 22,
     "metadata": {},
     "output_type": "execute_result"
    }
   ],
   "source": [
    "score_diffrences_dfs[\"Decentraland\"][\"outcome_changed\"].value_counts(normalize=True)"
   ]
  },
  {
   "attachments": {},
   "cell_type": "markdown",
   "metadata": {},
   "source": [
    "Here we see that just under a quarter of proposals' outcomes would change if whales were not involved in Decentraland governance."
   ]
  },
  {
   "cell_type": "markdown",
   "metadata": {},
   "source": [
    "For example, this proposal to set a duration period for the tenure of Decentraland DAO commitee members saw 99.9% of voting power being concentrated to whales, with 94.85% of propsal voting power being allocated to voting for the proposal to not pass."
   ]
  },
  {
   "cell_type": "code",
   "execution_count": 23,
   "metadata": {
    "tags": [
     "remove-input"
    ]
   },
   "outputs": [
    {
     "data": {
      "text/html": [
       "<div>\n",
       "<style scoped>\n",
       "    .dataframe tbody tr th:only-of-type {\n",
       "        vertical-align: middle;\n",
       "    }\n",
       "\n",
       "    .dataframe tbody tr th {\n",
       "        vertical-align: top;\n",
       "    }\n",
       "\n",
       "    .dataframe thead th {\n",
       "        text-align: right;\n",
       "    }\n",
       "</style>\n",
       "<table border=\"1\" class=\"dataframe\">\n",
       "  <thead>\n",
       "    <tr style=\"text-align: right;\">\n",
       "      <th></th>\n",
       "      <th>Yes</th>\n",
       "      <th>No</th>\n",
       "      <th>Invalid question/options</th>\n",
       "    </tr>\n",
       "  </thead>\n",
       "  <tbody>\n",
       "    <tr>\n",
       "      <th>Scores</th>\n",
       "      <td>168338.243827</td>\n",
       "      <td>1.394610e+06</td>\n",
       "      <td>0.025206</td>\n",
       "    </tr>\n",
       "    <tr>\n",
       "      <th>Score Differeces</th>\n",
       "      <td>166209.638630</td>\n",
       "      <td>1.392896e+06</td>\n",
       "      <td>0.000000</td>\n",
       "    </tr>\n",
       "  </tbody>\n",
       "</table>\n",
       "</div>"
      ],
      "text/plain": [
       "                            Yes            No  Invalid question/options\n",
       "Scores            168338.243827  1.394610e+06                  0.025206\n",
       "Score Differeces  166209.638630  1.392896e+06                  0.000000"
      ]
     },
     "execution_count": 23,
     "metadata": {},
     "output_type": "execute_result"
    }
   ],
   "source": [
    "propsal_choices = plutocracy_report_data['Decentraland'][plutocracy_report_data['Decentraland']['proposal_id'] == '0x7f6fed8c7645d1b793526564104e4f79864a9e30ae284029f752b6297478b4f5'].iloc[0]['proposal_choices']\n",
    "proposal_score_diffrences = score_diffrences_dfs[\"Decentraland\"].loc[\"0x7f6fed8\"][\"score_diffrences\"]\n",
    "proposal_scores = plutocracy_report_data['Decentraland'][plutocracy_report_data['Decentraland']['proposal_id'] == '0x7f6fed8c7645d1b793526564104e4f79864a9e30ae284029f752b6297478b4f5'].iloc[0]['proposal_scores']\n",
    "\n",
    "pd.DataFrame(\n",
    "    {choice: [score, score_diff] for choice, score, score_diff in zip(eval(propsal_choices), eval(proposal_scores), proposal_score_diffrences)},\n",
    "    index=[\"Scores\", \"Score Differeces\"],\n",
    ")"
   ]
  },
  {
   "cell_type": "markdown",
   "metadata": {},
   "source": [
    "Obviously a case of centralized power voting for their own self interests, its not suprising that if whales were factored out of the proposal (which would've given existing and future committee members set terms, making the roles more democratic) the proposal would've passed, albeit, with very low voting power in comparison."
   ]
  },
  {
   "attachments": {},
   "cell_type": "markdown",
   "metadata": {},
   "source": [
    "---\n",
    "Going back to DeFi, let's now look at Curve Finance."
   ]
  },
  {
   "cell_type": "code",
   "execution_count": 24,
   "metadata": {},
   "outputs": [
    {
     "data": {
      "text/html": [
       "<div>\n",
       "<style scoped>\n",
       "    .dataframe tbody tr th:only-of-type {\n",
       "        vertical-align: middle;\n",
       "    }\n",
       "\n",
       "    .dataframe tbody tr th {\n",
       "        vertical-align: top;\n",
       "    }\n",
       "\n",
       "    .dataframe thead th {\n",
       "        text-align: right;\n",
       "    }\n",
       "</style>\n",
       "<table border=\"1\" class=\"dataframe\">\n",
       "  <thead>\n",
       "    <tr style=\"text-align: right;\">\n",
       "      <th></th>\n",
       "      <th>type</th>\n",
       "      <th>choices</th>\n",
       "      <th>score_diffrences</th>\n",
       "      <th>total_vp</th>\n",
       "      <th>outcome_changed</th>\n",
       "      <th>outcome</th>\n",
       "    </tr>\n",
       "    <tr>\n",
       "      <th>Proposal ID</th>\n",
       "      <th></th>\n",
       "      <th></th>\n",
       "      <th></th>\n",
       "      <th></th>\n",
       "      <th></th>\n",
       "      <th></th>\n",
       "    </tr>\n",
       "  </thead>\n",
       "  <tbody>\n",
       "    <tr>\n",
       "      <th>0x0eb23ea</th>\n",
       "      <td>single-choice</td>\n",
       "      <td>['Yes', 'No']</td>\n",
       "      <td>[23462.994316173717, 511330.4724932205]</td>\n",
       "      <td>574553.874246682</td>\n",
       "      <td>True</td>\n",
       "      <td>Yes</td>\n",
       "    </tr>\n",
       "    <tr>\n",
       "      <th>0x43c689e</th>\n",
       "      <td>single-choice</td>\n",
       "      <td>['Do Nothing', '2Pool + current 3Pool', '2Pool...</td>\n",
       "      <td>[0.0, 559204.7021513436, 2510541.702086272]</td>\n",
       "      <td>4272657.271177988</td>\n",
       "      <td>False</td>\n",
       "      <td>2Pool + current 3Pool + 4Pool</td>\n",
       "    </tr>\n",
       "    <tr>\n",
       "      <th>...</th>\n",
       "      <td>...</td>\n",
       "      <td>...</td>\n",
       "      <td>...</td>\n",
       "      <td>...</td>\n",
       "      <td>...</td>\n",
       "      <td>...</td>\n",
       "    </tr>\n",
       "    <tr>\n",
       "      <th>0xb860247</th>\n",
       "      <td>single-choice</td>\n",
       "      <td>['Yes', 'No']</td>\n",
       "      <td>[456680.73038604925, 0]</td>\n",
       "      <td>474117.231304990</td>\n",
       "      <td>False</td>\n",
       "      <td>Yes</td>\n",
       "    </tr>\n",
       "    <tr>\n",
       "      <th>0xa4fb747</th>\n",
       "      <td>single-choice</td>\n",
       "      <td>['当然', '不会']</td>\n",
       "      <td>[7167.578066496797, 0]</td>\n",
       "      <td>7183.113523668</td>\n",
       "      <td>False</td>\n",
       "      <td>当然</td>\n",
       "    </tr>\n",
       "  </tbody>\n",
       "</table>\n",
       "<p>44 rows × 6 columns</p>\n",
       "</div>"
      ],
      "text/plain": [
       "                      type                                            choices  \\\n",
       "Proposal ID                                                                     \n",
       "0x0eb23ea    single-choice                                      ['Yes', 'No']   \n",
       "0x43c689e    single-choice  ['Do Nothing', '2Pool + current 3Pool', '2Pool...   \n",
       "...                    ...                                                ...   \n",
       "0xb860247    single-choice                                      ['Yes', 'No']   \n",
       "0xa4fb747    single-choice                                       ['当然', '不会']   \n",
       "\n",
       "                                        score_diffrences           total_vp  \\\n",
       "Proposal ID                                                                   \n",
       "0x0eb23ea        [23462.994316173717, 511330.4724932205]   574553.874246682   \n",
       "0x43c689e    [0.0, 559204.7021513436, 2510541.702086272]  4272657.271177988   \n",
       "...                                                  ...                ...   \n",
       "0xb860247                        [456680.73038604925, 0]   474117.231304990   \n",
       "0xa4fb747                         [7167.578066496797, 0]     7183.113523668   \n",
       "\n",
       "             outcome_changed                        outcome  \n",
       "Proposal ID                                                  \n",
       "0x0eb23ea               True                            Yes  \n",
       "0x43c689e              False  2Pool + current 3Pool + 4Pool  \n",
       "...                      ...                            ...  \n",
       "0xb860247              False                            Yes  \n",
       "0xa4fb747              False                             当然  \n",
       "\n",
       "[44 rows x 6 columns]"
      ]
     },
     "execution_count": 24,
     "metadata": {},
     "output_type": "execute_result"
    }
   ],
   "source": [
    "score_diffrences_dfs[\"Curve Finance\"]"
   ]
  },
  {
   "cell_type": "code",
   "execution_count": 25,
   "metadata": {},
   "outputs": [
    {
     "data": {
      "text/plain": [
       "False    0.75\n",
       "True     0.25\n",
       "Name: outcome_changed, dtype: float64"
      ]
     },
     "execution_count": 25,
     "metadata": {},
     "output_type": "execute_result"
    }
   ],
   "source": [
    "score_diffrences_dfs[\"Curve Finance\"][\"outcome_changed\"].value_counts(normalize=True)"
   ]
  },
  {
   "attachments": {},
   "cell_type": "markdown",
   "metadata": {},
   "source": [
    "One proposal which would've passed if not for whale intervention was this proposal to [add the XSTUSD-3CRV pair](https://snapshot.org/#/curve.eth/proposal/0x0eb23ea0b877666ad3ddcd0d7da0114acdfe5ae6390b5628b7509f4338022db5) to Curve's [gauge](https://resources.curve.fi/reward-gauges/understanding-gauges) [controller](https://curve.readthedocs.io/dao-gauges.html#the-gauge-controller) to accrue CRV for liquidity providers of XSTUSD-3CRV.\n",
    "\n",
    "I don't know much about XSTUSD, apart from that it's a stable token deployed on Polkadot and Kusama that is backed by a synthetic token called XOR (Sora's native token). What was really interesting about this proposal though was the [governance discussion](https://gov.curve.fi/t/proposal-to-add-xstusd-3crv-to-the-gauge-controller/2998/15) on it.\n",
    "\n",
    "![](./res/curve_governance_shenanigans.png)\n",
    "\n",
    "What stood out to me (and was sorta a red flag) was XSTUSD's comparison with LUNA/UST. Now, this proposal was created before the whole [depegging disaster](https://rekt.news/luna-rekt/), but even before that, [quite a](https://twitter.com/runekek/status/1478166276979793922) [few people](https://twitter.com/FreddieRaynolds/status/1463960623402913797) had their concerns about it. So I checked out the first 16 accounts which showed really strong support for this proposal, and almost [every single](https://gov.curve.fi/u/meowtopia) [one was](https://gov.curve.fi/u/LiquidityKing) [created within](https://gov.curve.fi/u/Ryandotrrr) 2 days of the proposal's forum post. Clear signs of governance forum shenanigans that was poorly executed to raise hype for a proposal."
   ]
  },
  {
   "cell_type": "code",
   "execution_count": 26,
   "metadata": {
    "tags": [
     "remove-input"
    ]
   },
   "outputs": [
    {
     "data": {
      "text/html": [
       "<div>\n",
       "<style scoped>\n",
       "    .dataframe tbody tr th:only-of-type {\n",
       "        vertical-align: middle;\n",
       "    }\n",
       "\n",
       "    .dataframe tbody tr th {\n",
       "        vertical-align: top;\n",
       "    }\n",
       "\n",
       "    .dataframe thead th {\n",
       "        text-align: right;\n",
       "    }\n",
       "</style>\n",
       "<table border=\"1\" class=\"dataframe\">\n",
       "  <thead>\n",
       "    <tr style=\"text-align: right;\">\n",
       "      <th></th>\n",
       "      <th>Yes</th>\n",
       "      <th>No</th>\n",
       "    </tr>\n",
       "  </thead>\n",
       "  <tbody>\n",
       "    <tr>\n",
       "      <th>Scores</th>\n",
       "      <td>45352.592228</td>\n",
       "      <td>529201.282019</td>\n",
       "    </tr>\n",
       "    <tr>\n",
       "      <th>Score Differeces</th>\n",
       "      <td>23462.994316</td>\n",
       "      <td>511330.472493</td>\n",
       "    </tr>\n",
       "  </tbody>\n",
       "</table>\n",
       "</div>"
      ],
      "text/plain": [
       "                           Yes             No\n",
       "Scores            45352.592228  529201.282019\n",
       "Score Differeces  23462.994316  511330.472493"
      ]
     },
     "execution_count": 26,
     "metadata": {},
     "output_type": "execute_result"
    }
   ],
   "source": [
    "propsal_choices = plutocracy_report_data['Curve Finance'][plutocracy_report_data['Curve Finance']['proposal_id'] == '0x0eb23ea0b877666ad3ddcd0d7da0114acdfe5ae6390b5628b7509f4338022db5'].iloc[0]['proposal_choices']\n",
    "proposal_score_diffrences = score_diffrences_dfs[\"Curve Finance\"].loc[\"0x0eb23ea\"][\"score_diffrences\"]\n",
    "proposal_scores = plutocracy_report_data['Curve Finance'][plutocracy_report_data['Curve Finance']['proposal_id'] == '0x0eb23ea0b877666ad3ddcd0d7da0114acdfe5ae6390b5628b7509f4338022db5'].iloc[0]['proposal_scores']\n",
    "\n",
    "pd.DataFrame(\n",
    "    {choice: [score, score_diff] for choice, score, score_diff in zip(eval(propsal_choices), eval(proposal_scores), proposal_score_diffrences)},\n",
    "    index=[\"Scores\", \"Score Differeces\"],\n",
    ")"
   ]
  },
  {
   "attachments": {},
   "cell_type": "markdown",
   "metadata": {},
   "source": [
    "Anyway, I just wanted to highlight that whales are also sensible, and not always in the hands of the \"evil\" which I would classify as entities that would push proposals detrimental to the DAO for their own interests. It should also be noted that this was by far the proposal analyzed with the most voting power involved as well. It's also a good thing that CRV whales didn't have any incentive to pass this proposal, as well."
   ]
  },
  {
   "attachments": {},
   "cell_type": "markdown",
   "metadata": {},
   "source": [
    "---\n",
    "Moving away from DeFi and into developer infrastructure, let's look at Radicle"
   ]
  },
  {
   "cell_type": "code",
   "execution_count": 27,
   "metadata": {},
   "outputs": [
    {
     "data": {
      "text/html": [
       "<div>\n",
       "<style scoped>\n",
       "    .dataframe tbody tr th:only-of-type {\n",
       "        vertical-align: middle;\n",
       "    }\n",
       "\n",
       "    .dataframe tbody tr th {\n",
       "        vertical-align: top;\n",
       "    }\n",
       "\n",
       "    .dataframe thead th {\n",
       "        text-align: right;\n",
       "    }\n",
       "</style>\n",
       "<table border=\"1\" class=\"dataframe\">\n",
       "  <thead>\n",
       "    <tr style=\"text-align: right;\">\n",
       "      <th></th>\n",
       "      <th>type</th>\n",
       "      <th>choices</th>\n",
       "      <th>score_diffrences</th>\n",
       "      <th>total_vp</th>\n",
       "      <th>outcome_changed</th>\n",
       "      <th>outcome</th>\n",
       "    </tr>\n",
       "    <tr>\n",
       "      <th>Proposal ID</th>\n",
       "      <th></th>\n",
       "      <th></th>\n",
       "      <th></th>\n",
       "      <th></th>\n",
       "      <th></th>\n",
       "      <th></th>\n",
       "    </tr>\n",
       "  </thead>\n",
       "  <tbody>\n",
       "    <tr>\n",
       "      <th>0xf95b0e0</th>\n",
       "      <td>single-choice</td>\n",
       "      <td>['For', 'Against']</td>\n",
       "      <td>[2000000.0, 0]</td>\n",
       "      <td>4133689.798082654</td>\n",
       "      <td>False</td>\n",
       "      <td>For</td>\n",
       "    </tr>\n",
       "    <tr>\n",
       "      <th>0x646e927</th>\n",
       "      <td>single-choice</td>\n",
       "      <td>['Yes', 'No', 'Abstain']</td>\n",
       "      <td>[3730867.698436455, 0, 0]</td>\n",
       "      <td>6163639.615623794</td>\n",
       "      <td>False</td>\n",
       "      <td>Yes</td>\n",
       "    </tr>\n",
       "    <tr>\n",
       "      <th>...</th>\n",
       "      <td>...</td>\n",
       "      <td>...</td>\n",
       "      <td>...</td>\n",
       "      <td>...</td>\n",
       "      <td>...</td>\n",
       "      <td>...</td>\n",
       "    </tr>\n",
       "    <tr>\n",
       "      <th>QmVypVPUP</th>\n",
       "      <td>single-choice</td>\n",
       "      <td>['For', 'Against']</td>\n",
       "      <td>[1820370.422397018, 0.0]</td>\n",
       "      <td>1962803.146575897</td>\n",
       "      <td>False</td>\n",
       "      <td>For</td>\n",
       "    </tr>\n",
       "    <tr>\n",
       "      <th>QmbpshrWc</th>\n",
       "      <td>single-choice</td>\n",
       "      <td>['Unpause swapping', 'Do nothing']</td>\n",
       "      <td>[949045.9988789248, 20708.27072226024]</td>\n",
       "      <td>1291030.699274630</td>\n",
       "      <td>False</td>\n",
       "      <td>Unpause swapping</td>\n",
       "    </tr>\n",
       "  </tbody>\n",
       "</table>\n",
       "<p>11 rows × 6 columns</p>\n",
       "</div>"
      ],
      "text/plain": [
       "                      type                             choices  \\\n",
       "Proposal ID                                                      \n",
       "0xf95b0e0    single-choice                  ['For', 'Against']   \n",
       "0x646e927    single-choice            ['Yes', 'No', 'Abstain']   \n",
       "...                    ...                                 ...   \n",
       "QmVypVPUP    single-choice                  ['For', 'Against']   \n",
       "QmbpshrWc    single-choice  ['Unpause swapping', 'Do nothing']   \n",
       "\n",
       "                                   score_diffrences           total_vp  \\\n",
       "Proposal ID                                                              \n",
       "0xf95b0e0                            [2000000.0, 0]  4133689.798082654   \n",
       "0x646e927                 [3730867.698436455, 0, 0]  6163639.615623794   \n",
       "...                                             ...                ...   \n",
       "QmVypVPUP                  [1820370.422397018, 0.0]  1962803.146575897   \n",
       "QmbpshrWc    [949045.9988789248, 20708.27072226024]  1291030.699274630   \n",
       "\n",
       "             outcome_changed           outcome  \n",
       "Proposal ID                                     \n",
       "0xf95b0e0              False               For  \n",
       "0x646e927              False               Yes  \n",
       "...                      ...               ...  \n",
       "QmVypVPUP              False               For  \n",
       "QmbpshrWc              False  Unpause swapping  \n",
       "\n",
       "[11 rows x 6 columns]"
      ]
     },
     "execution_count": 27,
     "metadata": {},
     "output_type": "execute_result"
    }
   ],
   "source": [
    "score_diffrences_dfs[\"Radicle\"]"
   ]
  },
  {
   "cell_type": "code",
   "execution_count": 30,
   "metadata": {},
   "outputs": [
    {
     "data": {
      "text/plain": [
       "False    0.818182\n",
       "True     0.181818\n",
       "Name: outcome_changed, dtype: float64"
      ]
     },
     "execution_count": 30,
     "metadata": {},
     "output_type": "execute_result"
    }
   ],
   "source": [
    "score_diffrences_dfs[\"Radicle\"][\"outcome_changed\"].value_counts(normalize=True)"
   ]
  },
  {
   "attachments": {},
   "cell_type": "markdown",
   "metadata": {},
   "source": [
    "There aren't very many Snapshot proposals created on Radicle's DAO, but one proposal whose outcome would've been changed if not for whales was this proposal to [distribute some RAD leftover](https://snapshot.org/#/gov.radicle.eth/proposal/QmepPgXwo5q9GipZFKa32rnxaYoo3LrfRqduinftbU3L3S) from a Liquidity Bootsrapping (LBP) round conducted in February '21. This leftover RAD was proposed to be redistributed to participants of the LBP, i.e. people who bought RAD in this period from the Balancer LBP for RAD tokens.\n",
    "\n",
    "This proposal had a particularly interesting discussion as it seemed like a classic David v. Goliath square-up. This comment [posted by RAD delegate Abbey](https://radicle.community/t/structured-discussion-distribute-lbp-unsold-tokens-to-the-people-who-contributed-to-the-lbp-in-proportion-to-their-contribution/1944/60) sums up the discussion pretty well (including her thoughts on the matter).\n",
    "\n",
    "Now, I don't want to make it seem like I'm siding with Abbey on this one by posting her thoughts on the matter as well, but I hope that her post can summarise the sentiments of the proposal well enough. It was a very sensitive, important and highly controversial proposal that ultimately did not pass.\n",
    "\n",
    "It's not obvious that whales were simply looking out for their own interests on this one. It's worth debating the [intentions of those who took part in these discussions](https://radicle.community/t/structured-discussion-distribute-lbp-unsold-tokens-to-the-people-who-contributed-to-the-lbp-in-proportion-to-their-contribution/1944/61) for this proposal for its passing."
   ]
  },
  {
   "cell_type": "code",
   "execution_count": 33,
   "metadata": {},
   "outputs": [
    {
     "data": {
      "text/html": [
       "<div>\n",
       "<style scoped>\n",
       "    .dataframe tbody tr th:only-of-type {\n",
       "        vertical-align: middle;\n",
       "    }\n",
       "\n",
       "    .dataframe tbody tr th {\n",
       "        vertical-align: top;\n",
       "    }\n",
       "\n",
       "    .dataframe thead th {\n",
       "        text-align: right;\n",
       "    }\n",
       "</style>\n",
       "<table border=\"1\" class=\"dataframe\">\n",
       "  <thead>\n",
       "    <tr style=\"text-align: right;\">\n",
       "      <th></th>\n",
       "      <th>type</th>\n",
       "      <th>choices</th>\n",
       "      <th>score_diffrences</th>\n",
       "      <th>total_vp</th>\n",
       "      <th>outcome_changed</th>\n",
       "      <th>outcome</th>\n",
       "    </tr>\n",
       "    <tr>\n",
       "      <th>Proposal ID</th>\n",
       "      <th></th>\n",
       "      <th></th>\n",
       "      <th></th>\n",
       "      <th></th>\n",
       "      <th></th>\n",
       "      <th></th>\n",
       "    </tr>\n",
       "  </thead>\n",
       "  <tbody>\n",
       "    <tr>\n",
       "      <th>0x555f90d</th>\n",
       "      <td>single-choice</td>\n",
       "      <td>['Yes ', 'No', 'Abstain']</td>\n",
       "      <td>[2841653.5640241667, 0.0, 0]</td>\n",
       "      <td>2844469.085623981</td>\n",
       "      <td>False</td>\n",
       "      <td>Yes</td>\n",
       "    </tr>\n",
       "    <tr>\n",
       "      <th>0xbd3d16c</th>\n",
       "      <td>single-choice</td>\n",
       "      <td>['Yes, fund PGF in S17', \"No, don't fund PGF i...</td>\n",
       "      <td>[3759023.734368579, 0.0, 2301169.3436233173]</td>\n",
       "      <td>6065585.781372932</td>\n",
       "      <td>False</td>\n",
       "      <td>Yes, fund PGF in S17</td>\n",
       "    </tr>\n",
       "    <tr>\n",
       "      <th>...</th>\n",
       "      <td>...</td>\n",
       "      <td>...</td>\n",
       "      <td>...</td>\n",
       "      <td>...</td>\n",
       "      <td>...</td>\n",
       "      <td>...</td>\n",
       "    </tr>\n",
       "    <tr>\n",
       "      <th>0x97a2ed0</th>\n",
       "      <td>single-choice</td>\n",
       "      <td>['FOR', 'AGAINST']</td>\n",
       "      <td>[8197944.666313662, 0.0]</td>\n",
       "      <td>8224919.922647516</td>\n",
       "      <td>False</td>\n",
       "      <td>FOR</td>\n",
       "    </tr>\n",
       "    <tr>\n",
       "      <th>0x6acb83e</th>\n",
       "      <td>single-choice</td>\n",
       "      <td>['Yes, approve!', 'No!']</td>\n",
       "      <td>[8465672.467304813, 0.0]</td>\n",
       "      <td>8493993.919320995</td>\n",
       "      <td>False</td>\n",
       "      <td>Yes, approve!</td>\n",
       "    </tr>\n",
       "  </tbody>\n",
       "</table>\n",
       "<p>50 rows × 6 columns</p>\n",
       "</div>"
      ],
      "text/plain": [
       "                      type                                            choices  \\\n",
       "Proposal ID                                                                     \n",
       "0x555f90d    single-choice                          ['Yes ', 'No', 'Abstain']   \n",
       "0xbd3d16c    single-choice  ['Yes, fund PGF in S17', \"No, don't fund PGF i...   \n",
       "...                    ...                                                ...   \n",
       "0x97a2ed0    single-choice                                 ['FOR', 'AGAINST']   \n",
       "0x6acb83e    single-choice                           ['Yes, approve!', 'No!']   \n",
       "\n",
       "                                         score_diffrences           total_vp  \\\n",
       "Proposal ID                                                                    \n",
       "0x555f90d                    [2841653.5640241667, 0.0, 0]  2844469.085623981   \n",
       "0xbd3d16c    [3759023.734368579, 0.0, 2301169.3436233173]  6065585.781372932   \n",
       "...                                                   ...                ...   \n",
       "0x97a2ed0                        [8197944.666313662, 0.0]  8224919.922647516   \n",
       "0x6acb83e                        [8465672.467304813, 0.0]  8493993.919320995   \n",
       "\n",
       "             outcome_changed               outcome  \n",
       "Proposal ID                                         \n",
       "0x555f90d              False                  Yes   \n",
       "0xbd3d16c              False  Yes, fund PGF in S17  \n",
       "...                      ...                   ...  \n",
       "0x97a2ed0              False                   FOR  \n",
       "0x6acb83e              False         Yes, approve!  \n",
       "\n",
       "[50 rows x 6 columns]"
      ]
     },
     "execution_count": 33,
     "metadata": {},
     "output_type": "execute_result"
    }
   ],
   "source": [
    "score_diffrences_dfs[\"Gitcoin\"]"
   ]
  },
  {
   "cell_type": "code",
   "execution_count": 34,
   "metadata": {},
   "outputs": [
    {
     "data": {
      "text/plain": [
       "False    0.9\n",
       "True     0.1\n",
       "Name: outcome_changed, dtype: float64"
      ]
     },
     "execution_count": 34,
     "metadata": {},
     "output_type": "execute_result"
    }
   ],
   "source": [
    "score_diffrences_dfs[\"Gitcoin\"][\"outcome_changed\"].value_counts(normalize=True)"
   ]
  }
 ],
 "metadata": {
  "celltoolbar": "Tags",
  "kernelspec": {
   "display_name": "Python 3 (ipykernel)",
   "language": "python",
   "name": "python3"
  },
  "language_info": {
   "codemirror_mode": {
    "name": "ipython",
    "version": 3
   },
   "file_extension": ".py",
   "mimetype": "text/x-python",
   "name": "python",
   "nbconvert_exporter": "python",
   "pygments_lexer": "ipython3",
   "version": "3.10.9"
  },
  "vscode": {
   "interpreter": {
    "hash": "b4359820d3e15fa2519172d213623b0fd17349031edfcca628c1a3eb80849618"
   }
  }
 },
 "nbformat": 4,
 "nbformat_minor": 2
}
