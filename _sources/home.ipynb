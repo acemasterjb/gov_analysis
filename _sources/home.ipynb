{
 "cells": [
  {
   "attachments": {},
   "cell_type": "markdown",
   "metadata": {},
   "source": [
    "# 📜 Reports"
   ]
  },
  {
   "attachments": {},
   "cell_type": "markdown",
   "metadata": {},
   "source": [
    "- 📸 <a href=\"/report/plutocracy_report\">Pivotality Report</a>\n",
    "- 👻 <a href=\"/report_aave\">Aave</a>\n",
    "- ⛓️ <a href=\"/report_on_chain\">Tally</a>"
   ]
  }
 ],
 "metadata": {
  "language_info": {
   "name": "python"
  },
  "orig_nbformat": 4
 },
 "nbformat": 4,
 "nbformat_minor": 2
}
