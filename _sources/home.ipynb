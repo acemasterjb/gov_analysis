{
 "cells": [
  {
   "attachments": {},
   "cell_type": "markdown",
   "metadata": {},
   "source": [
    "# 📜 Reports"
   ]
  },
  {
   "attachments": {},
   "cell_type": "markdown",
   "metadata": {},
   "source": [
    "- 📸 [Pivotality Report](/report/plutocracy_report)\n",
    "- 👻 [Aave](/report_aave)\n",
    "- ⛓️ [Tally](/report_on_chain)"
   ]
  }
 ],
 "metadata": {
  "language_info": {
   "name": "python"
  },
  "orig_nbformat": 4
 },
 "nbformat": 4,
 "nbformat_minor": 2
}
