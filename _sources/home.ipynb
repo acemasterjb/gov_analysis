{
 "cells": [
  {
   "attachments": {},
   "cell_type": "markdown",
   "metadata": {},
   "source": [
    "# 📜 Reports"
   ]
  },
  {
   "attachments": {},
   "cell_type": "markdown",
   "metadata": {},
   "source": [
    "- 📸 <a src=\"/report/plutocracy_report\">Pivotality Report</a>\n",
    "- 👻 <a src=\"/report_aave\">Aave</a>\n",
    "- ⛓️ <a src=\"/report_on_chain\">Tally</a>"
   ]
  }
 ],
 "metadata": {
  "language_info": {
   "name": "python"
  },
  "orig_nbformat": 4
 },
 "nbformat": 4,
 "nbformat_minor": 2
}
