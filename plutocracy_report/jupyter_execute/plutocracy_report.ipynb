{
 "cells": [
  {
   "attachments": {},
   "cell_type": "markdown",
   "metadata": {},
   "source": [
    "# Plutocracy Report\n",
    "\n",
    "This article aims to analyze the top 60 Decentralised Autonomous Organizations (DAOs), ranked by [treasury size](https://deepdao.io/) to determine the impact of large token holders on their governance.\n",
    "\n",
    "For this, we create a report based on on-chain data about proposals and voters. This report will focus on three proposals and assess their _decisiveness of whales_ metric, representing how governance decisions are affected once whale votes are discounted. For an analysis of the decisiveness of whales for all 60 DAOs, check out our [extensive report here](https://acemasterjb.github.io/gov_analysis/extensive_analysis)."
   ]
  },
  {
   "cell_type": "code",
   "execution_count": 1,
   "metadata": {
    "tags": [
     "remove-input"
    ]
   },
   "outputs": [],
   "source": [
    "# sets up the pynb environment\n",
    "import os\n",
    "import sys\n",
    "\n",
    "from IPython.display import HTML\n",
    "import pandas as pd\n",
    "\n",
    "module_path = os.path.abspath(os.path.join(\"..\"))\n",
    "if module_path not in sys.path:\n",
    "    sys.path.append(module_path)\n",
    "\n",
    "from libs.data_processing.statistics import (\n",
    "    get_number_of_whales_to_all_voters_ratio,\n",
    "    get_score_comparisons,\n",
    ")"
   ]
  },
  {
   "attachments": {},
   "cell_type": "markdown",
   "metadata": {},
   "source": [
    "Our data sources include DeepDAO and Snapshot, both of which specialize in providing data on DAO governance. We also use Coingecko to find market data for DAO governance tokens.\n",
    "\n",
    "Using this data, we compile two spreadsheets that act as the local database for this analysis. Each spreadsheet contains each voter's choice and voting power for up to the last one hundred proposals in each DAO. **One spreadsheet filters out \"whales\"** which, in the context of this analysis, are voters that have voting power **at or above the 95th percentile of voting power for that proposal**."
   ]
  },
  {
   "cell_type": "code",
   "execution_count": 2,
   "metadata": {
    "tags": [
     "remove-input",
     "remove-output"
    ]
   },
   "outputs": [
    {
     "ename": "FileNotFoundError",
     "evalue": "[Errno 2] No such file or directory: '../plutocracy_report.xlsx'",
     "output_type": "error",
     "traceback": [
      "\u001b[0;31m---------------------------------------------------------------------------\u001b[0m",
      "\u001b[0;31mFileNotFoundError\u001b[0m                         Traceback (most recent call last)",
      "Cell \u001b[0;32mIn[2], line 1\u001b[0m\n\u001b[0;32m----> 1\u001b[0m plutocracy_report_data \u001b[38;5;241m=\u001b[39m \u001b[43mpd\u001b[49m\u001b[38;5;241;43m.\u001b[39;49m\u001b[43mread_excel\u001b[49m\u001b[43m(\u001b[49m\n\u001b[1;32m      2\u001b[0m \u001b[43m    \u001b[49m\u001b[38;5;124;43m\"\u001b[39;49m\u001b[38;5;124;43m../plutocracy_report.xlsx\u001b[39;49m\u001b[38;5;124;43m\"\u001b[39;49m\u001b[43m,\u001b[49m\u001b[43m \u001b[49m\u001b[43msheet_name\u001b[49m\u001b[38;5;241;43m=\u001b[39;49m\u001b[38;5;28;43;01mNone\u001b[39;49;00m\u001b[43m,\u001b[49m\u001b[43m \u001b[49m\u001b[43mengine\u001b[49m\u001b[38;5;241;43m=\u001b[39;49m\u001b[38;5;124;43m\"\u001b[39;49m\u001b[38;5;124;43mopenpyxl\u001b[39;49m\u001b[38;5;124;43m\"\u001b[39;49m\n\u001b[1;32m      3\u001b[0m \u001b[43m)\u001b[49m\n\u001b[1;32m      4\u001b[0m plutocracy_report_data_filtered \u001b[38;5;241m=\u001b[39m pd\u001b[38;5;241m.\u001b[39mread_excel(\n\u001b[1;32m      5\u001b[0m     \u001b[38;5;124m\"\u001b[39m\u001b[38;5;124m../plutocracy_report_filtered.xlsx\u001b[39m\u001b[38;5;124m\"\u001b[39m, sheet_name\u001b[38;5;241m=\u001b[39m\u001b[38;5;28;01mNone\u001b[39;00m, engine\u001b[38;5;241m=\u001b[39m\u001b[38;5;124m\"\u001b[39m\u001b[38;5;124mopenpyxl\u001b[39m\u001b[38;5;124m\"\u001b[39m\n\u001b[1;32m      6\u001b[0m )\n",
      "File \u001b[0;32m/opt/hostedtoolcache/Python/3.10.10/x64/lib/python3.10/site-packages/pandas/util/_decorators.py:211\u001b[0m, in \u001b[0;36mdeprecate_kwarg.<locals>._deprecate_kwarg.<locals>.wrapper\u001b[0;34m(*args, **kwargs)\u001b[0m\n\u001b[1;32m    209\u001b[0m     \u001b[38;5;28;01melse\u001b[39;00m:\n\u001b[1;32m    210\u001b[0m         kwargs[new_arg_name] \u001b[38;5;241m=\u001b[39m new_arg_value\n\u001b[0;32m--> 211\u001b[0m \u001b[38;5;28;01mreturn\u001b[39;00m \u001b[43mfunc\u001b[49m\u001b[43m(\u001b[49m\u001b[38;5;241;43m*\u001b[39;49m\u001b[43margs\u001b[49m\u001b[43m,\u001b[49m\u001b[43m \u001b[49m\u001b[38;5;241;43m*\u001b[39;49m\u001b[38;5;241;43m*\u001b[39;49m\u001b[43mkwargs\u001b[49m\u001b[43m)\u001b[49m\n",
      "File \u001b[0;32m/opt/hostedtoolcache/Python/3.10.10/x64/lib/python3.10/site-packages/pandas/util/_decorators.py:331\u001b[0m, in \u001b[0;36mdeprecate_nonkeyword_arguments.<locals>.decorate.<locals>.wrapper\u001b[0;34m(*args, **kwargs)\u001b[0m\n\u001b[1;32m    325\u001b[0m \u001b[38;5;28;01mif\u001b[39;00m \u001b[38;5;28mlen\u001b[39m(args) \u001b[38;5;241m>\u001b[39m num_allow_args:\n\u001b[1;32m    326\u001b[0m     warnings\u001b[38;5;241m.\u001b[39mwarn(\n\u001b[1;32m    327\u001b[0m         msg\u001b[38;5;241m.\u001b[39mformat(arguments\u001b[38;5;241m=\u001b[39m_format_argument_list(allow_args)),\n\u001b[1;32m    328\u001b[0m         \u001b[38;5;167;01mFutureWarning\u001b[39;00m,\n\u001b[1;32m    329\u001b[0m         stacklevel\u001b[38;5;241m=\u001b[39mfind_stack_level(),\n\u001b[1;32m    330\u001b[0m     )\n\u001b[0;32m--> 331\u001b[0m \u001b[38;5;28;01mreturn\u001b[39;00m \u001b[43mfunc\u001b[49m\u001b[43m(\u001b[49m\u001b[38;5;241;43m*\u001b[39;49m\u001b[43margs\u001b[49m\u001b[43m,\u001b[49m\u001b[43m \u001b[49m\u001b[38;5;241;43m*\u001b[39;49m\u001b[38;5;241;43m*\u001b[39;49m\u001b[43mkwargs\u001b[49m\u001b[43m)\u001b[49m\n",
      "File \u001b[0;32m/opt/hostedtoolcache/Python/3.10.10/x64/lib/python3.10/site-packages/pandas/io/excel/_base.py:482\u001b[0m, in \u001b[0;36mread_excel\u001b[0;34m(io, sheet_name, header, names, index_col, usecols, squeeze, dtype, engine, converters, true_values, false_values, skiprows, nrows, na_values, keep_default_na, na_filter, verbose, parse_dates, date_parser, thousands, decimal, comment, skipfooter, convert_float, mangle_dupe_cols, storage_options)\u001b[0m\n\u001b[1;32m    480\u001b[0m \u001b[38;5;28;01mif\u001b[39;00m \u001b[38;5;129;01mnot\u001b[39;00m \u001b[38;5;28misinstance\u001b[39m(io, ExcelFile):\n\u001b[1;32m    481\u001b[0m     should_close \u001b[38;5;241m=\u001b[39m \u001b[38;5;28;01mTrue\u001b[39;00m\n\u001b[0;32m--> 482\u001b[0m     io \u001b[38;5;241m=\u001b[39m \u001b[43mExcelFile\u001b[49m\u001b[43m(\u001b[49m\u001b[43mio\u001b[49m\u001b[43m,\u001b[49m\u001b[43m \u001b[49m\u001b[43mstorage_options\u001b[49m\u001b[38;5;241;43m=\u001b[39;49m\u001b[43mstorage_options\u001b[49m\u001b[43m,\u001b[49m\u001b[43m \u001b[49m\u001b[43mengine\u001b[49m\u001b[38;5;241;43m=\u001b[39;49m\u001b[43mengine\u001b[49m\u001b[43m)\u001b[49m\n\u001b[1;32m    483\u001b[0m \u001b[38;5;28;01melif\u001b[39;00m engine \u001b[38;5;129;01mand\u001b[39;00m engine \u001b[38;5;241m!=\u001b[39m io\u001b[38;5;241m.\u001b[39mengine:\n\u001b[1;32m    484\u001b[0m     \u001b[38;5;28;01mraise\u001b[39;00m \u001b[38;5;167;01mValueError\u001b[39;00m(\n\u001b[1;32m    485\u001b[0m         \u001b[38;5;124m\"\u001b[39m\u001b[38;5;124mEngine should not be specified when passing \u001b[39m\u001b[38;5;124m\"\u001b[39m\n\u001b[1;32m    486\u001b[0m         \u001b[38;5;124m\"\u001b[39m\u001b[38;5;124man ExcelFile - ExcelFile already has the engine set\u001b[39m\u001b[38;5;124m\"\u001b[39m\n\u001b[1;32m    487\u001b[0m     )\n",
      "File \u001b[0;32m/opt/hostedtoolcache/Python/3.10.10/x64/lib/python3.10/site-packages/pandas/io/excel/_base.py:1695\u001b[0m, in \u001b[0;36mExcelFile.__init__\u001b[0;34m(self, path_or_buffer, engine, storage_options)\u001b[0m\n\u001b[1;32m   1692\u001b[0m \u001b[38;5;28mself\u001b[39m\u001b[38;5;241m.\u001b[39mengine \u001b[38;5;241m=\u001b[39m engine\n\u001b[1;32m   1693\u001b[0m \u001b[38;5;28mself\u001b[39m\u001b[38;5;241m.\u001b[39mstorage_options \u001b[38;5;241m=\u001b[39m storage_options\n\u001b[0;32m-> 1695\u001b[0m \u001b[38;5;28mself\u001b[39m\u001b[38;5;241m.\u001b[39m_reader \u001b[38;5;241m=\u001b[39m \u001b[38;5;28;43mself\u001b[39;49m\u001b[38;5;241;43m.\u001b[39;49m\u001b[43m_engines\u001b[49m\u001b[43m[\u001b[49m\u001b[43mengine\u001b[49m\u001b[43m]\u001b[49m\u001b[43m(\u001b[49m\u001b[38;5;28;43mself\u001b[39;49m\u001b[38;5;241;43m.\u001b[39;49m\u001b[43m_io\u001b[49m\u001b[43m,\u001b[49m\u001b[43m \u001b[49m\u001b[43mstorage_options\u001b[49m\u001b[38;5;241;43m=\u001b[39;49m\u001b[43mstorage_options\u001b[49m\u001b[43m)\u001b[49m\n",
      "File \u001b[0;32m/opt/hostedtoolcache/Python/3.10.10/x64/lib/python3.10/site-packages/pandas/io/excel/_openpyxl.py:557\u001b[0m, in \u001b[0;36mOpenpyxlReader.__init__\u001b[0;34m(self, filepath_or_buffer, storage_options)\u001b[0m\n\u001b[1;32m    547\u001b[0m \u001b[38;5;250m\u001b[39m\u001b[38;5;124;03m\"\"\"\u001b[39;00m\n\u001b[1;32m    548\u001b[0m \u001b[38;5;124;03mReader using openpyxl engine.\u001b[39;00m\n\u001b[1;32m    549\u001b[0m \n\u001b[0;32m   (...)\u001b[0m\n\u001b[1;32m    554\u001b[0m \u001b[38;5;124;03m{storage_options}\u001b[39;00m\n\u001b[1;32m    555\u001b[0m \u001b[38;5;124;03m\"\"\"\u001b[39;00m\n\u001b[1;32m    556\u001b[0m import_optional_dependency(\u001b[38;5;124m\"\u001b[39m\u001b[38;5;124mopenpyxl\u001b[39m\u001b[38;5;124m\"\u001b[39m)\n\u001b[0;32m--> 557\u001b[0m \u001b[38;5;28;43msuper\u001b[39;49m\u001b[43m(\u001b[49m\u001b[43m)\u001b[49m\u001b[38;5;241;43m.\u001b[39;49m\u001b[38;5;21;43m__init__\u001b[39;49m\u001b[43m(\u001b[49m\u001b[43mfilepath_or_buffer\u001b[49m\u001b[43m,\u001b[49m\u001b[43m \u001b[49m\u001b[43mstorage_options\u001b[49m\u001b[38;5;241;43m=\u001b[39;49m\u001b[43mstorage_options\u001b[49m\u001b[43m)\u001b[49m\n",
      "File \u001b[0;32m/opt/hostedtoolcache/Python/3.10.10/x64/lib/python3.10/site-packages/pandas/io/excel/_base.py:535\u001b[0m, in \u001b[0;36mBaseExcelReader.__init__\u001b[0;34m(self, filepath_or_buffer, storage_options)\u001b[0m\n\u001b[1;32m    531\u001b[0m \u001b[38;5;28mself\u001b[39m\u001b[38;5;241m.\u001b[39mhandles \u001b[38;5;241m=\u001b[39m IOHandles(\n\u001b[1;32m    532\u001b[0m     handle\u001b[38;5;241m=\u001b[39mfilepath_or_buffer, compression\u001b[38;5;241m=\u001b[39m{\u001b[38;5;124m\"\u001b[39m\u001b[38;5;124mmethod\u001b[39m\u001b[38;5;124m\"\u001b[39m: \u001b[38;5;28;01mNone\u001b[39;00m}\n\u001b[1;32m    533\u001b[0m )\n\u001b[1;32m    534\u001b[0m \u001b[38;5;28;01mif\u001b[39;00m \u001b[38;5;129;01mnot\u001b[39;00m \u001b[38;5;28misinstance\u001b[39m(filepath_or_buffer, (ExcelFile, \u001b[38;5;28mself\u001b[39m\u001b[38;5;241m.\u001b[39m_workbook_class)):\n\u001b[0;32m--> 535\u001b[0m     \u001b[38;5;28mself\u001b[39m\u001b[38;5;241m.\u001b[39mhandles \u001b[38;5;241m=\u001b[39m \u001b[43mget_handle\u001b[49m\u001b[43m(\u001b[49m\n\u001b[1;32m    536\u001b[0m \u001b[43m        \u001b[49m\u001b[43mfilepath_or_buffer\u001b[49m\u001b[43m,\u001b[49m\u001b[43m \u001b[49m\u001b[38;5;124;43m\"\u001b[39;49m\u001b[38;5;124;43mrb\u001b[39;49m\u001b[38;5;124;43m\"\u001b[39;49m\u001b[43m,\u001b[49m\u001b[43m \u001b[49m\u001b[43mstorage_options\u001b[49m\u001b[38;5;241;43m=\u001b[39;49m\u001b[43mstorage_options\u001b[49m\u001b[43m,\u001b[49m\u001b[43m \u001b[49m\u001b[43mis_text\u001b[49m\u001b[38;5;241;43m=\u001b[39;49m\u001b[38;5;28;43;01mFalse\u001b[39;49;00m\n\u001b[1;32m    537\u001b[0m \u001b[43m    \u001b[49m\u001b[43m)\u001b[49m\n\u001b[1;32m    539\u001b[0m \u001b[38;5;28;01mif\u001b[39;00m \u001b[38;5;28misinstance\u001b[39m(\u001b[38;5;28mself\u001b[39m\u001b[38;5;241m.\u001b[39mhandles\u001b[38;5;241m.\u001b[39mhandle, \u001b[38;5;28mself\u001b[39m\u001b[38;5;241m.\u001b[39m_workbook_class):\n\u001b[1;32m    540\u001b[0m     \u001b[38;5;28mself\u001b[39m\u001b[38;5;241m.\u001b[39mbook \u001b[38;5;241m=\u001b[39m \u001b[38;5;28mself\u001b[39m\u001b[38;5;241m.\u001b[39mhandles\u001b[38;5;241m.\u001b[39mhandle\n",
      "File \u001b[0;32m/opt/hostedtoolcache/Python/3.10.10/x64/lib/python3.10/site-packages/pandas/io/common.py:865\u001b[0m, in \u001b[0;36mget_handle\u001b[0;34m(path_or_buf, mode, encoding, compression, memory_map, is_text, errors, storage_options)\u001b[0m\n\u001b[1;32m    856\u001b[0m         handle \u001b[38;5;241m=\u001b[39m \u001b[38;5;28mopen\u001b[39m(\n\u001b[1;32m    857\u001b[0m             handle,\n\u001b[1;32m    858\u001b[0m             ioargs\u001b[38;5;241m.\u001b[39mmode,\n\u001b[0;32m   (...)\u001b[0m\n\u001b[1;32m    861\u001b[0m             newline\u001b[38;5;241m=\u001b[39m\u001b[38;5;124m\"\u001b[39m\u001b[38;5;124m\"\u001b[39m,\n\u001b[1;32m    862\u001b[0m         )\n\u001b[1;32m    863\u001b[0m     \u001b[38;5;28;01melse\u001b[39;00m:\n\u001b[1;32m    864\u001b[0m         \u001b[38;5;66;03m# Binary mode\u001b[39;00m\n\u001b[0;32m--> 865\u001b[0m         handle \u001b[38;5;241m=\u001b[39m \u001b[38;5;28;43mopen\u001b[39;49m\u001b[43m(\u001b[49m\u001b[43mhandle\u001b[49m\u001b[43m,\u001b[49m\u001b[43m \u001b[49m\u001b[43mioargs\u001b[49m\u001b[38;5;241;43m.\u001b[39;49m\u001b[43mmode\u001b[49m\u001b[43m)\u001b[49m\n\u001b[1;32m    866\u001b[0m     handles\u001b[38;5;241m.\u001b[39mappend(handle)\n\u001b[1;32m    868\u001b[0m \u001b[38;5;66;03m# Convert BytesIO or file objects passed with an encoding\u001b[39;00m\n",
      "\u001b[0;31mFileNotFoundError\u001b[0m: [Errno 2] No such file or directory: '../plutocracy_report.xlsx'"
     ]
    }
   ],
   "source": [
    "plutocracy_report_data = pd.read_excel(\n",
    "    \"../plutocracy_report.xlsx\", sheet_name=None, engine=\"openpyxl\"\n",
    ")\n",
    "plutocracy_report_data_filtered = pd.read_excel(\n",
    "    \"../plutocracy_report_filtered.xlsx\", sheet_name=None, engine=\"openpyxl\"\n",
    ")"
   ]
  },
  {
   "attachments": {},
   "cell_type": "markdown",
   "metadata": {},
   "source": [
    "We then ask the following question: **How many whales have voted up to the last 100 proposals for each of the DAOs we analyzed?** Voting power for each of these DAOs varies by the type of [voting strategy](https://docs.snapshot.org/strategies/what-is-a-strategy) outlined in their respective Snapshot spaces.\n",
    "\n",
    "However, to keep this analysis simple, we assume the common `erc-20-balance` strategy and define the cost of voting power (`vp`) as the US dollar value of a DAO's native token at the time of the proposal."
   ]
  },
  {
   "cell_type": "code",
   "execution_count": 3,
   "metadata": {
    "tags": [
     "remove-input"
    ]
   },
   "outputs": [],
   "source": [
    "pd.set_option(\"display.max_rows\", int(1e3))\n",
    "score_differences = get_score_comparisons(\n",
    "    plutocracy_report_data, plutocracy_report_data_filtered\n",
    ")\n"
   ]
  },
  {
   "cell_type": "code",
   "execution_count": 15,
   "metadata": {
    "tags": [
     "remove-input"
    ]
   },
   "outputs": [],
   "source": [
    "score_differences_dfs = dict()\n",
    "\n",
    "initial_series_data = {\n",
    "    organization: 0\n",
    "    for organization in plutocracy_report_data.keys()\n",
    "}\n",
    "changed_outcome_proportions = pd.Series(initial_series_data, name=\"changed outcomes %\")\n",
    "\n",
    "for score_difference in score_differences:\n",
    "    for organization, data in score_difference.items():\n",
    "        data: dict[str, list] = data\n",
    "        items = data.items()\n",
    "        score_differences_dfs[organization] = pd.DataFrame(\n",
    "            [score_data for _, score_data in items],\n",
    "            index=pd.Index(\n",
    "                ([proposal_id for proposal_id, _ in items]), name=\"Proposal ID\"\n",
    "            ),\n",
    "            columns=[\n",
    "                \"score_differences\",\n",
    "                \"whale_vp_proportion\",\n",
    "                \"total_vp\",\n",
    "                \"outcome_changed\",\n",
    "                \"outcome_old\",\n",
    "                \"outcome_new\"\n",
    "            ],\n",
    "        ).astype({\"total_vp\": \"float64\"}, copy=False\n",
    "        ).sort_values([\"whale_vp_proportion\",\"total_vp\"], ascending=False)\n",
    "\n",
    "        try:\n",
    "            changed_outcome_proportions[organization] = score_differences_dfs[organization][\"outcome_changed\"].value_counts(normalize=True)[True]\n",
    "        except KeyError:\n",
    "            changed_outcome_proportions[organization] = 0\n",
    "\n",
    "        space_id = plutocracy_report_data[organization].iloc[0][\"proposal_space_id\"]\n",
    "\n",
    "        score_differences_dfs[organization][\"total_vp\"] = score_differences_dfs[\n",
    "            organization\n",
    "        ][\"total_vp\"].apply(\"{:.9f}\".format)\n",
    "\n",
    "        score_differences_dfs[organization].index = score_differences_dfs[organization].index.to_series().apply(\n",
    "            lambda s: f'<a href=http://snapshot.org/#/{space_id}/proposal/{s} rel=\"noopener noreferrer\" target=\"_blank\">{s[0:9]}</a>'\n",
    "        )\n",
    "        score_differences_dfs[organization].style.format({\"whale_vp_proportion\": \"{:.2%}\".format})\n",
    "\n",
    "changed_outcome_proportions_raw = changed_outcome_proportions.copy()\n",
    "changed_outcome_proportions = changed_outcome_proportions.apply(\n",
    "    lambda proportion: \"{:.2%}\".format(proportion)\n",
    ")"
   ]
  },
  {
   "cell_type": "code",
   "execution_count": 5,
   "metadata": {
    "tags": [
     "remove-input",
     "remove-output"
    ]
   },
   "outputs": [],
   "source": [
    "voting_ratios = get_number_of_whales_to_all_voters_ratio(\n",
    "    plutocracy_report_data, plutocracy_report_data_filtered\n",
    ")\n"
   ]
  },
  {
   "cell_type": "code",
   "execution_count": 6,
   "metadata": {
    "tags": [
     "remove-input"
    ]
   },
   "outputs": [
    {
     "data": {
      "text/html": [
       "<div>\n",
       "<style scoped>\n",
       "    .dataframe tbody tr th:only-of-type {\n",
       "        vertical-align: middle;\n",
       "    }\n",
       "\n",
       "    .dataframe tbody tr th {\n",
       "        vertical-align: top;\n",
       "    }\n",
       "\n",
       "    .dataframe thead th {\n",
       "        text-align: right;\n",
       "    }\n",
       "</style>\n",
       "<table border=\"1\" class=\"dataframe\">\n",
       "  <thead>\n",
       "    <tr style=\"text-align: right;\">\n",
       "      <th></th>\n",
       "      <th># of whales</th>\n",
       "      <th>all voters</th>\n",
       "      <th>changed outcomes %</th>\n",
       "    </tr>\n",
       "    <tr>\n",
       "      <th>DAO</th>\n",
       "      <th></th>\n",
       "      <th></th>\n",
       "      <th></th>\n",
       "    </tr>\n",
       "  </thead>\n",
       "  <tbody>\n",
       "    <tr>\n",
       "      <th>Uniswap</th>\n",
       "      <td>801</td>\n",
       "      <td>23136</td>\n",
       "      <td>16.46%</td>\n",
       "    </tr>\n",
       "    <tr>\n",
       "      <th>ENS</th>\n",
       "      <td>321</td>\n",
       "      <td>9742</td>\n",
       "      <td>3.57%</td>\n",
       "    </tr>\n",
       "    <tr>\n",
       "      <th>Lido</th>\n",
       "      <td>143</td>\n",
       "      <td>4664</td>\n",
       "      <td>6.00%</td>\n",
       "    </tr>\n",
       "    <tr>\n",
       "      <th>Frax</th>\n",
       "      <td>1</td>\n",
       "      <td>339</td>\n",
       "      <td>4.00%</td>\n",
       "    </tr>\n",
       "    <tr>\n",
       "      <th>Curve Finance</th>\n",
       "      <td>21</td>\n",
       "      <td>285</td>\n",
       "      <td>20.93%</td>\n",
       "    </tr>\n",
       "    <tr>\n",
       "      <th>Decentraland</th>\n",
       "      <td>62</td>\n",
       "      <td>1768</td>\n",
       "      <td>23.00%</td>\n",
       "    </tr>\n",
       "    <tr>\n",
       "      <th>Hop</th>\n",
       "      <td>30</td>\n",
       "      <td>1483</td>\n",
       "      <td>4.35%</td>\n",
       "    </tr>\n",
       "    <tr>\n",
       "      <th>Radicle</th>\n",
       "      <td>18</td>\n",
       "      <td>395</td>\n",
       "      <td>18.18%</td>\n",
       "    </tr>\n",
       "    <tr>\n",
       "      <th>Gitcoin</th>\n",
       "      <td>189</td>\n",
       "      <td>6258</td>\n",
       "      <td>12.50%</td>\n",
       "    </tr>\n",
       "    <tr>\n",
       "      <th>Euler</th>\n",
       "      <td>29</td>\n",
       "      <td>780</td>\n",
       "      <td>13.46%</td>\n",
       "    </tr>\n",
       "    <tr>\n",
       "      <th>Gearbox</th>\n",
       "      <td>32</td>\n",
       "      <td>881</td>\n",
       "      <td>0.00%</td>\n",
       "    </tr>\n",
       "    <tr>\n",
       "      <th>SuperRare DAO</th>\n",
       "      <td>17</td>\n",
       "      <td>563</td>\n",
       "      <td>0.00%</td>\n",
       "    </tr>\n",
       "    <tr>\n",
       "      <th>Merit Circle</th>\n",
       "      <td>16</td>\n",
       "      <td>981</td>\n",
       "      <td>0.00%</td>\n",
       "    </tr>\n",
       "    <tr>\n",
       "      <th>JPEG’d</th>\n",
       "      <td>29</td>\n",
       "      <td>837</td>\n",
       "      <td>7.84%</td>\n",
       "    </tr>\n",
       "    <tr>\n",
       "      <th>Aavegotchi</th>\n",
       "      <td>50</td>\n",
       "      <td>5702</td>\n",
       "      <td>7.14%</td>\n",
       "    </tr>\n",
       "    <tr>\n",
       "      <th>Rook</th>\n",
       "      <td>11</td>\n",
       "      <td>261</td>\n",
       "      <td>5.56%</td>\n",
       "    </tr>\n",
       "    <tr>\n",
       "      <th>ApeCoin DAO</th>\n",
       "      <td>192</td>\n",
       "      <td>6812</td>\n",
       "      <td>11.59%</td>\n",
       "    </tr>\n",
       "    <tr>\n",
       "      <th>Klima DAO</th>\n",
       "      <td>140</td>\n",
       "      <td>6503</td>\n",
       "      <td>0.00%</td>\n",
       "    </tr>\n",
       "    <tr>\n",
       "      <th>Radiant Capital</th>\n",
       "      <td>244</td>\n",
       "      <td>4783</td>\n",
       "      <td>0.00%</td>\n",
       "    </tr>\n",
       "    <tr>\n",
       "      <th>Instadapp</th>\n",
       "      <td>3</td>\n",
       "      <td>75</td>\n",
       "      <td>10.00%</td>\n",
       "    </tr>\n",
       "    <tr>\n",
       "      <th>Vesta</th>\n",
       "      <td>689</td>\n",
       "      <td>15382</td>\n",
       "      <td>12.50%</td>\n",
       "    </tr>\n",
       "    <tr>\n",
       "      <th>Hector Network</th>\n",
       "      <td>139</td>\n",
       "      <td>6554</td>\n",
       "      <td>5.80%</td>\n",
       "    </tr>\n",
       "    <tr>\n",
       "      <th>Spool DAO</th>\n",
       "      <td>3</td>\n",
       "      <td>54</td>\n",
       "      <td>0.00%</td>\n",
       "    </tr>\n",
       "    <tr>\n",
       "      <th>Qi Dao | Mai.Finance</th>\n",
       "      <td>51</td>\n",
       "      <td>4112</td>\n",
       "      <td>20.00%</td>\n",
       "    </tr>\n",
       "    <tr>\n",
       "      <th>Angle Protocol</th>\n",
       "      <td>16</td>\n",
       "      <td>473</td>\n",
       "      <td>10.26%</td>\n",
       "    </tr>\n",
       "    <tr>\n",
       "      <th>Redacted</th>\n",
       "      <td>11</td>\n",
       "      <td>360</td>\n",
       "      <td>22.22%</td>\n",
       "    </tr>\n",
       "    <tr>\n",
       "      <th>ssv.network</th>\n",
       "      <td>7</td>\n",
       "      <td>250</td>\n",
       "      <td>0.00%</td>\n",
       "    </tr>\n",
       "    <tr>\n",
       "      <th>Metronome DAO</th>\n",
       "      <td>1</td>\n",
       "      <td>9</td>\n",
       "      <td>0.00%</td>\n",
       "    </tr>\n",
       "    <tr>\n",
       "      <th>BadgerDAO</th>\n",
       "      <td>251</td>\n",
       "      <td>11169</td>\n",
       "      <td>5.26%</td>\n",
       "    </tr>\n",
       "    <tr>\n",
       "      <th>Ampleforth</th>\n",
       "      <td>6</td>\n",
       "      <td>119</td>\n",
       "      <td>6.25%</td>\n",
       "    </tr>\n",
       "    <tr>\n",
       "      <th>Pangolin Songbird</th>\n",
       "      <td>5</td>\n",
       "      <td>105</td>\n",
       "      <td>0.00%</td>\n",
       "    </tr>\n",
       "    <tr>\n",
       "      <th>Alchemix</th>\n",
       "      <td>49</td>\n",
       "      <td>2210</td>\n",
       "      <td>4.49%</td>\n",
       "    </tr>\n",
       "    <tr>\n",
       "      <th>Magic Internet Money</th>\n",
       "      <td>56</td>\n",
       "      <td>1676</td>\n",
       "      <td>0.00%</td>\n",
       "    </tr>\n",
       "    <tr>\n",
       "      <th>New Order</th>\n",
       "      <td>22</td>\n",
       "      <td>572</td>\n",
       "      <td>2.63%</td>\n",
       "    </tr>\n",
       "    <tr>\n",
       "      <th>Rally</th>\n",
       "      <td>1313</td>\n",
       "      <td>1531</td>\n",
       "      <td>0.00%</td>\n",
       "    </tr>\n",
       "    <tr>\n",
       "      <th>1inch Network</th>\n",
       "      <td>26</td>\n",
       "      <td>604</td>\n",
       "      <td>0.00%</td>\n",
       "    </tr>\n",
       "    <tr>\n",
       "      <th>Synapse Protocol</th>\n",
       "      <td>14</td>\n",
       "      <td>456</td>\n",
       "      <td>0.00%</td>\n",
       "    </tr>\n",
       "    <tr>\n",
       "      <th>Nexus Mutual Community Fund</th>\n",
       "      <td>3</td>\n",
       "      <td>198</td>\n",
       "      <td>16.67%</td>\n",
       "    </tr>\n",
       "    <tr>\n",
       "      <th>Silo</th>\n",
       "      <td>8</td>\n",
       "      <td>316</td>\n",
       "      <td>3.23%</td>\n",
       "    </tr>\n",
       "    <tr>\n",
       "      <th>Popcorn</th>\n",
       "      <td>8</td>\n",
       "      <td>249</td>\n",
       "      <td>14.81%</td>\n",
       "    </tr>\n",
       "    <tr>\n",
       "      <th>Botto</th>\n",
       "      <td>7</td>\n",
       "      <td>292</td>\n",
       "      <td>9.52%</td>\n",
       "    </tr>\n",
       "    <tr>\n",
       "      <th>Cryptex</th>\n",
       "      <td>4</td>\n",
       "      <td>24</td>\n",
       "      <td>6.25%</td>\n",
       "    </tr>\n",
       "    <tr>\n",
       "      <th>Decentral Games</th>\n",
       "      <td>57</td>\n",
       "      <td>2084</td>\n",
       "      <td>17.00%</td>\n",
       "    </tr>\n",
       "    <tr>\n",
       "      <th>Unlock Protocol</th>\n",
       "      <td>5</td>\n",
       "      <td>97</td>\n",
       "      <td>23.08%</td>\n",
       "    </tr>\n",
       "  </tbody>\n",
       "</table>\n",
       "</div>"
      ],
      "text/plain": [
       "                             # of whales  all voters changed outcomes %\n",
       "DAO                                                                    \n",
       "Uniswap                              801       23136             16.46%\n",
       "ENS                                  321        9742              3.57%\n",
       "Lido                                 143        4664              6.00%\n",
       "Frax                                   1         339              4.00%\n",
       "Curve Finance                         21         285             20.93%\n",
       "Decentraland                          62        1768             23.00%\n",
       "Hop                                   30        1483              4.35%\n",
       "Radicle                               18         395             18.18%\n",
       "Gitcoin                              189        6258             12.50%\n",
       "Euler                                 29         780             13.46%\n",
       "Gearbox                               32         881              0.00%\n",
       "SuperRare DAO                         17         563              0.00%\n",
       "Merit Circle                          16         981              0.00%\n",
       "JPEG’d                                29         837              7.84%\n",
       "Aavegotchi                            50        5702              7.14%\n",
       "Rook                                  11         261              5.56%\n",
       "ApeCoin DAO                          192        6812             11.59%\n",
       "Klima DAO                            140        6503              0.00%\n",
       "Radiant Capital                      244        4783              0.00%\n",
       "Instadapp                              3          75             10.00%\n",
       "Vesta                                689       15382             12.50%\n",
       "Hector Network                       139        6554              5.80%\n",
       "Spool DAO                              3          54              0.00%\n",
       "Qi Dao | Mai.Finance                  51        4112             20.00%\n",
       "Angle Protocol                        16         473             10.26%\n",
       "Redacted                              11         360             22.22%\n",
       "ssv.network                            7         250              0.00%\n",
       "Metronome DAO                          1           9              0.00%\n",
       "BadgerDAO                            251       11169              5.26%\n",
       "Ampleforth                             6         119              6.25%\n",
       "Pangolin Songbird                      5         105              0.00%\n",
       "Alchemix                              49        2210              4.49%\n",
       "Magic Internet Money                  56        1676              0.00%\n",
       "New Order                             22         572              2.63%\n",
       "Rally                               1313        1531              0.00%\n",
       "1inch Network                         26         604              0.00%\n",
       "Synapse Protocol                      14         456              0.00%\n",
       "Nexus Mutual Community Fund            3         198             16.67%\n",
       "Silo                                   8         316              3.23%\n",
       "Popcorn                                8         249             14.81%\n",
       "Botto                                  7         292              9.52%\n",
       "Cryptex                                4          24              6.25%\n",
       "Decentral Games                       57        2084             17.00%\n",
       "Unlock Protocol                        5          97             23.08%"
      ]
     },
     "execution_count": 6,
     "metadata": {},
     "output_type": "execute_result"
    }
   ],
   "source": [
    "dao_overview = pd.DataFrame(\n",
    "    [list(result.items())[0][1] for result in voting_ratios],\n",
    "    columns=[\n",
    "        \"# of whales\",\n",
    "        \"all voters\",\n",
    "    ],\n",
    ")\n",
    "dao_overview.set_index(\n",
    "    pd.Index([list(result.items())[0][0] for result in voting_ratios], name=\"DAO\"),\n",
    "    inplace=True\n",
    ")\n",
    "\n",
    "dao_overview.insert(2, changed_outcome_proportions.name, changed_outcome_proportions)\n",
    "dao_overview"
   ]
  },
  {
   "attachments": {},
   "cell_type": "markdown",
   "metadata": {},
   "source": [
    "Here we see that there are quite a few proposals whose outcomes would've changed if whales were not involved, in this analysis, we take a look at some of these cases in Uniswap, Decentraland and Curve Finance in particular."
   ]
  },
  {
   "cell_type": "markdown",
   "metadata": {},
   "source": [
    "---"
   ]
  },
  {
   "attachments": {},
   "cell_type": "markdown",
   "metadata": {},
   "source": [
    "Next, we take a look at how governance decisions are affected once whale votes are discounted. We do so by comparing the scores of each proposal and checking whether the outcome of the proposal is changed when whales are filtered out.\n",
    "\n",
    "We check whether a proposal's outcome changes by checking if the largest vote choice score changes after filtering out whales. Specifically, in python we do the following:\n",
    "```python\n",
    "has_changed_outcome = not unfiltered_winning_choice_index == filtered_winning_choice_index\n",
    "```"
   ]
  },
  {
   "attachments": {},
   "cell_type": "markdown",
   "metadata": {},
   "source": [
    "## Uniswap"
   ]
  },
  {
   "attachments": {},
   "cell_type": "markdown",
   "metadata": {},
   "source": [
    "### Proportion of Outcomes Changed"
   ]
  },
  {
   "cell_type": "code",
   "execution_count": 7,
   "metadata": {
    "tags": [
     "remove-input",
     "full-width"
    ]
   },
   "outputs": [
    {
     "name": "stdout",
     "output_type": "stream",
     "text": [
      "16.46% of Uniswap's proposal outcomes change after fitering out whale voting power.\n"
     ]
    }
   ],
   "source": [
    "print(f\"{changed_outcome_proportions['Uniswap']} of Uniswap's proposal outcomes change after fitering out whale voting power.\")"
   ]
  },
  {
   "attachments": {},
   "cell_type": "markdown",
   "metadata": {},
   "source": [
    "### Proposal Analysis"
   ]
  },
  {
   "attachments": {},
   "cell_type": "markdown",
   "metadata": {},
   "source": [
    "The outcome of the proposal to add a Liquidity Mining Manager (LMM) for the [Optimism-Uniswap Liquidity Mining Program](https://snapshot.org/#/uniswap/proposal/0xfd3d3807bd2a6eda1327c311b83de235061d39ff1bdfb616c9f9b0d367c3ac2c) changes after removing whales.\n",
    "\n",
    "If not for whale intervention, \"Overnight Finance\" would have been chosen as the LMM. Instead, \"DeFiEdge\" was selected. From the data, we see that without whale intervention, DeFiEdge would've had ~2,708,025 fewer votes out of the total ~2,728,492 voting power on this proposal. That is ~99.3% of voting power allocated for this proposal directed to choosing \"DeFiEdge\"."
   ]
  },
  {
   "cell_type": "code",
   "execution_count": 8,
   "metadata": {
    "tags": [
     "remove-input"
    ]
   },
   "outputs": [
    {
     "data": {
      "text/html": [
       "<div>\n",
       "<style scoped>\n",
       "    .dataframe tbody tr th:only-of-type {\n",
       "        vertical-align: middle;\n",
       "    }\n",
       "\n",
       "    .dataframe tbody tr th {\n",
       "        vertical-align: top;\n",
       "    }\n",
       "\n",
       "    .dataframe thead th {\n",
       "        text-align: right;\n",
       "    }\n",
       "</style>\n",
       "<table border=\"1\" class=\"dataframe\">\n",
       "  <thead>\n",
       "    <tr style=\"text-align: right;\">\n",
       "      <th></th>\n",
       "      <th>add Overnight Finance</th>\n",
       "      <th>add DeFiEdge</th>\n",
       "      <th>add none</th>\n",
       "    </tr>\n",
       "  </thead>\n",
       "  <tbody>\n",
       "    <tr>\n",
       "      <th>Scores</th>\n",
       "      <td>14335.930887</td>\n",
       "      <td>2.710600e+06</td>\n",
       "      <td>3556.089173</td>\n",
       "    </tr>\n",
       "    <tr>\n",
       "      <th>Score Differences</th>\n",
       "      <td>10054.585076</td>\n",
       "      <td>2.708025e+06</td>\n",
       "      <td>3412.851497</td>\n",
       "    </tr>\n",
       "  </tbody>\n",
       "</table>\n",
       "</div>"
      ],
      "text/plain": [
       "                   add Overnight Finance  add DeFiEdge     add none\n",
       "Scores                      14335.930887  2.710600e+06  3556.089173\n",
       "Score Differences           10054.585076  2.708025e+06  3412.851497"
      ]
     },
     "execution_count": 8,
     "metadata": {},
     "output_type": "execute_result"
    }
   ],
   "source": [
    "propsal_choices = plutocracy_report_data['Uniswap'][plutocracy_report_data['Uniswap']['proposal_id'] == '0xfd3d3807bd2a6eda1327c311b83de235061d39ff1bdfb616c9f9b0d367c3ac2c'].iloc[0]['proposal_choices']\n",
    "mask = score_differences_dfs[\"Uniswap\"].index.to_series().apply(\n",
    "    lambda s: \"0xfd3d380\" in s,\n",
    ")\n",
    "proposal_score_differences = score_differences_dfs[\"Uniswap\"].loc[mask][\"score_differences\"][0]\n",
    "proposal_scores = plutocracy_report_data['Uniswap'][plutocracy_report_data['Uniswap']['proposal_id'] == '0xfd3d3807bd2a6eda1327c311b83de235061d39ff1bdfb616c9f9b0d367c3ac2c'].iloc[0]['proposal_scores']\n",
    "\n",
    "pd.DataFrame(\n",
    "    {choice: [score, score_diff] for choice, score, score_diff in zip(eval(propsal_choices), eval(proposal_scores), proposal_score_differences)},\n",
    "    index=[\"Scores\", \"Score Differences\"],\n",
    ")"
   ]
  },
  {
   "attachments": {},
   "cell_type": "markdown",
   "metadata": {},
   "source": [
    "## Decentraland\n",
    "Let's now look at Decentraland, where the largest holders regularly participate in governance."
   ]
  },
  {
   "attachments": {},
   "cell_type": "markdown",
   "metadata": {},
   "source": [
    "### Proportion of Outcomes Changed"
   ]
  },
  {
   "cell_type": "code",
   "execution_count": 9,
   "metadata": {
    "tags": [
     "remove-input",
     "full-width"
    ]
   },
   "outputs": [
    {
     "name": "stdout",
     "output_type": "stream",
     "text": [
      "23.00% of Decentraland's proposal outcomes change after fitering out whale voting power.\n"
     ]
    }
   ],
   "source": [
    "print(f\"{changed_outcome_proportions['Decentraland']} of Decentraland's proposal outcomes change after fitering out whale voting power.\")"
   ]
  },
  {
   "attachments": {},
   "cell_type": "markdown",
   "metadata": {},
   "source": [
    "### Proposal Analysis"
   ]
  },
  {
   "attachments": {},
   "cell_type": "markdown",
   "metadata": {},
   "source": [
    "For example, [this proposal](https://snapshot.org/#/snapshot.dcl.eth/proposal/0x7f6fed8c7645d1b793526564104e4f79864a9e30ae284029f752b6297478b4f5) to set a duration period for the tenure of Decentraland DAO committee members saw 99.9% of voting power attributed to whales, with 94.85% of proposal voting power allocated to voting for the proposal not to pass."
   ]
  },
  {
   "cell_type": "code",
   "execution_count": 10,
   "metadata": {
    "tags": [
     "remove-input"
    ]
   },
   "outputs": [
    {
     "data": {
      "text/html": [
       "<div>\n",
       "<style scoped>\n",
       "    .dataframe tbody tr th:only-of-type {\n",
       "        vertical-align: middle;\n",
       "    }\n",
       "\n",
       "    .dataframe tbody tr th {\n",
       "        vertical-align: top;\n",
       "    }\n",
       "\n",
       "    .dataframe thead th {\n",
       "        text-align: right;\n",
       "    }\n",
       "</style>\n",
       "<table border=\"1\" class=\"dataframe\">\n",
       "  <thead>\n",
       "    <tr style=\"text-align: right;\">\n",
       "      <th></th>\n",
       "      <th>Yes</th>\n",
       "      <th>No</th>\n",
       "      <th>Invalid question/options</th>\n",
       "    </tr>\n",
       "  </thead>\n",
       "  <tbody>\n",
       "    <tr>\n",
       "      <th>Scores</th>\n",
       "      <td>168338.243827</td>\n",
       "      <td>1.394610e+06</td>\n",
       "      <td>0.025206</td>\n",
       "    </tr>\n",
       "    <tr>\n",
       "      <th>Score Differences</th>\n",
       "      <td>166209.638630</td>\n",
       "      <td>1.392896e+06</td>\n",
       "      <td>0.000000</td>\n",
       "    </tr>\n",
       "  </tbody>\n",
       "</table>\n",
       "</div>"
      ],
      "text/plain": [
       "                             Yes            No  Invalid question/options\n",
       "Scores             168338.243827  1.394610e+06                  0.025206\n",
       "Score Differences  166209.638630  1.392896e+06                  0.000000"
      ]
     },
     "execution_count": 10,
     "metadata": {},
     "output_type": "execute_result"
    }
   ],
   "source": [
    "propsal_choices = plutocracy_report_data['Decentraland'][plutocracy_report_data['Decentraland']['proposal_id'] == '0x7f6fed8c7645d1b793526564104e4f79864a9e30ae284029f752b6297478b4f5'].iloc[0]['proposal_choices']\n",
    "mask = score_differences_dfs[\"Decentraland\"].index.to_series().apply(\n",
    "    lambda s: \"0x7f6fed8\" in s,\n",
    ")\n",
    "proposal_score_differences = score_differences_dfs[\"Decentraland\"].loc[mask][\"score_differences\"][0]\n",
    "proposal_scores = plutocracy_report_data['Decentraland'][plutocracy_report_data['Decentraland']['proposal_id'] == '0x7f6fed8c7645d1b793526564104e4f79864a9e30ae284029f752b6297478b4f5'].iloc[0]['proposal_scores']\n",
    "\n",
    "pd.DataFrame(\n",
    "    {choice: [score, score_diff] for choice, score, score_diff in zip(eval(propsal_choices), eval(proposal_scores), proposal_score_differences)},\n",
    "    index=[\"Scores\", \"Score Differences\"],\n",
    ")"
   ]
  },
  {
   "attachments": {},
   "cell_type": "markdown",
   "metadata": {},
   "source": [
    "This is clearly a case of large holders voting to support their own interests. Once whales are filtered out of the votes (which would've given existing and future committee members set terms, making the roles more democratic) the proposal would've passed, albeit, with very low voting power by comparison."
   ]
  },
  {
   "attachments": {},
   "cell_type": "markdown",
   "metadata": {},
   "source": [
    "## Curve Finance"
   ]
  },
  {
   "attachments": {},
   "cell_type": "markdown",
   "metadata": {},
   "source": [
    "### Proportion of Outcomes Changed"
   ]
  },
  {
   "cell_type": "code",
   "execution_count": 11,
   "metadata": {
    "tags": [
     "remove-input",
     "full-width"
    ]
   },
   "outputs": [
    {
     "name": "stdout",
     "output_type": "stream",
     "text": [
      "20.93% of Curve Finance's proposal outcomes change after fitering out whale voting power.\n"
     ]
    }
   ],
   "source": [
    "print(f\"{changed_outcome_proportions['Curve Finance']} of Curve Finance's proposal outcomes change after fitering out whale voting power.\")"
   ]
  },
  {
   "attachments": {},
   "cell_type": "markdown",
   "metadata": {},
   "source": [
    "### Proposal Analysis"
   ]
  },
  {
   "attachments": {},
   "cell_type": "markdown",
   "metadata": {},
   "source": [
    "One proposal which would've passed if not for whale intervention was this proposal to [add the XSTUSD-3CRV pair](https://snapshot.org/#/curve.eth/proposal/0x0eb23ea0b877666ad3ddcd0d7da0114acdfe5ae6390b5628b7509f4338022db5) to Curve's [gauge](https://resources.curve.fi/reward-gauges/understanding-gauges) [controller](https://curve.readthedocs.io/dao-gauges.html#the-gauge-controller) to accrue CRV for liquidity providers of XSTUSD-3CRV.\n",
    "\n",
    "XSTUSD is a stablecoin deployed on Polkadot and Kusama that's backed by a synthetic token called XOR ([Sora](https://sora.org/)'s native token). The [governance discussion](https://gov.curve.fi/t/proposal-to-add-xstusd-3crv-to-the-gauge-controller/2998/15) about the vote was particularly interesting.\n",
    "\n",
    "![](./res/curve_governance_shenanigans.png)\n",
    "\n",
    "What stands out is XSTUSD's comparison with LUNA/UST. This proposal was created before the LUNA/UST [depegging disaster](https://rekt.news/luna-rekt/), but even before that, [quite a](https://twitter.com/runekek/status/1478166276979793922) [few people](https://twitter.com/FreddieRaynolds/status/1463960623402913797) had their concerns about it. So I checked out the first 16 accounts which showed really strong support for this proposal, and almost [every single](https://gov.curve.fi/u/meowtopia) [one was](https://gov.curve.fi/u/LiquidityKing) [created within](https://gov.curve.fi/u/Ryandotrrr) 2 days of the proposal's forum post. Clear signs of governance forum shenanigans, executed to raise hype for a proposal."
   ]
  },
  {
   "cell_type": "code",
   "execution_count": 12,
   "metadata": {
    "tags": [
     "remove-input"
    ]
   },
   "outputs": [
    {
     "data": {
      "text/html": [
       "<div>\n",
       "<style scoped>\n",
       "    .dataframe tbody tr th:only-of-type {\n",
       "        vertical-align: middle;\n",
       "    }\n",
       "\n",
       "    .dataframe tbody tr th {\n",
       "        vertical-align: top;\n",
       "    }\n",
       "\n",
       "    .dataframe thead th {\n",
       "        text-align: right;\n",
       "    }\n",
       "</style>\n",
       "<table border=\"1\" class=\"dataframe\">\n",
       "  <thead>\n",
       "    <tr style=\"text-align: right;\">\n",
       "      <th></th>\n",
       "      <th>Yes</th>\n",
       "      <th>No</th>\n",
       "    </tr>\n",
       "  </thead>\n",
       "  <tbody>\n",
       "    <tr>\n",
       "      <th>Scores</th>\n",
       "      <td>45352.592228</td>\n",
       "      <td>529201.282019</td>\n",
       "    </tr>\n",
       "    <tr>\n",
       "      <th>Score Differences</th>\n",
       "      <td>23462.994316</td>\n",
       "      <td>511330.472493</td>\n",
       "    </tr>\n",
       "  </tbody>\n",
       "</table>\n",
       "</div>"
      ],
      "text/plain": [
       "                            Yes             No\n",
       "Scores             45352.592228  529201.282019\n",
       "Score Differences  23462.994316  511330.472493"
      ]
     },
     "execution_count": 12,
     "metadata": {},
     "output_type": "execute_result"
    }
   ],
   "source": [
    "propsal_choices = plutocracy_report_data['Curve Finance'][plutocracy_report_data['Curve Finance']['proposal_id'] == '0x0eb23ea0b877666ad3ddcd0d7da0114acdfe5ae6390b5628b7509f4338022db5'].iloc[0]['proposal_choices']\n",
    "mask = score_differences_dfs[\"Curve Finance\"].index.to_series().apply(\n",
    "    lambda s: \"0x0eb23ea\" in s,\n",
    ")\n",
    "proposal_score_differences = score_differences_dfs[\"Curve Finance\"].loc[mask][\"score_differences\"][0]\n",
    "proposal_scores = plutocracy_report_data['Curve Finance'][plutocracy_report_data['Curve Finance']['proposal_id'] == '0x0eb23ea0b877666ad3ddcd0d7da0114acdfe5ae6390b5628b7509f4338022db5'].iloc[0]['proposal_scores']\n",
    "\n",
    "pd.DataFrame(\n",
    "    {choice: [score, score_diff] for choice, score, score_diff in zip(eval(propsal_choices), eval(proposal_scores), proposal_score_differences)},\n",
    "    index=[\"Scores\", \"Score Differences\"],\n",
    ")"
   ]
  },
  {
   "attachments": {},
   "cell_type": "markdown",
   "metadata": {},
   "source": [
    "Just over 4% of voting power for this proposal was allocated by whales to vote \"Yes\" (which is just over half the total voting power allocated to the \"Yes\" choice for this proposal), whereas ~89% of whale voting power was allocated to voting \"NO\" (~97% of total voting power for this choice)."
   ]
  },
  {
   "attachments": {},
   "cell_type": "markdown",
   "metadata": {},
   "source": [
    "It's important to highlight that whales are also sensible and not always \"evil\", which I would classify as entities that promote proposals that are detrimental to the DAO for their own interests. It's a good thing that CRV whales didn't have an incentive to pass this proposal as well."
   ]
  },
  {
   "attachments": {},
   "cell_type": "markdown",
   "metadata": {},
   "source": [
    "Just over 10% of whale voting power for this proposal was allocated to voting \"Aye\" on this proposal (~27% of voting power allocated to the \"Aye\" choice came from whales). Whereas ~45% of voting power from whales was allocated to the \"Nay\" choice (~73% of whale voting power allocated to \"Nay\")."
   ]
  }
 ],
 "metadata": {
  "celltoolbar": "Tags",
  "kernelspec": {
   "display_name": "Python 3",
   "language": "python",
   "name": "python3"
  },
  "language_info": {
   "codemirror_mode": {
    "name": "ipython",
    "version": 3
   },
   "file_extension": ".py",
   "mimetype": "text/x-python",
   "name": "python",
   "nbconvert_exporter": "python",
   "pygments_lexer": "ipython3",
   "version": "3.10.10"
  },
  "vscode": {
   "interpreter": {
    "hash": "b4359820d3e15fa2519172d213623b0fd17349031edfcca628c1a3eb80849618"
   }
  }
 },
 "nbformat": 4,
 "nbformat_minor": 2
}